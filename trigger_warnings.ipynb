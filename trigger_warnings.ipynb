{
 "cells": [
  {
   "cell_type": "markdown",
   "metadata": {},
   "source": [
    "# Imports"
   ]
  },
  {
   "cell_type": "code",
   "execution_count": 201,
   "metadata": {},
   "outputs": [],
   "source": [
    "from requests import get\n",
    "from bs4 import BeautifulSoup\n",
    "import os\n",
    "from time import sleep\n",
    "import re\n",
    "import pandas as pd\n",
    "import matplotlib.pyplot as plt\n",
    "import seaborn as sns\n",
    "import time\n",
    "from selenium import webdriver\n",
    "from selenium.webdriver.common.keys import Keys\n",
    "import nltk\n",
    "from nltk.tokenize.toktok import ToktokTokenizer\n",
    "from nltk.corpus import stopwords\n",
    "import unicodedata\n",
    "import json\n",
    "from wordcloud import WordCloud\n",
    "import numpy as np\n",
    "import pprint as pprint\n",
    "from sklearn.feature_extraction.text import TfidfVectorizer\n",
    "from sklearn.model_selection import train_test_split\n",
    "from sklearn.linear_model import LogisticRegression\n",
    "from sklearn.metrics import classification_report, accuracy_score\n",
    "from sklearn.tree import DecisionTreeClassifier\n",
    "from sklearn.ensemble import RandomForestClassifier\n",
    "from sklearn.svm import SVC\n",
    "from sklearn.model_selection import GridSearchCV\n",
    "from sklearn.neighbors import KNeighborsClassifier\n",
    "import xgboost as xgb"
   ]
  },
  {
   "cell_type": "markdown",
   "metadata": {},
   "source": [
    "## Data Acquisition"
   ]
  },
  {
   "cell_type": "markdown",
   "metadata": {},
   "source": [
    "### Acquiring a list of movies.\n",
    "100 Most Popular Movies on IMDb."
   ]
  },
  {
   "cell_type": "code",
   "execution_count": 2,
   "metadata": {},
   "outputs": [],
   "source": [
    "url = '''https://www.imdb.com/chart/moviemeter?ref_=nv_mv_mpm'''\n",
    "response = get(url)"
   ]
  },
  {
   "cell_type": "code",
   "execution_count": 3,
   "metadata": {},
   "outputs": [
    {
     "name": "stdout",
     "output_type": "stream",
     "text": [
      "\n",
      "\n",
      "\n",
      "<!DOCTYPE html>\n",
      "<html\n",
      "    xmlns:og=\"http://ogp.me/ns#\"\n",
      "    xmlns:fb=\"http://www.facebook.com/2008/fbml\">\n",
      "    <head>\n",
      "         \n",
      "        <meta charset=\"utf-8\">\n",
      "        <meta http-equiv=\"X-UA-Compatible\" content=\"IE=edge\">\n",
      "\n",
      "    \n",
      "    \n",
      "    \n",
      "\n",
      "    \n",
      "    \n",
      "    \n",
      "\n",
      "    <meta name=\"apple-itunes-app\" content=\"app-id=342792525, app-argument=imdb:///?src=mdot\">\n",
      "            <style>\n",
      "                body#styleguide\n"
     ]
    }
   ],
   "source": [
    "print(response.text[:400])"
   ]
  },
  {
   "cell_type": "code",
   "execution_count": 4,
   "metadata": {},
   "outputs": [],
   "source": [
    "soup = BeautifulSoup(response.content, \n",
    "#                     'lxml')\n",
    "                    'html.parser')"
   ]
  },
  {
   "cell_type": "code",
   "execution_count": 5,
   "metadata": {
    "scrolled": true
   },
   "outputs": [],
   "source": [
    "# see also `soup.find_all`\n",
    "\n",
    "messy_movies = soup.find_all('td', class_='titleColumn')"
   ]
  },
  {
   "cell_type": "code",
   "execution_count": 6,
   "metadata": {},
   "outputs": [
    {
     "data": {
      "text/plain": [
       "100"
      ]
     },
     "execution_count": 6,
     "metadata": {},
     "output_type": "execute_result"
    }
   ],
   "source": [
    "len(messy_movies)"
   ]
  },
  {
   "cell_type": "code",
   "execution_count": 7,
   "metadata": {
    "scrolled": true
   },
   "outputs": [
    {
     "data": {
      "text/plain": [
       "['spiderman%20far%20from%20home',\n",
       " 'midsommar',\n",
       " 'mulan',\n",
       " 'the%20lion%20king',\n",
       " 'once%20upon%20a%20time%20%20in%20hollywood',\n",
       " 'toy%20story%204',\n",
       " 'avengers%20endgame',\n",
       " 'alita%20battle%20angel',\n",
       " 'hellboy',\n",
       " 'crawl',\n",
       " 'yesterday',\n",
       " 'bohemian%20rhapsody',\n",
       " 'spiderman%20into%20the%20spiderverse',\n",
       " 'after',\n",
       " 'stuber',\n",
       " 'annabelle%20comes%20home',\n",
       " 'the%20little%20mermaid',\n",
       " 'john%20wick%20chapter%203%20%20parabellum',\n",
       " 'aladdin',\n",
       " 'maleficent%20mistress%20of%20evil',\n",
       " 'shazam',\n",
       " 'rocketman',\n",
       " 'spiderman%20homecoming',\n",
       " 'shaft',\n",
       " 'super%2030',\n",
       " 'dora%20and%20the%20lost%20city%20of%20gold',\n",
       " 'murder%20mystery',\n",
       " 'fast%20%20furious%20presents%20hobbs%20%20shaw',\n",
       " 'knives%20out',\n",
       " 'hereditary',\n",
       " 'captain%20marvel',\n",
       " 'grown%20ups',\n",
       " 'charlies%20angels',\n",
       " 'it%20chapter%20two',\n",
       " 'joker',\n",
       " 'anna',\n",
       " 'the%20lion%20king',\n",
       " 'us',\n",
       " 'point%20blank',\n",
       " 'childs%20play',\n",
       " 'mary%20poppins%20returns',\n",
       " 'pet%20sematary',\n",
       " 'mulan',\n",
       " 'men%20in%20black%20international',\n",
       " 'star%20wars%20the%20rise%20of%20skywalker',\n",
       " 'escape%20plan%20the%20extractors',\n",
       " 'extremely%20wicked%20shockingly%20evil%20and%20vile',\n",
       " 'power%20rangers',\n",
       " 'i%20am%20mother',\n",
       " 'godzilla%20king%20of%20the%20monsters',\n",
       " 'road%20house',\n",
       " 'a%20star%20is%20born',\n",
       " 'terminator%20dark%20fate',\n",
       " 'jumanji%20the%20next%20level',\n",
       " 'dumbo',\n",
       " 'avengers%20infinity%20war',\n",
       " 'dark%20phoenix',\n",
       " 'it',\n",
       " 'swiped',\n",
       " 'american%20pie',\n",
       " 'kabir%20singh',\n",
       " 'the%20dead%20dont%20die',\n",
       " 'spiderman',\n",
       " 'grown%20ups%202',\n",
       " 'teen%20spirit',\n",
       " 'brightburn',\n",
       " 'cold%20blood',\n",
       " 'aquaman',\n",
       " 'the%20neverending%20story',\n",
       " 'hotel%20mumbai',\n",
       " 'robin%20hood',\n",
       " 'booksmart',\n",
       " 'missing%20link',\n",
       " 'five%20feet%20apart',\n",
       " 'little%20women',\n",
       " 'the%20spy%20who%20dumped%20me',\n",
       " 'the%20secret%20life%20of%20pets%202',\n",
       " 'venom',\n",
       " 'suicide%20squad',\n",
       " 'fast%20%20furious%209',\n",
       " 'gisaengchung',\n",
       " 'the%20goonies',\n",
       " 'the%20shawshank%20redemption',\n",
       " 'the%20hangover',\n",
       " 'ready%20or%20not',\n",
       " 'willy%20wonka%20%20the%20chocolate%20factory',\n",
       " 'the%20art%20of%20selfdefense',\n",
       " 'the%20princess%20bride',\n",
       " 'crazy%20rich%20asians',\n",
       " 'bad%20times%20at%20the%20el%20royale',\n",
       " 'john%20wick',\n",
       " 'wonder%20woman%201984',\n",
       " 'fighting%20with%20my%20family',\n",
       " 'green%20book',\n",
       " 'the%20dark%20knight',\n",
       " 'bill%20%20ted%20face%20the%20music',\n",
       " 'pulp%20fiction',\n",
       " 'rambo%20last%20blood',\n",
       " 'toy%20story',\n",
       " 'always%20be%20my%20maybe']"
      ]
     },
     "execution_count": 7,
     "metadata": {},
     "output_type": "execute_result"
    }
   ],
   "source": [
    "movies = []\n",
    "trigger1 = []\n",
    "for movie in messy_movies:\n",
    "    movie_title = movie.find('a').text.lower().replace(' ', '%20')\n",
    "    movies.append(re.sub(r\"[^a-z0-9%\\s]\", '', movie_title))\n",
    "    trigger1.append(False)\n",
    "movies"
   ]
  },
  {
   "cell_type": "markdown",
   "metadata": {},
   "source": [
    "### Acquiring a list of movies with triggers."
   ]
  },
  {
   "cell_type": "code",
   "execution_count": 8,
   "metadata": {},
   "outputs": [],
   "source": [
    "url = '''https://istheresuicideinit.tumblr.com/post/116009541869/films'''\n",
    "response = get(url)"
   ]
  },
  {
   "cell_type": "code",
   "execution_count": 9,
   "metadata": {},
   "outputs": [],
   "source": [
    "soup = BeautifulSoup(response.content, \n",
    "#                     'lxml')\n",
    "                    'html.parser')"
   ]
  },
  {
   "cell_type": "code",
   "execution_count": 10,
   "metadata": {},
   "outputs": [
    {
     "data": {
      "text/plain": [
       "[<li>2:37 (2006)</li>,\n",
       " <li>3 idiots (2009)</li>,\n",
       " <li>28 days later (2002)</li>,\n",
       " <li>47 ronin (2013)</li>,\n",
       " <li>1408 (2007)</li>,\n",
       " <li>a clockwork orange (1971)</li>,\n",
       " <li>airplane! (1980)</li>,\n",
       " <li>almost famous (2000)</li>,\n",
       " <li>a long way down (2014)</li>,\n",
       " <li>always watching: a marble hornets story (2015)</li>,\n",
       " <li>a mother’s nightmare (2012)</li>,\n",
       " <li>an american werewolf in london (1981)</li>,\n",
       " <li>annabelle (2014)</li>,\n",
       " <li>anchorman 2: the legend continues (2013)</li>,\n",
       " <li>archie’s final project (2011)</li>,\n",
       " <li>arizona dream (1992) </li>,\n",
       " <li>as above, so below (2014)</li>,\n",
       " <li>a single man (2009)</li>,\n",
       " <li>a streetcar named desire (1951, 1984, 1987)</li>,\n",
       " <li>battle royale (2000)</li>,\n",
       " <li>before I disappear (2014)</li>,\n",
       " <li>ben x (2007)</li>,\n",
       " <li>better off dead (1985)</li>,\n",
       " <li>birdman: or (the unexpected virtue of ignorance) (2014)</li>,\n",
       " <li>blackbird (2014)</li>,\n",
       " <li>black swan (2010)</li>,\n",
       " <li>boogie nights (1997)</li>,\n",
       " <li>boogeyman 2 (2007)</li>,\n",
       " <li>casino royale (2006)</li>,\n",
       " <li>carrie (2013)</li>,\n",
       " <li>charlie bartlett (2007)</li>,\n",
       " <li>chatroom (2010)</li>,\n",
       " <li>cloud atlas (2012) </li>,\n",
       " <li>constantine (2005)</li>,\n",
       " <li>cozy dens (czech: Pelíšky) (1999)</li>,\n",
       " <li>cyberbully (2011)</li>,\n",
       " <li>cyberbully (2015)</li>,\n",
       " <li>dead poet’s society (1989)</li>,\n",
       " <li>dear lemon lima (2009)</li>,\n",
       " <li>detachment (211)</li>,\n",
       " <li>die welle (german) (2008)</li>,\n",
       " <li>disconnect (2012)</li>,\n",
       " <li>divergent (2014)</li>,\n",
       " <li>donnie darko (2001) </li>,\n",
       " <li>edge of tomorrow (2014)</li>,\n",
       " <li>elephant song (2014)</li>,\n",
       " <li>elizabethtown (2005)</li>,\n",
       " <li>ex machina (2015)</li>,\n",
       " <li>fame (2009)</li>,\n",
       " <li>fight club (1999)</li>,\n",
       " <li>filth (2013)</li>,\n",
       " <li>final destination 2 (2003)</li>,\n",
       " <li>forrest gump (1994)</li>,\n",
       " <li>frank (2014)</li>,\n",
       " <li>full metal jacket (1987)</li>,\n",
       " <li>girl, interrupted (1999)</li>,\n",
       " <li>gone girl (2014)</li>,\n",
       " <li>groundhog day (1993) </li>,\n",
       " <li>hard candy (2005)</li>,\n",
       " <li>hard core logo (1996)</li>,\n",
       " <li>harold and maude (1971)</li>,\n",
       " <li>harrison bergeron (1995)</li>,\n",
       " <li>heathers (1988)</li>,\n",
       " <li>hide and seek (2005)</li>,\n",
       " <li>hitch (2005)</li>,\n",
       " <li>holes (2003)</li>,\n",
       " <li>hook (1991) </li>,\n",
       " <li>horns (2013)</li>,\n",
       " <li>i am legend (2007)</li>,\n",
       " <li>in bruges (2008)</li>,\n",
       " <li>inception (2010)</li>,\n",
       " <li>inner demons (2014)</li>,\n",
       " <li>insidious: chapter 3 (2015)</li>,\n",
       " <li>in time (2011)</li>,\n",
       " <li>it’s kind of a funny story (2010)</li>,\n",
       " <li>jamesy boy (2014)</li>,\n",
       " <li>juno (2007)</li>,\n",
       " <li>kill your darlings (2013)</li>,\n",
       " <li>legend (2015)</li>,\n",
       " <li>les miserables (2012) </li>,\n",
       " <li>little miss sunshine (2006)</li>,\n",
       " <li>lost and delirious (2001)</li>,\n",
       " <li>madoka magica: rebellion (2013)</li>,\n",
       " <li>mary and max (2009)</li>,\n",
       " <li>men, women &amp; children (2014)</li>,\n",
       " <li>mommy (2014)</li>,\n",
       " <li>monster pies (2013)</li>,\n",
       " <li>mr holmes (2015)</li>,\n",
       " <li>nicholas nickleby (2002)</li>,\n",
       " <li>oldboy (2003)</li>,\n",
       " <li>once were warriors (1994) </li>,\n",
       " <li>one flew over the cukoo’s nest (1975)</li>,\n",
       " <li>ordinary people (1980) </li>,\n",
       " <li>oslo, august 21st (2001)</li>,\n",
       " <li>ouija (2014)</li>,\n",
       " <li>palo alto (2013)</li>,\n",
       " <li>paper man (2009)</li>,\n",
       " <li>perfect sisters (2014)</li>,\n",
       " <li>pet sematary (1989)</li>,\n",
       " <li>pippin (1981)</li>,\n",
       " <li>pollock (2000)</li>,\n",
       " <li>prayers for bobby (2009)</li>,\n",
       " <li>prison break (1938)</li>,\n",
       " <li>prometheus (2012) </li>,\n",
       " <li>pulse (2006)</li>,\n",
       " <li>pump up the volume (1990)</li>,\n",
       " <li>rent (2005)</li>,\n",
       " <li>remember me (2010)</li>,\n",
       " <li>rosencrantz and guildenstern are dead (1990)</li>,\n",
       " <li>saw II (2005)</li>,\n",
       " <li>serenity (2005)</li>,\n",
       " <li>seven pounds (2008)</li>,\n",
       " <li>seven psychopaths (2012)</li>,\n",
       " <li>shake hands with the devil (2007)</li>,\n",
       " <li>shame (2011)</li>,\n",
       " <li>short term 12 (2013)</li>,\n",
       " <li>show me love (1998)</li>,\n",
       " <li>side effects (2013) </li>,\n",
       " <li>sinister (2012)</li>,\n",
       " <li>spectre (2015)</li>,\n",
       " <li>starship troopers 2: hero of the federation (2004) </li>,\n",
       " <li>stay (2005) </li>,\n",
       " <li>suicide club/suicide circle (2002) </li>,\n",
       " <li>suicide room (2011) </li>,\n",
       " <li>sunset boulevard (1950)</li>,\n",
       " <li>swing kids (1993)</li>,\n",
       " <li>sympathy for mr vengeance (2002)</li>,\n",
       " <li>the angriest man in brooklyn (2014)</li>,\n",
       " <li>the avengers (2012)</li>,\n",
       " <li>the breakfast club (1985)</li>,\n",
       " <li>the black cauldron (1985)</li>,\n",
       " <li>the chronicles of riddick (2004)</li>,\n",
       " <li>the conjuring (2013)</li>,\n",
       " <li>the craft (1996)</li>,\n",
       " <li>the eye 2 (2004)</li>,\n",
       " <li>the fall (2006)</li>,\n",
       " <li>the final destination (2009)</li>,\n",
       " <li>the goonies (1985)</li>,\n",
       " <li>the happening (2008)</li>,\n",
       " <li>the hills have eyes (2006)</li>,\n",
       " <li>the holiday (2006)</li>,\n",
       " <li>the homesman (2014)</li>,\n",
       " <li>the man who killed the sun (1979)</li>,\n",
       " <li>the maze runner (2014)</li>,\n",
       " <li>the moth diaries (2011)</li>,\n",
       " <li>the number 23 (2007)</li>,\n",
       " <li>the omen (1976)</li>,\n",
       " <li>the orphanage (2007)</li>,\n",
       " <li>the joneses (2009)</li>,\n",
       " <li>the patriot (2000)</li>,\n",
       " <li>the perks of being a wallflower (2012)</li>,\n",
       " <li>the possession of michael king (2014)</li>,\n",
       " <li>the prestige (2006)</li>,\n",
       " <li>the royal tenenbaums (2001) </li>,\n",
       " <li>the shawshank redemption (1994)</li>,\n",
       " <li>the virgin suicides (1999) </li>,\n",
       " <li>the world’s end (2013) </li>,\n",
       " <li>thelma &amp; louise (1991)</li>,\n",
       " <li>wristcutters: a love story (2006)</li>]"
      ]
     },
     "execution_count": 10,
     "metadata": {},
     "output_type": "execute_result"
    }
   ],
   "source": [
    "# see also `soup.find_all`\n",
    "\n",
    "trigger_movies = soup.find('ul')\n",
    "trigger_movies.find_all('li')"
   ]
  },
  {
   "cell_type": "code",
   "execution_count": 11,
   "metadata": {},
   "outputs": [
    {
     "name": "stdout",
     "output_type": "stream",
     "text": [
      "237\n",
      "3%20idiots\n",
      "28%20days%20later\n",
      "47%20ronin\n",
      "1408\n",
      "a%20clockwork%20orange\n",
      "airplane\n",
      "almost%20famous\n",
      "a%20long%20way%20down\n",
      "always%20watching%20a%20marble%20hornets%20story\n",
      "a%20mothers%20nightmare\n",
      "an%20american%20werewolf%20in%20london\n",
      "annabelle\n",
      "anchorman%202%20the%20legend%20continues\n",
      "archies%20final%20project\n",
      "arizona%20dream%201992\n",
      "as%20above%20so%20below\n",
      "a%20single%20man\n",
      "a%20streetcar%20named%20desire%201951%201984%201987\n",
      "battle%20royale\n",
      "before%20I%20disappear\n",
      "ben%20x\n",
      "better%20off%20dead\n",
      "birdman%20or%20the%20unexpected%20virtue%20of%20ignorance\n",
      "blackbird\n",
      "black%20swan\n",
      "boogie%20nights\n",
      "boogeyman%202\n",
      "casino%20royale\n",
      "carrie\n",
      "charlie%20bartlett\n",
      "chatroom\n",
      "cloud%20atlas%202012\n",
      "constantine\n",
      "cozy%20dens%20czech%20Pelíšky\n",
      "cyberbully\n",
      "cyberbully\n",
      "dead%20poets%20society\n",
      "dear%20lemon%20lima\n",
      "detachment%20211\n",
      "die%20welle%20german\n",
      "disconnect\n",
      "divergent\n",
      "donnie%20darko%202001\n",
      "edge%20of%20tomorrow\n",
      "elephant%20song\n",
      "elizabethtown\n",
      "ex%20machina\n",
      "fame\n",
      "fight%20club\n",
      "filth\n",
      "final%20destination%202\n",
      "forrest%20gump\n",
      "frank\n",
      "full%20metal%20jacket\n",
      "girl%20interrupted\n",
      "gone%20girl\n",
      "groundhog%20day%201993\n",
      "hard%20candy\n",
      "hard%20core%20logo\n",
      "harold%20and%20maude\n",
      "harrison%20bergeron\n",
      "heathers\n",
      "hide%20and%20seek\n",
      "hitch\n",
      "holes\n",
      "hook%201991\n",
      "horns\n",
      "i%20am%20legend\n",
      "in%20bruges\n",
      "inception\n",
      "inner%20demons\n",
      "insidious%20chapter%203\n",
      "in%20time\n",
      "its%20kind%20of%20a%20funny%20story\n",
      "jamesy%20boy\n",
      "juno\n",
      "kill%20your%20darlings\n",
      "legend\n",
      "les%20miserables%202012\n",
      "little%20miss%20sunshine\n",
      "lost%20and%20delirious\n",
      "madoka%20magica%20rebellion\n",
      "mary%20and%20max\n",
      "men%20women%20%20children\n",
      "mommy\n",
      "monster%20pies\n",
      "mr%20holmes\n",
      "nicholas%20nickleby\n",
      "oldboy\n",
      "once%20were%20warriors%201994\n",
      "one%20flew%20over%20the%20cukoos%20nest\n",
      "ordinary%20people%201980\n",
      "oslo%20august%2021st\n",
      "ouija\n",
      "palo%20alto\n",
      "paper%20man\n",
      "perfect%20sisters\n",
      "pet%20sematary\n",
      "pippin\n",
      "pollock\n",
      "prayers%20for%20bobby\n",
      "prison%20break\n",
      "prometheus%202012\n",
      "pulse\n",
      "pump%20up%20the%20volume\n",
      "rent\n",
      "remember%20me\n",
      "rosencrantz%20and%20guildenstern%20are%20dead\n",
      "saw%20II\n",
      "serenity\n",
      "seven%20pounds\n",
      "seven%20psychopaths\n",
      "shake%20hands%20with%20the%20devil\n",
      "shame\n",
      "short%20term%2012\n",
      "show%20me%20love\n",
      "side%20effects%202013\n",
      "sinister\n",
      "spectre\n",
      "starship%20troopers%202%20hero%20of%20the%20federation%202004\n",
      "stay%202005\n",
      "suicide%20clubsuicide%20circle%202002\n",
      "suicide%20room%202011\n",
      "sunset%20boulevard\n",
      "swing%20kids\n",
      "sympathy%20for%20mr%20vengeance\n",
      "the%20angriest%20man%20in%20brooklyn\n",
      "the%20avengers\n",
      "the%20breakfast%20club\n",
      "the%20black%20cauldron\n",
      "the%20chronicles%20of%20riddick\n",
      "the%20conjuring\n",
      "the%20craft\n",
      "the%20eye%202\n",
      "the%20fall\n",
      "the%20final%20destination\n",
      "the%20goonies\n",
      "the%20happening\n",
      "the%20hills%20have%20eyes\n",
      "the%20holiday\n",
      "the%20homesman\n",
      "the%20man%20who%20killed%20the%20sun\n",
      "the%20maze%20runner\n",
      "the%20moth%20diaries\n",
      "the%20number%2023\n",
      "the%20omen\n",
      "the%20orphanage\n",
      "the%20joneses\n",
      "the%20patriot\n",
      "the%20perks%20of%20being%20a%20wallflower\n",
      "the%20possession%20of%20michael%20king\n",
      "the%20prestige\n",
      "the%20royal%20tenenbaums%202001\n",
      "the%20shawshank%20redemption\n",
      "the%20virgin%20suicides%201999\n",
      "the%20worlds%20end%202013\n",
      "thelma%20%20louise\n",
      "wristcutters%20a%20love%20story\n"
     ]
    }
   ],
   "source": [
    "for trigger_movie in trigger_movies:\n",
    "    title = trigger_movie.text\n",
    "    movie_title = re.sub(r' \\(\\d{4}\\)$', '', title)\n",
    "    movie_title = movie_title.replace(' ', '%20')\n",
    "    movie_title = re.sub(r\"[^\\w%]\", '', movie_title)\n",
    "    print(movie_title)"
   ]
  },
  {
   "cell_type": "code",
   "execution_count": 12,
   "metadata": {},
   "outputs": [
    {
     "data": {
      "text/plain": [
       "['237',\n",
       " '3%20idiots',\n",
       " '28%20days%20later',\n",
       " '47%20ronin',\n",
       " '1408',\n",
       " 'a%20clockwork%20orange',\n",
       " 'airplane',\n",
       " 'almost%20famous',\n",
       " 'a%20long%20way%20down',\n",
       " 'always%20watching%20a%20marble%20hornets%20story',\n",
       " 'a%20mothers%20nightmare',\n",
       " 'an%20american%20werewolf%20in%20london',\n",
       " 'annabelle',\n",
       " 'anchorman%202%20the%20legend%20continues',\n",
       " 'archies%20final%20project',\n",
       " 'arizona%20dream%201992',\n",
       " 'as%20above%20so%20below',\n",
       " 'a%20single%20man',\n",
       " 'a%20streetcar%20named%20desire%201951%201984%201987',\n",
       " 'battle%20royale',\n",
       " 'before%20I%20disappear',\n",
       " 'ben%20x',\n",
       " 'better%20off%20dead',\n",
       " 'birdman%20or%20the%20unexpected%20virtue%20of%20ignorance',\n",
       " 'blackbird',\n",
       " 'black%20swan',\n",
       " 'boogie%20nights',\n",
       " 'boogeyman%202',\n",
       " 'casino%20royale',\n",
       " 'carrie',\n",
       " 'charlie%20bartlett',\n",
       " 'chatroom',\n",
       " 'cloud%20atlas%202012',\n",
       " 'constantine',\n",
       " 'cozy%20dens%20czech%20Pelíšky',\n",
       " 'cyberbully',\n",
       " 'cyberbully',\n",
       " 'dead%20poets%20society',\n",
       " 'dear%20lemon%20lima',\n",
       " 'detachment%20211',\n",
       " 'die%20welle%20german',\n",
       " 'disconnect',\n",
       " 'divergent',\n",
       " 'donnie%20darko%202001',\n",
       " 'edge%20of%20tomorrow',\n",
       " 'elephant%20song',\n",
       " 'elizabethtown',\n",
       " 'ex%20machina',\n",
       " 'fame',\n",
       " 'fight%20club',\n",
       " 'filth',\n",
       " 'final%20destination%202',\n",
       " 'forrest%20gump',\n",
       " 'frank',\n",
       " 'full%20metal%20jacket',\n",
       " 'girl%20interrupted',\n",
       " 'gone%20girl',\n",
       " 'groundhog%20day%201993',\n",
       " 'hard%20candy',\n",
       " 'hard%20core%20logo',\n",
       " 'harold%20and%20maude',\n",
       " 'harrison%20bergeron',\n",
       " 'heathers',\n",
       " 'hide%20and%20seek',\n",
       " 'hitch',\n",
       " 'holes',\n",
       " 'hook%201991',\n",
       " 'horns',\n",
       " 'i%20am%20legend',\n",
       " 'in%20bruges',\n",
       " 'inception',\n",
       " 'inner%20demons',\n",
       " 'insidious%20chapter%203',\n",
       " 'in%20time',\n",
       " 'its%20kind%20of%20a%20funny%20story',\n",
       " 'jamesy%20boy',\n",
       " 'juno',\n",
       " 'kill%20your%20darlings',\n",
       " 'legend',\n",
       " 'les%20miserables%202012',\n",
       " 'little%20miss%20sunshine',\n",
       " 'lost%20and%20delirious',\n",
       " 'madoka%20magica%20rebellion',\n",
       " 'mary%20and%20max',\n",
       " 'men%20women%20%20children',\n",
       " 'mommy',\n",
       " 'monster%20pies',\n",
       " 'mr%20holmes',\n",
       " 'nicholas%20nickleby',\n",
       " 'oldboy',\n",
       " 'once%20were%20warriors%201994',\n",
       " 'one%20flew%20over%20the%20cukoos%20nest',\n",
       " 'ordinary%20people%201980',\n",
       " 'oslo%20august%2021st',\n",
       " 'ouija',\n",
       " 'palo%20alto',\n",
       " 'paper%20man',\n",
       " 'perfect%20sisters',\n",
       " 'pet%20sematary',\n",
       " 'pippin',\n",
       " 'pollock',\n",
       " 'prayers%20for%20bobby',\n",
       " 'prison%20break',\n",
       " 'prometheus%202012',\n",
       " 'pulse',\n",
       " 'pump%20up%20the%20volume',\n",
       " 'rent',\n",
       " 'remember%20me',\n",
       " 'rosencrantz%20and%20guildenstern%20are%20dead',\n",
       " 'saw%20II',\n",
       " 'serenity',\n",
       " 'seven%20pounds',\n",
       " 'seven%20psychopaths',\n",
       " 'shake%20hands%20with%20the%20devil',\n",
       " 'shame',\n",
       " 'short%20term%2012',\n",
       " 'show%20me%20love',\n",
       " 'side%20effects%202013',\n",
       " 'sinister',\n",
       " 'spectre',\n",
       " 'starship%20troopers%202%20hero%20of%20the%20federation%202004',\n",
       " 'stay%202005',\n",
       " 'suicide%20clubsuicide%20circle%202002',\n",
       " 'suicide%20room%202011',\n",
       " 'sunset%20boulevard',\n",
       " 'swing%20kids',\n",
       " 'sympathy%20for%20mr%20vengeance',\n",
       " 'the%20angriest%20man%20in%20brooklyn',\n",
       " 'the%20avengers',\n",
       " 'the%20breakfast%20club',\n",
       " 'the%20black%20cauldron',\n",
       " 'the%20chronicles%20of%20riddick',\n",
       " 'the%20conjuring',\n",
       " 'the%20craft',\n",
       " 'the%20eye%202',\n",
       " 'the%20fall',\n",
       " 'the%20final%20destination',\n",
       " 'the%20goonies',\n",
       " 'the%20happening',\n",
       " 'the%20hills%20have%20eyes',\n",
       " 'the%20holiday',\n",
       " 'the%20homesman',\n",
       " 'the%20man%20who%20killed%20the%20sun',\n",
       " 'the%20maze%20runner',\n",
       " 'the%20moth%20diaries',\n",
       " 'the%20number%2023',\n",
       " 'the%20omen',\n",
       " 'the%20orphanage',\n",
       " 'the%20joneses',\n",
       " 'the%20patriot',\n",
       " 'the%20perks%20of%20being%20a%20wallflower',\n",
       " 'the%20possession%20of%20michael%20king',\n",
       " 'the%20prestige',\n",
       " 'the%20royal%20tenenbaums%202001',\n",
       " 'the%20shawshank%20redemption',\n",
       " 'the%20virgin%20suicides%201999',\n",
       " 'the%20worlds%20end%202013',\n",
       " 'thelma%20%20louise',\n",
       " 'wristcutters%20a%20love%20story']"
      ]
     },
     "execution_count": 12,
     "metadata": {},
     "output_type": "execute_result"
    }
   ],
   "source": [
    "trigger_movies_list = []\n",
    "trigger2 = []\n",
    "for trigger_movie in trigger_movies:\n",
    "    movie_title = trigger_movie.text\n",
    "    movie_title = re.sub(r' \\(\\d{4}\\)$', '', movie_title)\n",
    "    movie_title = movie_title.replace(' ', '%20')\n",
    "    movie_title = re.sub(r\"[^\\w%]\", '', movie_title)\n",
    "    trigger_movies_list.append(movie_title)\n",
    "    trigger2.append(True)\n",
    "trigger_movies_list"
   ]
  },
  {
   "cell_type": "code",
   "execution_count": 13,
   "metadata": {},
   "outputs": [
    {
     "data": {
      "text/plain": [
       "159"
      ]
     },
     "execution_count": 13,
     "metadata": {},
     "output_type": "execute_result"
    }
   ],
   "source": [
    "len(trigger_movies_list)"
   ]
  },
  {
   "cell_type": "code",
   "execution_count": 14,
   "metadata": {},
   "outputs": [
    {
     "data": {
      "text/plain": [
       "259"
      ]
     },
     "execution_count": 14,
     "metadata": {},
     "output_type": "execute_result"
    }
   ],
   "source": [
    "trigger1.extend(trigger2)\n",
    "len(trigger1)"
   ]
  },
  {
   "cell_type": "code",
   "execution_count": 15,
   "metadata": {},
   "outputs": [],
   "source": [
    "movies.extend(trigger_movies_list)"
   ]
  },
  {
   "cell_type": "markdown",
   "metadata": {},
   "source": [
    "### Scraping tweets from Twitter."
   ]
  },
  {
   "cell_type": "code",
   "execution_count": 16,
   "metadata": {},
   "outputs": [],
   "source": [
    "browser = webdriver.Chrome()\n",
    "# print('Connecting to Twitter')\n",
    "\n",
    "\n",
    "tweets = []\n",
    "tweets_movie_title = []\n",
    "tweets_trigger = []\n",
    "\n",
    "\n",
    "for movie, trigger in list(zip(movies, trigger1)):\n",
    "    # print(f'Looking up {movie}')\n",
    "    browser.get(f\"https://twitter.com/search?q={movie}%20trigger&src=typd\")\n",
    "    # time.sleep(1)\n",
    "\n",
    "    elem = browser.find_element_by_tag_name(\"body\")\n",
    "\n",
    "    no_of_pagedowns = 18\n",
    "    # print('Scrolling thru page.')\n",
    "\n",
    "    while no_of_pagedowns:\n",
    "        elem.send_keys(Keys.PAGE_DOWN)\n",
    "        # time.sleep(0.2)\n",
    "        no_of_pagedowns-=1\n",
    "\n",
    "    post_elems = browser.find_elements_by_class_name(\"js-tweet-text-container\")\n",
    "    # print('Grabbing Tweets.')\n",
    "\n",
    "    for post in post_elems:\n",
    "        tweets.append(post.text)\n",
    "        tweets_movie_title.append(movie)\n",
    "        tweets_trigger.append(trigger)\n",
    "    # print('Completed.')"
   ]
  },
  {
   "cell_type": "code",
   "execution_count": 17,
   "metadata": {},
   "outputs": [
    {
     "data": {
      "text/html": [
       "<div>\n",
       "<style scoped>\n",
       "    .dataframe tbody tr th:only-of-type {\n",
       "        vertical-align: middle;\n",
       "    }\n",
       "\n",
       "    .dataframe tbody tr th {\n",
       "        vertical-align: top;\n",
       "    }\n",
       "\n",
       "    .dataframe thead th {\n",
       "        text-align: right;\n",
       "    }\n",
       "</style>\n",
       "<table border=\"1\" class=\"dataframe\">\n",
       "  <thead>\n",
       "    <tr style=\"text-align: right;\">\n",
       "      <th></th>\n",
       "      <th>title</th>\n",
       "      <th>tweet</th>\n",
       "      <th>trigger_scene</th>\n",
       "    </tr>\n",
       "  </thead>\n",
       "  <tbody>\n",
       "    <tr>\n",
       "      <th>0</th>\n",
       "      <td>spiderman%20far%20from%20home</td>\n",
       "      <td>⠀⠀ ❝You don't want any part in this...❞\\n⠀⠀ ⠀❧...</td>\n",
       "      <td>False</td>\n",
       "    </tr>\n",
       "    <tr>\n",
       "      <th>1</th>\n",
       "      <td>spiderman%20far%20from%20home</td>\n",
       "      <td>Trigger warning for all photographers before s...</td>\n",
       "      <td>False</td>\n",
       "    </tr>\n",
       "    <tr>\n",
       "      <th>2</th>\n",
       "      <td>spiderman%20far%20from%20home</td>\n",
       "      <td>so i just finished watching spiderman far from...</td>\n",
       "      <td>False</td>\n",
       "    </tr>\n",
       "    <tr>\n",
       "      <th>3</th>\n",
       "      <td>spiderman%20far%20from%20home</td>\n",
       "      <td>Spiderman: Far From Home was a gaslighting tri...</td>\n",
       "      <td>False</td>\n",
       "    </tr>\n",
       "    <tr>\n",
       "      <th>4</th>\n",
       "      <td>spiderman%20far%20from%20home</td>\n",
       "      <td>it trigger me every time there's a spiderman f...</td>\n",
       "      <td>False</td>\n",
       "    </tr>\n",
       "  </tbody>\n",
       "</table>\n",
       "</div>"
      ],
      "text/plain": [
       "                           title  \\\n",
       "0  spiderman%20far%20from%20home   \n",
       "1  spiderman%20far%20from%20home   \n",
       "2  spiderman%20far%20from%20home   \n",
       "3  spiderman%20far%20from%20home   \n",
       "4  spiderman%20far%20from%20home   \n",
       "\n",
       "                                               tweet  trigger_scene  \n",
       "0  ⠀⠀ ❝You don't want any part in this...❞\\n⠀⠀ ⠀❧...          False  \n",
       "1  Trigger warning for all photographers before s...          False  \n",
       "2  so i just finished watching spiderman far from...          False  \n",
       "3  Spiderman: Far From Home was a gaslighting tri...          False  \n",
       "4  it trigger me every time there's a spiderman f...          False  "
      ]
     },
     "execution_count": 17,
     "metadata": {},
     "output_type": "execute_result"
    }
   ],
   "source": [
    "df = pd.DataFrame({'title':tweets_movie_title, 'tweet':tweets, 'trigger_scene':tweets_trigger})\n",
    "df.head()"
   ]
  },
  {
   "cell_type": "markdown",
   "metadata": {},
   "source": [
    "## Data Preparation"
   ]
  },
  {
   "cell_type": "markdown",
   "metadata": {},
   "source": [
    "##### Fixing title column."
   ]
  },
  {
   "cell_type": "code",
   "execution_count": 18,
   "metadata": {},
   "outputs": [
    {
     "data": {
      "text/html": [
       "<div>\n",
       "<style scoped>\n",
       "    .dataframe tbody tr th:only-of-type {\n",
       "        vertical-align: middle;\n",
       "    }\n",
       "\n",
       "    .dataframe tbody tr th {\n",
       "        vertical-align: top;\n",
       "    }\n",
       "\n",
       "    .dataframe thead th {\n",
       "        text-align: right;\n",
       "    }\n",
       "</style>\n",
       "<table border=\"1\" class=\"dataframe\">\n",
       "  <thead>\n",
       "    <tr style=\"text-align: right;\">\n",
       "      <th></th>\n",
       "      <th>title</th>\n",
       "      <th>tweet</th>\n",
       "      <th>trigger_scene</th>\n",
       "    </tr>\n",
       "  </thead>\n",
       "  <tbody>\n",
       "    <tr>\n",
       "      <th>0</th>\n",
       "      <td>spiderman_far_from_home</td>\n",
       "      <td>⠀⠀ ❝You don't want any part in this...❞\\n⠀⠀ ⠀❧...</td>\n",
       "      <td>False</td>\n",
       "    </tr>\n",
       "    <tr>\n",
       "      <th>1</th>\n",
       "      <td>spiderman_far_from_home</td>\n",
       "      <td>Trigger warning for all photographers before s...</td>\n",
       "      <td>False</td>\n",
       "    </tr>\n",
       "    <tr>\n",
       "      <th>2</th>\n",
       "      <td>spiderman_far_from_home</td>\n",
       "      <td>so i just finished watching spiderman far from...</td>\n",
       "      <td>False</td>\n",
       "    </tr>\n",
       "    <tr>\n",
       "      <th>3</th>\n",
       "      <td>spiderman_far_from_home</td>\n",
       "      <td>Spiderman: Far From Home was a gaslighting tri...</td>\n",
       "      <td>False</td>\n",
       "    </tr>\n",
       "    <tr>\n",
       "      <th>4</th>\n",
       "      <td>spiderman_far_from_home</td>\n",
       "      <td>it trigger me every time there's a spiderman f...</td>\n",
       "      <td>False</td>\n",
       "    </tr>\n",
       "  </tbody>\n",
       "</table>\n",
       "</div>"
      ],
      "text/plain": [
       "                     title                                              tweet  \\\n",
       "0  spiderman_far_from_home  ⠀⠀ ❝You don't want any part in this...❞\\n⠀⠀ ⠀❧...   \n",
       "1  spiderman_far_from_home  Trigger warning for all photographers before s...   \n",
       "2  spiderman_far_from_home  so i just finished watching spiderman far from...   \n",
       "3  spiderman_far_from_home  Spiderman: Far From Home was a gaslighting tri...   \n",
       "4  spiderman_far_from_home  it trigger me every time there's a spiderman f...   \n",
       "\n",
       "   trigger_scene  \n",
       "0          False  \n",
       "1          False  \n",
       "2          False  \n",
       "3          False  \n",
       "4          False  "
      ]
     },
     "execution_count": 18,
     "metadata": {},
     "output_type": "execute_result"
    }
   ],
   "source": [
    "df.title = df.title.str.replace('%20', '_')\n",
    "df.head()"
   ]
  },
  {
   "cell_type": "markdown",
   "metadata": {},
   "source": [
    "##### Lowercasing the text."
   ]
  },
  {
   "cell_type": "code",
   "execution_count": 19,
   "metadata": {},
   "outputs": [
    {
     "data": {
      "text/html": [
       "<div>\n",
       "<style scoped>\n",
       "    .dataframe tbody tr th:only-of-type {\n",
       "        vertical-align: middle;\n",
       "    }\n",
       "\n",
       "    .dataframe tbody tr th {\n",
       "        vertical-align: top;\n",
       "    }\n",
       "\n",
       "    .dataframe thead th {\n",
       "        text-align: right;\n",
       "    }\n",
       "</style>\n",
       "<table border=\"1\" class=\"dataframe\">\n",
       "  <thead>\n",
       "    <tr style=\"text-align: right;\">\n",
       "      <th></th>\n",
       "      <th>title</th>\n",
       "      <th>tweet</th>\n",
       "      <th>trigger_scene</th>\n",
       "      <th>cleaned_text</th>\n",
       "    </tr>\n",
       "  </thead>\n",
       "  <tbody>\n",
       "    <tr>\n",
       "      <th>0</th>\n",
       "      <td>spiderman_far_from_home</td>\n",
       "      <td>⠀⠀ ❝You don't want any part in this...❞\\n⠀⠀ ⠀❧...</td>\n",
       "      <td>False</td>\n",
       "      <td>⠀⠀ ❝you don't want any part in this...❞\\n⠀⠀ ⠀❧...</td>\n",
       "    </tr>\n",
       "    <tr>\n",
       "      <th>1</th>\n",
       "      <td>spiderman_far_from_home</td>\n",
       "      <td>Trigger warning for all photographers before s...</td>\n",
       "      <td>False</td>\n",
       "      <td>trigger warning for all photographers before s...</td>\n",
       "    </tr>\n",
       "    <tr>\n",
       "      <th>2</th>\n",
       "      <td>spiderman_far_from_home</td>\n",
       "      <td>so i just finished watching spiderman far from...</td>\n",
       "      <td>False</td>\n",
       "      <td>so i just finished watching spiderman far from...</td>\n",
       "    </tr>\n",
       "    <tr>\n",
       "      <th>3</th>\n",
       "      <td>spiderman_far_from_home</td>\n",
       "      <td>Spiderman: Far From Home was a gaslighting tri...</td>\n",
       "      <td>False</td>\n",
       "      <td>spiderman: far from home was a gaslighting tri...</td>\n",
       "    </tr>\n",
       "    <tr>\n",
       "      <th>4</th>\n",
       "      <td>spiderman_far_from_home</td>\n",
       "      <td>it trigger me every time there's a spiderman f...</td>\n",
       "      <td>False</td>\n",
       "      <td>it trigger me every time there's a spiderman f...</td>\n",
       "    </tr>\n",
       "  </tbody>\n",
       "</table>\n",
       "</div>"
      ],
      "text/plain": [
       "                     title                                              tweet  \\\n",
       "0  spiderman_far_from_home  ⠀⠀ ❝You don't want any part in this...❞\\n⠀⠀ ⠀❧...   \n",
       "1  spiderman_far_from_home  Trigger warning for all photographers before s...   \n",
       "2  spiderman_far_from_home  so i just finished watching spiderman far from...   \n",
       "3  spiderman_far_from_home  Spiderman: Far From Home was a gaslighting tri...   \n",
       "4  spiderman_far_from_home  it trigger me every time there's a spiderman f...   \n",
       "\n",
       "   trigger_scene                                       cleaned_text  \n",
       "0          False  ⠀⠀ ❝you don't want any part in this...❞\\n⠀⠀ ⠀❧...  \n",
       "1          False  trigger warning for all photographers before s...  \n",
       "2          False  so i just finished watching spiderman far from...  \n",
       "3          False  spiderman: far from home was a gaslighting tri...  \n",
       "4          False  it trigger me every time there's a spiderman f...  "
      ]
     },
     "execution_count": 19,
     "metadata": {},
     "output_type": "execute_result"
    }
   ],
   "source": [
    "df['cleaned_text'] = df.tweet.str.lower()\n",
    "df.head()"
   ]
  },
  {
   "cell_type": "markdown",
   "metadata": {},
   "source": [
    "##### Converting and standardizing accented characters into ASCII characters."
   ]
  },
  {
   "cell_type": "code",
   "execution_count": 20,
   "metadata": {},
   "outputs": [
    {
     "data": {
      "text/html": [
       "<div>\n",
       "<style scoped>\n",
       "    .dataframe tbody tr th:only-of-type {\n",
       "        vertical-align: middle;\n",
       "    }\n",
       "\n",
       "    .dataframe tbody tr th {\n",
       "        vertical-align: top;\n",
       "    }\n",
       "\n",
       "    .dataframe thead th {\n",
       "        text-align: right;\n",
       "    }\n",
       "</style>\n",
       "<table border=\"1\" class=\"dataframe\">\n",
       "  <thead>\n",
       "    <tr style=\"text-align: right;\">\n",
       "      <th></th>\n",
       "      <th>title</th>\n",
       "      <th>tweet</th>\n",
       "      <th>trigger_scene</th>\n",
       "      <th>cleaned_text</th>\n",
       "    </tr>\n",
       "  </thead>\n",
       "  <tbody>\n",
       "    <tr>\n",
       "      <th>0</th>\n",
       "      <td>spiderman_far_from_home</td>\n",
       "      <td>⠀⠀ ❝You don't want any part in this...❞\\n⠀⠀ ⠀❧...</td>\n",
       "      <td>False</td>\n",
       "      <td>you don't want any part in this...\\n  q b. as...</td>\n",
       "    </tr>\n",
       "    <tr>\n",
       "      <th>1</th>\n",
       "      <td>spiderman_far_from_home</td>\n",
       "      <td>Trigger warning for all photographers before s...</td>\n",
       "      <td>False</td>\n",
       "      <td>trigger warning for all photographers before s...</td>\n",
       "    </tr>\n",
       "    <tr>\n",
       "      <th>2</th>\n",
       "      <td>spiderman_far_from_home</td>\n",
       "      <td>so i just finished watching spiderman far from...</td>\n",
       "      <td>False</td>\n",
       "      <td>so i just finished watching spiderman far from...</td>\n",
       "    </tr>\n",
       "    <tr>\n",
       "      <th>3</th>\n",
       "      <td>spiderman_far_from_home</td>\n",
       "      <td>Spiderman: Far From Home was a gaslighting tri...</td>\n",
       "      <td>False</td>\n",
       "      <td>spiderman: far from home was a gaslighting tri...</td>\n",
       "    </tr>\n",
       "    <tr>\n",
       "      <th>4</th>\n",
       "      <td>spiderman_far_from_home</td>\n",
       "      <td>it trigger me every time there's a spiderman f...</td>\n",
       "      <td>False</td>\n",
       "      <td>it trigger me every time there's a spiderman f...</td>\n",
       "    </tr>\n",
       "  </tbody>\n",
       "</table>\n",
       "</div>"
      ],
      "text/plain": [
       "                     title                                              tweet  \\\n",
       "0  spiderman_far_from_home  ⠀⠀ ❝You don't want any part in this...❞\\n⠀⠀ ⠀❧...   \n",
       "1  spiderman_far_from_home  Trigger warning for all photographers before s...   \n",
       "2  spiderman_far_from_home  so i just finished watching spiderman far from...   \n",
       "3  spiderman_far_from_home  Spiderman: Far From Home was a gaslighting tri...   \n",
       "4  spiderman_far_from_home  it trigger me every time there's a spiderman f...   \n",
       "\n",
       "   trigger_scene                                       cleaned_text  \n",
       "0          False   you don't want any part in this...\\n  q b. as...  \n",
       "1          False  trigger warning for all photographers before s...  \n",
       "2          False  so i just finished watching spiderman far from...  \n",
       "3          False  spiderman: far from home was a gaslighting tri...  \n",
       "4          False  it trigger me every time there's a spiderman f...  "
      ]
     },
     "execution_count": 20,
     "metadata": {},
     "output_type": "execute_result"
    }
   ],
   "source": [
    "def replace_accented_characters(text):\n",
    "    no_accent_text = unicodedata.normalize('NFKD', text)\\\n",
    "                        .encode('ascii', 'ignore')\\\n",
    "                        .decode('utf-8', 'ignore')\n",
    "    return no_accent_text\n",
    "\n",
    "df.cleaned_text = df.cleaned_text.apply(replace_accented_characters)\n",
    "df.head()"
   ]
  },
  {
   "cell_type": "markdown",
   "metadata": {},
   "source": [
    "##### Removing special characters."
   ]
  },
  {
   "cell_type": "code",
   "execution_count": 21,
   "metadata": {},
   "outputs": [
    {
     "data": {
      "text/html": [
       "<div>\n",
       "<style scoped>\n",
       "    .dataframe tbody tr th:only-of-type {\n",
       "        vertical-align: middle;\n",
       "    }\n",
       "\n",
       "    .dataframe tbody tr th {\n",
       "        vertical-align: top;\n",
       "    }\n",
       "\n",
       "    .dataframe thead th {\n",
       "        text-align: right;\n",
       "    }\n",
       "</style>\n",
       "<table border=\"1\" class=\"dataframe\">\n",
       "  <thead>\n",
       "    <tr style=\"text-align: right;\">\n",
       "      <th></th>\n",
       "      <th>title</th>\n",
       "      <th>tweet</th>\n",
       "      <th>trigger_scene</th>\n",
       "      <th>cleaned_text</th>\n",
       "    </tr>\n",
       "  </thead>\n",
       "  <tbody>\n",
       "    <tr>\n",
       "      <th>0</th>\n",
       "      <td>spiderman_far_from_home</td>\n",
       "      <td>⠀⠀ ❝You don't want any part in this...❞\\n⠀⠀ ⠀❧...</td>\n",
       "      <td>False</td>\n",
       "      <td>you dont want any part in this\\n  q b as ms \\...</td>\n",
       "    </tr>\n",
       "    <tr>\n",
       "      <th>1</th>\n",
       "      <td>spiderman_far_from_home</td>\n",
       "      <td>Trigger warning for all photographers before s...</td>\n",
       "      <td>False</td>\n",
       "      <td>trigger warning for all photographers before s...</td>\n",
       "    </tr>\n",
       "    <tr>\n",
       "      <th>2</th>\n",
       "      <td>spiderman_far_from_home</td>\n",
       "      <td>so i just finished watching spiderman far from...</td>\n",
       "      <td>False</td>\n",
       "      <td>so i just finished watching spiderman far from...</td>\n",
       "    </tr>\n",
       "    <tr>\n",
       "      <th>3</th>\n",
       "      <td>spiderman_far_from_home</td>\n",
       "      <td>Spiderman: Far From Home was a gaslighting tri...</td>\n",
       "      <td>False</td>\n",
       "      <td>spiderman far from home was a gaslighting trig...</td>\n",
       "    </tr>\n",
       "    <tr>\n",
       "      <th>4</th>\n",
       "      <td>spiderman_far_from_home</td>\n",
       "      <td>it trigger me every time there's a spiderman f...</td>\n",
       "      <td>False</td>\n",
       "      <td>it trigger me every time theres a spiderman fa...</td>\n",
       "    </tr>\n",
       "  </tbody>\n",
       "</table>\n",
       "</div>"
      ],
      "text/plain": [
       "                     title                                              tweet  \\\n",
       "0  spiderman_far_from_home  ⠀⠀ ❝You don't want any part in this...❞\\n⠀⠀ ⠀❧...   \n",
       "1  spiderman_far_from_home  Trigger warning for all photographers before s...   \n",
       "2  spiderman_far_from_home  so i just finished watching spiderman far from...   \n",
       "3  spiderman_far_from_home  Spiderman: Far From Home was a gaslighting tri...   \n",
       "4  spiderman_far_from_home  it trigger me every time there's a spiderman f...   \n",
       "\n",
       "   trigger_scene                                       cleaned_text  \n",
       "0          False   you dont want any part in this\\n  q b as ms \\...  \n",
       "1          False  trigger warning for all photographers before s...  \n",
       "2          False  so i just finished watching spiderman far from...  \n",
       "3          False  spiderman far from home was a gaslighting trig...  \n",
       "4          False  it trigger me every time theres a spiderman fa...  "
      ]
     },
     "execution_count": 21,
     "metadata": {},
     "output_type": "execute_result"
    }
   ],
   "source": [
    "# remove anything that is not a through z, a number, a single quote, or whitespace\n",
    "def remove_special_characters(text):\n",
    "    no_special_text = re.sub(r\"[^a-z0-9\\s]\", '', text)\n",
    "    return no_special_text\n",
    "\n",
    "df.cleaned_text = df.cleaned_text.apply(remove_special_characters)\n",
    "df.head()"
   ]
  },
  {
   "cell_type": "markdown",
   "metadata": {},
   "source": [
    "##### Tokenization"
   ]
  },
  {
   "cell_type": "code",
   "execution_count": 22,
   "metadata": {},
   "outputs": [
    {
     "data": {
      "text/html": [
       "<div>\n",
       "<style scoped>\n",
       "    .dataframe tbody tr th:only-of-type {\n",
       "        vertical-align: middle;\n",
       "    }\n",
       "\n",
       "    .dataframe tbody tr th {\n",
       "        vertical-align: top;\n",
       "    }\n",
       "\n",
       "    .dataframe thead th {\n",
       "        text-align: right;\n",
       "    }\n",
       "</style>\n",
       "<table border=\"1\" class=\"dataframe\">\n",
       "  <thead>\n",
       "    <tr style=\"text-align: right;\">\n",
       "      <th></th>\n",
       "      <th>title</th>\n",
       "      <th>tweet</th>\n",
       "      <th>trigger_scene</th>\n",
       "      <th>cleaned_text</th>\n",
       "    </tr>\n",
       "  </thead>\n",
       "  <tbody>\n",
       "    <tr>\n",
       "      <th>0</th>\n",
       "      <td>spiderman_far_from_home</td>\n",
       "      <td>⠀⠀ ❝You don't want any part in this...❞\\n⠀⠀ ⠀❧...</td>\n",
       "      <td>False</td>\n",
       "      <td>you dont want any part in this\\n q b as ms \\n ...</td>\n",
       "    </tr>\n",
       "    <tr>\n",
       "      <th>1</th>\n",
       "      <td>spiderman_far_from_home</td>\n",
       "      <td>Trigger warning for all photographers before s...</td>\n",
       "      <td>False</td>\n",
       "      <td>trigger warning for all photographers before s...</td>\n",
       "    </tr>\n",
       "    <tr>\n",
       "      <th>2</th>\n",
       "      <td>spiderman_far_from_home</td>\n",
       "      <td>so i just finished watching spiderman far from...</td>\n",
       "      <td>False</td>\n",
       "      <td>so i just finished watching spiderman far from...</td>\n",
       "    </tr>\n",
       "    <tr>\n",
       "      <th>3</th>\n",
       "      <td>spiderman_far_from_home</td>\n",
       "      <td>Spiderman: Far From Home was a gaslighting tri...</td>\n",
       "      <td>False</td>\n",
       "      <td>spiderman far from home was a gaslighting trig...</td>\n",
       "    </tr>\n",
       "    <tr>\n",
       "      <th>4</th>\n",
       "      <td>spiderman_far_from_home</td>\n",
       "      <td>it trigger me every time there's a spiderman f...</td>\n",
       "      <td>False</td>\n",
       "      <td>it trigger me every time theres a spiderman fa...</td>\n",
       "    </tr>\n",
       "  </tbody>\n",
       "</table>\n",
       "</div>"
      ],
      "text/plain": [
       "                     title                                              tweet  \\\n",
       "0  spiderman_far_from_home  ⠀⠀ ❝You don't want any part in this...❞\\n⠀⠀ ⠀❧...   \n",
       "1  spiderman_far_from_home  Trigger warning for all photographers before s...   \n",
       "2  spiderman_far_from_home  so i just finished watching spiderman far from...   \n",
       "3  spiderman_far_from_home  Spiderman: Far From Home was a gaslighting tri...   \n",
       "4  spiderman_far_from_home  it trigger me every time there's a spiderman f...   \n",
       "\n",
       "   trigger_scene                                       cleaned_text  \n",
       "0          False  you dont want any part in this\\n q b as ms \\n ...  \n",
       "1          False  trigger warning for all photographers before s...  \n",
       "2          False  so i just finished watching spiderman far from...  \n",
       "3          False  spiderman far from home was a gaslighting trig...  \n",
       "4          False  it trigger me every time theres a spiderman fa...  "
      ]
     },
     "execution_count": 22,
     "metadata": {},
     "output_type": "execute_result"
    }
   ],
   "source": [
    "def tokenize_text(text):\n",
    "    tokenizer = nltk.tokenize.ToktokTokenizer()\n",
    "    return tokenizer.tokenize(text, return_str=True)\n",
    "\n",
    "df.cleaned_text = df.cleaned_text.apply(tokenize_text)\n",
    "df.head()"
   ]
  },
  {
   "cell_type": "markdown",
   "metadata": {},
   "source": [
    "##### Stemming"
   ]
  },
  {
   "cell_type": "code",
   "execution_count": 23,
   "metadata": {},
   "outputs": [
    {
     "data": {
      "text/html": [
       "<div>\n",
       "<style scoped>\n",
       "    .dataframe tbody tr th:only-of-type {\n",
       "        vertical-align: middle;\n",
       "    }\n",
       "\n",
       "    .dataframe tbody tr th {\n",
       "        vertical-align: top;\n",
       "    }\n",
       "\n",
       "    .dataframe thead th {\n",
       "        text-align: right;\n",
       "    }\n",
       "</style>\n",
       "<table border=\"1\" class=\"dataframe\">\n",
       "  <thead>\n",
       "    <tr style=\"text-align: right;\">\n",
       "      <th></th>\n",
       "      <th>title</th>\n",
       "      <th>tweet</th>\n",
       "      <th>trigger_scene</th>\n",
       "      <th>cleaned_text</th>\n",
       "      <th>stemmed_text</th>\n",
       "    </tr>\n",
       "  </thead>\n",
       "  <tbody>\n",
       "    <tr>\n",
       "      <th>0</th>\n",
       "      <td>spiderman_far_from_home</td>\n",
       "      <td>⠀⠀ ❝You don't want any part in this...❞\\n⠀⠀ ⠀❧...</td>\n",
       "      <td>False</td>\n",
       "      <td>you dont want any part in this\\n q b as ms \\n ...</td>\n",
       "      <td>you dont want ani part in thi q b as ms spider...</td>\n",
       "    </tr>\n",
       "    <tr>\n",
       "      <th>1</th>\n",
       "      <td>spiderman_far_from_home</td>\n",
       "      <td>Trigger warning for all photographers before s...</td>\n",
       "      <td>False</td>\n",
       "      <td>trigger warning for all photographers before s...</td>\n",
       "      <td>trigger warn for all photograph befor see spid...</td>\n",
       "    </tr>\n",
       "    <tr>\n",
       "      <th>2</th>\n",
       "      <td>spiderman_far_from_home</td>\n",
       "      <td>so i just finished watching spiderman far from...</td>\n",
       "      <td>False</td>\n",
       "      <td>so i just finished watching spiderman far from...</td>\n",
       "      <td>so i just finish watch spiderman far from home...</td>\n",
       "    </tr>\n",
       "    <tr>\n",
       "      <th>3</th>\n",
       "      <td>spiderman_far_from_home</td>\n",
       "      <td>Spiderman: Far From Home was a gaslighting tri...</td>\n",
       "      <td>False</td>\n",
       "      <td>spiderman far from home was a gaslighting trig...</td>\n",
       "      <td>spiderman far from home wa a gaslight trigger ...</td>\n",
       "    </tr>\n",
       "    <tr>\n",
       "      <th>4</th>\n",
       "      <td>spiderman_far_from_home</td>\n",
       "      <td>it trigger me every time there's a spiderman f...</td>\n",
       "      <td>False</td>\n",
       "      <td>it trigger me every time theres a spiderman fa...</td>\n",
       "      <td>it trigger me everi time there a spiderman far...</td>\n",
       "    </tr>\n",
       "  </tbody>\n",
       "</table>\n",
       "</div>"
      ],
      "text/plain": [
       "                     title                                              tweet  \\\n",
       "0  spiderman_far_from_home  ⠀⠀ ❝You don't want any part in this...❞\\n⠀⠀ ⠀❧...   \n",
       "1  spiderman_far_from_home  Trigger warning for all photographers before s...   \n",
       "2  spiderman_far_from_home  so i just finished watching spiderman far from...   \n",
       "3  spiderman_far_from_home  Spiderman: Far From Home was a gaslighting tri...   \n",
       "4  spiderman_far_from_home  it trigger me every time there's a spiderman f...   \n",
       "\n",
       "   trigger_scene                                       cleaned_text  \\\n",
       "0          False  you dont want any part in this\\n q b as ms \\n ...   \n",
       "1          False  trigger warning for all photographers before s...   \n",
       "2          False  so i just finished watching spiderman far from...   \n",
       "3          False  spiderman far from home was a gaslighting trig...   \n",
       "4          False  it trigger me every time theres a spiderman fa...   \n",
       "\n",
       "                                        stemmed_text  \n",
       "0  you dont want ani part in thi q b as ms spider...  \n",
       "1  trigger warn for all photograph befor see spid...  \n",
       "2  so i just finish watch spiderman far from home...  \n",
       "3  spiderman far from home wa a gaslight trigger ...  \n",
       "4  it trigger me everi time there a spiderman far...  "
      ]
     },
     "execution_count": 23,
     "metadata": {},
     "output_type": "execute_result"
    }
   ],
   "source": [
    "# Create the nltk stemmer object, then use it\n",
    "def stemmer(text):\n",
    "    ps = nltk.porter.PorterStemmer()\n",
    "    stemmed_list = [ps.stem(word) for word in text.split()]\n",
    "    stemmed_text = ' '.join(stemmed_list)\n",
    "    return stemmed_text\n",
    "\n",
    "df['stemmed_text'] = df.cleaned_text.apply(stemmer)\n",
    "df.head()"
   ]
  },
  {
   "cell_type": "code",
   "execution_count": 24,
   "metadata": {},
   "outputs": [
    {
     "data": {
      "text/plain": [
       "the        3353\n",
       "trigger    2923\n",
       "a          1904\n",
       "to         1733\n",
       "and        1489\n",
       "i          1336\n",
       "of         1138\n",
       "it         1026\n",
       "in          968\n",
       "is          890\n",
       "dtype: int64"
      ]
     },
     "execution_count": 24,
     "metadata": {},
     "output_type": "execute_result"
    }
   ],
   "source": [
    "pd.Series(' '.join(df.stemmed_text).split()).value_counts().head(10)"
   ]
  },
  {
   "cell_type": "markdown",
   "metadata": {},
   "source": [
    "##### Lemmatizing"
   ]
  },
  {
   "cell_type": "code",
   "execution_count": 25,
   "metadata": {},
   "outputs": [
    {
     "data": {
      "text/html": [
       "<div>\n",
       "<style scoped>\n",
       "    .dataframe tbody tr th:only-of-type {\n",
       "        vertical-align: middle;\n",
       "    }\n",
       "\n",
       "    .dataframe tbody tr th {\n",
       "        vertical-align: top;\n",
       "    }\n",
       "\n",
       "    .dataframe thead th {\n",
       "        text-align: right;\n",
       "    }\n",
       "</style>\n",
       "<table border=\"1\" class=\"dataframe\">\n",
       "  <thead>\n",
       "    <tr style=\"text-align: right;\">\n",
       "      <th></th>\n",
       "      <th>title</th>\n",
       "      <th>tweet</th>\n",
       "      <th>trigger_scene</th>\n",
       "      <th>cleaned_text</th>\n",
       "      <th>stemmed_text</th>\n",
       "      <th>lemmatized_text</th>\n",
       "    </tr>\n",
       "  </thead>\n",
       "  <tbody>\n",
       "    <tr>\n",
       "      <th>0</th>\n",
       "      <td>spiderman_far_from_home</td>\n",
       "      <td>⠀⠀ ❝You don't want any part in this...❞\\n⠀⠀ ⠀❧...</td>\n",
       "      <td>False</td>\n",
       "      <td>you dont want any part in this\\n q b as ms \\n ...</td>\n",
       "      <td>you dont want ani part in thi q b as ms spider...</td>\n",
       "      <td>you dont want any part in this q b a m spiderm...</td>\n",
       "    </tr>\n",
       "    <tr>\n",
       "      <th>1</th>\n",
       "      <td>spiderman_far_from_home</td>\n",
       "      <td>Trigger warning for all photographers before s...</td>\n",
       "      <td>False</td>\n",
       "      <td>trigger warning for all photographers before s...</td>\n",
       "      <td>trigger warn for all photograph befor see spid...</td>\n",
       "      <td>trigger warning for all photographer before se...</td>\n",
       "    </tr>\n",
       "    <tr>\n",
       "      <th>2</th>\n",
       "      <td>spiderman_far_from_home</td>\n",
       "      <td>so i just finished watching spiderman far from...</td>\n",
       "      <td>False</td>\n",
       "      <td>so i just finished watching spiderman far from...</td>\n",
       "      <td>so i just finish watch spiderman far from home...</td>\n",
       "      <td>so i just finished watching spiderman far from...</td>\n",
       "    </tr>\n",
       "    <tr>\n",
       "      <th>3</th>\n",
       "      <td>spiderman_far_from_home</td>\n",
       "      <td>Spiderman: Far From Home was a gaslighting tri...</td>\n",
       "      <td>False</td>\n",
       "      <td>spiderman far from home was a gaslighting trig...</td>\n",
       "      <td>spiderman far from home wa a gaslight trigger ...</td>\n",
       "      <td>spiderman far from home wa a gaslighting trigg...</td>\n",
       "    </tr>\n",
       "    <tr>\n",
       "      <th>4</th>\n",
       "      <td>spiderman_far_from_home</td>\n",
       "      <td>it trigger me every time there's a spiderman f...</td>\n",
       "      <td>False</td>\n",
       "      <td>it trigger me every time theres a spiderman fa...</td>\n",
       "      <td>it trigger me everi time there a spiderman far...</td>\n",
       "      <td>it trigger me every time there a spiderman far...</td>\n",
       "    </tr>\n",
       "  </tbody>\n",
       "</table>\n",
       "</div>"
      ],
      "text/plain": [
       "                     title                                              tweet  \\\n",
       "0  spiderman_far_from_home  ⠀⠀ ❝You don't want any part in this...❞\\n⠀⠀ ⠀❧...   \n",
       "1  spiderman_far_from_home  Trigger warning for all photographers before s...   \n",
       "2  spiderman_far_from_home  so i just finished watching spiderman far from...   \n",
       "3  spiderman_far_from_home  Spiderman: Far From Home was a gaslighting tri...   \n",
       "4  spiderman_far_from_home  it trigger me every time there's a spiderman f...   \n",
       "\n",
       "   trigger_scene                                       cleaned_text  \\\n",
       "0          False  you dont want any part in this\\n q b as ms \\n ...   \n",
       "1          False  trigger warning for all photographers before s...   \n",
       "2          False  so i just finished watching spiderman far from...   \n",
       "3          False  spiderman far from home was a gaslighting trig...   \n",
       "4          False  it trigger me every time theres a spiderman fa...   \n",
       "\n",
       "                                        stemmed_text  \\\n",
       "0  you dont want ani part in thi q b as ms spider...   \n",
       "1  trigger warn for all photograph befor see spid...   \n",
       "2  so i just finish watch spiderman far from home...   \n",
       "3  spiderman far from home wa a gaslight trigger ...   \n",
       "4  it trigger me everi time there a spiderman far...   \n",
       "\n",
       "                                     lemmatized_text  \n",
       "0  you dont want any part in this q b a m spiderm...  \n",
       "1  trigger warning for all photographer before se...  \n",
       "2  so i just finished watching spiderman far from...  \n",
       "3  spiderman far from home wa a gaslighting trigg...  \n",
       "4  it trigger me every time there a spiderman far...  "
      ]
     },
     "execution_count": 25,
     "metadata": {},
     "output_type": "execute_result"
    }
   ],
   "source": [
    "def lemmatizer(text):\n",
    "    wnl = nltk.stem.WordNetLemmatizer()\n",
    "    lemmatized_list = [wnl.lemmatize(word) for word in text.split()]\n",
    "    lemmatized_text = ' '.join(lemmatized_list)\n",
    "    return lemmatized_text\n",
    "\n",
    "df['lemmatized_text'] = df.cleaned_text.apply(lemmatizer)\n",
    "df.head()"
   ]
  },
  {
   "cell_type": "code",
   "execution_count": 26,
   "metadata": {},
   "outputs": [
    {
     "data": {
      "text/plain": [
       "the        3353\n",
       "trigger    2890\n",
       "a          2150\n",
       "to         1732\n",
       "and        1489\n",
       "i          1336\n",
       "of         1138\n",
       "it         1026\n",
       "in          968\n",
       "is          890\n",
       "dtype: int64"
      ]
     },
     "execution_count": 26,
     "metadata": {},
     "output_type": "execute_result"
    }
   ],
   "source": [
    "pd.Series(' '.join(df.lemmatized_text).split()).value_counts().head(10)"
   ]
  },
  {
   "cell_type": "markdown",
   "metadata": {},
   "source": [
    "##### Removing stopwords"
   ]
  },
  {
   "cell_type": "code",
   "execution_count": 27,
   "metadata": {},
   "outputs": [],
   "source": [
    "stopwords_to_add = ' '.join(movies).replace('%20', ' ').split()\n",
    "stopwords_to_add[:20]\n",
    "stopwords_to_add.extend(['trigger'])"
   ]
  },
  {
   "cell_type": "code",
   "execution_count": 28,
   "metadata": {},
   "outputs": [
    {
     "name": "stdout",
     "output_type": "stream",
     "text": [
      "False\n"
     ]
    },
    {
     "data": {
      "text/plain": [
       "['i', 'me', 'my', 'myself', 'we', 'our', 'ours', 'ourselves', 'you', \"you're\"]"
      ]
     },
     "execution_count": 28,
     "metadata": {},
     "output_type": "execute_result"
    }
   ],
   "source": [
    "stopword_list = stopwords.words('english')\n",
    "\n",
    "stopword_list.remove('no')\n",
    "stopword_list.remove('not')\n",
    "\n",
    "stopword_list.extend(stopwords_to_add)\n",
    "\n",
    "# stopword_list.remove('warning')\n",
    "stopword_list.remove('suicide')\n",
    "stopword_list.remove('suicides')\n",
    "\n",
    "print('warning' in stopword_list)\n",
    "\n",
    "stopword_list[:10]"
   ]
  },
  {
   "cell_type": "code",
   "execution_count": 29,
   "metadata": {},
   "outputs": [
    {
     "data": {
      "text/html": [
       "<div>\n",
       "<style scoped>\n",
       "    .dataframe tbody tr th:only-of-type {\n",
       "        vertical-align: middle;\n",
       "    }\n",
       "\n",
       "    .dataframe tbody tr th {\n",
       "        vertical-align: top;\n",
       "    }\n",
       "\n",
       "    .dataframe thead th {\n",
       "        text-align: right;\n",
       "    }\n",
       "</style>\n",
       "<table border=\"1\" class=\"dataframe\">\n",
       "  <thead>\n",
       "    <tr style=\"text-align: right;\">\n",
       "      <th></th>\n",
       "      <th>title</th>\n",
       "      <th>tweet</th>\n",
       "      <th>trigger_scene</th>\n",
       "      <th>cleaned_text</th>\n",
       "      <th>stemmed_text</th>\n",
       "      <th>lemmatized_text</th>\n",
       "      <th>lemmatized_no_stopwords</th>\n",
       "    </tr>\n",
       "  </thead>\n",
       "  <tbody>\n",
       "    <tr>\n",
       "      <th>0</th>\n",
       "      <td>spiderman_far_from_home</td>\n",
       "      <td>⠀⠀ ❝You don't want any part in this...❞\\n⠀⠀ ⠀❧...</td>\n",
       "      <td>False</td>\n",
       "      <td>you dont want any part in this\\n q b as ms \\n ...</td>\n",
       "      <td>you dont want ani part in thi q b as ms spider...</td>\n",
       "      <td>you dont want any part in this q b a m spiderm...</td>\n",
       "      <td>want part q b warning selective ship mv theme ...</td>\n",
       "    </tr>\n",
       "    <tr>\n",
       "      <th>1</th>\n",
       "      <td>spiderman_far_from_home</td>\n",
       "      <td>Trigger warning for all photographers before s...</td>\n",
       "      <td>False</td>\n",
       "      <td>trigger warning for all photographers before s...</td>\n",
       "      <td>trigger warn for all photograph befor see spid...</td>\n",
       "      <td>trigger warning for all photographer before se...</td>\n",
       "      <td>warning photographer seeing</td>\n",
       "    </tr>\n",
       "    <tr>\n",
       "      <th>2</th>\n",
       "      <td>spiderman_far_from_home</td>\n",
       "      <td>so i just finished watching spiderman far from...</td>\n",
       "      <td>False</td>\n",
       "      <td>so i just finished watching spiderman far from...</td>\n",
       "      <td>so i just finish watch spiderman far from home...</td>\n",
       "      <td>so i just finished watching spiderman far from...</td>\n",
       "      <td>finished loved im car hearing fever got confus...</td>\n",
       "    </tr>\n",
       "    <tr>\n",
       "      <th>3</th>\n",
       "      <td>spiderman_far_from_home</td>\n",
       "      <td>Spiderman: Far From Home was a gaslighting tri...</td>\n",
       "      <td>False</td>\n",
       "      <td>spiderman far from home was a gaslighting trig...</td>\n",
       "      <td>spiderman far from home wa a gaslight trigger ...</td>\n",
       "      <td>spiderman far from home wa a gaslighting trigg...</td>\n",
       "      <td>wa gaslighting half aint nobody warned</td>\n",
       "    </tr>\n",
       "    <tr>\n",
       "      <th>4</th>\n",
       "      <td>spiderman_far_from_home</td>\n",
       "      <td>it trigger me every time there's a spiderman f...</td>\n",
       "      <td>False</td>\n",
       "      <td>it trigger me every time theres a spiderman fa...</td>\n",
       "      <td>it trigger me everi time there a spiderman far...</td>\n",
       "      <td>it trigger me every time there a spiderman far...</td>\n",
       "      <td>every trailer tv start nowhere playing tom hol...</td>\n",
       "    </tr>\n",
       "  </tbody>\n",
       "</table>\n",
       "</div>"
      ],
      "text/plain": [
       "                     title                                              tweet  \\\n",
       "0  spiderman_far_from_home  ⠀⠀ ❝You don't want any part in this...❞\\n⠀⠀ ⠀❧...   \n",
       "1  spiderman_far_from_home  Trigger warning for all photographers before s...   \n",
       "2  spiderman_far_from_home  so i just finished watching spiderman far from...   \n",
       "3  spiderman_far_from_home  Spiderman: Far From Home was a gaslighting tri...   \n",
       "4  spiderman_far_from_home  it trigger me every time there's a spiderman f...   \n",
       "\n",
       "   trigger_scene                                       cleaned_text  \\\n",
       "0          False  you dont want any part in this\\n q b as ms \\n ...   \n",
       "1          False  trigger warning for all photographers before s...   \n",
       "2          False  so i just finished watching spiderman far from...   \n",
       "3          False  spiderman far from home was a gaslighting trig...   \n",
       "4          False  it trigger me every time theres a spiderman fa...   \n",
       "\n",
       "                                        stemmed_text  \\\n",
       "0  you dont want ani part in thi q b as ms spider...   \n",
       "1  trigger warn for all photograph befor see spid...   \n",
       "2  so i just finish watch spiderman far from home...   \n",
       "3  spiderman far from home wa a gaslight trigger ...   \n",
       "4  it trigger me everi time there a spiderman far...   \n",
       "\n",
       "                                     lemmatized_text  \\\n",
       "0  you dont want any part in this q b a m spiderm...   \n",
       "1  trigger warning for all photographer before se...   \n",
       "2  so i just finished watching spiderman far from...   \n",
       "3  spiderman far from home wa a gaslighting trigg...   \n",
       "4  it trigger me every time there a spiderman far...   \n",
       "\n",
       "                             lemmatized_no_stopwords  \n",
       "0  want part q b warning selective ship mv theme ...  \n",
       "1                        warning photographer seeing  \n",
       "2  finished loved im car hearing fever got confus...  \n",
       "3             wa gaslighting half aint nobody warned  \n",
       "4  every trailer tv start nowhere playing tom hol...  "
      ]
     },
     "execution_count": 29,
     "metadata": {},
     "output_type": "execute_result"
    }
   ],
   "source": [
    "def remove_stopwords(text):\n",
    "    words = text.split()\n",
    "    filtered_words = [w for w in words if w not in stopword_list]\n",
    "    text_without_stopwords = ' '.join(filtered_words)\n",
    "    return text_without_stopwords\n",
    "\n",
    "df['lemmatized_no_stopwords'] = df.lemmatized_text.apply(remove_stopwords)\n",
    "df.head()"
   ]
  },
  {
   "cell_type": "code",
   "execution_count": 30,
   "metadata": {},
   "outputs": [
    {
     "data": {
      "text/plain": [
       "warning    443\n",
       "wa         381\n",
       "like       307\n",
       "movie      276\n",
       "pull       252\n",
       "dtype: int64"
      ]
     },
     "execution_count": 30,
     "metadata": {},
     "output_type": "execute_result"
    }
   ],
   "source": [
    "pd.Series(' '.join(df.lemmatized_no_stopwords).split()).value_counts().head()"
   ]
  },
  {
   "cell_type": "code",
   "execution_count": 31,
   "metadata": {},
   "outputs": [
    {
     "data": {
      "text/html": [
       "<div>\n",
       "<style scoped>\n",
       "    .dataframe tbody tr th:only-of-type {\n",
       "        vertical-align: middle;\n",
       "    }\n",
       "\n",
       "    .dataframe tbody tr th {\n",
       "        vertical-align: top;\n",
       "    }\n",
       "\n",
       "    .dataframe thead th {\n",
       "        text-align: right;\n",
       "    }\n",
       "</style>\n",
       "<table border=\"1\" class=\"dataframe\">\n",
       "  <thead>\n",
       "    <tr style=\"text-align: right;\">\n",
       "      <th></th>\n",
       "      <th>title</th>\n",
       "      <th>tweet</th>\n",
       "      <th>trigger_scene</th>\n",
       "      <th>cleaned_text</th>\n",
       "      <th>stemmed_text</th>\n",
       "      <th>lemmatized_text</th>\n",
       "      <th>lemmatized_no_stopwords</th>\n",
       "      <th>stemmed_no_stopwords</th>\n",
       "    </tr>\n",
       "  </thead>\n",
       "  <tbody>\n",
       "    <tr>\n",
       "      <th>0</th>\n",
       "      <td>spiderman_far_from_home</td>\n",
       "      <td>⠀⠀ ❝You don't want any part in this...❞\\n⠀⠀ ⠀❧...</td>\n",
       "      <td>False</td>\n",
       "      <td>you dont want any part in this\\n q b as ms \\n ...</td>\n",
       "      <td>you dont want ani part in thi q b as ms spider...</td>\n",
       "      <td>you dont want any part in this q b a m spiderm...</td>\n",
       "      <td>want part q b warning selective ship mv theme ...</td>\n",
       "      <td>want ani part thi q b ms warn select ship ms m...</td>\n",
       "    </tr>\n",
       "    <tr>\n",
       "      <th>1</th>\n",
       "      <td>spiderman_far_from_home</td>\n",
       "      <td>Trigger warning for all photographers before s...</td>\n",
       "      <td>False</td>\n",
       "      <td>trigger warning for all photographers before s...</td>\n",
       "      <td>trigger warn for all photograph befor see spid...</td>\n",
       "      <td>trigger warning for all photographer before se...</td>\n",
       "      <td>warning photographer seeing</td>\n",
       "      <td>warn photograph befor see</td>\n",
       "    </tr>\n",
       "    <tr>\n",
       "      <th>2</th>\n",
       "      <td>spiderman_far_from_home</td>\n",
       "      <td>so i just finished watching spiderman far from...</td>\n",
       "      <td>False</td>\n",
       "      <td>so i just finished watching spiderman far from...</td>\n",
       "      <td>so i just finish watch spiderman far from home...</td>\n",
       "      <td>so i just finished watching spiderman far from...</td>\n",
       "      <td>finished loved im car hearing fever got confus...</td>\n",
       "      <td>finish watch im car hear fever got confus bc t...</td>\n",
       "    </tr>\n",
       "    <tr>\n",
       "      <th>3</th>\n",
       "      <td>spiderman_far_from_home</td>\n",
       "      <td>Spiderman: Far From Home was a gaslighting tri...</td>\n",
       "      <td>False</td>\n",
       "      <td>spiderman far from home was a gaslighting trig...</td>\n",
       "      <td>spiderman far from home wa a gaslight trigger ...</td>\n",
       "      <td>spiderman far from home wa a gaslighting trigg...</td>\n",
       "      <td>wa gaslighting half aint nobody warned</td>\n",
       "      <td>wa gaslight half aint nobodi warn</td>\n",
       "    </tr>\n",
       "    <tr>\n",
       "      <th>4</th>\n",
       "      <td>spiderman_far_from_home</td>\n",
       "      <td>it trigger me every time there's a spiderman f...</td>\n",
       "      <td>False</td>\n",
       "      <td>it trigger me every time theres a spiderman fa...</td>\n",
       "      <td>it trigger me everi time there a spiderman far...</td>\n",
       "      <td>it trigger me every time there a spiderman far...</td>\n",
       "      <td>every trailer tv start nowhere playing tom hol...</td>\n",
       "      <td>everi trailer tv start nowher tom holland cri ...</td>\n",
       "    </tr>\n",
       "  </tbody>\n",
       "</table>\n",
       "</div>"
      ],
      "text/plain": [
       "                     title                                              tweet  \\\n",
       "0  spiderman_far_from_home  ⠀⠀ ❝You don't want any part in this...❞\\n⠀⠀ ⠀❧...   \n",
       "1  spiderman_far_from_home  Trigger warning for all photographers before s...   \n",
       "2  spiderman_far_from_home  so i just finished watching spiderman far from...   \n",
       "3  spiderman_far_from_home  Spiderman: Far From Home was a gaslighting tri...   \n",
       "4  spiderman_far_from_home  it trigger me every time there's a spiderman f...   \n",
       "\n",
       "   trigger_scene                                       cleaned_text  \\\n",
       "0          False  you dont want any part in this\\n q b as ms \\n ...   \n",
       "1          False  trigger warning for all photographers before s...   \n",
       "2          False  so i just finished watching spiderman far from...   \n",
       "3          False  spiderman far from home was a gaslighting trig...   \n",
       "4          False  it trigger me every time theres a spiderman fa...   \n",
       "\n",
       "                                        stemmed_text  \\\n",
       "0  you dont want ani part in thi q b as ms spider...   \n",
       "1  trigger warn for all photograph befor see spid...   \n",
       "2  so i just finish watch spiderman far from home...   \n",
       "3  spiderman far from home wa a gaslight trigger ...   \n",
       "4  it trigger me everi time there a spiderman far...   \n",
       "\n",
       "                                     lemmatized_text  \\\n",
       "0  you dont want any part in this q b a m spiderm...   \n",
       "1  trigger warning for all photographer before se...   \n",
       "2  so i just finished watching spiderman far from...   \n",
       "3  spiderman far from home wa a gaslighting trigg...   \n",
       "4  it trigger me every time there a spiderman far...   \n",
       "\n",
       "                             lemmatized_no_stopwords  \\\n",
       "0  want part q b warning selective ship mv theme ...   \n",
       "1                        warning photographer seeing   \n",
       "2  finished loved im car hearing fever got confus...   \n",
       "3             wa gaslighting half aint nobody warned   \n",
       "4  every trailer tv start nowhere playing tom hol...   \n",
       "\n",
       "                                stemmed_no_stopwords  \n",
       "0  want ani part thi q b ms warn select ship ms m...  \n",
       "1                          warn photograph befor see  \n",
       "2  finish watch im car hear fever got confus bc t...  \n",
       "3                  wa gaslight half aint nobodi warn  \n",
       "4  everi trailer tv start nowher tom holland cri ...  "
      ]
     },
     "execution_count": 31,
     "metadata": {},
     "output_type": "execute_result"
    }
   ],
   "source": [
    "df['stemmed_no_stopwords'] = df.stemmed_text.apply(remove_stopwords)\n",
    "df.head()"
   ]
  },
  {
   "cell_type": "code",
   "execution_count": 32,
   "metadata": {},
   "outputs": [
    {
     "data": {
      "text/plain": [
       "warn    466\n",
       "thi     434\n",
       "pull    428\n",
       "wa      381\n",
       "like    325\n",
       "dtype: int64"
      ]
     },
     "execution_count": 32,
     "metadata": {},
     "output_type": "execute_result"
    }
   ],
   "source": [
    "pd.Series(' '.join(df.stemmed_no_stopwords).split()).value_counts().head()"
   ]
  },
  {
   "cell_type": "markdown",
   "metadata": {},
   "source": [
    "### Data Exploration"
   ]
  },
  {
   "cell_type": "markdown",
   "metadata": {},
   "source": [
    "##### How are the classes split up?"
   ]
  },
  {
   "cell_type": "code",
   "execution_count": 33,
   "metadata": {},
   "outputs": [
    {
     "data": {
      "text/html": [
       "<div>\n",
       "<style scoped>\n",
       "    .dataframe tbody tr th:only-of-type {\n",
       "        vertical-align: middle;\n",
       "    }\n",
       "\n",
       "    .dataframe tbody tr th {\n",
       "        vertical-align: top;\n",
       "    }\n",
       "\n",
       "    .dataframe thead th {\n",
       "        text-align: right;\n",
       "    }\n",
       "</style>\n",
       "<table border=\"1\" class=\"dataframe\">\n",
       "  <thead>\n",
       "    <tr style=\"text-align: right;\">\n",
       "      <th></th>\n",
       "      <th>n</th>\n",
       "      <th>proportion</th>\n",
       "    </tr>\n",
       "  </thead>\n",
       "  <tbody>\n",
       "    <tr>\n",
       "      <th>True</th>\n",
       "      <td>1683</td>\n",
       "      <td>0.568773</td>\n",
       "    </tr>\n",
       "    <tr>\n",
       "      <th>False</th>\n",
       "      <td>1276</td>\n",
       "      <td>0.431227</td>\n",
       "    </tr>\n",
       "  </tbody>\n",
       "</table>\n",
       "</div>"
      ],
      "text/plain": [
       "          n  proportion\n",
       "True   1683    0.568773\n",
       "False  1276    0.431227"
      ]
     },
     "execution_count": 33,
     "metadata": {},
     "output_type": "execute_result"
    }
   ],
   "source": [
    "labels = pd.concat([df.trigger_scene.value_counts(), df.trigger_scene.value_counts(normalize=True)], axis=1)\n",
    "labels.columns = ['n', 'proportion']\n",
    "labels"
   ]
  },
  {
   "cell_type": "markdown",
   "metadata": {},
   "source": [
    "##### Exploring frequency of words based on classification."
   ]
  },
  {
   "cell_type": "code",
   "execution_count": 34,
   "metadata": {},
   "outputs": [],
   "source": [
    "trigger_scene_words = ' '.join(df[df.trigger_scene == True].lemmatized_no_stopwords)\n",
    "no_trigger_scene_words = ' '.join(df[df.trigger_scene == False].lemmatized_no_stopwords)\n",
    "all_words = ' '.join(df.lemmatized_no_stopwords)"
   ]
  },
  {
   "cell_type": "code",
   "execution_count": 35,
   "metadata": {},
   "outputs": [],
   "source": [
    "trigger_scene_freq = pd.Series(trigger_scene_words.split()).value_counts()\n",
    "no_trigger_scene_freq = pd.Series(no_trigger_scene_words.split()).value_counts()\n",
    "all_freq = pd.Series(all_words.split()).value_counts()"
   ]
  },
  {
   "cell_type": "code",
   "execution_count": 36,
   "metadata": {},
   "outputs": [
    {
     "data": {
      "text/plain": [
       "warning    247\n",
       "wa         179\n",
       "like       165\n",
       "pull       150\n",
       "movie      132\n",
       "dtype: int64"
      ]
     },
     "execution_count": 36,
     "metadata": {},
     "output_type": "execute_result"
    }
   ],
   "source": [
    "trigger_scene_freq.head()"
   ]
  },
  {
   "cell_type": "markdown",
   "metadata": {},
   "source": [
    "##### Combining frequency Series into one DataFrame."
   ]
  },
  {
   "cell_type": "code",
   "execution_count": 37,
   "metadata": {},
   "outputs": [
    {
     "data": {
      "text/html": [
       "<div>\n",
       "<style scoped>\n",
       "    .dataframe tbody tr th:only-of-type {\n",
       "        vertical-align: middle;\n",
       "    }\n",
       "\n",
       "    .dataframe tbody tr th {\n",
       "        vertical-align: top;\n",
       "    }\n",
       "\n",
       "    .dataframe thead th {\n",
       "        text-align: right;\n",
       "    }\n",
       "</style>\n",
       "<table border=\"1\" class=\"dataframe\">\n",
       "  <thead>\n",
       "    <tr style=\"text-align: right;\">\n",
       "      <th></th>\n",
       "      <th>all</th>\n",
       "      <th>trigger</th>\n",
       "      <th>no_trigger</th>\n",
       "    </tr>\n",
       "  </thead>\n",
       "  <tbody>\n",
       "    <tr>\n",
       "      <th>0</th>\n",
       "      <td>3</td>\n",
       "      <td>2</td>\n",
       "      <td>1</td>\n",
       "    </tr>\n",
       "    <tr>\n",
       "      <th>007</th>\n",
       "      <td>3</td>\n",
       "      <td>2</td>\n",
       "      <td>1</td>\n",
       "    </tr>\n",
       "    <tr>\n",
       "      <th>00s</th>\n",
       "      <td>1</td>\n",
       "      <td>0</td>\n",
       "      <td>1</td>\n",
       "    </tr>\n",
       "    <tr>\n",
       "      <th>01423</th>\n",
       "      <td>1</td>\n",
       "      <td>1</td>\n",
       "      <td>0</td>\n",
       "    </tr>\n",
       "    <tr>\n",
       "      <th>02</th>\n",
       "      <td>1</td>\n",
       "      <td>1</td>\n",
       "      <td>0</td>\n",
       "    </tr>\n",
       "  </tbody>\n",
       "</table>\n",
       "</div>"
      ],
      "text/plain": [
       "       all  trigger  no_trigger\n",
       "0        3        2           1\n",
       "007      3        2           1\n",
       "00s      1        0           1\n",
       "01423    1        1           0\n",
       "02       1        1           0"
      ]
     },
     "execution_count": 37,
     "metadata": {},
     "output_type": "execute_result"
    }
   ],
   "source": [
    "word_counts = (pd.concat([all_freq, trigger_scene_freq, no_trigger_scene_freq], axis=1, sort=True)\n",
    " .set_axis(['all', 'trigger', 'no_trigger'], axis=1, inplace=False)\n",
    " .fillna(0)\n",
    " .astype('int'))\n",
    "\n",
    "word_counts.head()"
   ]
  },
  {
   "cell_type": "markdown",
   "metadata": {},
   "source": [
    "##### Exploring the frequencies dataframe."
   ]
  },
  {
   "cell_type": "code",
   "execution_count": 38,
   "metadata": {},
   "outputs": [
    {
     "data": {
      "text/html": [
       "<div>\n",
       "<style scoped>\n",
       "    .dataframe tbody tr th:only-of-type {\n",
       "        vertical-align: middle;\n",
       "    }\n",
       "\n",
       "    .dataframe tbody tr th {\n",
       "        vertical-align: top;\n",
       "    }\n",
       "\n",
       "    .dataframe thead th {\n",
       "        text-align: right;\n",
       "    }\n",
       "</style>\n",
       "<table border=\"1\" class=\"dataframe\">\n",
       "  <thead>\n",
       "    <tr style=\"text-align: right;\">\n",
       "      <th></th>\n",
       "      <th>all</th>\n",
       "      <th>trigger</th>\n",
       "      <th>no_trigger</th>\n",
       "    </tr>\n",
       "  </thead>\n",
       "  <tbody>\n",
       "    <tr>\n",
       "      <th>warning</th>\n",
       "      <td>443</td>\n",
       "      <td>247</td>\n",
       "      <td>196</td>\n",
       "    </tr>\n",
       "    <tr>\n",
       "      <th>wa</th>\n",
       "      <td>381</td>\n",
       "      <td>179</td>\n",
       "      <td>202</td>\n",
       "    </tr>\n",
       "    <tr>\n",
       "      <th>like</th>\n",
       "      <td>307</td>\n",
       "      <td>165</td>\n",
       "      <td>142</td>\n",
       "    </tr>\n",
       "    <tr>\n",
       "      <th>movie</th>\n",
       "      <td>276</td>\n",
       "      <td>132</td>\n",
       "      <td>144</td>\n",
       "    </tr>\n",
       "    <tr>\n",
       "      <th>pull</th>\n",
       "      <td>252</td>\n",
       "      <td>150</td>\n",
       "      <td>102</td>\n",
       "    </tr>\n",
       "    <tr>\n",
       "      <th>im</th>\n",
       "      <td>219</td>\n",
       "      <td>118</td>\n",
       "      <td>101</td>\n",
       "    </tr>\n",
       "    <tr>\n",
       "      <th>ha</th>\n",
       "      <td>160</td>\n",
       "      <td>100</td>\n",
       "      <td>60</td>\n",
       "    </tr>\n",
       "    <tr>\n",
       "      <th>would</th>\n",
       "      <td>141</td>\n",
       "      <td>93</td>\n",
       "      <td>48</td>\n",
       "    </tr>\n",
       "    <tr>\n",
       "      <th>no</th>\n",
       "      <td>140</td>\n",
       "      <td>81</td>\n",
       "      <td>59</td>\n",
       "    </tr>\n",
       "    <tr>\n",
       "      <th>u</th>\n",
       "      <td>139</td>\n",
       "      <td>70</td>\n",
       "      <td>69</td>\n",
       "    </tr>\n",
       "  </tbody>\n",
       "</table>\n",
       "</div>"
      ],
      "text/plain": [
       "         all  trigger  no_trigger\n",
       "warning  443      247         196\n",
       "wa       381      179         202\n",
       "like     307      165         142\n",
       "movie    276      132         144\n",
       "pull     252      150         102\n",
       "im       219      118         101\n",
       "ha       160      100          60\n",
       "would    141       93          48\n",
       "no       140       81          59\n",
       "u        139       70          69"
      ]
     },
     "execution_count": 38,
     "metadata": {},
     "output_type": "execute_result"
    }
   ],
   "source": [
    "word_counts.sort_values(by='all', ascending=False).head(10)"
   ]
  },
  {
   "cell_type": "markdown",
   "metadata": {},
   "source": [
    "'Trigger' is most popular word since it is included in the search that is done when scraping the tweets. 'Warning' is second most popular, with the pupularity rank being slightly different for trigger vs. no trigger. 'Movie' can probably be removed.\n",
    "\n",
    "##### Checking to see if there are any words that are unique to movies with trigger scenes or not."
   ]
  },
  {
   "cell_type": "code",
   "execution_count": 39,
   "metadata": {},
   "outputs": [
    {
     "data": {
      "text/html": [
       "<div>\n",
       "<style scoped>\n",
       "    .dataframe tbody tr th:only-of-type {\n",
       "        vertical-align: middle;\n",
       "    }\n",
       "\n",
       "    .dataframe tbody tr th {\n",
       "        vertical-align: top;\n",
       "    }\n",
       "\n",
       "    .dataframe thead th {\n",
       "        text-align: right;\n",
       "    }\n",
       "</style>\n",
       "<table border=\"1\" class=\"dataframe\">\n",
       "  <thead>\n",
       "    <tr style=\"text-align: right;\">\n",
       "      <th></th>\n",
       "      <th>all</th>\n",
       "      <th>trigger</th>\n",
       "      <th>no_trigger</th>\n",
       "    </tr>\n",
       "  </thead>\n",
       "  <tbody>\n",
       "    <tr>\n",
       "      <th>perk</th>\n",
       "      <td>22</td>\n",
       "      <td>22</td>\n",
       "      <td>0</td>\n",
       "    </tr>\n",
       "    <tr>\n",
       "      <th>horn</th>\n",
       "      <td>20</td>\n",
       "      <td>20</td>\n",
       "      <td>0</td>\n",
       "    </tr>\n",
       "    <tr>\n",
       "      <th>small</th>\n",
       "      <td>15</td>\n",
       "      <td>15</td>\n",
       "      <td>0</td>\n",
       "    </tr>\n",
       "    <tr>\n",
       "      <th>cosmic</th>\n",
       "      <td>12</td>\n",
       "      <td>12</td>\n",
       "      <td>0</td>\n",
       "    </tr>\n",
       "    <tr>\n",
       "      <th>thomas</th>\n",
       "      <td>12</td>\n",
       "      <td>12</td>\n",
       "      <td>0</td>\n",
       "    </tr>\n",
       "    <tr>\n",
       "      <th>firework</th>\n",
       "      <td>11</td>\n",
       "      <td>11</td>\n",
       "      <td>0</td>\n",
       "    </tr>\n",
       "    <tr>\n",
       "      <th>pound</th>\n",
       "      <td>10</td>\n",
       "      <td>10</td>\n",
       "      <td>0</td>\n",
       "    </tr>\n",
       "    <tr>\n",
       "      <th>poet</th>\n",
       "      <td>10</td>\n",
       "      <td>10</td>\n",
       "      <td>0</td>\n",
       "    </tr>\n",
       "    <tr>\n",
       "      <th>walking</th>\n",
       "      <td>9</td>\n",
       "      <td>9</td>\n",
       "      <td>0</td>\n",
       "    </tr>\n",
       "    <tr>\n",
       "      <th>machine</th>\n",
       "      <td>9</td>\n",
       "      <td>9</td>\n",
       "      <td>0</td>\n",
       "    </tr>\n",
       "  </tbody>\n",
       "</table>\n",
       "</div>"
      ],
      "text/plain": [
       "          all  trigger  no_trigger\n",
       "perk       22       22           0\n",
       "horn       20       20           0\n",
       "small      15       15           0\n",
       "cosmic     12       12           0\n",
       "thomas     12       12           0\n",
       "firework   11       11           0\n",
       "pound      10       10           0\n",
       "poet       10       10           0\n",
       "walking     9        9           0\n",
       "machine     9        9           0"
      ]
     },
     "execution_count": 39,
     "metadata": {},
     "output_type": "execute_result"
    }
   ],
   "source": [
    "word_counts[word_counts.no_trigger == 0].sort_values(by='trigger', ascending=False).head(10)"
   ]
  },
  {
   "cell_type": "code",
   "execution_count": 40,
   "metadata": {},
   "outputs": [
    {
     "data": {
      "text/html": [
       "<div>\n",
       "<style scoped>\n",
       "    .dataframe tbody tr th:only-of-type {\n",
       "        vertical-align: middle;\n",
       "    }\n",
       "\n",
       "    .dataframe tbody tr th {\n",
       "        vertical-align: top;\n",
       "    }\n",
       "\n",
       "    .dataframe thead th {\n",
       "        text-align: right;\n",
       "    }\n",
       "</style>\n",
       "<table border=\"1\" class=\"dataframe\">\n",
       "  <thead>\n",
       "    <tr style=\"text-align: right;\">\n",
       "      <th></th>\n",
       "      <th>all</th>\n",
       "      <th>trigger</th>\n",
       "      <th>no_trigger</th>\n",
       "    </tr>\n",
       "  </thead>\n",
       "  <tbody>\n",
       "    <tr>\n",
       "      <th>ranger</th>\n",
       "      <td>23</td>\n",
       "      <td>0</td>\n",
       "      <td>23</td>\n",
       "    </tr>\n",
       "    <tr>\n",
       "      <th>asian</th>\n",
       "      <td>21</td>\n",
       "      <td>0</td>\n",
       "      <td>21</td>\n",
       "    </tr>\n",
       "    <tr>\n",
       "      <th>knife</th>\n",
       "      <td>14</td>\n",
       "      <td>0</td>\n",
       "      <td>14</td>\n",
       "    </tr>\n",
       "    <tr>\n",
       "      <th>survival</th>\n",
       "      <td>11</td>\n",
       "      <td>0</td>\n",
       "      <td>11</td>\n",
       "    </tr>\n",
       "    <tr>\n",
       "      <th>gamepad</th>\n",
       "      <td>11</td>\n",
       "      <td>0</td>\n",
       "      <td>11</td>\n",
       "    </tr>\n",
       "    <tr>\n",
       "      <th>android</th>\n",
       "      <td>10</td>\n",
       "      <td>0</td>\n",
       "      <td>10</td>\n",
       "    </tr>\n",
       "    <tr>\n",
       "      <th>tinder</th>\n",
       "      <td>9</td>\n",
       "      <td>0</td>\n",
       "      <td>9</td>\n",
       "    </tr>\n",
       "    <tr>\n",
       "      <th>joystick</th>\n",
       "      <td>8</td>\n",
       "      <td>0</td>\n",
       "      <td>8</td>\n",
       "    </tr>\n",
       "    <tr>\n",
       "      <th>mufasa</th>\n",
       "      <td>8</td>\n",
       "      <td>0</td>\n",
       "      <td>8</td>\n",
       "    </tr>\n",
       "    <tr>\n",
       "      <th>ariel</th>\n",
       "      <td>8</td>\n",
       "      <td>0</td>\n",
       "      <td>8</td>\n",
       "    </tr>\n",
       "  </tbody>\n",
       "</table>\n",
       "</div>"
      ],
      "text/plain": [
       "          all  trigger  no_trigger\n",
       "ranger     23        0          23\n",
       "asian      21        0          21\n",
       "knife      14        0          14\n",
       "survival   11        0          11\n",
       "gamepad    11        0          11\n",
       "android    10        0          10\n",
       "tinder      9        0           9\n",
       "joystick    8        0           8\n",
       "mufasa      8        0           8\n",
       "ariel       8        0           8"
      ]
     },
     "execution_count": 40,
     "metadata": {},
     "output_type": "execute_result"
    }
   ],
   "source": [
    "word_counts[word_counts.trigger == 0].sort_values(by='no_trigger', ascending=False).head(10)"
   ]
  },
  {
   "cell_type": "markdown",
   "metadata": {},
   "source": [
    "##### Visualizing the proportion of classes in the 20 most popular words."
   ]
  },
  {
   "cell_type": "code",
   "execution_count": 41,
   "metadata": {},
   "outputs": [
    {
     "data": {
      "text/plain": [
       "Text(0.5, 1.0, 'Proportion of Trigger vs No Trigger for the 20 most common words')"
      ]
     },
     "execution_count": 41,
     "metadata": {},
     "output_type": "execute_result"
    },
    {
     "data": {
      "image/png": "[encoded data removed]",
      "text/plain": [
       "<Figure size 432x288 with 1 Axes>"
      ]
     },
     "metadata": {
      "needs_background": "light"
     },
     "output_type": "display_data"
    }
   ],
   "source": [
    "# figure out the percentage of spam vs ham\n",
    "(word_counts\n",
    " .assign(p_trigger=word_counts.trigger / word_counts['all'],\n",
    "         p_no_trigger=word_counts.no_trigger / word_counts['all'])\n",
    " .sort_values(by='all')\n",
    " [['p_trigger', 'p_no_trigger']]\n",
    " .tail(20)\n",
    " .sort_values('p_no_trigger')\n",
    " .plot.barh(stacked=True))\n",
    "\n",
    "plt.vlines(x=0.5, ymin=-1, ymax=20)\n",
    "plt.title('Proportion of Trigger vs No Trigger for the 20 most common words')"
   ]
  },
  {
   "cell_type": "markdown",
   "metadata": {},
   "source": [
    "##### Ratio of frequencies for trigger to no trigger."
   ]
  },
  {
   "cell_type": "code",
   "execution_count": 42,
   "metadata": {},
   "outputs": [
    {
     "data": {
      "text/html": [
       "<div>\n",
       "<style scoped>\n",
       "    .dataframe tbody tr th:only-of-type {\n",
       "        vertical-align: middle;\n",
       "    }\n",
       "\n",
       "    .dataframe tbody tr th {\n",
       "        vertical-align: top;\n",
       "    }\n",
       "\n",
       "    .dataframe thead th {\n",
       "        text-align: right;\n",
       "    }\n",
       "</style>\n",
       "<table border=\"1\" class=\"dataframe\">\n",
       "  <thead>\n",
       "    <tr style=\"text-align: right;\">\n",
       "      <th></th>\n",
       "      <th>all</th>\n",
       "      <th>trigger</th>\n",
       "      <th>no_trigger</th>\n",
       "      <th>ratio</th>\n",
       "    </tr>\n",
       "  </thead>\n",
       "  <tbody>\n",
       "    <tr>\n",
       "      <th>avenger</th>\n",
       "      <td>59</td>\n",
       "      <td>18</td>\n",
       "      <td>41</td>\n",
       "      <td>0.439024</td>\n",
       "    </tr>\n",
       "    <tr>\n",
       "      <th>gonna</th>\n",
       "      <td>57</td>\n",
       "      <td>19</td>\n",
       "      <td>38</td>\n",
       "      <td>0.500000</td>\n",
       "    </tr>\n",
       "    <tr>\n",
       "      <th>review</th>\n",
       "      <td>31</td>\n",
       "      <td>11</td>\n",
       "      <td>20</td>\n",
       "      <td>0.550000</td>\n",
       "    </tr>\n",
       "    <tr>\n",
       "      <th>whole</th>\n",
       "      <td>31</td>\n",
       "      <td>11</td>\n",
       "      <td>20</td>\n",
       "      <td>0.550000</td>\n",
       "    </tr>\n",
       "    <tr>\n",
       "      <th>v</th>\n",
       "      <td>38</td>\n",
       "      <td>14</td>\n",
       "      <td>24</td>\n",
       "      <td>0.583333</td>\n",
       "    </tr>\n",
       "    <tr>\n",
       "      <th>part</th>\n",
       "      <td>46</td>\n",
       "      <td>17</td>\n",
       "      <td>29</td>\n",
       "      <td>0.586207</td>\n",
       "    </tr>\n",
       "    <tr>\n",
       "      <th>fuck</th>\n",
       "      <td>32</td>\n",
       "      <td>12</td>\n",
       "      <td>20</td>\n",
       "      <td>0.600000</td>\n",
       "    </tr>\n",
       "    <tr>\n",
       "      <th>tell</th>\n",
       "      <td>31</td>\n",
       "      <td>12</td>\n",
       "      <td>19</td>\n",
       "      <td>0.631579</td>\n",
       "    </tr>\n",
       "    <tr>\n",
       "      <th>head</th>\n",
       "      <td>59</td>\n",
       "      <td>23</td>\n",
       "      <td>36</td>\n",
       "      <td>0.638889</td>\n",
       "    </tr>\n",
       "    <tr>\n",
       "      <th>fire</th>\n",
       "      <td>28</td>\n",
       "      <td>11</td>\n",
       "      <td>17</td>\n",
       "      <td>0.647059</td>\n",
       "    </tr>\n",
       "  </tbody>\n",
       "</table>\n",
       "</div>"
      ],
      "text/plain": [
       "         all  trigger  no_trigger     ratio\n",
       "avenger   59       18          41  0.439024\n",
       "gonna     57       19          38  0.500000\n",
       "review    31       11          20  0.550000\n",
       "whole     31       11          20  0.550000\n",
       "v         38       14          24  0.583333\n",
       "part      46       17          29  0.586207\n",
       "fuck      32       12          20  0.600000\n",
       "tell      31       12          19  0.631579\n",
       "head      59       23          36  0.638889\n",
       "fire      28       11          17  0.647059"
      ]
     },
     "execution_count": 42,
     "metadata": {},
     "output_type": "execute_result"
    }
   ],
   "source": [
    "(word_counts[(word_counts.trigger > 10) & (word_counts.no_trigger > 10)]\n",
    " .assign(ratio= lambda df: df.trigger / df.no_trigger)).sort_values(by='ratio').head(10)"
   ]
  },
  {
   "cell_type": "markdown",
   "metadata": {},
   "source": [
    "##### Word Cloud visualizations."
   ]
  },
  {
   "cell_type": "code",
   "execution_count": 43,
   "metadata": {},
   "outputs": [
    {
     "data": {
      "image/png": "[encoded data removed]",
      "text/plain": [
       "<Figure size 720x576 with 3 Axes>"
      ]
     },
     "metadata": {
      "needs_background": "light"
     },
     "output_type": "display_data"
    }
   ],
   "source": [
    "all_cloud = WordCloud(background_color='white', height=1000, width=400).generate(all_words)\n",
    "trigger_cloud = WordCloud(background_color='white', height=600, width=800).generate(trigger_scene_words)\n",
    "no_trigger_cloud = WordCloud(background_color='white', height=600, width=800).generate(no_trigger_scene_words)\n",
    "\n",
    "plt.figure(figsize=(10, 8))\n",
    "axs = [plt.axes([0, 0, .5, 1]), plt.axes([.5, .5, .5, .5]), plt.axes([.5, 0, .5, .5])]\n",
    "\n",
    "axs[0].imshow(all_cloud)\n",
    "axs[1].imshow(trigger_cloud)\n",
    "axs[2].imshow(no_trigger_cloud)\n",
    "\n",
    "axs[0].set_title('All Words')\n",
    "axs[1].set_title('Trigger')\n",
    "axs[2].set_title('No Trigger')\n",
    "\n",
    "for ax in axs: ax.axis('off')"
   ]
  },
  {
   "cell_type": "markdown",
   "metadata": {},
   "source": [
    "#### Exploring bigrams.\n",
    "\n",
    "Bigrams for Movies with Trigger Scenes."
   ]
  },
  {
   "cell_type": "code",
   "execution_count": 44,
   "metadata": {},
   "outputs": [
    {
     "data": {
      "text/plain": [
       "<generator object ngrams at 0x000001BED883C4F8>"
      ]
     },
     "execution_count": 44,
     "metadata": {},
     "output_type": "execute_result"
    }
   ],
   "source": [
    "trigger_bigrams = nltk.ngrams(trigger_scene_words.split(), 2)\n",
    "trigger_bigrams"
   ]
  },
  {
   "cell_type": "code",
   "execution_count": 45,
   "metadata": {},
   "outputs": [
    {
     "data": {
      "text/plain": [
       "(feel, like)       13\n",
       "(need, warning)    13\n",
       "(self, harm)       10\n",
       "(look, like)        9\n",
       "(im, gonna)         9\n",
       "dtype: int64"
      ]
     },
     "execution_count": 45,
     "metadata": {},
     "output_type": "execute_result"
    }
   ],
   "source": [
    "top_20_trigger_scene_bigrams = pd.Series(list(trigger_bigrams)).value_counts().head(20)\n",
    "top_20_trigger_scene_bigrams.head()"
   ]
  },
  {
   "cell_type": "markdown",
   "metadata": {},
   "source": [
    "Visualizing Frequencies with a bar plot and a word cloud."
   ]
  },
  {
   "cell_type": "code",
   "execution_count": 46,
   "metadata": {},
   "outputs": [
    {
     "data": {
      "image/png": "[encoded data removed]",
      "text/plain": [
       "<Figure size 864x576 with 1 Axes>"
      ]
     },
     "metadata": {
      "needs_background": "light"
     },
     "output_type": "display_data"
    }
   ],
   "source": [
    "plt.figure(figsize=(12, 8))\n",
    "top_20_trigger_scene_bigrams.sort_values().plot.barh(stacked=True)\n",
    "\n",
    "plt.title('Top 20 Bigrams: Movies with Trigger Scenes')\n",
    "plt.xlabel('# of Occurences')\n",
    "plt.ylabel('Bigram')\n",
    "plt.show()"
   ]
  },
  {
   "cell_type": "code",
   "execution_count": 47,
   "metadata": {
    "scrolled": true
   },
   "outputs": [
    {
     "data": {
      "image/png": "[encoded data removed]",
      "text/plain": [
       "<Figure size 576x288 with 1 Axes>"
      ]
     },
     "metadata": {
      "needs_background": "light"
     },
     "output_type": "display_data"
    }
   ],
   "source": [
    "# We can supply our own values to be used to determine how big the words (or\n",
    "# phrases) should be through the `generate_from_frequencies` method. The\n",
    "# supplied values must be in the form of a dictionary where the keys are the\n",
    "# words (phrases), and the values are numbers that correspond to the sizes.\n",
    "#\n",
    "# We'll convert our series to a dictionary, and convert the tuples that make up\n",
    "# the index into a single string that holds each phrase.\n",
    "\n",
    "\n",
    "data = {k[0] + ' ' + k[1]: v for k, v in top_20_trigger_scene_bigrams.to_dict().items()}\n",
    "img = WordCloud(background_color='white', width=800, height=400).generate_from_frequencies(data)\n",
    "plt.figure(figsize=(8, 4))\n",
    "plt.title('Word Cloud of Bigrams: Movies With Trigger Scenes')\n",
    "plt.imshow(img)\n",
    "plt.axis('off')\n",
    "plt.show()"
   ]
  },
  {
   "cell_type": "markdown",
   "metadata": {},
   "source": [
    "Bigrams for Movies Without Trigger Scenes"
   ]
  },
  {
   "cell_type": "code",
   "execution_count": 48,
   "metadata": {},
   "outputs": [
    {
     "data": {
      "text/plain": [
       "<generator object ngrams at 0x000001BED883CF48>"
      ]
     },
     "execution_count": 48,
     "metadata": {},
     "output_type": "execute_result"
    }
   ],
   "source": [
    "no_trigger_bigrams = nltk.ngrams(no_trigger_scene_words.split(), 2)\n",
    "no_trigger_bigrams"
   ]
  },
  {
   "cell_type": "code",
   "execution_count": 49,
   "metadata": {},
   "outputs": [
    {
     "data": {
      "text/plain": [
       "(gun, head)       23\n",
       "(put, gun)        22\n",
       "(head, pulled)    17\n",
       "(mobile, game)    17\n",
       "(smell, like)     15\n",
       "dtype: int64"
      ]
     },
     "execution_count": 49,
     "metadata": {},
     "output_type": "execute_result"
    }
   ],
   "source": [
    "top_20_no_trigger_scene_bigrams = pd.Series(list(no_trigger_bigrams)).value_counts().head(20)\n",
    "top_20_no_trigger_scene_bigrams.head()"
   ]
  },
  {
   "cell_type": "markdown",
   "metadata": {},
   "source": [
    "Visualizing Frequencies with a bar plot and a word cloud."
   ]
  },
  {
   "cell_type": "code",
   "execution_count": 50,
   "metadata": {},
   "outputs": [
    {
     "data": {
      "image/png": "[encoded data removed]",
      "text/plain": [
       "<Figure size 864x576 with 1 Axes>"
      ]
     },
     "metadata": {
      "needs_background": "light"
     },
     "output_type": "display_data"
    }
   ],
   "source": [
    "plt.figure(figsize=(12, 8))\n",
    "top_20_no_trigger_scene_bigrams.sort_values().plot.barh(stacked=True)\n",
    "\n",
    "plt.title('Top 20 Bigrams: Movies without Trigger Scenes')\n",
    "plt.xlabel('# of Occurences')\n",
    "plt.ylabel('Bigram')\n",
    "plt.show()"
   ]
  },
  {
   "cell_type": "code",
   "execution_count": 51,
   "metadata": {},
   "outputs": [
    {
     "data": {
      "image/png": "[encoded data removed]",
      "text/plain": [
       "<Figure size 576x288 with 1 Axes>"
      ]
     },
     "metadata": {
      "needs_background": "light"
     },
     "output_type": "display_data"
    }
   ],
   "source": [
    "data = {k[0] + ' ' + k[1]: v for k, v in top_20_no_trigger_scene_bigrams.to_dict().items()}\n",
    "img = WordCloud(background_color='white', width=800, height=400).generate_from_frequencies(data)\n",
    "plt.figure(figsize=(8, 4))\n",
    "plt.imshow(img)\n",
    "plt.title('Word Cloud of Bigrams: Movies Without Trigger Scenes')\n",
    "plt.axis('off')\n",
    "plt.show()"
   ]
  },
  {
   "cell_type": "markdown",
   "metadata": {},
   "source": [
    "### Modeling\n",
    "First, we need to do some feature engineering."
   ]
  },
  {
   "cell_type": "markdown",
   "metadata": {},
   "source": [
    "##### Looking at raw counts, frequencies, and augmented frequencies. Term Frequency."
   ]
  },
  {
   "cell_type": "code",
   "execution_count": 52,
   "metadata": {},
   "outputs": [
    {
     "data": {
      "text/html": [
       "<div>\n",
       "<style scoped>\n",
       "    .dataframe tbody tr th:only-of-type {\n",
       "        vertical-align: middle;\n",
       "    }\n",
       "\n",
       "    .dataframe tbody tr th {\n",
       "        vertical-align: top;\n",
       "    }\n",
       "\n",
       "    .dataframe thead th {\n",
       "        text-align: right;\n",
       "    }\n",
       "</style>\n",
       "<table border=\"1\" class=\"dataframe\">\n",
       "  <thead>\n",
       "    <tr style=\"text-align: right;\">\n",
       "      <th></th>\n",
       "      <th>raw_count</th>\n",
       "      <th>frequency</th>\n",
       "      <th>augmented_frequency</th>\n",
       "    </tr>\n",
       "  </thead>\n",
       "  <tbody>\n",
       "    <tr>\n",
       "      <th>warning</th>\n",
       "      <td>247</td>\n",
       "      <td>0.011904</td>\n",
       "      <td>1.000000</td>\n",
       "    </tr>\n",
       "    <tr>\n",
       "      <th>wa</th>\n",
       "      <td>179</td>\n",
       "      <td>0.008627</td>\n",
       "      <td>0.724696</td>\n",
       "    </tr>\n",
       "    <tr>\n",
       "      <th>like</th>\n",
       "      <td>165</td>\n",
       "      <td>0.007952</td>\n",
       "      <td>0.668016</td>\n",
       "    </tr>\n",
       "    <tr>\n",
       "      <th>pull</th>\n",
       "      <td>150</td>\n",
       "      <td>0.007229</td>\n",
       "      <td>0.607287</td>\n",
       "    </tr>\n",
       "    <tr>\n",
       "      <th>movie</th>\n",
       "      <td>132</td>\n",
       "      <td>0.006362</td>\n",
       "      <td>0.534413</td>\n",
       "    </tr>\n",
       "    <tr>\n",
       "      <th>im</th>\n",
       "      <td>118</td>\n",
       "      <td>0.005687</td>\n",
       "      <td>0.477733</td>\n",
       "    </tr>\n",
       "    <tr>\n",
       "      <th>ha</th>\n",
       "      <td>100</td>\n",
       "      <td>0.004820</td>\n",
       "      <td>0.404858</td>\n",
       "    </tr>\n",
       "    <tr>\n",
       "      <th>would</th>\n",
       "      <td>93</td>\n",
       "      <td>0.004482</td>\n",
       "      <td>0.376518</td>\n",
       "    </tr>\n",
       "    <tr>\n",
       "      <th>no</th>\n",
       "      <td>81</td>\n",
       "      <td>0.003904</td>\n",
       "      <td>0.327935</td>\n",
       "    </tr>\n",
       "    <tr>\n",
       "      <th>get</th>\n",
       "      <td>78</td>\n",
       "      <td>0.003759</td>\n",
       "      <td>0.315789</td>\n",
       "    </tr>\n",
       "  </tbody>\n",
       "</table>\n",
       "</div>"
      ],
      "text/plain": [
       "         raw_count  frequency  augmented_frequency\n",
       "warning        247   0.011904             1.000000\n",
       "wa             179   0.008627             0.724696\n",
       "like           165   0.007952             0.668016\n",
       "pull           150   0.007229             0.607287\n",
       "movie          132   0.006362             0.534413\n",
       "im             118   0.005687             0.477733\n",
       "ha             100   0.004820             0.404858\n",
       "would           93   0.004482             0.376518\n",
       "no              81   0.003904             0.327935\n",
       "get             78   0.003759             0.315789"
      ]
     },
     "execution_count": 52,
     "metadata": {},
     "output_type": "execute_result"
    }
   ],
   "source": [
    "(pd.DataFrame({'raw_count':trigger_scene_freq})\n",
    " .assign(frequency= lambda df: df.raw_count / df.raw_count.sum())\n",
    " .assign(augmented_frequency= lambda df: df.frequency / df.frequency.max()).head(10))"
   ]
  },
  {
   "cell_type": "code",
   "execution_count": 53,
   "metadata": {},
   "outputs": [
    {
     "data": {
      "text/html": [
       "<div>\n",
       "<style scoped>\n",
       "    .dataframe tbody tr th:only-of-type {\n",
       "        vertical-align: middle;\n",
       "    }\n",
       "\n",
       "    .dataframe tbody tr th {\n",
       "        vertical-align: top;\n",
       "    }\n",
       "\n",
       "    .dataframe thead th {\n",
       "        text-align: right;\n",
       "    }\n",
       "</style>\n",
       "<table border=\"1\" class=\"dataframe\">\n",
       "  <thead>\n",
       "    <tr style=\"text-align: right;\">\n",
       "      <th></th>\n",
       "      <th>raw_count</th>\n",
       "      <th>frequency</th>\n",
       "      <th>augmented_frequency</th>\n",
       "    </tr>\n",
       "  </thead>\n",
       "  <tbody>\n",
       "    <tr>\n",
       "      <th>wa</th>\n",
       "      <td>202</td>\n",
       "      <td>0.012275</td>\n",
       "      <td>1.000000</td>\n",
       "    </tr>\n",
       "    <tr>\n",
       "      <th>warning</th>\n",
       "      <td>196</td>\n",
       "      <td>0.011911</td>\n",
       "      <td>0.970297</td>\n",
       "    </tr>\n",
       "    <tr>\n",
       "      <th>movie</th>\n",
       "      <td>144</td>\n",
       "      <td>0.008751</td>\n",
       "      <td>0.712871</td>\n",
       "    </tr>\n",
       "    <tr>\n",
       "      <th>like</th>\n",
       "      <td>142</td>\n",
       "      <td>0.008629</td>\n",
       "      <td>0.702970</td>\n",
       "    </tr>\n",
       "    <tr>\n",
       "      <th>pull</th>\n",
       "      <td>102</td>\n",
       "      <td>0.006198</td>\n",
       "      <td>0.504950</td>\n",
       "    </tr>\n",
       "    <tr>\n",
       "      <th>im</th>\n",
       "      <td>101</td>\n",
       "      <td>0.006138</td>\n",
       "      <td>0.500000</td>\n",
       "    </tr>\n",
       "    <tr>\n",
       "      <th>pulled</th>\n",
       "      <td>72</td>\n",
       "      <td>0.004375</td>\n",
       "      <td>0.356436</td>\n",
       "    </tr>\n",
       "    <tr>\n",
       "      <th>u</th>\n",
       "      <td>69</td>\n",
       "      <td>0.004193</td>\n",
       "      <td>0.341584</td>\n",
       "    </tr>\n",
       "    <tr>\n",
       "      <th>new</th>\n",
       "      <td>67</td>\n",
       "      <td>0.004071</td>\n",
       "      <td>0.331683</td>\n",
       "    </tr>\n",
       "    <tr>\n",
       "      <th>know</th>\n",
       "      <td>63</td>\n",
       "      <td>0.003828</td>\n",
       "      <td>0.311881</td>\n",
       "    </tr>\n",
       "  </tbody>\n",
       "</table>\n",
       "</div>"
      ],
      "text/plain": [
       "         raw_count  frequency  augmented_frequency\n",
       "wa             202   0.012275             1.000000\n",
       "warning        196   0.011911             0.970297\n",
       "movie          144   0.008751             0.712871\n",
       "like           142   0.008629             0.702970\n",
       "pull           102   0.006198             0.504950\n",
       "im             101   0.006138             0.500000\n",
       "pulled          72   0.004375             0.356436\n",
       "u               69   0.004193             0.341584\n",
       "new             67   0.004071             0.331683\n",
       "know            63   0.003828             0.311881"
      ]
     },
     "execution_count": 53,
     "metadata": {},
     "output_type": "execute_result"
    }
   ],
   "source": [
    "(pd.DataFrame({'raw_count':no_trigger_scene_freq})\n",
    " .assign(frequency= lambda df: df.raw_count / df.raw_count.sum())\n",
    " .assign(augmented_frequency= lambda df: df.frequency / df.frequency.max()).head(10)).head(10)"
   ]
  },
  {
   "cell_type": "markdown",
   "metadata": {},
   "source": [
    "##### Inverse Document Frequency"
   ]
  },
  {
   "cell_type": "code",
   "execution_count": 54,
   "metadata": {},
   "outputs": [
    {
     "data": {
      "text/html": [
       "<div>\n",
       "<style scoped>\n",
       "    .dataframe tbody tr th:only-of-type {\n",
       "        vertical-align: middle;\n",
       "    }\n",
       "\n",
       "    .dataframe tbody tr th {\n",
       "        vertical-align: top;\n",
       "    }\n",
       "\n",
       "    .dataframe thead th {\n",
       "        text-align: right;\n",
       "    }\n",
       "</style>\n",
       "<table border=\"1\" class=\"dataframe\">\n",
       "  <thead>\n",
       "    <tr style=\"text-align: right;\">\n",
       "      <th></th>\n",
       "      <th>idf</th>\n",
       "    </tr>\n",
       "    <tr>\n",
       "      <th>word</th>\n",
       "      <th></th>\n",
       "    </tr>\n",
       "  </thead>\n",
       "  <tbody>\n",
       "    <tr>\n",
       "      <th>lighthearted</th>\n",
       "      <td>2959.0</td>\n",
       "    </tr>\n",
       "    <tr>\n",
       "      <th>evanescence</th>\n",
       "      <td>2959.0</td>\n",
       "    </tr>\n",
       "    <tr>\n",
       "      <th>extension</th>\n",
       "      <td>2959.0</td>\n",
       "    </tr>\n",
       "    <tr>\n",
       "      <th>13062016</th>\n",
       "      <td>2959.0</td>\n",
       "    </tr>\n",
       "    <tr>\n",
       "      <th>prix</th>\n",
       "      <td>2959.0</td>\n",
       "    </tr>\n",
       "  </tbody>\n",
       "</table>\n",
       "</div>"
      ],
      "text/plain": [
       "                 idf\n",
       "word                \n",
       "lighthearted  2959.0\n",
       "evanescence   2959.0\n",
       "extension     2959.0\n",
       "13062016      2959.0\n",
       "prix          2959.0"
      ]
     },
     "execution_count": 54,
     "metadata": {},
     "output_type": "execute_result"
    }
   ],
   "source": [
    "# A simple way to calculate idf for demonstration. Note that this\n",
    "# function relies on the globally defined documents variable.\n",
    "def idf(word):\n",
    "    n_occurences = sum([1 for tweet in df.lemmatized_no_stopwords if word in tweet])\n",
    "    return df.shape[0] / n_occurences\n",
    "\n",
    "# Get a list of the unique words\n",
    "unique_words = pd.Series(' '.join(df.lemmatized_no_stopwords).split()).unique()\n",
    "\n",
    "# put the unique words into a data frame\n",
    "(pd.DataFrame(dict(word=unique_words))\n",
    " # calculate the idf for each word\n",
    " .assign(idf=lambda df: df.word.apply(idf))\n",
    " # sort the data for presentation purposes\n",
    " .set_index('word')\n",
    " .sort_values(by='idf', ascending=False)\n",
    " .head(5))"
   ]
  },
  {
   "cell_type": "markdown",
   "metadata": {},
   "source": [
    "##### Using scikit learn to calculate TF-IDF.\n",
    "Lemmatized without stopwords."
   ]
  },
  {
   "cell_type": "code",
   "execution_count": 55,
   "metadata": {},
   "outputs": [
    {
     "data": {
      "text/plain": [
       "<2959x10982 sparse matrix of type '<class 'numpy.float64'>'\n",
       "\twith 35186 stored elements in Compressed Sparse Row format>"
      ]
     },
     "execution_count": 55,
     "metadata": {},
     "output_type": "execute_result"
    }
   ],
   "source": [
    "tfidf = TfidfVectorizer()\n",
    "tfidfs = tfidf.fit_transform(df.lemmatized_no_stopwords)\n",
    "tfidfs"
   ]
  },
  {
   "cell_type": "code",
   "execution_count": 56,
   "metadata": {
    "scrolled": true
   },
   "outputs": [
    {
     "data": {
      "text/html": [
       "<div>\n",
       "<style scoped>\n",
       "    .dataframe tbody tr th:only-of-type {\n",
       "        vertical-align: middle;\n",
       "    }\n",
       "\n",
       "    .dataframe tbody tr th {\n",
       "        vertical-align: top;\n",
       "    }\n",
       "\n",
       "    .dataframe thead th {\n",
       "        text-align: right;\n",
       "    }\n",
       "</style>\n",
       "<table border=\"1\" class=\"dataframe\">\n",
       "  <thead>\n",
       "    <tr style=\"text-align: right;\">\n",
       "      <th></th>\n",
       "      <th>007</th>\n",
       "      <th>00s</th>\n",
       "      <th>01423</th>\n",
       "      <th>02</th>\n",
       "      <th>03</th>\n",
       "      <th>0539</th>\n",
       "      <th>06</th>\n",
       "      <th>0806</th>\n",
       "      <th>08230</th>\n",
       "      <th>0987</th>\n",
       "      <th>...</th>\n",
       "      <th>zombie</th>\n",
       "      <th>zone</th>\n",
       "      <th>zooey</th>\n",
       "      <th>zool</th>\n",
       "      <th>zoolander</th>\n",
       "      <th>zootopia</th>\n",
       "      <th>zorx</th>\n",
       "      <th>zowee</th>\n",
       "      <th>zu</th>\n",
       "      <th>zune</th>\n",
       "    </tr>\n",
       "  </thead>\n",
       "  <tbody>\n",
       "    <tr>\n",
       "      <th>0</th>\n",
       "      <td>0.0</td>\n",
       "      <td>0.0</td>\n",
       "      <td>0.0</td>\n",
       "      <td>0.0</td>\n",
       "      <td>0.0</td>\n",
       "      <td>0.0</td>\n",
       "      <td>0.0</td>\n",
       "      <td>0.0</td>\n",
       "      <td>0.0</td>\n",
       "      <td>0.0</td>\n",
       "      <td>...</td>\n",
       "      <td>0.0</td>\n",
       "      <td>0.0</td>\n",
       "      <td>0.0</td>\n",
       "      <td>0.0</td>\n",
       "      <td>0.0</td>\n",
       "      <td>0.0</td>\n",
       "      <td>0.0</td>\n",
       "      <td>0.0</td>\n",
       "      <td>0.0</td>\n",
       "      <td>0.0</td>\n",
       "    </tr>\n",
       "    <tr>\n",
       "      <th>1</th>\n",
       "      <td>0.0</td>\n",
       "      <td>0.0</td>\n",
       "      <td>0.0</td>\n",
       "      <td>0.0</td>\n",
       "      <td>0.0</td>\n",
       "      <td>0.0</td>\n",
       "      <td>0.0</td>\n",
       "      <td>0.0</td>\n",
       "      <td>0.0</td>\n",
       "      <td>0.0</td>\n",
       "      <td>...</td>\n",
       "      <td>0.0</td>\n",
       "      <td>0.0</td>\n",
       "      <td>0.0</td>\n",
       "      <td>0.0</td>\n",
       "      <td>0.0</td>\n",
       "      <td>0.0</td>\n",
       "      <td>0.0</td>\n",
       "      <td>0.0</td>\n",
       "      <td>0.0</td>\n",
       "      <td>0.0</td>\n",
       "    </tr>\n",
       "    <tr>\n",
       "      <th>2</th>\n",
       "      <td>0.0</td>\n",
       "      <td>0.0</td>\n",
       "      <td>0.0</td>\n",
       "      <td>0.0</td>\n",
       "      <td>0.0</td>\n",
       "      <td>0.0</td>\n",
       "      <td>0.0</td>\n",
       "      <td>0.0</td>\n",
       "      <td>0.0</td>\n",
       "      <td>0.0</td>\n",
       "      <td>...</td>\n",
       "      <td>0.0</td>\n",
       "      <td>0.0</td>\n",
       "      <td>0.0</td>\n",
       "      <td>0.0</td>\n",
       "      <td>0.0</td>\n",
       "      <td>0.0</td>\n",
       "      <td>0.0</td>\n",
       "      <td>0.0</td>\n",
       "      <td>0.0</td>\n",
       "      <td>0.0</td>\n",
       "    </tr>\n",
       "    <tr>\n",
       "      <th>3</th>\n",
       "      <td>0.0</td>\n",
       "      <td>0.0</td>\n",
       "      <td>0.0</td>\n",
       "      <td>0.0</td>\n",
       "      <td>0.0</td>\n",
       "      <td>0.0</td>\n",
       "      <td>0.0</td>\n",
       "      <td>0.0</td>\n",
       "      <td>0.0</td>\n",
       "      <td>0.0</td>\n",
       "      <td>...</td>\n",
       "      <td>0.0</td>\n",
       "      <td>0.0</td>\n",
       "      <td>0.0</td>\n",
       "      <td>0.0</td>\n",
       "      <td>0.0</td>\n",
       "      <td>0.0</td>\n",
       "      <td>0.0</td>\n",
       "      <td>0.0</td>\n",
       "      <td>0.0</td>\n",
       "      <td>0.0</td>\n",
       "    </tr>\n",
       "    <tr>\n",
       "      <th>4</th>\n",
       "      <td>0.0</td>\n",
       "      <td>0.0</td>\n",
       "      <td>0.0</td>\n",
       "      <td>0.0</td>\n",
       "      <td>0.0</td>\n",
       "      <td>0.0</td>\n",
       "      <td>0.0</td>\n",
       "      <td>0.0</td>\n",
       "      <td>0.0</td>\n",
       "      <td>0.0</td>\n",
       "      <td>...</td>\n",
       "      <td>0.0</td>\n",
       "      <td>0.0</td>\n",
       "      <td>0.0</td>\n",
       "      <td>0.0</td>\n",
       "      <td>0.0</td>\n",
       "      <td>0.0</td>\n",
       "      <td>0.0</td>\n",
       "      <td>0.0</td>\n",
       "      <td>0.0</td>\n",
       "      <td>0.0</td>\n",
       "    </tr>\n",
       "    <tr>\n",
       "      <th>5</th>\n",
       "      <td>0.0</td>\n",
       "      <td>0.0</td>\n",
       "      <td>0.0</td>\n",
       "      <td>0.0</td>\n",
       "      <td>0.0</td>\n",
       "      <td>0.0</td>\n",
       "      <td>0.0</td>\n",
       "      <td>0.0</td>\n",
       "      <td>0.0</td>\n",
       "      <td>0.0</td>\n",
       "      <td>...</td>\n",
       "      <td>0.0</td>\n",
       "      <td>0.0</td>\n",
       "      <td>0.0</td>\n",
       "      <td>0.0</td>\n",
       "      <td>0.0</td>\n",
       "      <td>0.0</td>\n",
       "      <td>0.0</td>\n",
       "      <td>0.0</td>\n",
       "      <td>0.0</td>\n",
       "      <td>0.0</td>\n",
       "    </tr>\n",
       "    <tr>\n",
       "      <th>6</th>\n",
       "      <td>0.0</td>\n",
       "      <td>0.0</td>\n",
       "      <td>0.0</td>\n",
       "      <td>0.0</td>\n",
       "      <td>0.0</td>\n",
       "      <td>0.0</td>\n",
       "      <td>0.0</td>\n",
       "      <td>0.0</td>\n",
       "      <td>0.0</td>\n",
       "      <td>0.0</td>\n",
       "      <td>...</td>\n",
       "      <td>0.0</td>\n",
       "      <td>0.0</td>\n",
       "      <td>0.0</td>\n",
       "      <td>0.0</td>\n",
       "      <td>0.0</td>\n",
       "      <td>0.0</td>\n",
       "      <td>0.0</td>\n",
       "      <td>0.0</td>\n",
       "      <td>0.0</td>\n",
       "      <td>0.0</td>\n",
       "    </tr>\n",
       "    <tr>\n",
       "      <th>7</th>\n",
       "      <td>0.0</td>\n",
       "      <td>0.0</td>\n",
       "      <td>0.0</td>\n",
       "      <td>0.0</td>\n",
       "      <td>0.0</td>\n",
       "      <td>0.0</td>\n",
       "      <td>0.0</td>\n",
       "      <td>0.0</td>\n",
       "      <td>0.0</td>\n",
       "      <td>0.0</td>\n",
       "      <td>...</td>\n",
       "      <td>0.0</td>\n",
       "      <td>0.0</td>\n",
       "      <td>0.0</td>\n",
       "      <td>0.0</td>\n",
       "      <td>0.0</td>\n",
       "      <td>0.0</td>\n",
       "      <td>0.0</td>\n",
       "      <td>0.0</td>\n",
       "      <td>0.0</td>\n",
       "      <td>0.0</td>\n",
       "    </tr>\n",
       "    <tr>\n",
       "      <th>8</th>\n",
       "      <td>0.0</td>\n",
       "      <td>0.0</td>\n",
       "      <td>0.0</td>\n",
       "      <td>0.0</td>\n",
       "      <td>0.0</td>\n",
       "      <td>0.0</td>\n",
       "      <td>0.0</td>\n",
       "      <td>0.0</td>\n",
       "      <td>0.0</td>\n",
       "      <td>0.0</td>\n",
       "      <td>...</td>\n",
       "      <td>0.0</td>\n",
       "      <td>0.0</td>\n",
       "      <td>0.0</td>\n",
       "      <td>0.0</td>\n",
       "      <td>0.0</td>\n",
       "      <td>0.0</td>\n",
       "      <td>0.0</td>\n",
       "      <td>0.0</td>\n",
       "      <td>0.0</td>\n",
       "      <td>0.0</td>\n",
       "    </tr>\n",
       "    <tr>\n",
       "      <th>9</th>\n",
       "      <td>0.0</td>\n",
       "      <td>0.0</td>\n",
       "      <td>0.0</td>\n",
       "      <td>0.0</td>\n",
       "      <td>0.0</td>\n",
       "      <td>0.0</td>\n",
       "      <td>0.0</td>\n",
       "      <td>0.0</td>\n",
       "      <td>0.0</td>\n",
       "      <td>0.0</td>\n",
       "      <td>...</td>\n",
       "      <td>0.0</td>\n",
       "      <td>0.0</td>\n",
       "      <td>0.0</td>\n",
       "      <td>0.0</td>\n",
       "      <td>0.0</td>\n",
       "      <td>0.0</td>\n",
       "      <td>0.0</td>\n",
       "      <td>0.0</td>\n",
       "      <td>0.0</td>\n",
       "      <td>0.0</td>\n",
       "    </tr>\n",
       "  </tbody>\n",
       "</table>\n",
       "<p>10 rows × 10982 columns</p>\n",
       "</div>"
      ],
      "text/plain": [
       "   007  00s  01423   02   03  0539   06  0806  08230  0987  ...  zombie  zone  \\\n",
       "0  0.0  0.0    0.0  0.0  0.0   0.0  0.0   0.0    0.0   0.0  ...     0.0   0.0   \n",
       "1  0.0  0.0    0.0  0.0  0.0   0.0  0.0   0.0    0.0   0.0  ...     0.0   0.0   \n",
       "2  0.0  0.0    0.0  0.0  0.0   0.0  0.0   0.0    0.0   0.0  ...     0.0   0.0   \n",
       "3  0.0  0.0    0.0  0.0  0.0   0.0  0.0   0.0    0.0   0.0  ...     0.0   0.0   \n",
       "4  0.0  0.0    0.0  0.0  0.0   0.0  0.0   0.0    0.0   0.0  ...     0.0   0.0   \n",
       "5  0.0  0.0    0.0  0.0  0.0   0.0  0.0   0.0    0.0   0.0  ...     0.0   0.0   \n",
       "6  0.0  0.0    0.0  0.0  0.0   0.0  0.0   0.0    0.0   0.0  ...     0.0   0.0   \n",
       "7  0.0  0.0    0.0  0.0  0.0   0.0  0.0   0.0    0.0   0.0  ...     0.0   0.0   \n",
       "8  0.0  0.0    0.0  0.0  0.0   0.0  0.0   0.0    0.0   0.0  ...     0.0   0.0   \n",
       "9  0.0  0.0    0.0  0.0  0.0   0.0  0.0   0.0    0.0   0.0  ...     0.0   0.0   \n",
       "\n",
       "   zooey  zool  zoolander  zootopia  zorx  zowee   zu  zune  \n",
       "0    0.0   0.0        0.0       0.0   0.0    0.0  0.0   0.0  \n",
       "1    0.0   0.0        0.0       0.0   0.0    0.0  0.0   0.0  \n",
       "2    0.0   0.0        0.0       0.0   0.0    0.0  0.0   0.0  \n",
       "3    0.0   0.0        0.0       0.0   0.0    0.0  0.0   0.0  \n",
       "4    0.0   0.0        0.0       0.0   0.0    0.0  0.0   0.0  \n",
       "5    0.0   0.0        0.0       0.0   0.0    0.0  0.0   0.0  \n",
       "6    0.0   0.0        0.0       0.0   0.0    0.0  0.0   0.0  \n",
       "7    0.0   0.0        0.0       0.0   0.0    0.0  0.0   0.0  \n",
       "8    0.0   0.0        0.0       0.0   0.0    0.0  0.0   0.0  \n",
       "9    0.0   0.0        0.0       0.0   0.0    0.0  0.0   0.0  \n",
       "\n",
       "[10 rows x 10982 columns]"
      ]
     },
     "execution_count": 56,
     "metadata": {},
     "output_type": "execute_result"
    }
   ],
   "source": [
    "pd.DataFrame(tfidfs.todense(), columns=tfidf.get_feature_names()).head(10)"
   ]
  },
  {
   "cell_type": "markdown",
   "metadata": {},
   "source": [
    "## Now we can start modeling\n",
    "We will be using classification models such as Logistic Regression and Decision Tree."
   ]
  },
  {
   "cell_type": "code",
   "execution_count": 57,
   "metadata": {},
   "outputs": [],
   "source": [
    "tfidf = TfidfVectorizer()\n",
    "X = tfidf.fit_transform(df.lemmatized_no_stopwords)\n",
    "y = df.trigger_scene\n",
    "\n",
    "X_train, X_test, y_train, y_test = train_test_split(X, y, stratify=y, test_size=.3, random_state=123)\n",
    "\n",
    "train = pd.DataFrame(dict(actual=y_train))\n",
    "test = pd.DataFrame(dict(actual=y_test))"
   ]
  },
  {
   "cell_type": "markdown",
   "metadata": {},
   "source": [
    "### Logistic Regression"
   ]
  },
  {
   "cell_type": "code",
   "execution_count": 58,
   "metadata": {},
   "outputs": [
    {
     "name": "stderr",
     "output_type": "stream",
     "text": [
      "C:\\Users\\mz211\\AppData\\Local\\Continuum\\anaconda3\\lib\\site-packages\\sklearn\\linear_model\\logistic.py:433: FutureWarning: Default solver will be changed to 'lbfgs' in 0.22. Specify a solver to silence this warning.\n",
      "  FutureWarning)\n"
     ]
    }
   ],
   "source": [
    "lr = LogisticRegression().fit(X_train, y_train)\n",
    "\n",
    "train['predicted'] = lr.predict(X_train)\n",
    "test['predicted'] = lr.predict(X_test)"
   ]
  },
  {
   "cell_type": "markdown",
   "metadata": {},
   "source": [
    "##### Train"
   ]
  },
  {
   "cell_type": "code",
   "execution_count": 59,
   "metadata": {
    "scrolled": true
   },
   "outputs": [
    {
     "name": "stdout",
     "output_type": "stream",
     "text": [
      "Accuracy: 89.62%\n",
      "---\n",
      "Confusion Matrix\n",
      "actual     False  True \n",
      "predicted              \n",
      "False        694     16\n",
      "True         199   1162\n",
      "---\n",
      "              precision    recall  f1-score   support\n",
      "\n",
      "       False       0.98      0.78      0.87       893\n",
      "        True       0.85      0.99      0.92      1178\n",
      "\n",
      "   micro avg       0.90      0.90      0.90      2071\n",
      "   macro avg       0.92      0.88      0.89      2071\n",
      "weighted avg       0.91      0.90      0.89      2071\n",
      "\n"
     ]
    }
   ],
   "source": [
    "print('Accuracy: {:.2%}'.format(accuracy_score(train.actual, train.predicted)))\n",
    "print('---')\n",
    "print('Confusion Matrix')\n",
    "print(pd.crosstab(train.predicted, train.actual))\n",
    "print('---')\n",
    "print(classification_report(train.actual, train.predicted))"
   ]
  },
  {
   "cell_type": "markdown",
   "metadata": {},
   "source": [
    "##### Test"
   ]
  },
  {
   "cell_type": "code",
   "execution_count": 60,
   "metadata": {},
   "outputs": [
    {
     "name": "stdout",
     "output_type": "stream",
     "text": [
      "Accuracy: 63.63%\n",
      "---\n",
      "Confusion Matrix\n",
      "actual     False  True \n",
      "predicted              \n",
      "False        116     56\n",
      "True         267    449\n",
      "---\n",
      "              precision    recall  f1-score   support\n",
      "\n",
      "       False       0.67      0.30      0.42       383\n",
      "        True       0.63      0.89      0.74       505\n",
      "\n",
      "   micro avg       0.64      0.64      0.64       888\n",
      "   macro avg       0.65      0.60      0.58       888\n",
      "weighted avg       0.65      0.64      0.60       888\n",
      "\n"
     ]
    }
   ],
   "source": [
    "print('Accuracy: {:.2%}'.format(accuracy_score(test.actual, test.predicted)))\n",
    "print('---')\n",
    "print('Confusion Matrix')\n",
    "print(pd.crosstab(test.predicted, test.actual))\n",
    "print('---')\n",
    "print(classification_report(test.actual, test.predicted))"
   ]
  },
  {
   "cell_type": "markdown",
   "metadata": {},
   "source": [
    "Performance was good on the train set, decreased substantially on the test set."
   ]
  },
  {
   "cell_type": "markdown",
   "metadata": {},
   "source": [
    "### Decision Tree"
   ]
  },
  {
   "cell_type": "code",
   "execution_count": 61,
   "metadata": {},
   "outputs": [],
   "source": [
    "dt = DecisionTreeClassifier(max_depth=5, random_state=123).fit(X_train, y_train)\n",
    "\n",
    "train['predicted_decision_tree'] = dt.predict(X_train)\n",
    "test['predicted_decision_tree'] = dt.predict(X_test)"
   ]
  },
  {
   "cell_type": "markdown",
   "metadata": {},
   "source": [
    "##### Train"
   ]
  },
  {
   "cell_type": "code",
   "execution_count": 62,
   "metadata": {},
   "outputs": [
    {
     "name": "stdout",
     "output_type": "stream",
     "text": [
      "Accuracy: 60.50%\n",
      "---\n",
      "Confusion Matrix\n",
      "actual                   False  True \n",
      "predicted_decision_tree              \n",
      "False                       79      4\n",
      "True                       814   1174\n",
      "---\n",
      "              precision    recall  f1-score   support\n",
      "\n",
      "       False       0.95      0.09      0.16       893\n",
      "        True       0.59      1.00      0.74      1178\n",
      "\n",
      "   micro avg       0.61      0.61      0.61      2071\n",
      "   macro avg       0.77      0.54      0.45      2071\n",
      "weighted avg       0.75      0.61      0.49      2071\n",
      "\n"
     ]
    }
   ],
   "source": [
    "print('Accuracy: {:.2%}'.format(accuracy_score(train.actual, train.predicted_decision_tree)))\n",
    "print('---')\n",
    "print('Confusion Matrix')\n",
    "print(pd.crosstab(train.predicted_decision_tree, train.actual))\n",
    "print('---')\n",
    "print(classification_report(train.actual, train.predicted_decision_tree))"
   ]
  },
  {
   "cell_type": "markdown",
   "metadata": {},
   "source": [
    "##### Test"
   ]
  },
  {
   "cell_type": "code",
   "execution_count": 63,
   "metadata": {},
   "outputs": [
    {
     "name": "stdout",
     "output_type": "stream",
     "text": [
      "Accuracy: 59.23%\n",
      "---\n",
      "Confusion Matrix\n",
      "actual                   False  True \n",
      "predicted_decision_tree              \n",
      "False                       28      7\n",
      "True                       355    498\n",
      "---\n",
      "              precision    recall  f1-score   support\n",
      "\n",
      "       False       0.80      0.07      0.13       383\n",
      "        True       0.58      0.99      0.73       505\n",
      "\n",
      "   micro avg       0.59      0.59      0.59       888\n",
      "   macro avg       0.69      0.53      0.43       888\n",
      "weighted avg       0.68      0.59      0.47       888\n",
      "\n"
     ]
    }
   ],
   "source": [
    "print('Accuracy: {:.2%}'.format(accuracy_score(test.actual, test.predicted_decision_tree)))\n",
    "print('---')\n",
    "print('Confusion Matrix')\n",
    "print(pd.crosstab(test.predicted_decision_tree, test.actual))\n",
    "print('---')\n",
    "print(classification_report(test.actual, test.predicted_decision_tree))"
   ]
  },
  {
   "cell_type": "markdown",
   "metadata": {},
   "source": [
    "Subpar accuracy."
   ]
  },
  {
   "cell_type": "markdown",
   "metadata": {},
   "source": [
    "### Random Forest"
   ]
  },
  {
   "cell_type": "code",
   "execution_count": 64,
   "metadata": {},
   "outputs": [
    {
     "name": "stderr",
     "output_type": "stream",
     "text": [
      "C:\\Users\\mz211\\AppData\\Local\\Continuum\\anaconda3\\lib\\site-packages\\sklearn\\ensemble\\forest.py:246: FutureWarning: The default value of n_estimators will change from 10 in version 0.20 to 100 in 0.22.\n",
      "  \"10 in version 0.20 to 100 in 0.22.\", FutureWarning)\n"
     ]
    }
   ],
   "source": [
    "rf = RandomForestClassifier(random_state=123, max_depth=5)\n",
    "rf.fit(X_train, y_train)\n",
    "train['predicted_random_forest'] = rf.predict(X_train)\n",
    "test['predicted_random_forest'] = rf.predict(X_test)"
   ]
  },
  {
   "cell_type": "markdown",
   "metadata": {},
   "source": [
    "##### Train"
   ]
  },
  {
   "cell_type": "code",
   "execution_count": 65,
   "metadata": {},
   "outputs": [
    {
     "name": "stdout",
     "output_type": "stream",
     "text": [
      "Accuracy: 58.86%\n",
      "---\n",
      "Confusion Matrix\n",
      "actual                   False  True \n",
      "predicted_random_forest              \n",
      "False                       46      5\n",
      "True                       847   1173\n",
      "---\n",
      "              precision    recall  f1-score   support\n",
      "\n",
      "       False       0.90      0.05      0.10       893\n",
      "        True       0.58      1.00      0.73      1178\n",
      "\n",
      "   micro avg       0.59      0.59      0.59      2071\n",
      "   macro avg       0.74      0.52      0.42      2071\n",
      "weighted avg       0.72      0.59      0.46      2071\n",
      "\n"
     ]
    }
   ],
   "source": [
    "print('Accuracy: {:.2%}'.format(accuracy_score(train.actual, train.predicted_random_forest)))\n",
    "print('---')\n",
    "print('Confusion Matrix')\n",
    "print(pd.crosstab(train.predicted_random_forest, train.actual))\n",
    "print('---')\n",
    "print(classification_report(train.actual, train.predicted_random_forest))"
   ]
  },
  {
   "cell_type": "markdown",
   "metadata": {},
   "source": [
    "##### Test"
   ]
  },
  {
   "cell_type": "code",
   "execution_count": 66,
   "metadata": {},
   "outputs": [
    {
     "name": "stdout",
     "output_type": "stream",
     "text": [
      "Accuracy: 58.00%\n",
      "---\n",
      "Confusion Matrix\n",
      "actual                   False  True \n",
      "predicted_random_forest              \n",
      "False                       12      2\n",
      "True                       371    503\n",
      "---\n",
      "              precision    recall  f1-score   support\n",
      "\n",
      "       False       0.86      0.03      0.06       383\n",
      "        True       0.58      1.00      0.73       505\n",
      "\n",
      "   micro avg       0.58      0.58      0.58       888\n",
      "   macro avg       0.72      0.51      0.39       888\n",
      "weighted avg       0.70      0.58      0.44       888\n",
      "\n"
     ]
    }
   ],
   "source": [
    "print('Accuracy: {:.2%}'.format(accuracy_score(test.actual, test.predicted_random_forest)))\n",
    "print('---')\n",
    "print('Confusion Matrix')\n",
    "print(pd.crosstab(test.predicted_random_forest, test.actual))\n",
    "print('---')\n",
    "print(classification_report(test.actual, test.predicted_random_forest))"
   ]
  },
  {
   "cell_type": "markdown",
   "metadata": {},
   "source": [
    "Subpar accuracy again."
   ]
  },
  {
   "cell_type": "markdown",
   "metadata": {},
   "source": [
    "### Support Vector Machine"
   ]
  },
  {
   "cell_type": "code",
   "execution_count": 67,
   "metadata": {},
   "outputs": [
    {
     "name": "stderr",
     "output_type": "stream",
     "text": [
      "C:\\Users\\mz211\\AppData\\Local\\Continuum\\anaconda3\\lib\\site-packages\\sklearn\\svm\\base.py:196: FutureWarning: The default value of gamma will change from 'auto' to 'scale' in version 0.22 to account better for unscaled features. Set gamma explicitly to 'auto' or 'scale' to avoid this warning.\n",
      "  \"avoid this warning.\", FutureWarning)\n"
     ]
    }
   ],
   "source": [
    "svmachine = SVC(random_state=123).fit(X_train, y_train)\n",
    "\n",
    "train['predicted_svm'] = svmachine.predict(X_train)\n",
    "test['predicted_svm'] = svmachine.predict(X_test)"
   ]
  },
  {
   "cell_type": "markdown",
   "metadata": {},
   "source": [
    "##### Train"
   ]
  },
  {
   "cell_type": "code",
   "execution_count": 68,
   "metadata": {},
   "outputs": [
    {
     "name": "stdout",
     "output_type": "stream",
     "text": [
      "Accuracy: 56.88%\n",
      "---\n",
      "Confusion Matrix\n",
      "actual         False  True \n",
      "predicted_svm              \n",
      "True             893   1178\n",
      "---\n",
      "              precision    recall  f1-score   support\n",
      "\n",
      "       False       0.00      0.00      0.00       893\n",
      "        True       0.57      1.00      0.73      1178\n",
      "\n",
      "   micro avg       0.57      0.57      0.57      2071\n",
      "   macro avg       0.28      0.50      0.36      2071\n",
      "weighted avg       0.32      0.57      0.41      2071\n",
      "\n"
     ]
    },
    {
     "name": "stderr",
     "output_type": "stream",
     "text": [
      "C:\\Users\\mz211\\AppData\\Local\\Continuum\\anaconda3\\lib\\site-packages\\sklearn\\metrics\\classification.py:1143: UndefinedMetricWarning: Precision and F-score are ill-defined and being set to 0.0 in labels with no predicted samples.\n",
      "  'precision', 'predicted', average, warn_for)\n",
      "C:\\Users\\mz211\\AppData\\Local\\Continuum\\anaconda3\\lib\\site-packages\\sklearn\\metrics\\classification.py:1143: UndefinedMetricWarning: Precision and F-score are ill-defined and being set to 0.0 in labels with no predicted samples.\n",
      "  'precision', 'predicted', average, warn_for)\n",
      "C:\\Users\\mz211\\AppData\\Local\\Continuum\\anaconda3\\lib\\site-packages\\sklearn\\metrics\\classification.py:1143: UndefinedMetricWarning: Precision and F-score are ill-defined and being set to 0.0 in labels with no predicted samples.\n",
      "  'precision', 'predicted', average, warn_for)\n"
     ]
    }
   ],
   "source": [
    "print('Accuracy: {:.2%}'.format(accuracy_score(train.actual, train.predicted_svm)))\n",
    "print('---')\n",
    "print('Confusion Matrix')\n",
    "print(pd.crosstab(train.predicted_svm, train.actual))\n",
    "print('---')\n",
    "print(classification_report(train.actual, train.predicted_svm))"
   ]
  },
  {
   "cell_type": "markdown",
   "metadata": {},
   "source": [
    "##### Test"
   ]
  },
  {
   "cell_type": "code",
   "execution_count": 69,
   "metadata": {},
   "outputs": [
    {
     "name": "stdout",
     "output_type": "stream",
     "text": [
      "Accuracy: 56.87%\n",
      "---\n",
      "Confusion Matrix\n",
      "actual         False  True \n",
      "predicted_svm              \n",
      "True             383    505\n",
      "---\n",
      "              precision    recall  f1-score   support\n",
      "\n",
      "       False       0.00      0.00      0.00       383\n",
      "        True       0.57      1.00      0.73       505\n",
      "\n",
      "   micro avg       0.57      0.57      0.57       888\n",
      "   macro avg       0.28      0.50      0.36       888\n",
      "weighted avg       0.32      0.57      0.41       888\n",
      "\n"
     ]
    },
    {
     "name": "stderr",
     "output_type": "stream",
     "text": [
      "C:\\Users\\mz211\\AppData\\Local\\Continuum\\anaconda3\\lib\\site-packages\\sklearn\\metrics\\classification.py:1143: UndefinedMetricWarning: Precision and F-score are ill-defined and being set to 0.0 in labels with no predicted samples.\n",
      "  'precision', 'predicted', average, warn_for)\n",
      "C:\\Users\\mz211\\AppData\\Local\\Continuum\\anaconda3\\lib\\site-packages\\sklearn\\metrics\\classification.py:1143: UndefinedMetricWarning: Precision and F-score are ill-defined and being set to 0.0 in labels with no predicted samples.\n",
      "  'precision', 'predicted', average, warn_for)\n",
      "C:\\Users\\mz211\\AppData\\Local\\Continuum\\anaconda3\\lib\\site-packages\\sklearn\\metrics\\classification.py:1143: UndefinedMetricWarning: Precision and F-score are ill-defined and being set to 0.0 in labels with no predicted samples.\n",
      "  'precision', 'predicted', average, warn_for)\n"
     ]
    }
   ],
   "source": [
    "print('Accuracy: {:.2%}'.format(accuracy_score(test.actual, test.predicted_svm)))\n",
    "print('---')\n",
    "print('Confusion Matrix')\n",
    "print(pd.crosstab(test.predicted_svm, test.actual))\n",
    "print('---')\n",
    "print(classification_report(test.actual, test.predicted_svm))"
   ]
  },
  {
   "cell_type": "markdown",
   "metadata": {},
   "source": [
    "The Support Vector Machine is always predicting True."
   ]
  },
  {
   "cell_type": "markdown",
   "metadata": {},
   "source": [
    "## Realization:\n",
    "In production, this model will not be looking at a single tweet and trying to determine if a movie has a self-harm scene. It will instead be looking at several tweets (if available) and then classify each of those tweets as having a self-harm scene or not. Once it has done that, the predicted classes will be tallied up and the class with the most tallies will be what the final prediction is.\n",
    "\n",
    "With this in mind, we need to perform modeling in a different manner. The train-test split will need to be redone. Tweets for the same movie will need to go into the same split. This can be done by splitting into two dataframes, one for each class. Then we can pick a number of movies to put into the train and test set and finding the point of where to split the set. Once we have a train and test split, we can create, train, and test models as usual. We will then need to create a function that will tally up the predictions for the tweets and return the final predictions for each movie. Another function will take those predictions and compare them to the actual values of the movies."
   ]
  },
  {
   "cell_type": "markdown",
   "metadata": {},
   "source": [
    "### Train-Test Split Again"
   ]
  },
  {
   "cell_type": "markdown",
   "metadata": {},
   "source": [
    "##### Creating a dataframe that contains the tfidf values as well as the title and class for each respective tweet."
   ]
  },
  {
   "cell_type": "code",
   "execution_count": 70,
   "metadata": {},
   "outputs": [
    {
     "data": {
      "text/html": [
       "<div>\n",
       "<style scoped>\n",
       "    .dataframe tbody tr th:only-of-type {\n",
       "        vertical-align: middle;\n",
       "    }\n",
       "\n",
       "    .dataframe tbody tr th {\n",
       "        vertical-align: top;\n",
       "    }\n",
       "\n",
       "    .dataframe thead th {\n",
       "        text-align: right;\n",
       "    }\n",
       "</style>\n",
       "<table border=\"1\" class=\"dataframe\">\n",
       "  <thead>\n",
       "    <tr style=\"text-align: right;\">\n",
       "      <th></th>\n",
       "      <th>007</th>\n",
       "      <th>00s</th>\n",
       "      <th>01423</th>\n",
       "      <th>02</th>\n",
       "      <th>03</th>\n",
       "      <th>0539</th>\n",
       "      <th>06</th>\n",
       "      <th>0806</th>\n",
       "      <th>08230</th>\n",
       "      <th>0987</th>\n",
       "      <th>...</th>\n",
       "      <th>zooey</th>\n",
       "      <th>zool</th>\n",
       "      <th>zoolander</th>\n",
       "      <th>zootopia</th>\n",
       "      <th>zorx</th>\n",
       "      <th>zowee</th>\n",
       "      <th>zu</th>\n",
       "      <th>zune</th>\n",
       "      <th>trigger_scene</th>\n",
       "      <th>title</th>\n",
       "    </tr>\n",
       "  </thead>\n",
       "  <tbody>\n",
       "    <tr>\n",
       "      <th>0</th>\n",
       "      <td>0.0</td>\n",
       "      <td>0.0</td>\n",
       "      <td>0.0</td>\n",
       "      <td>0.0</td>\n",
       "      <td>0.0</td>\n",
       "      <td>0.0</td>\n",
       "      <td>0.0</td>\n",
       "      <td>0.0</td>\n",
       "      <td>0.0</td>\n",
       "      <td>0.0</td>\n",
       "      <td>...</td>\n",
       "      <td>0.0</td>\n",
       "      <td>0.0</td>\n",
       "      <td>0.0</td>\n",
       "      <td>0.0</td>\n",
       "      <td>0.0</td>\n",
       "      <td>0.0</td>\n",
       "      <td>0.0</td>\n",
       "      <td>0.0</td>\n",
       "      <td>False</td>\n",
       "      <td>spiderman_far_from_home</td>\n",
       "    </tr>\n",
       "    <tr>\n",
       "      <th>1</th>\n",
       "      <td>0.0</td>\n",
       "      <td>0.0</td>\n",
       "      <td>0.0</td>\n",
       "      <td>0.0</td>\n",
       "      <td>0.0</td>\n",
       "      <td>0.0</td>\n",
       "      <td>0.0</td>\n",
       "      <td>0.0</td>\n",
       "      <td>0.0</td>\n",
       "      <td>0.0</td>\n",
       "      <td>...</td>\n",
       "      <td>0.0</td>\n",
       "      <td>0.0</td>\n",
       "      <td>0.0</td>\n",
       "      <td>0.0</td>\n",
       "      <td>0.0</td>\n",
       "      <td>0.0</td>\n",
       "      <td>0.0</td>\n",
       "      <td>0.0</td>\n",
       "      <td>False</td>\n",
       "      <td>spiderman_far_from_home</td>\n",
       "    </tr>\n",
       "    <tr>\n",
       "      <th>2</th>\n",
       "      <td>0.0</td>\n",
       "      <td>0.0</td>\n",
       "      <td>0.0</td>\n",
       "      <td>0.0</td>\n",
       "      <td>0.0</td>\n",
       "      <td>0.0</td>\n",
       "      <td>0.0</td>\n",
       "      <td>0.0</td>\n",
       "      <td>0.0</td>\n",
       "      <td>0.0</td>\n",
       "      <td>...</td>\n",
       "      <td>0.0</td>\n",
       "      <td>0.0</td>\n",
       "      <td>0.0</td>\n",
       "      <td>0.0</td>\n",
       "      <td>0.0</td>\n",
       "      <td>0.0</td>\n",
       "      <td>0.0</td>\n",
       "      <td>0.0</td>\n",
       "      <td>False</td>\n",
       "      <td>spiderman_far_from_home</td>\n",
       "    </tr>\n",
       "    <tr>\n",
       "      <th>3</th>\n",
       "      <td>0.0</td>\n",
       "      <td>0.0</td>\n",
       "      <td>0.0</td>\n",
       "      <td>0.0</td>\n",
       "      <td>0.0</td>\n",
       "      <td>0.0</td>\n",
       "      <td>0.0</td>\n",
       "      <td>0.0</td>\n",
       "      <td>0.0</td>\n",
       "      <td>0.0</td>\n",
       "      <td>...</td>\n",
       "      <td>0.0</td>\n",
       "      <td>0.0</td>\n",
       "      <td>0.0</td>\n",
       "      <td>0.0</td>\n",
       "      <td>0.0</td>\n",
       "      <td>0.0</td>\n",
       "      <td>0.0</td>\n",
       "      <td>0.0</td>\n",
       "      <td>False</td>\n",
       "      <td>spiderman_far_from_home</td>\n",
       "    </tr>\n",
       "    <tr>\n",
       "      <th>4</th>\n",
       "      <td>0.0</td>\n",
       "      <td>0.0</td>\n",
       "      <td>0.0</td>\n",
       "      <td>0.0</td>\n",
       "      <td>0.0</td>\n",
       "      <td>0.0</td>\n",
       "      <td>0.0</td>\n",
       "      <td>0.0</td>\n",
       "      <td>0.0</td>\n",
       "      <td>0.0</td>\n",
       "      <td>...</td>\n",
       "      <td>0.0</td>\n",
       "      <td>0.0</td>\n",
       "      <td>0.0</td>\n",
       "      <td>0.0</td>\n",
       "      <td>0.0</td>\n",
       "      <td>0.0</td>\n",
       "      <td>0.0</td>\n",
       "      <td>0.0</td>\n",
       "      <td>False</td>\n",
       "      <td>spiderman_far_from_home</td>\n",
       "    </tr>\n",
       "  </tbody>\n",
       "</table>\n",
       "<p>5 rows × 10984 columns</p>\n",
       "</div>"
      ],
      "text/plain": [
       "   007  00s  01423   02   03  0539   06  0806  08230  0987  ...  zooey  zool  \\\n",
       "0  0.0  0.0    0.0  0.0  0.0   0.0  0.0   0.0    0.0   0.0  ...    0.0   0.0   \n",
       "1  0.0  0.0    0.0  0.0  0.0   0.0  0.0   0.0    0.0   0.0  ...    0.0   0.0   \n",
       "2  0.0  0.0    0.0  0.0  0.0   0.0  0.0   0.0    0.0   0.0  ...    0.0   0.0   \n",
       "3  0.0  0.0    0.0  0.0  0.0   0.0  0.0   0.0    0.0   0.0  ...    0.0   0.0   \n",
       "4  0.0  0.0    0.0  0.0  0.0   0.0  0.0   0.0    0.0   0.0  ...    0.0   0.0   \n",
       "\n",
       "   zoolander  zootopia  zorx  zowee   zu  zune  trigger_scene  \\\n",
       "0        0.0       0.0   0.0    0.0  0.0   0.0          False   \n",
       "1        0.0       0.0   0.0    0.0  0.0   0.0          False   \n",
       "2        0.0       0.0   0.0    0.0  0.0   0.0          False   \n",
       "3        0.0       0.0   0.0    0.0  0.0   0.0          False   \n",
       "4        0.0       0.0   0.0    0.0  0.0   0.0          False   \n",
       "\n",
       "                     title  \n",
       "0  spiderman_far_from_home  \n",
       "1  spiderman_far_from_home  \n",
       "2  spiderman_far_from_home  \n",
       "3  spiderman_far_from_home  \n",
       "4  spiderman_far_from_home  \n",
       "\n",
       "[5 rows x 10984 columns]"
      ]
     },
     "execution_count": 70,
     "metadata": {},
     "output_type": "execute_result"
    }
   ],
   "source": [
    "pre_split = pd.concat([pd.DataFrame(X.todense(), columns=tfidf.get_feature_names()), pd.DataFrame(y), df.title], axis=1)\n",
    "pre_split.head()"
   ]
  },
  {
   "cell_type": "markdown",
   "metadata": {},
   "source": [
    "##### Splitting into two dataframes based on class."
   ]
  },
  {
   "cell_type": "code",
   "execution_count": 71,
   "metadata": {},
   "outputs": [
    {
     "data": {
      "text/html": [
       "<div>\n",
       "<style scoped>\n",
       "    .dataframe tbody tr th:only-of-type {\n",
       "        vertical-align: middle;\n",
       "    }\n",
       "\n",
       "    .dataframe tbody tr th {\n",
       "        vertical-align: top;\n",
       "    }\n",
       "\n",
       "    .dataframe thead th {\n",
       "        text-align: right;\n",
       "    }\n",
       "</style>\n",
       "<table border=\"1\" class=\"dataframe\">\n",
       "  <thead>\n",
       "    <tr style=\"text-align: right;\">\n",
       "      <th></th>\n",
       "      <th>007</th>\n",
       "      <th>00s</th>\n",
       "      <th>01423</th>\n",
       "      <th>02</th>\n",
       "      <th>03</th>\n",
       "      <th>0539</th>\n",
       "      <th>06</th>\n",
       "      <th>0806</th>\n",
       "      <th>08230</th>\n",
       "      <th>0987</th>\n",
       "      <th>...</th>\n",
       "      <th>zooey</th>\n",
       "      <th>zool</th>\n",
       "      <th>zoolander</th>\n",
       "      <th>zootopia</th>\n",
       "      <th>zorx</th>\n",
       "      <th>zowee</th>\n",
       "      <th>zu</th>\n",
       "      <th>zune</th>\n",
       "      <th>trigger_scene</th>\n",
       "      <th>title</th>\n",
       "    </tr>\n",
       "  </thead>\n",
       "  <tbody>\n",
       "    <tr>\n",
       "      <th>0</th>\n",
       "      <td>0.0</td>\n",
       "      <td>0.0</td>\n",
       "      <td>0.0</td>\n",
       "      <td>0.0</td>\n",
       "      <td>0.0</td>\n",
       "      <td>0.0</td>\n",
       "      <td>0.0</td>\n",
       "      <td>0.0</td>\n",
       "      <td>0.0</td>\n",
       "      <td>0.0</td>\n",
       "      <td>...</td>\n",
       "      <td>0.0</td>\n",
       "      <td>0.0</td>\n",
       "      <td>0.0</td>\n",
       "      <td>0.0</td>\n",
       "      <td>0.0</td>\n",
       "      <td>0.0</td>\n",
       "      <td>0.0</td>\n",
       "      <td>0.0</td>\n",
       "      <td>False</td>\n",
       "      <td>spiderman_far_from_home</td>\n",
       "    </tr>\n",
       "    <tr>\n",
       "      <th>1</th>\n",
       "      <td>0.0</td>\n",
       "      <td>0.0</td>\n",
       "      <td>0.0</td>\n",
       "      <td>0.0</td>\n",
       "      <td>0.0</td>\n",
       "      <td>0.0</td>\n",
       "      <td>0.0</td>\n",
       "      <td>0.0</td>\n",
       "      <td>0.0</td>\n",
       "      <td>0.0</td>\n",
       "      <td>...</td>\n",
       "      <td>0.0</td>\n",
       "      <td>0.0</td>\n",
       "      <td>0.0</td>\n",
       "      <td>0.0</td>\n",
       "      <td>0.0</td>\n",
       "      <td>0.0</td>\n",
       "      <td>0.0</td>\n",
       "      <td>0.0</td>\n",
       "      <td>False</td>\n",
       "      <td>spiderman_far_from_home</td>\n",
       "    </tr>\n",
       "    <tr>\n",
       "      <th>2</th>\n",
       "      <td>0.0</td>\n",
       "      <td>0.0</td>\n",
       "      <td>0.0</td>\n",
       "      <td>0.0</td>\n",
       "      <td>0.0</td>\n",
       "      <td>0.0</td>\n",
       "      <td>0.0</td>\n",
       "      <td>0.0</td>\n",
       "      <td>0.0</td>\n",
       "      <td>0.0</td>\n",
       "      <td>...</td>\n",
       "      <td>0.0</td>\n",
       "      <td>0.0</td>\n",
       "      <td>0.0</td>\n",
       "      <td>0.0</td>\n",
       "      <td>0.0</td>\n",
       "      <td>0.0</td>\n",
       "      <td>0.0</td>\n",
       "      <td>0.0</td>\n",
       "      <td>False</td>\n",
       "      <td>spiderman_far_from_home</td>\n",
       "    </tr>\n",
       "    <tr>\n",
       "      <th>3</th>\n",
       "      <td>0.0</td>\n",
       "      <td>0.0</td>\n",
       "      <td>0.0</td>\n",
       "      <td>0.0</td>\n",
       "      <td>0.0</td>\n",
       "      <td>0.0</td>\n",
       "      <td>0.0</td>\n",
       "      <td>0.0</td>\n",
       "      <td>0.0</td>\n",
       "      <td>0.0</td>\n",
       "      <td>...</td>\n",
       "      <td>0.0</td>\n",
       "      <td>0.0</td>\n",
       "      <td>0.0</td>\n",
       "      <td>0.0</td>\n",
       "      <td>0.0</td>\n",
       "      <td>0.0</td>\n",
       "      <td>0.0</td>\n",
       "      <td>0.0</td>\n",
       "      <td>False</td>\n",
       "      <td>spiderman_far_from_home</td>\n",
       "    </tr>\n",
       "    <tr>\n",
       "      <th>4</th>\n",
       "      <td>0.0</td>\n",
       "      <td>0.0</td>\n",
       "      <td>0.0</td>\n",
       "      <td>0.0</td>\n",
       "      <td>0.0</td>\n",
       "      <td>0.0</td>\n",
       "      <td>0.0</td>\n",
       "      <td>0.0</td>\n",
       "      <td>0.0</td>\n",
       "      <td>0.0</td>\n",
       "      <td>...</td>\n",
       "      <td>0.0</td>\n",
       "      <td>0.0</td>\n",
       "      <td>0.0</td>\n",
       "      <td>0.0</td>\n",
       "      <td>0.0</td>\n",
       "      <td>0.0</td>\n",
       "      <td>0.0</td>\n",
       "      <td>0.0</td>\n",
       "      <td>False</td>\n",
       "      <td>spiderman_far_from_home</td>\n",
       "    </tr>\n",
       "  </tbody>\n",
       "</table>\n",
       "<p>5 rows × 10984 columns</p>\n",
       "</div>"
      ],
      "text/plain": [
       "   007  00s  01423   02   03  0539   06  0806  08230  0987  ...  zooey  zool  \\\n",
       "0  0.0  0.0    0.0  0.0  0.0   0.0  0.0   0.0    0.0   0.0  ...    0.0   0.0   \n",
       "1  0.0  0.0    0.0  0.0  0.0   0.0  0.0   0.0    0.0   0.0  ...    0.0   0.0   \n",
       "2  0.0  0.0    0.0  0.0  0.0   0.0  0.0   0.0    0.0   0.0  ...    0.0   0.0   \n",
       "3  0.0  0.0    0.0  0.0  0.0   0.0  0.0   0.0    0.0   0.0  ...    0.0   0.0   \n",
       "4  0.0  0.0    0.0  0.0  0.0   0.0  0.0   0.0    0.0   0.0  ...    0.0   0.0   \n",
       "\n",
       "   zoolander  zootopia  zorx  zowee   zu  zune  trigger_scene  \\\n",
       "0        0.0       0.0   0.0    0.0  0.0   0.0          False   \n",
       "1        0.0       0.0   0.0    0.0  0.0   0.0          False   \n",
       "2        0.0       0.0   0.0    0.0  0.0   0.0          False   \n",
       "3        0.0       0.0   0.0    0.0  0.0   0.0          False   \n",
       "4        0.0       0.0   0.0    0.0  0.0   0.0          False   \n",
       "\n",
       "                     title  \n",
       "0  spiderman_far_from_home  \n",
       "1  spiderman_far_from_home  \n",
       "2  spiderman_far_from_home  \n",
       "3  spiderman_far_from_home  \n",
       "4  spiderman_far_from_home  \n",
       "\n",
       "[5 rows x 10984 columns]"
      ]
     },
     "execution_count": 71,
     "metadata": {},
     "output_type": "execute_result"
    }
   ],
   "source": [
    "no_scene_df = pre_split[pre_split.trigger_scene == False]\n",
    "no_scene_df.head()"
   ]
  },
  {
   "cell_type": "code",
   "execution_count": 72,
   "metadata": {},
   "outputs": [
    {
     "data": {
      "text/html": [
       "<div>\n",
       "<style scoped>\n",
       "    .dataframe tbody tr th:only-of-type {\n",
       "        vertical-align: middle;\n",
       "    }\n",
       "\n",
       "    .dataframe tbody tr th {\n",
       "        vertical-align: top;\n",
       "    }\n",
       "\n",
       "    .dataframe thead th {\n",
       "        text-align: right;\n",
       "    }\n",
       "</style>\n",
       "<table border=\"1\" class=\"dataframe\">\n",
       "  <thead>\n",
       "    <tr style=\"text-align: right;\">\n",
       "      <th></th>\n",
       "      <th>007</th>\n",
       "      <th>00s</th>\n",
       "      <th>01423</th>\n",
       "      <th>02</th>\n",
       "      <th>03</th>\n",
       "      <th>0539</th>\n",
       "      <th>06</th>\n",
       "      <th>0806</th>\n",
       "      <th>08230</th>\n",
       "      <th>0987</th>\n",
       "      <th>...</th>\n",
       "      <th>zooey</th>\n",
       "      <th>zool</th>\n",
       "      <th>zoolander</th>\n",
       "      <th>zootopia</th>\n",
       "      <th>zorx</th>\n",
       "      <th>zowee</th>\n",
       "      <th>zu</th>\n",
       "      <th>zune</th>\n",
       "      <th>trigger_scene</th>\n",
       "      <th>title</th>\n",
       "    </tr>\n",
       "  </thead>\n",
       "  <tbody>\n",
       "    <tr>\n",
       "      <th>1276</th>\n",
       "      <td>0.0</td>\n",
       "      <td>0.0</td>\n",
       "      <td>0.0</td>\n",
       "      <td>0.0</td>\n",
       "      <td>0.0</td>\n",
       "      <td>0.0</td>\n",
       "      <td>0.0</td>\n",
       "      <td>0.0</td>\n",
       "      <td>0.0</td>\n",
       "      <td>0.0</td>\n",
       "      <td>...</td>\n",
       "      <td>0.0</td>\n",
       "      <td>0.0</td>\n",
       "      <td>0.0</td>\n",
       "      <td>0.0</td>\n",
       "      <td>0.0</td>\n",
       "      <td>0.0</td>\n",
       "      <td>0.0</td>\n",
       "      <td>0.0</td>\n",
       "      <td>True</td>\n",
       "      <td>237</td>\n",
       "    </tr>\n",
       "    <tr>\n",
       "      <th>1277</th>\n",
       "      <td>0.0</td>\n",
       "      <td>0.0</td>\n",
       "      <td>0.0</td>\n",
       "      <td>0.0</td>\n",
       "      <td>0.0</td>\n",
       "      <td>0.0</td>\n",
       "      <td>0.0</td>\n",
       "      <td>0.0</td>\n",
       "      <td>0.0</td>\n",
       "      <td>0.0</td>\n",
       "      <td>...</td>\n",
       "      <td>0.0</td>\n",
       "      <td>0.0</td>\n",
       "      <td>0.0</td>\n",
       "      <td>0.0</td>\n",
       "      <td>0.0</td>\n",
       "      <td>0.0</td>\n",
       "      <td>0.0</td>\n",
       "      <td>0.0</td>\n",
       "      <td>True</td>\n",
       "      <td>237</td>\n",
       "    </tr>\n",
       "    <tr>\n",
       "      <th>1278</th>\n",
       "      <td>0.0</td>\n",
       "      <td>0.0</td>\n",
       "      <td>0.0</td>\n",
       "      <td>0.0</td>\n",
       "      <td>0.0</td>\n",
       "      <td>0.0</td>\n",
       "      <td>0.0</td>\n",
       "      <td>0.0</td>\n",
       "      <td>0.0</td>\n",
       "      <td>0.0</td>\n",
       "      <td>...</td>\n",
       "      <td>0.0</td>\n",
       "      <td>0.0</td>\n",
       "      <td>0.0</td>\n",
       "      <td>0.0</td>\n",
       "      <td>0.0</td>\n",
       "      <td>0.0</td>\n",
       "      <td>0.0</td>\n",
       "      <td>0.0</td>\n",
       "      <td>True</td>\n",
       "      <td>237</td>\n",
       "    </tr>\n",
       "    <tr>\n",
       "      <th>1279</th>\n",
       "      <td>0.0</td>\n",
       "      <td>0.0</td>\n",
       "      <td>0.0</td>\n",
       "      <td>0.0</td>\n",
       "      <td>0.0</td>\n",
       "      <td>0.0</td>\n",
       "      <td>0.0</td>\n",
       "      <td>0.0</td>\n",
       "      <td>0.0</td>\n",
       "      <td>0.0</td>\n",
       "      <td>...</td>\n",
       "      <td>0.0</td>\n",
       "      <td>0.0</td>\n",
       "      <td>0.0</td>\n",
       "      <td>0.0</td>\n",
       "      <td>0.0</td>\n",
       "      <td>0.0</td>\n",
       "      <td>0.0</td>\n",
       "      <td>0.0</td>\n",
       "      <td>True</td>\n",
       "      <td>237</td>\n",
       "    </tr>\n",
       "    <tr>\n",
       "      <th>1280</th>\n",
       "      <td>0.0</td>\n",
       "      <td>0.0</td>\n",
       "      <td>0.0</td>\n",
       "      <td>0.0</td>\n",
       "      <td>0.0</td>\n",
       "      <td>0.0</td>\n",
       "      <td>0.0</td>\n",
       "      <td>0.0</td>\n",
       "      <td>0.0</td>\n",
       "      <td>0.0</td>\n",
       "      <td>...</td>\n",
       "      <td>0.0</td>\n",
       "      <td>0.0</td>\n",
       "      <td>0.0</td>\n",
       "      <td>0.0</td>\n",
       "      <td>0.0</td>\n",
       "      <td>0.0</td>\n",
       "      <td>0.0</td>\n",
       "      <td>0.0</td>\n",
       "      <td>True</td>\n",
       "      <td>237</td>\n",
       "    </tr>\n",
       "  </tbody>\n",
       "</table>\n",
       "<p>5 rows × 10984 columns</p>\n",
       "</div>"
      ],
      "text/plain": [
       "      007  00s  01423   02   03  0539   06  0806  08230  0987  ...  zooey  \\\n",
       "1276  0.0  0.0    0.0  0.0  0.0   0.0  0.0   0.0    0.0   0.0  ...    0.0   \n",
       "1277  0.0  0.0    0.0  0.0  0.0   0.0  0.0   0.0    0.0   0.0  ...    0.0   \n",
       "1278  0.0  0.0    0.0  0.0  0.0   0.0  0.0   0.0    0.0   0.0  ...    0.0   \n",
       "1279  0.0  0.0    0.0  0.0  0.0   0.0  0.0   0.0    0.0   0.0  ...    0.0   \n",
       "1280  0.0  0.0    0.0  0.0  0.0   0.0  0.0   0.0    0.0   0.0  ...    0.0   \n",
       "\n",
       "      zool  zoolander  zootopia  zorx  zowee   zu  zune  trigger_scene  title  \n",
       "1276   0.0        0.0       0.0   0.0    0.0  0.0   0.0           True    237  \n",
       "1277   0.0        0.0       0.0   0.0    0.0  0.0   0.0           True    237  \n",
       "1278   0.0        0.0       0.0   0.0    0.0  0.0   0.0           True    237  \n",
       "1279   0.0        0.0       0.0   0.0    0.0  0.0   0.0           True    237  \n",
       "1280   0.0        0.0       0.0   0.0    0.0  0.0   0.0           True    237  \n",
       "\n",
       "[5 rows x 10984 columns]"
      ]
     },
     "execution_count": 72,
     "metadata": {},
     "output_type": "execute_result"
    }
   ],
   "source": [
    "has_scene_df = pre_split[pre_split.trigger_scene == True]\n",
    "has_scene_df.head()"
   ]
  },
  {
   "cell_type": "markdown",
   "metadata": {},
   "source": [
    "##### Determining how many movies of each class will be in the train set."
   ]
  },
  {
   "cell_type": "code",
   "execution_count": 83,
   "metadata": {},
   "outputs": [
    {
     "name": "stdout",
     "output_type": "stream",
     "text": [
      "Number of movies with self-harm scenes: 128\n",
      "Number of movies with no self-harm scenes: 84\n",
      "----------------------------------------------------------\n",
      "Number of self-harm movies to put into the train set: 90\n",
      "Number of no self-harm movies to put into the train set: 59\n"
     ]
    }
   ],
   "source": [
    "n_self_harm = len(has_scene_df.title.iloc[:, 1].unique())\n",
    "n_no_self_harm = len(no_scene_df.title.iloc[:, 1].unique())\n",
    "percent_in_train = 0.7\n",
    "\n",
    "print(f'Number of movies with self-harm scenes: {n_self_harm}')\n",
    "print(f'Number of movies with no self-harm scenes: {n_no_self_harm}')\n",
    "\n",
    "print('----------------------------------------------------------')\n",
    "\n",
    "n_self_harm_in_train = round(n_self_harm * percent_in_train)\n",
    "n_no_self_harm_in_train = round(n_no_self_harm * percent_in_train)\n",
    "\n",
    "print(f'Number of self-harm movies to put into the train set: {n_self_harm_in_train}')\n",
    "print(f'Number of no self-harm movies to put into the train set: {n_no_self_harm_in_train}')"
   ]
  },
  {
   "cell_type": "markdown",
   "metadata": {},
   "source": [
    "##### Determining the point to split at and creating train and test data sets of each class"
   ]
  },
  {
   "cell_type": "code",
   "execution_count": 127,
   "metadata": {},
   "outputs": [],
   "source": [
    "last_has_scene_movie_in_train = has_scene_df.title.iloc[:, -1].unique()[:n_self_harm_in_train][-1]\n",
    "index_of_last_has_scene_movie_in_train = (has_scene_df[has_scene_df.title.iloc[:, -1] == last_has_scene_movie_in_train]\n",
    "                                          .index[-1])\n",
    "\n",
    "has_scene_rows_to_include_in_train = has_scene_df.loc[:index_of_last_has_scene_movie_in_train].iloc[:,:-2]\n",
    "has_scene_rows_to_include_in_test = has_scene_df.loc[index_of_last_has_scene_movie_in_train + 1:].iloc[:,:-2]"
   ]
  },
  {
   "cell_type": "code",
   "execution_count": 128,
   "metadata": {},
   "outputs": [],
   "source": [
    "last_no_scene_movie_in_train = no_scene_df.title.iloc[:, -1].unique()[:n_no_self_harm_in_train][-1]\n",
    "index_of_last_no_scene_movie_in_train = (no_scene_df[no_scene_df.title.iloc[:, -1] == last_no_scene_movie_in_train]\n",
    "                                          .index[-1])\n",
    "\n",
    "no_scene_rows_to_include_in_train = no_scene_df.loc[:index_of_last_no_scene_movie_in_train].iloc[:,:-2]\n",
    "no_scene_rows_to_include_in_test = no_scene_df.loc[index_of_last_no_scene_movie_in_train + 1:].iloc[:,:-2]"
   ]
  },
  {
   "cell_type": "markdown",
   "metadata": {},
   "source": [
    "##### Combining the separate class data sets into the final X_train and X_test data sets."
   ]
  },
  {
   "cell_type": "code",
   "execution_count": 129,
   "metadata": {},
   "outputs": [
    {
     "name": "stdout",
     "output_type": "stream",
     "text": [
      "Number of rows in train: 2141\n",
      "Number of rows in test: 818\n"
     ]
    }
   ],
   "source": [
    "X_train = pd.concat([no_scene_rows_to_include_in_train, has_scene_rows_to_include_in_train])\n",
    "X_test = pd.concat([no_scene_rows_to_include_in_test, has_scene_rows_to_include_in_test])\n",
    "\n",
    "print(f'Number of rows in train: {len(X_train)}')\n",
    "print(f'Number of rows in test: {len(X_test)}')"
   ]
  },
  {
   "cell_type": "markdown",
   "metadata": {},
   "source": [
    "Checking to see that the number of rows in the train and test sets match up with the original number of rows."
   ]
  },
  {
   "cell_type": "code",
   "execution_count": 137,
   "metadata": {},
   "outputs": [
    {
     "name": "stdout",
     "output_type": "stream",
     "text": [
      "Number of rows match up\n"
     ]
    }
   ],
   "source": [
    "if (len(X_train) + len(X_test)) == df.shape[0]:\n",
    "    print('Number of rows match up')\n",
    "else:\n",
    "    print('Number of rows do not match up')"
   ]
  },
  {
   "cell_type": "markdown",
   "metadata": {},
   "source": [
    "##### Creating separate Series of of the classes for train and test sets."
   ]
  },
  {
   "cell_type": "code",
   "execution_count": 140,
   "metadata": {},
   "outputs": [],
   "source": [
    "has_scene_class_rows_to_include_in_train = has_scene_df.loc[:index_of_last_has_scene_movie_in_train].iloc[:,-2]\n",
    "has_scene_class_rows_to_include_in_test = has_scene_df.loc[index_of_last_has_scene_movie_in_train + 1:].iloc[:,-2]\n",
    "\n",
    "no_scene_class_rows_to_include_in_train = no_scene_df.loc[:index_of_last_no_scene_movie_in_train].iloc[:,-2]\n",
    "no_scene_class_rows_to_include_in_test = no_scene_df.loc[index_of_last_no_scene_movie_in_train + 1:].iloc[:,-2]"
   ]
  },
  {
   "cell_type": "markdown",
   "metadata": {},
   "source": [
    "##### Creating the y_train and y_test variables."
   ]
  },
  {
   "cell_type": "code",
   "execution_count": 141,
   "metadata": {},
   "outputs": [
    {
     "name": "stdout",
     "output_type": "stream",
     "text": [
      "Number of rows in train: 2141\n",
      "Number of rows in test: 818\n"
     ]
    }
   ],
   "source": [
    "y_train = pd.concat([no_scene_class_rows_to_include_in_train, has_scene_class_rows_to_include_in_train])\n",
    "y_test = pd.concat([no_scene_class_rows_to_include_in_test, has_scene_class_rows_to_include_in_test])\n",
    "\n",
    "print(f'Number of rows in train: {len(y_train)}')\n",
    "print(f'Number of rows in test: {len(y_test)}')"
   ]
  },
  {
   "cell_type": "code",
   "execution_count": 142,
   "metadata": {},
   "outputs": [
    {
     "name": "stdout",
     "output_type": "stream",
     "text": [
      "Number of rows match up\n"
     ]
    }
   ],
   "source": [
    "if (len(y_train) + len(y_test)) == df.shape[0]:\n",
    "    print('Number of rows match up')\n",
    "else:\n",
    "    print('Number of rows do not match up')"
   ]
  },
  {
   "cell_type": "markdown",
   "metadata": {},
   "source": [
    "##### Making fresh train and test dataframes."
   ]
  },
  {
   "cell_type": "code",
   "execution_count": 143,
   "metadata": {},
   "outputs": [],
   "source": [
    "train = pd.DataFrame(dict(actual=y_train))\n",
    "test = pd.DataFrame(dict(actual=y_test))"
   ]
  },
  {
   "cell_type": "markdown",
   "metadata": {},
   "source": [
    "### Return to modeling.\n",
    "I will save some time by first performing a grid search so that I can know the best performing combination of parameters for each model. Then I can compare the models to each other and move forward with the best performer."
   ]
  },
  {
   "cell_type": "markdown",
   "metadata": {},
   "source": [
    "##### Logistic Regression"
   ]
  },
  {
   "cell_type": "code",
   "execution_count": 147,
   "metadata": {},
   "outputs": [],
   "source": [
    "lr = LogisticRegression(random_state=123)\n",
    "parameters = {'C':[1, 2, 5, 10, 20, 50, 100],\n",
    "              'solver':['liblinear', 'saga', 'newton-cg', 'lbfgs'],}\n",
    "\n",
    "lr_gs = GridSearchCV(estimator=lr, param_grid=parameters)\n",
    "\n",
    "lr_gs.fit(X_train, y_train)"
   ]
  },
  {
   "cell_type": "code",
   "execution_count": 151,
   "metadata": {},
   "outputs": [
    {
     "name": "stderr",
     "output_type": "stream",
     "text": [
      "C:\\Users\\mz211\\AppData\\Local\\Continuum\\anaconda3\\lib\\site-packages\\sklearn\\utils\\deprecation.py:125: FutureWarning: You are accessing a training score ('split0_train_score'), which will not be available by default any more in 0.21. If you need training scores, please set return_train_score=True\n",
      "  warnings.warn(*warn_args, **warn_kwargs)\n",
      "C:\\Users\\mz211\\AppData\\Local\\Continuum\\anaconda3\\lib\\site-packages\\sklearn\\utils\\deprecation.py:125: FutureWarning: You are accessing a training score ('split1_train_score'), which will not be available by default any more in 0.21. If you need training scores, please set return_train_score=True\n",
      "  warnings.warn(*warn_args, **warn_kwargs)\n",
      "C:\\Users\\mz211\\AppData\\Local\\Continuum\\anaconda3\\lib\\site-packages\\sklearn\\utils\\deprecation.py:125: FutureWarning: You are accessing a training score ('split2_train_score'), which will not be available by default any more in 0.21. If you need training scores, please set return_train_score=True\n",
      "  warnings.warn(*warn_args, **warn_kwargs)\n",
      "C:\\Users\\mz211\\AppData\\Local\\Continuum\\anaconda3\\lib\\site-packages\\sklearn\\utils\\deprecation.py:125: FutureWarning: You are accessing a training score ('mean_train_score'), which will not be available by default any more in 0.21. If you need training scores, please set return_train_score=True\n",
      "  warnings.warn(*warn_args, **warn_kwargs)\n",
      "C:\\Users\\mz211\\AppData\\Local\\Continuum\\anaconda3\\lib\\site-packages\\sklearn\\utils\\deprecation.py:125: FutureWarning: You are accessing a training score ('std_train_score'), which will not be available by default any more in 0.21. If you need training scores, please set return_train_score=True\n",
      "  warnings.warn(*warn_args, **warn_kwargs)\n"
     ]
    },
    {
     "data": {
      "text/html": [
       "<div>\n",
       "<style scoped>\n",
       "    .dataframe tbody tr th:only-of-type {\n",
       "        vertical-align: middle;\n",
       "    }\n",
       "\n",
       "    .dataframe tbody tr th {\n",
       "        vertical-align: top;\n",
       "    }\n",
       "\n",
       "    .dataframe thead th {\n",
       "        text-align: right;\n",
       "    }\n",
       "</style>\n",
       "<table border=\"1\" class=\"dataframe\">\n",
       "  <thead>\n",
       "    <tr style=\"text-align: right;\">\n",
       "      <th></th>\n",
       "      <th>mean_fit_time</th>\n",
       "      <th>std_fit_time</th>\n",
       "      <th>mean_score_time</th>\n",
       "      <th>std_score_time</th>\n",
       "      <th>param_C</th>\n",
       "      <th>param_solver</th>\n",
       "      <th>params</th>\n",
       "      <th>split0_test_score</th>\n",
       "      <th>split1_test_score</th>\n",
       "      <th>split2_test_score</th>\n",
       "      <th>mean_test_score</th>\n",
       "      <th>std_test_score</th>\n",
       "      <th>rank_test_score</th>\n",
       "      <th>split0_train_score</th>\n",
       "      <th>split1_train_score</th>\n",
       "      <th>split2_train_score</th>\n",
       "      <th>mean_train_score</th>\n",
       "      <th>std_train_score</th>\n",
       "    </tr>\n",
       "  </thead>\n",
       "  <tbody>\n",
       "    <tr>\n",
       "      <th>0</th>\n",
       "      <td>0.715723</td>\n",
       "      <td>0.128862</td>\n",
       "      <td>0.035192</td>\n",
       "      <td>0.002163</td>\n",
       "      <td>1</td>\n",
       "      <td>liblinear</td>\n",
       "      <td>{'C': 1, 'solver': 'liblinear'}</td>\n",
       "      <td>0.615385</td>\n",
       "      <td>0.582048</td>\n",
       "      <td>0.559607</td>\n",
       "      <td>0.585708</td>\n",
       "      <td>0.022923</td>\n",
       "      <td>1</td>\n",
       "      <td>0.922160</td>\n",
       "      <td>0.927871</td>\n",
       "      <td>0.927871</td>\n",
       "      <td>0.925967</td>\n",
       "      <td>0.002692</td>\n",
       "    </tr>\n",
       "    <tr>\n",
       "      <th>1</th>\n",
       "      <td>10.225089</td>\n",
       "      <td>0.115157</td>\n",
       "      <td>0.030126</td>\n",
       "      <td>0.003183</td>\n",
       "      <td>1</td>\n",
       "      <td>saga</td>\n",
       "      <td>{'C': 1, 'solver': 'saga'}</td>\n",
       "      <td>0.615385</td>\n",
       "      <td>0.582048</td>\n",
       "      <td>0.558205</td>\n",
       "      <td>0.585241</td>\n",
       "      <td>0.023458</td>\n",
       "      <td>2</td>\n",
       "      <td>0.922160</td>\n",
       "      <td>0.927871</td>\n",
       "      <td>0.927171</td>\n",
       "      <td>0.925734</td>\n",
       "      <td>0.002543</td>\n",
       "    </tr>\n",
       "    <tr>\n",
       "      <th>2</th>\n",
       "      <td>3.187372</td>\n",
       "      <td>0.388248</td>\n",
       "      <td>0.027305</td>\n",
       "      <td>0.003512</td>\n",
       "      <td>1</td>\n",
       "      <td>newton-cg</td>\n",
       "      <td>{'C': 1, 'solver': 'newton-cg'}</td>\n",
       "      <td>0.615385</td>\n",
       "      <td>0.582048</td>\n",
       "      <td>0.558205</td>\n",
       "      <td>0.585241</td>\n",
       "      <td>0.023458</td>\n",
       "      <td>2</td>\n",
       "      <td>0.922160</td>\n",
       "      <td>0.927871</td>\n",
       "      <td>0.927171</td>\n",
       "      <td>0.925734</td>\n",
       "      <td>0.002543</td>\n",
       "    </tr>\n",
       "    <tr>\n",
       "      <th>3</th>\n",
       "      <td>1.194815</td>\n",
       "      <td>0.111326</td>\n",
       "      <td>0.036052</td>\n",
       "      <td>0.004271</td>\n",
       "      <td>1</td>\n",
       "      <td>lbfgs</td>\n",
       "      <td>{'C': 1, 'solver': 'lbfgs'}</td>\n",
       "      <td>0.615385</td>\n",
       "      <td>0.582048</td>\n",
       "      <td>0.558205</td>\n",
       "      <td>0.585241</td>\n",
       "      <td>0.023458</td>\n",
       "      <td>2</td>\n",
       "      <td>0.922160</td>\n",
       "      <td>0.927871</td>\n",
       "      <td>0.927171</td>\n",
       "      <td>0.925734</td>\n",
       "      <td>0.002543</td>\n",
       "    </tr>\n",
       "    <tr>\n",
       "      <th>5</th>\n",
       "      <td>10.404035</td>\n",
       "      <td>0.616583</td>\n",
       "      <td>0.035068</td>\n",
       "      <td>0.004120</td>\n",
       "      <td>2</td>\n",
       "      <td>saga</td>\n",
       "      <td>{'C': 2, 'solver': 'saga'}</td>\n",
       "      <td>0.604196</td>\n",
       "      <td>0.559607</td>\n",
       "      <td>0.548387</td>\n",
       "      <td>0.570761</td>\n",
       "      <td>0.024114</td>\n",
       "      <td>5</td>\n",
       "      <td>0.973352</td>\n",
       "      <td>0.982493</td>\n",
       "      <td>0.974790</td>\n",
       "      <td>0.976878</td>\n",
       "      <td>0.004013</td>\n",
       "    </tr>\n",
       "  </tbody>\n",
       "</table>\n",
       "</div>"
      ],
      "text/plain": [
       "   mean_fit_time  std_fit_time  mean_score_time  std_score_time param_C  \\\n",
       "0       0.715723      0.128862         0.035192        0.002163       1   \n",
       "1      10.225089      0.115157         0.030126        0.003183       1   \n",
       "2       3.187372      0.388248         0.027305        0.003512       1   \n",
       "3       1.194815      0.111326         0.036052        0.004271       1   \n",
       "5      10.404035      0.616583         0.035068        0.004120       2   \n",
       "\n",
       "  param_solver                           params  split0_test_score  \\\n",
       "0    liblinear  {'C': 1, 'solver': 'liblinear'}           0.615385   \n",
       "1         saga       {'C': 1, 'solver': 'saga'}           0.615385   \n",
       "2    newton-cg  {'C': 1, 'solver': 'newton-cg'}           0.615385   \n",
       "3        lbfgs      {'C': 1, 'solver': 'lbfgs'}           0.615385   \n",
       "5         saga       {'C': 2, 'solver': 'saga'}           0.604196   \n",
       "\n",
       "   split1_test_score  split2_test_score  mean_test_score  std_test_score  \\\n",
       "0           0.582048           0.559607         0.585708        0.022923   \n",
       "1           0.582048           0.558205         0.585241        0.023458   \n",
       "2           0.582048           0.558205         0.585241        0.023458   \n",
       "3           0.582048           0.558205         0.585241        0.023458   \n",
       "5           0.559607           0.548387         0.570761        0.024114   \n",
       "\n",
       "   rank_test_score  split0_train_score  split1_train_score  \\\n",
       "0                1            0.922160            0.927871   \n",
       "1                2            0.922160            0.927871   \n",
       "2                2            0.922160            0.927871   \n",
       "3                2            0.922160            0.927871   \n",
       "5                5            0.973352            0.982493   \n",
       "\n",
       "   split2_train_score  mean_train_score  std_train_score  \n",
       "0            0.927871          0.925967         0.002692  \n",
       "1            0.927171          0.925734         0.002543  \n",
       "2            0.927171          0.925734         0.002543  \n",
       "3            0.927171          0.925734         0.002543  \n",
       "5            0.974790          0.976878         0.004013  "
      ]
     },
     "execution_count": 151,
     "metadata": {},
     "output_type": "execute_result"
    }
   ],
   "source": [
    "pd.DataFrame(lr_gs.cv_results_).sort_values(by='rank_test_score').head()"
   ]
  },
  {
   "cell_type": "code",
   "execution_count": 171,
   "metadata": {},
   "outputs": [
    {
     "name": "stdout",
     "output_type": "stream",
     "text": [
      "{'C': 1, 'solver': 'liblinear'}\n",
      "Score: 0.5857076132648296\n"
     ]
    }
   ],
   "source": [
    "print(lr_gs.best_params_)\n",
    "print(f'Score: {lr_gs.best_score_}')"
   ]
  },
  {
   "cell_type": "code",
   "execution_count": 184,
   "metadata": {},
   "outputs": [
    {
     "data": {
      "text/plain": [
       "{'model': ['logistic_regression'], 'score': [0.5857076132648296]}"
      ]
     },
     "execution_count": 184,
     "metadata": {},
     "output_type": "execute_result"
    }
   ],
   "source": [
    "scores = {'model':['logistic_regression'],\n",
    "          'score':[lr_gs.best_score_]}\n",
    "scores"
   ]
  },
  {
   "cell_type": "markdown",
   "metadata": {},
   "source": [
    "##### Decision Tree"
   ]
  },
  {
   "cell_type": "code",
   "execution_count": 155,
   "metadata": {},
   "outputs": [
    {
     "name": "stderr",
     "output_type": "stream",
     "text": [
      "C:\\Users\\mz211\\AppData\\Local\\Continuum\\anaconda3\\lib\\site-packages\\sklearn\\model_selection\\_split.py:2053: FutureWarning: You should specify a value for 'cv' instead of relying on the default value. The default value will change from 3 to 5 in version 0.22.\n",
      "  warnings.warn(CV_WARNING, FutureWarning)\n"
     ]
    },
    {
     "data": {
      "text/plain": [
       "GridSearchCV(cv='warn', error_score='raise-deprecating',\n",
       "       estimator=DecisionTreeClassifier(class_weight=None, criterion='gini', max_depth=None,\n",
       "            max_features=None, max_leaf_nodes=None,\n",
       "            min_impurity_decrease=0.0, min_impurity_split=None,\n",
       "            min_samples_leaf=1, min_samples_split=2,\n",
       "            min_weight_fraction_leaf=0.0, presort=False, random_state=123,\n",
       "            splitter='best'),\n",
       "       fit_params=None, iid='warn', n_jobs=None,\n",
       "       param_grid={'criterion': ['gini', 'entropy'], 'max_depth': [3, 5, 7, 10, 20], 'min_samples_split': [2, 3, 4, 5, 10, 20], 'max_leaf_nodes': [5, 10, 20]},\n",
       "       pre_dispatch='2*n_jobs', refit=True, return_train_score='warn',\n",
       "       scoring=None, verbose=0)"
      ]
     },
     "execution_count": 155,
     "metadata": {},
     "output_type": "execute_result"
    }
   ],
   "source": [
    "dt = DecisionTreeClassifier(random_state=123)\n",
    "parameters = {'criterion':['gini', 'entropy'],\n",
    "              'max_depth':[3, 5, 7, 10, 20],\n",
    "              'min_samples_split':[2, 3, 4, 5, 10, 20],\n",
    "              'max_leaf_nodes':[5, 10, 20]}\n",
    "\n",
    "dt_gs = GridSearchCV(estimator=dt, param_grid=parameters)\n",
    "\n",
    "dt_gs.fit(X_train, y_train)"
   ]
  },
  {
   "cell_type": "code",
   "execution_count": 156,
   "metadata": {
    "scrolled": true
   },
   "outputs": [
    {
     "name": "stderr",
     "output_type": "stream",
     "text": [
      "C:\\Users\\mz211\\AppData\\Local\\Continuum\\anaconda3\\lib\\site-packages\\sklearn\\utils\\deprecation.py:125: FutureWarning: You are accessing a training score ('split0_train_score'), which will not be available by default any more in 0.21. If you need training scores, please set return_train_score=True\n",
      "  warnings.warn(*warn_args, **warn_kwargs)\n",
      "C:\\Users\\mz211\\AppData\\Local\\Continuum\\anaconda3\\lib\\site-packages\\sklearn\\utils\\deprecation.py:125: FutureWarning: You are accessing a training score ('split1_train_score'), which will not be available by default any more in 0.21. If you need training scores, please set return_train_score=True\n",
      "  warnings.warn(*warn_args, **warn_kwargs)\n",
      "C:\\Users\\mz211\\AppData\\Local\\Continuum\\anaconda3\\lib\\site-packages\\sklearn\\utils\\deprecation.py:125: FutureWarning: You are accessing a training score ('split2_train_score'), which will not be available by default any more in 0.21. If you need training scores, please set return_train_score=True\n",
      "  warnings.warn(*warn_args, **warn_kwargs)\n",
      "C:\\Users\\mz211\\AppData\\Local\\Continuum\\anaconda3\\lib\\site-packages\\sklearn\\utils\\deprecation.py:125: FutureWarning: You are accessing a training score ('mean_train_score'), which will not be available by default any more in 0.21. If you need training scores, please set return_train_score=True\n",
      "  warnings.warn(*warn_args, **warn_kwargs)\n",
      "C:\\Users\\mz211\\AppData\\Local\\Continuum\\anaconda3\\lib\\site-packages\\sklearn\\utils\\deprecation.py:125: FutureWarning: You are accessing a training score ('std_train_score'), which will not be available by default any more in 0.21. If you need training scores, please set return_train_score=True\n",
      "  warnings.warn(*warn_args, **warn_kwargs)\n"
     ]
    },
    {
     "data": {
      "text/html": [
       "<div>\n",
       "<style scoped>\n",
       "    .dataframe tbody tr th:only-of-type {\n",
       "        vertical-align: middle;\n",
       "    }\n",
       "\n",
       "    .dataframe tbody tr th {\n",
       "        vertical-align: top;\n",
       "    }\n",
       "\n",
       "    .dataframe thead th {\n",
       "        text-align: right;\n",
       "    }\n",
       "</style>\n",
       "<table border=\"1\" class=\"dataframe\">\n",
       "  <thead>\n",
       "    <tr style=\"text-align: right;\">\n",
       "      <th></th>\n",
       "      <th>mean_fit_time</th>\n",
       "      <th>std_fit_time</th>\n",
       "      <th>mean_score_time</th>\n",
       "      <th>std_score_time</th>\n",
       "      <th>param_criterion</th>\n",
       "      <th>param_max_depth</th>\n",
       "      <th>param_max_leaf_nodes</th>\n",
       "      <th>param_min_samples_split</th>\n",
       "      <th>params</th>\n",
       "      <th>split0_test_score</th>\n",
       "      <th>split1_test_score</th>\n",
       "      <th>split2_test_score</th>\n",
       "      <th>mean_test_score</th>\n",
       "      <th>std_test_score</th>\n",
       "      <th>rank_test_score</th>\n",
       "      <th>split0_train_score</th>\n",
       "      <th>split1_train_score</th>\n",
       "      <th>split2_train_score</th>\n",
       "      <th>mean_train_score</th>\n",
       "      <th>std_train_score</th>\n",
       "    </tr>\n",
       "  </thead>\n",
       "  <tbody>\n",
       "    <tr>\n",
       "      <th>132</th>\n",
       "      <td>1.482320</td>\n",
       "      <td>0.091926</td>\n",
       "      <td>0.060545</td>\n",
       "      <td>0.002860</td>\n",
       "      <td>entropy</td>\n",
       "      <td>7</td>\n",
       "      <td>10</td>\n",
       "      <td>2</td>\n",
       "      <td>{'criterion': 'entropy', 'max_depth': 7, 'max_...</td>\n",
       "      <td>0.584615</td>\n",
       "      <td>0.568022</td>\n",
       "      <td>0.591865</td>\n",
       "      <td>0.581504</td>\n",
       "      <td>0.009976</td>\n",
       "      <td>1</td>\n",
       "      <td>0.613604</td>\n",
       "      <td>0.644258</td>\n",
       "      <td>0.631653</td>\n",
       "      <td>0.629838</td>\n",
       "      <td>0.01258</td>\n",
       "    </tr>\n",
       "    <tr>\n",
       "      <th>133</th>\n",
       "      <td>1.574496</td>\n",
       "      <td>0.057019</td>\n",
       "      <td>0.061578</td>\n",
       "      <td>0.016888</td>\n",
       "      <td>entropy</td>\n",
       "      <td>7</td>\n",
       "      <td>10</td>\n",
       "      <td>3</td>\n",
       "      <td>{'criterion': 'entropy', 'max_depth': 7, 'max_...</td>\n",
       "      <td>0.584615</td>\n",
       "      <td>0.568022</td>\n",
       "      <td>0.591865</td>\n",
       "      <td>0.581504</td>\n",
       "      <td>0.009976</td>\n",
       "      <td>1</td>\n",
       "      <td>0.613604</td>\n",
       "      <td>0.644258</td>\n",
       "      <td>0.631653</td>\n",
       "      <td>0.629838</td>\n",
       "      <td>0.01258</td>\n",
       "    </tr>\n",
       "    <tr>\n",
       "      <th>134</th>\n",
       "      <td>1.289052</td>\n",
       "      <td>0.037146</td>\n",
       "      <td>0.049612</td>\n",
       "      <td>0.004415</td>\n",
       "      <td>entropy</td>\n",
       "      <td>7</td>\n",
       "      <td>10</td>\n",
       "      <td>4</td>\n",
       "      <td>{'criterion': 'entropy', 'max_depth': 7, 'max_...</td>\n",
       "      <td>0.584615</td>\n",
       "      <td>0.568022</td>\n",
       "      <td>0.591865</td>\n",
       "      <td>0.581504</td>\n",
       "      <td>0.009976</td>\n",
       "      <td>1</td>\n",
       "      <td>0.613604</td>\n",
       "      <td>0.644258</td>\n",
       "      <td>0.631653</td>\n",
       "      <td>0.629838</td>\n",
       "      <td>0.01258</td>\n",
       "    </tr>\n",
       "    <tr>\n",
       "      <th>135</th>\n",
       "      <td>1.265287</td>\n",
       "      <td>0.019603</td>\n",
       "      <td>0.051306</td>\n",
       "      <td>0.005058</td>\n",
       "      <td>entropy</td>\n",
       "      <td>7</td>\n",
       "      <td>10</td>\n",
       "      <td>5</td>\n",
       "      <td>{'criterion': 'entropy', 'max_depth': 7, 'max_...</td>\n",
       "      <td>0.584615</td>\n",
       "      <td>0.568022</td>\n",
       "      <td>0.591865</td>\n",
       "      <td>0.581504</td>\n",
       "      <td>0.009976</td>\n",
       "      <td>1</td>\n",
       "      <td>0.613604</td>\n",
       "      <td>0.644258</td>\n",
       "      <td>0.631653</td>\n",
       "      <td>0.629838</td>\n",
       "      <td>0.01258</td>\n",
       "    </tr>\n",
       "    <tr>\n",
       "      <th>136</th>\n",
       "      <td>1.249575</td>\n",
       "      <td>0.013773</td>\n",
       "      <td>0.052100</td>\n",
       "      <td>0.000414</td>\n",
       "      <td>entropy</td>\n",
       "      <td>7</td>\n",
       "      <td>10</td>\n",
       "      <td>10</td>\n",
       "      <td>{'criterion': 'entropy', 'max_depth': 7, 'max_...</td>\n",
       "      <td>0.584615</td>\n",
       "      <td>0.568022</td>\n",
       "      <td>0.591865</td>\n",
       "      <td>0.581504</td>\n",
       "      <td>0.009976</td>\n",
       "      <td>1</td>\n",
       "      <td>0.613604</td>\n",
       "      <td>0.644258</td>\n",
       "      <td>0.631653</td>\n",
       "      <td>0.629838</td>\n",
       "      <td>0.01258</td>\n",
       "    </tr>\n",
       "  </tbody>\n",
       "</table>\n",
       "</div>"
      ],
      "text/plain": [
       "     mean_fit_time  std_fit_time  mean_score_time  std_score_time  \\\n",
       "132       1.482320      0.091926         0.060545        0.002860   \n",
       "133       1.574496      0.057019         0.061578        0.016888   \n",
       "134       1.289052      0.037146         0.049612        0.004415   \n",
       "135       1.265287      0.019603         0.051306        0.005058   \n",
       "136       1.249575      0.013773         0.052100        0.000414   \n",
       "\n",
       "    param_criterion param_max_depth param_max_leaf_nodes  \\\n",
       "132         entropy               7                   10   \n",
       "133         entropy               7                   10   \n",
       "134         entropy               7                   10   \n",
       "135         entropy               7                   10   \n",
       "136         entropy               7                   10   \n",
       "\n",
       "    param_min_samples_split  \\\n",
       "132                       2   \n",
       "133                       3   \n",
       "134                       4   \n",
       "135                       5   \n",
       "136                      10   \n",
       "\n",
       "                                                params  split0_test_score  \\\n",
       "132  {'criterion': 'entropy', 'max_depth': 7, 'max_...           0.584615   \n",
       "133  {'criterion': 'entropy', 'max_depth': 7, 'max_...           0.584615   \n",
       "134  {'criterion': 'entropy', 'max_depth': 7, 'max_...           0.584615   \n",
       "135  {'criterion': 'entropy', 'max_depth': 7, 'max_...           0.584615   \n",
       "136  {'criterion': 'entropy', 'max_depth': 7, 'max_...           0.584615   \n",
       "\n",
       "     split1_test_score  split2_test_score  mean_test_score  std_test_score  \\\n",
       "132           0.568022           0.591865         0.581504        0.009976   \n",
       "133           0.568022           0.591865         0.581504        0.009976   \n",
       "134           0.568022           0.591865         0.581504        0.009976   \n",
       "135           0.568022           0.591865         0.581504        0.009976   \n",
       "136           0.568022           0.591865         0.581504        0.009976   \n",
       "\n",
       "     rank_test_score  split0_train_score  split1_train_score  \\\n",
       "132                1            0.613604            0.644258   \n",
       "133                1            0.613604            0.644258   \n",
       "134                1            0.613604            0.644258   \n",
       "135                1            0.613604            0.644258   \n",
       "136                1            0.613604            0.644258   \n",
       "\n",
       "     split2_train_score  mean_train_score  std_train_score  \n",
       "132            0.631653          0.629838          0.01258  \n",
       "133            0.631653          0.629838          0.01258  \n",
       "134            0.631653          0.629838          0.01258  \n",
       "135            0.631653          0.629838          0.01258  \n",
       "136            0.631653          0.629838          0.01258  "
      ]
     },
     "execution_count": 156,
     "metadata": {},
     "output_type": "execute_result"
    }
   ],
   "source": [
    "pd.DataFrame(dt_gs.cv_results_).sort_values(by='rank_test_score').head()"
   ]
  },
  {
   "cell_type": "code",
   "execution_count": 169,
   "metadata": {},
   "outputs": [
    {
     "name": "stdout",
     "output_type": "stream",
     "text": [
      "{'criterion': 'entropy', 'max_depth': 7, 'max_leaf_nodes': 10, 'min_samples_split': 2}\n",
      "Score: 0.5815039701074264\n"
     ]
    }
   ],
   "source": [
    "print(dt_gs.best_params_)\n",
    "print(f'Score: {dt_gs.best_score_}')"
   ]
  },
  {
   "cell_type": "code",
   "execution_count": 186,
   "metadata": {},
   "outputs": [
    {
     "data": {
      "text/plain": [
       "{'model': ['logistic_regression', 'decision_tree'],\n",
       " 'score': [0.5857076132648296, 0.5815039701074264]}"
      ]
     },
     "execution_count": 186,
     "metadata": {},
     "output_type": "execute_result"
    }
   ],
   "source": [
    "scores['model'].append('decision_tree')\n",
    "scores['score'].append(dt_gs.best_score_)\n",
    "scores"
   ]
  },
  {
   "cell_type": "markdown",
   "metadata": {},
   "source": [
    "##### Random Forest"
   ]
  },
  {
   "cell_type": "code",
   "execution_count": 172,
   "metadata": {
    "scrolled": true
   },
   "outputs": [
    {
     "name": "stderr",
     "output_type": "stream",
     "text": [
      "C:\\Users\\mz211\\AppData\\Local\\Continuum\\anaconda3\\lib\\site-packages\\sklearn\\model_selection\\_split.py:2053: FutureWarning: You should specify a value for 'cv' instead of relying on the default value. The default value will change from 3 to 5 in version 0.22.\n",
      "  warnings.warn(CV_WARNING, FutureWarning)\n"
     ]
    },
    {
     "data": {
      "text/plain": [
       "GridSearchCV(cv='warn', error_score='raise-deprecating',\n",
       "       estimator=RandomForestClassifier(bootstrap=True, class_weight=None, criterion='gini',\n",
       "            max_depth=None, max_features='auto', max_leaf_nodes=None,\n",
       "            min_impurity_decrease=0.0, min_impurity_split=None,\n",
       "            min_samples_leaf=1, min_samples_split=2,\n",
       "            min_weight_fraction_leaf=0.0, n_estimators='warn', n_jobs=None,\n",
       "            oob_score=False, random_state=123, verbose=0, warm_start=False),\n",
       "       fit_params=None, iid='warn', n_jobs=None,\n",
       "       param_grid={'n_estimators': [5, 10, 15, 25, 50], 'criterion': ['gini', 'entropy'], 'max_depth': [3, 5, 7, 10, 20], 'min_samples_split': [2, 3, 4, 5, 10, 20], 'min_samples_leaf': [1, 2, 3, 4, 5]},\n",
       "       pre_dispatch='2*n_jobs', refit=True, return_train_score='warn',\n",
       "       scoring=None, verbose=0)"
      ]
     },
     "execution_count": 172,
     "metadata": {},
     "output_type": "execute_result"
    }
   ],
   "source": [
    "rf = RandomForestClassifier(random_state=123)\n",
    "parameters = {'n_estimators':[5, 10, 15, 25, 50],\n",
    "              'criterion':['gini', 'entropy'],\n",
    "              'max_depth':[3, 5, 7, 10, 20],\n",
    "              'min_samples_split':[2, 3, 4, 5, 10, 20],\n",
    "              'min_samples_leaf':[1, 2, 3, 4, 5]}\n",
    "\n",
    "rf_gs = GridSearchCV(estimator=rf, param_grid=parameters)\n",
    "rf_gs.fit(X_train, y_train)"
   ]
  },
  {
   "cell_type": "code",
   "execution_count": 173,
   "metadata": {},
   "outputs": [
    {
     "name": "stderr",
     "output_type": "stream",
     "text": [
      "C:\\Users\\mz211\\AppData\\Local\\Continuum\\anaconda3\\lib\\site-packages\\sklearn\\utils\\deprecation.py:125: FutureWarning: You are accessing a training score ('split0_train_score'), which will not be available by default any more in 0.21. If you need training scores, please set return_train_score=True\n",
      "  warnings.warn(*warn_args, **warn_kwargs)\n",
      "C:\\Users\\mz211\\AppData\\Local\\Continuum\\anaconda3\\lib\\site-packages\\sklearn\\utils\\deprecation.py:125: FutureWarning: You are accessing a training score ('split1_train_score'), which will not be available by default any more in 0.21. If you need training scores, please set return_train_score=True\n",
      "  warnings.warn(*warn_args, **warn_kwargs)\n",
      "C:\\Users\\mz211\\AppData\\Local\\Continuum\\anaconda3\\lib\\site-packages\\sklearn\\utils\\deprecation.py:125: FutureWarning: You are accessing a training score ('split2_train_score'), which will not be available by default any more in 0.21. If you need training scores, please set return_train_score=True\n",
      "  warnings.warn(*warn_args, **warn_kwargs)\n",
      "C:\\Users\\mz211\\AppData\\Local\\Continuum\\anaconda3\\lib\\site-packages\\sklearn\\utils\\deprecation.py:125: FutureWarning: You are accessing a training score ('mean_train_score'), which will not be available by default any more in 0.21. If you need training scores, please set return_train_score=True\n",
      "  warnings.warn(*warn_args, **warn_kwargs)\n",
      "C:\\Users\\mz211\\AppData\\Local\\Continuum\\anaconda3\\lib\\site-packages\\sklearn\\utils\\deprecation.py:125: FutureWarning: You are accessing a training score ('std_train_score'), which will not be available by default any more in 0.21. If you need training scores, please set return_train_score=True\n",
      "  warnings.warn(*warn_args, **warn_kwargs)\n"
     ]
    },
    {
     "data": {
      "text/html": [
       "<div>\n",
       "<style scoped>\n",
       "    .dataframe tbody tr th:only-of-type {\n",
       "        vertical-align: middle;\n",
       "    }\n",
       "\n",
       "    .dataframe tbody tr th {\n",
       "        vertical-align: top;\n",
       "    }\n",
       "\n",
       "    .dataframe thead th {\n",
       "        text-align: right;\n",
       "    }\n",
       "</style>\n",
       "<table border=\"1\" class=\"dataframe\">\n",
       "  <thead>\n",
       "    <tr style=\"text-align: right;\">\n",
       "      <th></th>\n",
       "      <th>mean_fit_time</th>\n",
       "      <th>std_fit_time</th>\n",
       "      <th>mean_score_time</th>\n",
       "      <th>std_score_time</th>\n",
       "      <th>param_criterion</th>\n",
       "      <th>param_max_depth</th>\n",
       "      <th>param_min_samples_leaf</th>\n",
       "      <th>param_min_samples_split</th>\n",
       "      <th>param_n_estimators</th>\n",
       "      <th>params</th>\n",
       "      <th>...</th>\n",
       "      <th>split1_test_score</th>\n",
       "      <th>split2_test_score</th>\n",
       "      <th>mean_test_score</th>\n",
       "      <th>std_test_score</th>\n",
       "      <th>rank_test_score</th>\n",
       "      <th>split0_train_score</th>\n",
       "      <th>split1_train_score</th>\n",
       "      <th>split2_train_score</th>\n",
       "      <th>mean_train_score</th>\n",
       "      <th>std_train_score</th>\n",
       "    </tr>\n",
       "  </thead>\n",
       "  <tbody>\n",
       "    <tr>\n",
       "      <th>603</th>\n",
       "      <td>0.638639</td>\n",
       "      <td>0.042494</td>\n",
       "      <td>0.053915</td>\n",
       "      <td>0.003774</td>\n",
       "      <td>gini</td>\n",
       "      <td>20</td>\n",
       "      <td>1</td>\n",
       "      <td>2</td>\n",
       "      <td>25</td>\n",
       "      <td>{'criterion': 'gini', 'max_depth': 20, 'min_sa...</td>\n",
       "      <td>...</td>\n",
       "      <td>0.591865</td>\n",
       "      <td>0.582048</td>\n",
       "      <td>0.590845</td>\n",
       "      <td>0.006798</td>\n",
       "      <td>1</td>\n",
       "      <td>0.694250</td>\n",
       "      <td>0.710784</td>\n",
       "      <td>0.712885</td>\n",
       "      <td>0.705973</td>\n",
       "      <td>0.008334</td>\n",
       "    </tr>\n",
       "    <tr>\n",
       "      <th>628</th>\n",
       "      <td>0.614034</td>\n",
       "      <td>0.021347</td>\n",
       "      <td>0.048756</td>\n",
       "      <td>0.006313</td>\n",
       "      <td>gini</td>\n",
       "      <td>20</td>\n",
       "      <td>1</td>\n",
       "      <td>20</td>\n",
       "      <td>25</td>\n",
       "      <td>{'criterion': 'gini', 'max_depth': 20, 'min_sa...</td>\n",
       "      <td>...</td>\n",
       "      <td>0.580645</td>\n",
       "      <td>0.593268</td>\n",
       "      <td>0.588977</td>\n",
       "      <td>0.005888</td>\n",
       "      <td>2</td>\n",
       "      <td>0.680224</td>\n",
       "      <td>0.688375</td>\n",
       "      <td>0.696078</td>\n",
       "      <td>0.688226</td>\n",
       "      <td>0.006473</td>\n",
       "    </tr>\n",
       "    <tr>\n",
       "      <th>623</th>\n",
       "      <td>0.632251</td>\n",
       "      <td>0.012906</td>\n",
       "      <td>0.056195</td>\n",
       "      <td>0.003128</td>\n",
       "      <td>gini</td>\n",
       "      <td>20</td>\n",
       "      <td>1</td>\n",
       "      <td>10</td>\n",
       "      <td>25</td>\n",
       "      <td>{'criterion': 'gini', 'max_depth': 20, 'min_sa...</td>\n",
       "      <td>...</td>\n",
       "      <td>0.587658</td>\n",
       "      <td>0.590463</td>\n",
       "      <td>0.588510</td>\n",
       "      <td>0.001383</td>\n",
       "      <td>3</td>\n",
       "      <td>0.683731</td>\n",
       "      <td>0.698179</td>\n",
       "      <td>0.703081</td>\n",
       "      <td>0.694997</td>\n",
       "      <td>0.008214</td>\n",
       "    </tr>\n",
       "    <tr>\n",
       "      <th>608</th>\n",
       "      <td>0.665386</td>\n",
       "      <td>0.006981</td>\n",
       "      <td>0.055663</td>\n",
       "      <td>0.001818</td>\n",
       "      <td>gini</td>\n",
       "      <td>20</td>\n",
       "      <td>1</td>\n",
       "      <td>3</td>\n",
       "      <td>25</td>\n",
       "      <td>{'criterion': 'gini', 'max_depth': 20, 'min_sa...</td>\n",
       "      <td>...</td>\n",
       "      <td>0.590463</td>\n",
       "      <td>0.579243</td>\n",
       "      <td>0.588043</td>\n",
       "      <td>0.006423</td>\n",
       "      <td>4</td>\n",
       "      <td>0.687237</td>\n",
       "      <td>0.705882</td>\n",
       "      <td>0.710784</td>\n",
       "      <td>0.701301</td>\n",
       "      <td>0.010144</td>\n",
       "    </tr>\n",
       "    <tr>\n",
       "      <th>618</th>\n",
       "      <td>0.606170</td>\n",
       "      <td>0.029781</td>\n",
       "      <td>0.051255</td>\n",
       "      <td>0.005203</td>\n",
       "      <td>gini</td>\n",
       "      <td>20</td>\n",
       "      <td>1</td>\n",
       "      <td>5</td>\n",
       "      <td>25</td>\n",
       "      <td>{'criterion': 'gini', 'max_depth': 20, 'min_sa...</td>\n",
       "      <td>...</td>\n",
       "      <td>0.587658</td>\n",
       "      <td>0.583450</td>\n",
       "      <td>0.588043</td>\n",
       "      <td>0.003912</td>\n",
       "      <td>4</td>\n",
       "      <td>0.688640</td>\n",
       "      <td>0.704482</td>\n",
       "      <td>0.707283</td>\n",
       "      <td>0.700135</td>\n",
       "      <td>0.008208</td>\n",
       "    </tr>\n",
       "  </tbody>\n",
       "</table>\n",
       "<p>5 rows × 21 columns</p>\n",
       "</div>"
      ],
      "text/plain": [
       "     mean_fit_time  std_fit_time  mean_score_time  std_score_time  \\\n",
       "603       0.638639      0.042494         0.053915        0.003774   \n",
       "628       0.614034      0.021347         0.048756        0.006313   \n",
       "623       0.632251      0.012906         0.056195        0.003128   \n",
       "608       0.665386      0.006981         0.055663        0.001818   \n",
       "618       0.606170      0.029781         0.051255        0.005203   \n",
       "\n",
       "    param_criterion param_max_depth param_min_samples_leaf  \\\n",
       "603            gini              20                      1   \n",
       "628            gini              20                      1   \n",
       "623            gini              20                      1   \n",
       "608            gini              20                      1   \n",
       "618            gini              20                      1   \n",
       "\n",
       "    param_min_samples_split param_n_estimators  \\\n",
       "603                       2                 25   \n",
       "628                      20                 25   \n",
       "623                      10                 25   \n",
       "608                       3                 25   \n",
       "618                       5                 25   \n",
       "\n",
       "                                                params  ...  \\\n",
       "603  {'criterion': 'gini', 'max_depth': 20, 'min_sa...  ...   \n",
       "628  {'criterion': 'gini', 'max_depth': 20, 'min_sa...  ...   \n",
       "623  {'criterion': 'gini', 'max_depth': 20, 'min_sa...  ...   \n",
       "608  {'criterion': 'gini', 'max_depth': 20, 'min_sa...  ...   \n",
       "618  {'criterion': 'gini', 'max_depth': 20, 'min_sa...  ...   \n",
       "\n",
       "     split1_test_score  split2_test_score  mean_test_score  std_test_score  \\\n",
       "603           0.591865           0.582048         0.590845        0.006798   \n",
       "628           0.580645           0.593268         0.588977        0.005888   \n",
       "623           0.587658           0.590463         0.588510        0.001383   \n",
       "608           0.590463           0.579243         0.588043        0.006423   \n",
       "618           0.587658           0.583450         0.588043        0.003912   \n",
       "\n",
       "     rank_test_score  split0_train_score  split1_train_score  \\\n",
       "603                1            0.694250            0.710784   \n",
       "628                2            0.680224            0.688375   \n",
       "623                3            0.683731            0.698179   \n",
       "608                4            0.687237            0.705882   \n",
       "618                4            0.688640            0.704482   \n",
       "\n",
       "     split2_train_score  mean_train_score  std_train_score  \n",
       "603            0.712885          0.705973         0.008334  \n",
       "628            0.696078          0.688226         0.006473  \n",
       "623            0.703081          0.694997         0.008214  \n",
       "608            0.710784          0.701301         0.010144  \n",
       "618            0.707283          0.700135         0.008208  \n",
       "\n",
       "[5 rows x 21 columns]"
      ]
     },
     "execution_count": 173,
     "metadata": {},
     "output_type": "execute_result"
    }
   ],
   "source": [
    "pd.DataFrame(rf_gs.cv_results_).sort_values(by='rank_test_score').head()"
   ]
  },
  {
   "cell_type": "code",
   "execution_count": 174,
   "metadata": {},
   "outputs": [
    {
     "name": "stdout",
     "output_type": "stream",
     "text": [
      "{'criterion': 'gini', 'max_depth': 20, 'min_samples_leaf': 1, 'min_samples_split': 2, 'n_estimators': 25}\n",
      "Score: 0.5908453993460999\n"
     ]
    }
   ],
   "source": [
    "print(rf_gs.best_params_)\n",
    "print(f'Score: {rf_gs.best_score_}')"
   ]
  },
  {
   "cell_type": "code",
   "execution_count": 187,
   "metadata": {},
   "outputs": [
    {
     "data": {
      "text/plain": [
       "{'model': ['logistic_regression', 'decision_tree', 'random_forest'],\n",
       " 'score': [0.5857076132648296, 0.5815039701074264, 0.5908453993460999]}"
      ]
     },
     "execution_count": 187,
     "metadata": {},
     "output_type": "execute_result"
    }
   ],
   "source": [
    "scores['model'].append('random_forest')\n",
    "scores['score'].append(rf_gs.best_score_)\n",
    "scores"
   ]
  },
  {
   "cell_type": "markdown",
   "metadata": {},
   "source": [
    "##### Support Vector Machine"
   ]
  },
  {
   "cell_type": "code",
   "execution_count": 181,
   "metadata": {},
   "outputs": [
    {
     "name": "stderr",
     "output_type": "stream",
     "text": [
      "C:\\Users\\mz211\\AppData\\Local\\Continuum\\anaconda3\\lib\\site-packages\\sklearn\\model_selection\\_split.py:2053: FutureWarning: You should specify a value for 'cv' instead of relying on the default value. The default value will change from 3 to 5 in version 0.22.\n",
      "  warnings.warn(CV_WARNING, FutureWarning)\n",
      "[Parallel(n_jobs=5)]: Using backend LokyBackend with 5 concurrent workers.\n"
     ]
    },
    {
     "name": "stdout",
     "output_type": "stream",
     "text": [
      "Fitting 3 folds for each of 80 candidates, totalling 240 fits\n"
     ]
    },
    {
     "name": "stderr",
     "output_type": "stream",
     "text": [
      "[Parallel(n_jobs=5)]: Done   3 tasks      | elapsed:  2.1min\n",
      "[Parallel(n_jobs=5)]: Done   8 tasks      | elapsed:  3.8min\n",
      "[Parallel(n_jobs=5)]: Done  15 tasks      | elapsed:  5.6min\n",
      "[Parallel(n_jobs=5)]: Done  22 tasks      | elapsed:  8.7min\n",
      "[Parallel(n_jobs=5)]: Done  31 tasks      | elapsed: 12.4min\n",
      "[Parallel(n_jobs=5)]: Done  40 tasks      | elapsed: 14.4min\n",
      "[Parallel(n_jobs=5)]: Done  51 tasks      | elapsed: 19.1min\n",
      "[Parallel(n_jobs=5)]: Done  62 tasks      | elapsed: 23.2min\n",
      "[Parallel(n_jobs=5)]: Done  75 tasks      | elapsed: 27.3min\n",
      "[Parallel(n_jobs=5)]: Done  88 tasks      | elapsed: 32.7min\n",
      "[Parallel(n_jobs=5)]: Done 103 tasks      | elapsed: 38.8min\n",
      "[Parallel(n_jobs=5)]: Done 118 tasks      | elapsed: 44.6min\n",
      "[Parallel(n_jobs=5)]: Done 135 tasks      | elapsed: 50.6min\n",
      "[Parallel(n_jobs=5)]: Done 152 tasks      | elapsed: 57.8min\n",
      "[Parallel(n_jobs=5)]: Done 171 tasks      | elapsed: 65.1min\n",
      "[Parallel(n_jobs=5)]: Done 190 tasks      | elapsed: 71.3min\n",
      "[Parallel(n_jobs=5)]: Done 211 tasks      | elapsed: 80.0min\n",
      "[Parallel(n_jobs=5)]: Done 240 out of 240 | elapsed: 90.5min finished\n"
     ]
    },
    {
     "data": {
      "text/plain": [
       "GridSearchCV(cv='warn', error_score='raise-deprecating',\n",
       "       estimator=SVC(C=1.0, cache_size=200, class_weight=None, coef0=0.0,\n",
       "  decision_function_shape='ovr', degree=3, gamma='auto_deprecated',\n",
       "  kernel='rbf', max_iter=-1, probability=False, random_state=123,\n",
       "  shrinking=True, tol=0.001, verbose=False),\n",
       "       fit_params=None, iid='warn', n_jobs=5,\n",
       "       param_grid={'C': [1, 10, 100, 100000, 10000000], 'kernel': ['linear', 'poly', 'rbf', 'sigmoid'], 'degree': [3, 5, 10, 20]},\n",
       "       pre_dispatch='2*n_jobs', refit=True, return_train_score='warn',\n",
       "       scoring=None, verbose=10)"
      ]
     },
     "execution_count": 181,
     "metadata": {},
     "output_type": "execute_result"
    }
   ],
   "source": [
    "svmachine = SVC(random_state=123)\n",
    "parameters = {'C':[1, 10, 10**2, 10**5, 10**7],\n",
    "              'kernel':['linear', 'poly', 'rbf', 'sigmoid'],\n",
    "              'degree':[3, 5, 10, 20]}\n",
    "svmachine_gs = GridSearchCV(estimator=svmachine, param_grid=parameters, verbose=10, n_jobs=4)\n",
    "svmachine_gs.fit(X_train, y_train)"
   ]
  },
  {
   "cell_type": "code",
   "execution_count": 182,
   "metadata": {},
   "outputs": [
    {
     "name": "stderr",
     "output_type": "stream",
     "text": [
      "C:\\Users\\mz211\\AppData\\Local\\Continuum\\anaconda3\\lib\\site-packages\\sklearn\\utils\\deprecation.py:125: FutureWarning: You are accessing a training score ('split0_train_score'), which will not be available by default any more in 0.21. If you need training scores, please set return_train_score=True\n",
      "  warnings.warn(*warn_args, **warn_kwargs)\n",
      "C:\\Users\\mz211\\AppData\\Local\\Continuum\\anaconda3\\lib\\site-packages\\sklearn\\utils\\deprecation.py:125: FutureWarning: You are accessing a training score ('split1_train_score'), which will not be available by default any more in 0.21. If you need training scores, please set return_train_score=True\n",
      "  warnings.warn(*warn_args, **warn_kwargs)\n",
      "C:\\Users\\mz211\\AppData\\Local\\Continuum\\anaconda3\\lib\\site-packages\\sklearn\\utils\\deprecation.py:125: FutureWarning: You are accessing a training score ('split2_train_score'), which will not be available by default any more in 0.21. If you need training scores, please set return_train_score=True\n",
      "  warnings.warn(*warn_args, **warn_kwargs)\n",
      "C:\\Users\\mz211\\AppData\\Local\\Continuum\\anaconda3\\lib\\site-packages\\sklearn\\utils\\deprecation.py:125: FutureWarning: You are accessing a training score ('mean_train_score'), which will not be available by default any more in 0.21. If you need training scores, please set return_train_score=True\n",
      "  warnings.warn(*warn_args, **warn_kwargs)\n",
      "C:\\Users\\mz211\\AppData\\Local\\Continuum\\anaconda3\\lib\\site-packages\\sklearn\\utils\\deprecation.py:125: FutureWarning: You are accessing a training score ('std_train_score'), which will not be available by default any more in 0.21. If you need training scores, please set return_train_score=True\n",
      "  warnings.warn(*warn_args, **warn_kwargs)\n"
     ]
    },
    {
     "data": {
      "text/html": [
       "<div>\n",
       "<style scoped>\n",
       "    .dataframe tbody tr th:only-of-type {\n",
       "        vertical-align: middle;\n",
       "    }\n",
       "\n",
       "    .dataframe tbody tr th {\n",
       "        vertical-align: top;\n",
       "    }\n",
       "\n",
       "    .dataframe thead th {\n",
       "        text-align: right;\n",
       "    }\n",
       "</style>\n",
       "<table border=\"1\" class=\"dataframe\">\n",
       "  <thead>\n",
       "    <tr style=\"text-align: right;\">\n",
       "      <th></th>\n",
       "      <th>mean_fit_time</th>\n",
       "      <th>std_fit_time</th>\n",
       "      <th>mean_score_time</th>\n",
       "      <th>std_score_time</th>\n",
       "      <th>param_C</th>\n",
       "      <th>param_degree</th>\n",
       "      <th>param_kernel</th>\n",
       "      <th>params</th>\n",
       "      <th>split0_test_score</th>\n",
       "      <th>split1_test_score</th>\n",
       "      <th>split2_test_score</th>\n",
       "      <th>mean_test_score</th>\n",
       "      <th>std_test_score</th>\n",
       "      <th>rank_test_score</th>\n",
       "      <th>split0_train_score</th>\n",
       "      <th>split1_train_score</th>\n",
       "      <th>split2_train_score</th>\n",
       "      <th>mean_train_score</th>\n",
       "      <th>std_train_score</th>\n",
       "    </tr>\n",
       "  </thead>\n",
       "  <tbody>\n",
       "    <tr>\n",
       "      <th>0</th>\n",
       "      <td>54.237937</td>\n",
       "      <td>0.301194</td>\n",
       "      <td>20.541393</td>\n",
       "      <td>0.281292</td>\n",
       "      <td>1</td>\n",
       "      <td>3</td>\n",
       "      <td>linear</td>\n",
       "      <td>{'C': 1, 'degree': 3, 'kernel': 'linear'}</td>\n",
       "      <td>0.598601</td>\n",
       "      <td>0.542777</td>\n",
       "      <td>0.551192</td>\n",
       "      <td>0.564222</td>\n",
       "      <td>0.024585</td>\n",
       "      <td>1</td>\n",
       "      <td>0.966339</td>\n",
       "      <td>0.971989</td>\n",
       "      <td>0.971289</td>\n",
       "      <td>0.969872</td>\n",
       "      <td>0.002514</td>\n",
       "    </tr>\n",
       "    <tr>\n",
       "      <th>4</th>\n",
       "      <td>42.386141</td>\n",
       "      <td>0.370246</td>\n",
       "      <td>20.862759</td>\n",
       "      <td>0.180421</td>\n",
       "      <td>1</td>\n",
       "      <td>5</td>\n",
       "      <td>linear</td>\n",
       "      <td>{'C': 1, 'degree': 5, 'kernel': 'linear'}</td>\n",
       "      <td>0.598601</td>\n",
       "      <td>0.542777</td>\n",
       "      <td>0.551192</td>\n",
       "      <td>0.564222</td>\n",
       "      <td>0.024585</td>\n",
       "      <td>1</td>\n",
       "      <td>0.966339</td>\n",
       "      <td>0.971989</td>\n",
       "      <td>0.971289</td>\n",
       "      <td>0.969872</td>\n",
       "      <td>0.002514</td>\n",
       "    </tr>\n",
       "    <tr>\n",
       "      <th>8</th>\n",
       "      <td>47.782412</td>\n",
       "      <td>0.699383</td>\n",
       "      <td>23.473658</td>\n",
       "      <td>0.125271</td>\n",
       "      <td>1</td>\n",
       "      <td>10</td>\n",
       "      <td>linear</td>\n",
       "      <td>{'C': 1, 'degree': 10, 'kernel': 'linear'}</td>\n",
       "      <td>0.598601</td>\n",
       "      <td>0.542777</td>\n",
       "      <td>0.551192</td>\n",
       "      <td>0.564222</td>\n",
       "      <td>0.024585</td>\n",
       "      <td>1</td>\n",
       "      <td>0.966339</td>\n",
       "      <td>0.971989</td>\n",
       "      <td>0.971289</td>\n",
       "      <td>0.969872</td>\n",
       "      <td>0.002514</td>\n",
       "    </tr>\n",
       "    <tr>\n",
       "      <th>12</th>\n",
       "      <td>43.867603</td>\n",
       "      <td>0.761529</td>\n",
       "      <td>20.709940</td>\n",
       "      <td>0.122372</td>\n",
       "      <td>1</td>\n",
       "      <td>20</td>\n",
       "      <td>linear</td>\n",
       "      <td>{'C': 1, 'degree': 20, 'kernel': 'linear'}</td>\n",
       "      <td>0.598601</td>\n",
       "      <td>0.542777</td>\n",
       "      <td>0.551192</td>\n",
       "      <td>0.564222</td>\n",
       "      <td>0.024585</td>\n",
       "      <td>1</td>\n",
       "      <td>0.966339</td>\n",
       "      <td>0.971989</td>\n",
       "      <td>0.971289</td>\n",
       "      <td>0.969872</td>\n",
       "      <td>0.002514</td>\n",
       "    </tr>\n",
       "    <tr>\n",
       "      <th>30</th>\n",
       "      <td>50.064098</td>\n",
       "      <td>0.112867</td>\n",
       "      <td>23.305157</td>\n",
       "      <td>0.193566</td>\n",
       "      <td>10</td>\n",
       "      <td>20</td>\n",
       "      <td>rbf</td>\n",
       "      <td>{'C': 10, 'degree': 20, 'kernel': 'rbf'}</td>\n",
       "      <td>0.560839</td>\n",
       "      <td>0.561010</td>\n",
       "      <td>0.561010</td>\n",
       "      <td>0.560953</td>\n",
       "      <td>0.000080</td>\n",
       "      <td>5</td>\n",
       "      <td>0.561010</td>\n",
       "      <td>0.560924</td>\n",
       "      <td>0.560924</td>\n",
       "      <td>0.560953</td>\n",
       "      <td>0.000040</td>\n",
       "    </tr>\n",
       "  </tbody>\n",
       "</table>\n",
       "</div>"
      ],
      "text/plain": [
       "    mean_fit_time  std_fit_time  mean_score_time  std_score_time param_C  \\\n",
       "0       54.237937      0.301194        20.541393        0.281292       1   \n",
       "4       42.386141      0.370246        20.862759        0.180421       1   \n",
       "8       47.782412      0.699383        23.473658        0.125271       1   \n",
       "12      43.867603      0.761529        20.709940        0.122372       1   \n",
       "30      50.064098      0.112867        23.305157        0.193566      10   \n",
       "\n",
       "   param_degree param_kernel                                      params  \\\n",
       "0             3       linear   {'C': 1, 'degree': 3, 'kernel': 'linear'}   \n",
       "4             5       linear   {'C': 1, 'degree': 5, 'kernel': 'linear'}   \n",
       "8            10       linear  {'C': 1, 'degree': 10, 'kernel': 'linear'}   \n",
       "12           20       linear  {'C': 1, 'degree': 20, 'kernel': 'linear'}   \n",
       "30           20          rbf    {'C': 10, 'degree': 20, 'kernel': 'rbf'}   \n",
       "\n",
       "    split0_test_score  split1_test_score  split2_test_score  mean_test_score  \\\n",
       "0            0.598601           0.542777           0.551192         0.564222   \n",
       "4            0.598601           0.542777           0.551192         0.564222   \n",
       "8            0.598601           0.542777           0.551192         0.564222   \n",
       "12           0.598601           0.542777           0.551192         0.564222   \n",
       "30           0.560839           0.561010           0.561010         0.560953   \n",
       "\n",
       "    std_test_score  rank_test_score  split0_train_score  split1_train_score  \\\n",
       "0         0.024585                1            0.966339            0.971989   \n",
       "4         0.024585                1            0.966339            0.971989   \n",
       "8         0.024585                1            0.966339            0.971989   \n",
       "12        0.024585                1            0.966339            0.971989   \n",
       "30        0.000080                5            0.561010            0.560924   \n",
       "\n",
       "    split2_train_score  mean_train_score  std_train_score  \n",
       "0             0.971289          0.969872         0.002514  \n",
       "4             0.971289          0.969872         0.002514  \n",
       "8             0.971289          0.969872         0.002514  \n",
       "12            0.971289          0.969872         0.002514  \n",
       "30            0.560924          0.560953         0.000040  "
      ]
     },
     "execution_count": 182,
     "metadata": {},
     "output_type": "execute_result"
    }
   ],
   "source": [
    "pd.DataFrame(svmachine_gs.cv_results_).sort_values(by='rank_test_score').head()"
   ]
  },
  {
   "cell_type": "code",
   "execution_count": 183,
   "metadata": {},
   "outputs": [
    {
     "name": "stdout",
     "output_type": "stream",
     "text": [
      "{'C': 1, 'degree': 3, 'kernel': 'linear'}\n",
      "Score: 0.5642223260158804\n"
     ]
    }
   ],
   "source": [
    "print(svmachine_gs.best_params_)\n",
    "print(f'Score: {svmachine_gs.best_score_}')"
   ]
  },
  {
   "cell_type": "code",
   "execution_count": 188,
   "metadata": {},
   "outputs": [
    {
     "data": {
      "text/plain": [
       "{'model': ['logistic_regression', 'decision_tree', 'random_forest', 'svm'],\n",
       " 'score': [0.5857076132648296,\n",
       "  0.5815039701074264,\n",
       "  0.5908453993460999,\n",
       "  0.5642223260158804]}"
      ]
     },
     "execution_count": 188,
     "metadata": {},
     "output_type": "execute_result"
    }
   ],
   "source": [
    "scores['model'].append('svm')\n",
    "scores['score'].append(svmachine_gs.best_score_)\n",
    "scores"
   ]
  },
  {
   "cell_type": "code",
   "execution_count": 191,
   "metadata": {},
   "outputs": [
    {
     "data": {
      "text/html": [
       "<div>\n",
       "<style scoped>\n",
       "    .dataframe tbody tr th:only-of-type {\n",
       "        vertical-align: middle;\n",
       "    }\n",
       "\n",
       "    .dataframe tbody tr th {\n",
       "        vertical-align: top;\n",
       "    }\n",
       "\n",
       "    .dataframe thead th {\n",
       "        text-align: right;\n",
       "    }\n",
       "</style>\n",
       "<table border=\"1\" class=\"dataframe\">\n",
       "  <thead>\n",
       "    <tr style=\"text-align: right;\">\n",
       "      <th></th>\n",
       "      <th>model</th>\n",
       "      <th>score</th>\n",
       "    </tr>\n",
       "  </thead>\n",
       "  <tbody>\n",
       "    <tr>\n",
       "      <th>2</th>\n",
       "      <td>random_forest</td>\n",
       "      <td>0.590845</td>\n",
       "    </tr>\n",
       "    <tr>\n",
       "      <th>0</th>\n",
       "      <td>logistic_regression</td>\n",
       "      <td>0.585708</td>\n",
       "    </tr>\n",
       "    <tr>\n",
       "      <th>1</th>\n",
       "      <td>decision_tree</td>\n",
       "      <td>0.581504</td>\n",
       "    </tr>\n",
       "    <tr>\n",
       "      <th>3</th>\n",
       "      <td>svm</td>\n",
       "      <td>0.564222</td>\n",
       "    </tr>\n",
       "  </tbody>\n",
       "</table>\n",
       "</div>"
      ],
      "text/plain": [
       "                 model     score\n",
       "2        random_forest  0.590845\n",
       "0  logistic_regression  0.585708\n",
       "1        decision_tree  0.581504\n",
       "3                  svm  0.564222"
      ]
     },
     "execution_count": 191,
     "metadata": {},
     "output_type": "execute_result"
    }
   ],
   "source": [
    "pd.DataFrame(scores).sort_values(by='score', ascending=False)"
   ]
  },
  {
   "cell_type": "markdown",
   "metadata": {},
   "source": [
    "##### Random Forest was the best performing, with a mean score of  0.59\n",
    "Worst performing was Support Vector Machine. At this point I can do two things:\n",
    "1. I can create the voting function and apply it to the predictions that the Random Forest made, then compare the final prediction to the actual class.\n",
    "1. I can look at other classification algorithms and create more models.\n",
    "\n",
    "I think I will briefly look at other algorithms, create a few more models, then move on."
   ]
  },
  {
   "cell_type": "markdown",
   "metadata": {},
   "source": [
    "##### KNN"
   ]
  },
  {
   "cell_type": "code",
   "execution_count": 195,
   "metadata": {},
   "outputs": [
    {
     "name": "stderr",
     "output_type": "stream",
     "text": [
      "C:\\Users\\mz211\\AppData\\Local\\Continuum\\anaconda3\\lib\\site-packages\\sklearn\\model_selection\\_split.py:2053: FutureWarning: You should specify a value for 'cv' instead of relying on the default value. The default value will change from 3 to 5 in version 0.22.\n",
      "  warnings.warn(CV_WARNING, FutureWarning)\n",
      "[Parallel(n_jobs=5)]: Using backend LokyBackend with 5 concurrent workers.\n"
     ]
    },
    {
     "name": "stdout",
     "output_type": "stream",
     "text": [
      "Fitting 3 folds for each of 144 candidates, totalling 432 fits\n"
     ]
    },
    {
     "name": "stderr",
     "output_type": "stream",
     "text": [
      "[Parallel(n_jobs=5)]: Done   3 tasks      | elapsed:  1.4min\n",
      "[Parallel(n_jobs=5)]: Done   8 tasks      | elapsed:  2.8min\n",
      "[Parallel(n_jobs=5)]: Done  15 tasks      | elapsed:  4.4min\n",
      "[Parallel(n_jobs=5)]: Done  22 tasks      | elapsed:  7.1min\n",
      "[Parallel(n_jobs=5)]: Done  31 tasks      | elapsed:  9.7min\n",
      "[Parallel(n_jobs=5)]: Done  40 tasks      | elapsed: 11.1min\n",
      "[Parallel(n_jobs=5)]: Done  51 tasks      | elapsed: 14.9min\n",
      "[Parallel(n_jobs=5)]: Done  62 tasks      | elapsed: 17.4min\n",
      "[Parallel(n_jobs=5)]: Done  75 tasks      | elapsed: 19.9min\n",
      "[Parallel(n_jobs=5)]: Done  88 tasks      | elapsed: 23.9min\n",
      "[Parallel(n_jobs=5)]: Done 103 tasks      | elapsed: 28.2min\n",
      "[Parallel(n_jobs=5)]: Done 118 tasks      | elapsed: 31.9min\n",
      "[Parallel(n_jobs=5)]: Done 135 tasks      | elapsed: 35.8min\n",
      "[Parallel(n_jobs=5)]: Done 152 tasks      | elapsed: 41.7min\n",
      "[Parallel(n_jobs=5)]: Done 171 tasks      | elapsed: 48.5min\n",
      "[Parallel(n_jobs=5)]: Done 190 tasks      | elapsed: 54.0min\n",
      "[Parallel(n_jobs=5)]: Done 211 tasks      | elapsed: 61.3min\n",
      "[Parallel(n_jobs=5)]: Done 232 tasks      | elapsed: 68.7min\n",
      "[Parallel(n_jobs=5)]: Done 255 tasks      | elapsed: 75.3min\n",
      "[Parallel(n_jobs=5)]: Done 278 tasks      | elapsed: 82.7min\n",
      "[Parallel(n_jobs=5)]: Done 303 tasks      | elapsed: 87.8min\n",
      "[Parallel(n_jobs=5)]: Done 328 tasks      | elapsed: 90.5min\n",
      "[Parallel(n_jobs=5)]: Done 355 tasks      | elapsed: 91.1min\n",
      "[Parallel(n_jobs=5)]: Done 382 tasks      | elapsed: 91.6min\n",
      "[Parallel(n_jobs=5)]: Done 411 tasks      | elapsed: 98.7min\n",
      "[Parallel(n_jobs=5)]: Done 432 out of 432 | elapsed: 104.0min finished\n"
     ]
    },
    {
     "data": {
      "text/plain": [
       "GridSearchCV(cv='warn', error_score='raise-deprecating',\n",
       "       estimator=KNeighborsClassifier(algorithm='auto', leaf_size=30, metric='minkowski',\n",
       "           metric_params=None, n_jobs=None, n_neighbors=5, p=2,\n",
       "           weights='uniform'),\n",
       "       fit_params=None, iid='warn', n_jobs=5,\n",
       "       param_grid={'n_neighbors': [3, 5, 9, 15], 'weights': ['uniform', 'distance'], 'algorithm': ['ball_tree', 'kd_tree', 'brute'], 'p': [1, 2], 'metric': ['minkowski', 'euclidean', 'manhattan']},\n",
       "       pre_dispatch='2*n_jobs', refit=True, return_train_score='warn',\n",
       "       scoring=None, verbose=10)"
      ]
     },
     "execution_count": 195,
     "metadata": {},
     "output_type": "execute_result"
    }
   ],
   "source": [
    "knn = KNeighborsClassifier()\n",
    "parameters = {'n_neighbors':[3, 5, 9, 15],\n",
    "              'weights':['uniform', 'distance'],\n",
    "              'algorithm':['ball_tree', 'kd_tree', 'brute'],\n",
    "              'p':[1, 2],\n",
    "              'metric':['minkowski', 'euclidean', 'manhattan']}\n",
    "\n",
    "knn_gs = GridSearchCV(estimator=knn, param_grid=parameters, n_jobs=4, verbose=10)\n",
    "knn_gs.fit(X_train, y_train)"
   ]
  },
  {
   "cell_type": "code",
   "execution_count": 196,
   "metadata": {},
   "outputs": [
    {
     "name": "stderr",
     "output_type": "stream",
     "text": [
      "C:\\Users\\mz211\\AppData\\Local\\Continuum\\anaconda3\\lib\\site-packages\\sklearn\\utils\\deprecation.py:125: FutureWarning: You are accessing a training score ('split0_train_score'), which will not be available by default any more in 0.21. If you need training scores, please set return_train_score=True\n",
      "  warnings.warn(*warn_args, **warn_kwargs)\n",
      "C:\\Users\\mz211\\AppData\\Local\\Continuum\\anaconda3\\lib\\site-packages\\sklearn\\utils\\deprecation.py:125: FutureWarning: You are accessing a training score ('split1_train_score'), which will not be available by default any more in 0.21. If you need training scores, please set return_train_score=True\n",
      "  warnings.warn(*warn_args, **warn_kwargs)\n",
      "C:\\Users\\mz211\\AppData\\Local\\Continuum\\anaconda3\\lib\\site-packages\\sklearn\\utils\\deprecation.py:125: FutureWarning: You are accessing a training score ('split2_train_score'), which will not be available by default any more in 0.21. If you need training scores, please set return_train_score=True\n",
      "  warnings.warn(*warn_args, **warn_kwargs)\n",
      "C:\\Users\\mz211\\AppData\\Local\\Continuum\\anaconda3\\lib\\site-packages\\sklearn\\utils\\deprecation.py:125: FutureWarning: You are accessing a training score ('mean_train_score'), which will not be available by default any more in 0.21. If you need training scores, please set return_train_score=True\n",
      "  warnings.warn(*warn_args, **warn_kwargs)\n",
      "C:\\Users\\mz211\\AppData\\Local\\Continuum\\anaconda3\\lib\\site-packages\\sklearn\\utils\\deprecation.py:125: FutureWarning: You are accessing a training score ('std_train_score'), which will not be available by default any more in 0.21. If you need training scores, please set return_train_score=True\n",
      "  warnings.warn(*warn_args, **warn_kwargs)\n"
     ]
    },
    {
     "data": {
      "text/html": [
       "<div>\n",
       "<style scoped>\n",
       "    .dataframe tbody tr th:only-of-type {\n",
       "        vertical-align: middle;\n",
       "    }\n",
       "\n",
       "    .dataframe tbody tr th {\n",
       "        vertical-align: top;\n",
       "    }\n",
       "\n",
       "    .dataframe thead th {\n",
       "        text-align: right;\n",
       "    }\n",
       "</style>\n",
       "<table border=\"1\" class=\"dataframe\">\n",
       "  <thead>\n",
       "    <tr style=\"text-align: right;\">\n",
       "      <th></th>\n",
       "      <th>mean_fit_time</th>\n",
       "      <th>std_fit_time</th>\n",
       "      <th>mean_score_time</th>\n",
       "      <th>std_score_time</th>\n",
       "      <th>param_algorithm</th>\n",
       "      <th>param_metric</th>\n",
       "      <th>param_n_neighbors</th>\n",
       "      <th>param_p</th>\n",
       "      <th>param_weights</th>\n",
       "      <th>params</th>\n",
       "      <th>...</th>\n",
       "      <th>split1_test_score</th>\n",
       "      <th>split2_test_score</th>\n",
       "      <th>mean_test_score</th>\n",
       "      <th>std_test_score</th>\n",
       "      <th>rank_test_score</th>\n",
       "      <th>split0_train_score</th>\n",
       "      <th>split1_train_score</th>\n",
       "      <th>split2_train_score</th>\n",
       "      <th>mean_train_score</th>\n",
       "      <th>std_train_score</th>\n",
       "    </tr>\n",
       "  </thead>\n",
       "  <tbody>\n",
       "    <tr>\n",
       "      <th>143</th>\n",
       "      <td>0.628821</td>\n",
       "      <td>0.030825</td>\n",
       "      <td>26.021804</td>\n",
       "      <td>0.225838</td>\n",
       "      <td>brute</td>\n",
       "      <td>manhattan</td>\n",
       "      <td>15</td>\n",
       "      <td>2</td>\n",
       "      <td>distance</td>\n",
       "      <td>{'algorithm': 'brute', 'metric': 'manhattan', ...</td>\n",
       "      <td>...</td>\n",
       "      <td>0.575035</td>\n",
       "      <td>0.528752</td>\n",
       "      <td>0.521719</td>\n",
       "      <td>0.046611</td>\n",
       "      <td>1</td>\n",
       "      <td>0.98878</td>\n",
       "      <td>0.997199</td>\n",
       "      <td>0.998599</td>\n",
       "      <td>0.994859</td>\n",
       "      <td>0.004337</td>\n",
       "    </tr>\n",
       "    <tr>\n",
       "      <th>141</th>\n",
       "      <td>0.384970</td>\n",
       "      <td>0.038221</td>\n",
       "      <td>27.338083</td>\n",
       "      <td>3.109852</td>\n",
       "      <td>brute</td>\n",
       "      <td>manhattan</td>\n",
       "      <td>15</td>\n",
       "      <td>1</td>\n",
       "      <td>distance</td>\n",
       "      <td>{'algorithm': 'brute', 'metric': 'manhattan', ...</td>\n",
       "      <td>...</td>\n",
       "      <td>0.575035</td>\n",
       "      <td>0.528752</td>\n",
       "      <td>0.521719</td>\n",
       "      <td>0.046611</td>\n",
       "      <td>1</td>\n",
       "      <td>0.98878</td>\n",
       "      <td>0.997199</td>\n",
       "      <td>0.998599</td>\n",
       "      <td>0.994859</td>\n",
       "      <td>0.004337</td>\n",
       "    </tr>\n",
       "    <tr>\n",
       "      <th>109</th>\n",
       "      <td>0.333622</td>\n",
       "      <td>0.011997</td>\n",
       "      <td>25.163212</td>\n",
       "      <td>1.435920</td>\n",
       "      <td>brute</td>\n",
       "      <td>minkowski</td>\n",
       "      <td>15</td>\n",
       "      <td>1</td>\n",
       "      <td>distance</td>\n",
       "      <td>{'algorithm': 'brute', 'metric': 'minkowski', ...</td>\n",
       "      <td>...</td>\n",
       "      <td>0.575035</td>\n",
       "      <td>0.528752</td>\n",
       "      <td>0.521719</td>\n",
       "      <td>0.046611</td>\n",
       "      <td>1</td>\n",
       "      <td>0.98878</td>\n",
       "      <td>0.997199</td>\n",
       "      <td>0.998599</td>\n",
       "      <td>0.994859</td>\n",
       "      <td>0.004337</td>\n",
       "    </tr>\n",
       "    <tr>\n",
       "      <th>61</th>\n",
       "      <td>1.774455</td>\n",
       "      <td>0.188506</td>\n",
       "      <td>31.418913</td>\n",
       "      <td>1.761943</td>\n",
       "      <td>kd_tree</td>\n",
       "      <td>minkowski</td>\n",
       "      <td>15</td>\n",
       "      <td>1</td>\n",
       "      <td>distance</td>\n",
       "      <td>{'algorithm': 'kd_tree', 'metric': 'minkowski'...</td>\n",
       "      <td>...</td>\n",
       "      <td>0.523142</td>\n",
       "      <td>0.507714</td>\n",
       "      <td>0.510509</td>\n",
       "      <td>0.009375</td>\n",
       "      <td>4</td>\n",
       "      <td>0.98878</td>\n",
       "      <td>0.997199</td>\n",
       "      <td>0.998599</td>\n",
       "      <td>0.994859</td>\n",
       "      <td>0.004337</td>\n",
       "    </tr>\n",
       "    <tr>\n",
       "      <th>95</th>\n",
       "      <td>1.589338</td>\n",
       "      <td>0.059019</td>\n",
       "      <td>29.409487</td>\n",
       "      <td>0.130297</td>\n",
       "      <td>kd_tree</td>\n",
       "      <td>manhattan</td>\n",
       "      <td>15</td>\n",
       "      <td>2</td>\n",
       "      <td>distance</td>\n",
       "      <td>{'algorithm': 'kd_tree', 'metric': 'manhattan'...</td>\n",
       "      <td>...</td>\n",
       "      <td>0.523142</td>\n",
       "      <td>0.507714</td>\n",
       "      <td>0.510509</td>\n",
       "      <td>0.009375</td>\n",
       "      <td>4</td>\n",
       "      <td>0.98878</td>\n",
       "      <td>0.997199</td>\n",
       "      <td>0.998599</td>\n",
       "      <td>0.994859</td>\n",
       "      <td>0.004337</td>\n",
       "    </tr>\n",
       "  </tbody>\n",
       "</table>\n",
       "<p>5 rows × 21 columns</p>\n",
       "</div>"
      ],
      "text/plain": [
       "     mean_fit_time  std_fit_time  mean_score_time  std_score_time  \\\n",
       "143       0.628821      0.030825        26.021804        0.225838   \n",
       "141       0.384970      0.038221        27.338083        3.109852   \n",
       "109       0.333622      0.011997        25.163212        1.435920   \n",
       "61        1.774455      0.188506        31.418913        1.761943   \n",
       "95        1.589338      0.059019        29.409487        0.130297   \n",
       "\n",
       "    param_algorithm param_metric param_n_neighbors param_p param_weights  \\\n",
       "143           brute    manhattan                15       2      distance   \n",
       "141           brute    manhattan                15       1      distance   \n",
       "109           brute    minkowski                15       1      distance   \n",
       "61          kd_tree    minkowski                15       1      distance   \n",
       "95          kd_tree    manhattan                15       2      distance   \n",
       "\n",
       "                                                params  ...  \\\n",
       "143  {'algorithm': 'brute', 'metric': 'manhattan', ...  ...   \n",
       "141  {'algorithm': 'brute', 'metric': 'manhattan', ...  ...   \n",
       "109  {'algorithm': 'brute', 'metric': 'minkowski', ...  ...   \n",
       "61   {'algorithm': 'kd_tree', 'metric': 'minkowski'...  ...   \n",
       "95   {'algorithm': 'kd_tree', 'metric': 'manhattan'...  ...   \n",
       "\n",
       "     split1_test_score  split2_test_score  mean_test_score  std_test_score  \\\n",
       "143           0.575035           0.528752         0.521719        0.046611   \n",
       "141           0.575035           0.528752         0.521719        0.046611   \n",
       "109           0.575035           0.528752         0.521719        0.046611   \n",
       "61            0.523142           0.507714         0.510509        0.009375   \n",
       "95            0.523142           0.507714         0.510509        0.009375   \n",
       "\n",
       "     rank_test_score  split0_train_score  split1_train_score  \\\n",
       "143                1             0.98878            0.997199   \n",
       "141                1             0.98878            0.997199   \n",
       "109                1             0.98878            0.997199   \n",
       "61                 4             0.98878            0.997199   \n",
       "95                 4             0.98878            0.997199   \n",
       "\n",
       "     split2_train_score  mean_train_score  std_train_score  \n",
       "143            0.998599          0.994859         0.004337  \n",
       "141            0.998599          0.994859         0.004337  \n",
       "109            0.998599          0.994859         0.004337  \n",
       "61             0.998599          0.994859         0.004337  \n",
       "95             0.998599          0.994859         0.004337  \n",
       "\n",
       "[5 rows x 21 columns]"
      ]
     },
     "execution_count": 196,
     "metadata": {},
     "output_type": "execute_result"
    }
   ],
   "source": [
    "pd.DataFrame(knn_gs.cv_results_).sort_values(by='rank_test_score').head()"
   ]
  },
  {
   "cell_type": "code",
   "execution_count": 197,
   "metadata": {},
   "outputs": [
    {
     "name": "stdout",
     "output_type": "stream",
     "text": [
      "{'algorithm': 'brute', 'metric': 'minkowski', 'n_neighbors': 15, 'p': 1, 'weights': 'distance'}\n",
      "Score: 0.5217188229799159\n"
     ]
    }
   ],
   "source": [
    "print(knn_gs.best_params_)\n",
    "print(f'Score: {knn_gs.best_score_}')"
   ]
  },
  {
   "cell_type": "code",
   "execution_count": 198,
   "metadata": {},
   "outputs": [
    {
     "data": {
      "text/plain": [
       "{'model': ['logistic_regression',\n",
       "  'decision_tree',\n",
       "  'random_forest',\n",
       "  'svm',\n",
       "  'knn'],\n",
       " 'score': [0.5857076132648296,\n",
       "  0.5815039701074264,\n",
       "  0.5908453993460999,\n",
       "  0.5642223260158804,\n",
       "  0.5217188229799159]}"
      ]
     },
     "execution_count": 198,
     "metadata": {},
     "output_type": "execute_result"
    }
   ],
   "source": [
    "scores['model'].append('knn')\n",
    "scores['score'].append(knn_gs.best_score_)\n",
    "scores"
   ]
  },
  {
   "cell_type": "markdown",
   "metadata": {},
   "source": [
    "##### XGBoost"
   ]
  },
  {
   "cell_type": "code",
   "execution_count": 204,
   "metadata": {},
   "outputs": [],
   "source": [
    "from xgboost.sklearn import XGBClassifier"
   ]
  },
  {
   "cell_type": "code",
   "execution_count": null,
   "metadata": {},
   "outputs": [],
   "source": [
    "XGBClassifier()"
   ]
  }
 ],
 "metadata": {
  "kernelspec": {
   "display_name": "Python 3",
   "language": "python",
   "name": "python3"
  },
  "language_info": {
   "codemirror_mode": {
    "name": "ipython",
    "version": 3
   },
   "file_extension": ".py",
   "mimetype": "text/x-python",
   "name": "python",
   "nbconvert_exporter": "python",
   "pygments_lexer": "ipython3",
   "version": "3.7.3"
  }
 },
 "nbformat": 4,
 "nbformat_minor": 2
}
