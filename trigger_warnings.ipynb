{
 "cells": [
  {
   "cell_type": "markdown",
   "metadata": {},
   "source": [
    "# Imports"
   ]
  },
  {
   "cell_type": "code",
   "execution_count": 45,
   "metadata": {},
   "outputs": [],
   "source": [
    "from requests import get\n",
    "from bs4 import BeautifulSoup\n",
    "import os\n",
    "from time import sleep\n",
    "import re"
   ]
  },
  {
   "cell_type": "markdown",
   "metadata": {},
   "source": [
    "### Scraping the data from the webpage.\n",
    "In this case, we are looking at the first page of results when #BirdBox and #suicide are searched."
   ]
  },
  {
   "cell_type": "code",
   "execution_count": 46,
   "metadata": {},
   "outputs": [],
   "source": [
    "url = '''https://twitter.com/search?src=typd&q=%23BirdBox%20%23suicide'''\n",
    "headers = {'User-Agent':'Googlebot'}\n",
    "response = get(url, headers=headers)"
   ]
  },
  {
   "cell_type": "code",
   "execution_count": 47,
   "metadata": {},
   "outputs": [
    {
     "name": "stdout",
     "output_type": "stream",
     "text": [
      "<!DOCTYPE html>\n",
      "<html lang=\"en\" data-scribe-reduced-action-queue=\"true\">\n",
      "  <head>\n",
      "    \n",
      "    \n",
      "    \n",
      "    \n",
      "    \n",
      "    \n",
      "    \n",
      "    <meta charset=\"utf-8\">\n",
      "      <script  nonce=\"Wmj0uIlGLjt/gN6hAjkpqA==\">\n",
      "        !function(){window.initErrorstack||(window.initErrorstack=[]),window.onerror=function(r,i,n,o,t){r.indexOf(\"Script error.\")>-1||window.initErrorstack.push({errorMsg:r,url:i,lineNumber:n,column:o,erro\n"
     ]
    }
   ],
   "source": [
    "print(response.text[:400])"
   ]
  },
  {
   "cell_type": "code",
   "execution_count": 48,
   "metadata": {},
   "outputs": [],
   "source": [
    "soup = BeautifulSoup(response.content, \n",
    "#                     'lxml')\n",
    "                    'html.parser')"
   ]
  },
  {
   "cell_type": "code",
   "execution_count": 49,
   "metadata": {
    "scrolled": true
   },
   "outputs": [],
   "source": [
    "# see also `soup.find_all`\n",
    "#\n",
    "tweets = soup.find('ol')\n",
    "# tweets = tweets.find_all('li',\n",
    "#                          attrs={'data-item-type':'tweet'})\n",
    "tweets = tweets.find_all('li')\n",
    "#tweets = tweets.find_all('p', class_='TweetTextSize')"
   ]
  },
  {
   "cell_type": "code",
   "execution_count": 50,
   "metadata": {},
   "outputs": [
    {
     "data": {
      "text/plain": [
       "64"
      ]
     },
     "execution_count": 50,
     "metadata": {},
     "output_type": "execute_result"
    }
   ],
   "source": [
    "len(tweets)"
   ]
  },
  {
   "cell_type": "code",
   "execution_count": 63,
   "metadata": {
    "scrolled": true
   },
   "outputs": [
    {
     "name": "stdout",
     "output_type": "stream",
     "text": [
      "\n",
      "If you or someone you know is struggling or in crisis, you are not alone. Our partner Lifeline @800273TALK can help.\n",
      "\n",
      "\n",
      "\n",
      "\n",
      "\n",
      "------------------------------------------------------------------------------\n",
      "\n",
      "If you or someone you know is struggling or in crisis, you are not alone. Our partner Lifeline @800273TALK can help.\n",
      "\n",
      "\n",
      "\n",
      "\n",
      "\n",
      "------------------------------------------------------------------------------\n",
      "\n",
      "Is it just me or is #Netflix on a #suicide movie/show kick?  Watching #BirdBox and thinking how everyone said #13ReasonsWhy was encouraging teen suicide... and I'm just like so basically the whole of Netflix is basically encouraging suicide... Suicide isn't entertainmentpic.twitter.com/040bx9sbTs\n",
      "\n",
      "\n",
      "\n",
      "\n",
      "\n",
      "------------------------------------------------------------------------------\n",
      "\n",
      "just seen bird box and now makes sense why #mgk went after #eminem. #Suicide #BirdBox\n",
      "\n",
      "\n",
      "\n",
      "\n",
      "\n",
      "------------------------------------------------------------------------------\n",
      "\n",
      "#TriggerWarning \n",
      "\n",
      "I watched #BirdBox last nite. Meagan wanted to watch it tonight. She's not been so good lately. I told her people die by #Suicide, asked if it would be ok. \n",
      "\n",
      "She and I watched it, she loved it!!\n",
      "\n",
      "You don't need to see, to feel, to love, to live, to see. pic.twitter.com/j1GCWV0ZjL\n",
      "\n",
      "\n",
      "\n",
      "\n",
      "\n",
      "------------------------------------------------------------------------------\n",
      "\n",
      "#BirdBox (2018) is looking into a scenario of how the end of humanity may come, creatures driving us to #suicide apparently is an option. pic.twitter.com/bRReqdnmwh\n",
      "\n",
      "\n",
      "\n",
      "\n",
      "\n",
      "------------------------------------------------------------------------------\n",
      "\n",
      "Wanted to watch a film to distract myself from my own misery... Turned on Birdbox as I was interested by it... A film about monsters that make you want to kill yourself... Quite literally the last bloody thing I needed. Half decent film though. #depression #Birdbox #Suicide\n",
      "\n",
      "\n",
      "\n",
      "\n",
      "\n",
      "------------------------------------------------------------------------------\n",
      "\n",
      "#BirdBox= to those #racingthoughts & #owndemons #OnlyWeSee but hide. #PushingUsOverTheEdge & we can't no longer deal. #Suicide seems easier. While those around us are #blind to the #signs. Only #TheBirdChirps warn others. Sometimes #TooLate.\n",
      "\n",
      "\n",
      "\n",
      "\n",
      "\n",
      "------------------------------------------------------------------------------\n",
      "\n",
      ".@netflix #BirdBox is a feature length #mentalhealthcrisis The premise that an unknown force was sparking #suicide was a  Yet I persisted. The main character trying to keep herself and 2 kids alive sent my #anxiety skyward. 1/2 way in, I said enough. Not worth it. Avoid\n",
      "\n",
      "\n",
      "\n",
      "\n",
      "\n",
      "------------------------------------------------------------------------------\n",
      "\n",
      "For those with a history of suicidal thoughts (or dealing with them presently), did you watch #BirdBoxNetflix? Was it triggering for you? #BirdBox #mentalhealth #suicide pic.twitter.com/Q3u8gHxMhL\n",
      "\n",
      "\n",
      "\n",
      "\n",
      "\n",
      "------------------------------------------------------------------------------\n",
      "\n",
      "A quick insight into trying to understand birdboxmovie. It had me thinking.... WTAF?! But this pretty much sums it all up in one post #BirdBox #Movie #MentalHealth #Suicide #Blindfolded… https://www.instagram.com/p/Br6RqFqgCcK/?utm_source=ig_twitter_share&igshid=zn4kw7798051 …\n",
      "\n",
      "\n",
      "\n",
      "\n",
      "\n",
      "------------------------------------------------------------------------------\n",
      "\n",
      "Someone asked me today if #BirdBox was triggering for me considering my family history with #suicide. I told her that it was a bit, but fortunately for me the method I'm most sensitive to seeing portrayed wasn't present.\n",
      "\n",
      "\n",
      "\n",
      "\n",
      "\n",
      "------------------------------------------------------------------------------\n",
      "\n",
      "#Netflix reveals #deleted scene of #BirdBox #horror that drove  people to madness &  #suicide. (The image was thought to be too frightening for most viewers.) pic.twitter.com/xR5qgeXyaR\n",
      "\n",
      "\n",
      "\n",
      "\n",
      "\n",
      "------------------------------------------------------------------------------\n",
      "\n",
      "Very thought-provoking take on #BirdBox...\n",
      "\n",
      "https://mashable.com/article/bird-box-netflix-mental-illness-suicide/?utm_cid=a-rr-culture#12YOXXG06sqE …\n",
      "#mentalillness #suicide #mentalhealth #birdboxmovie\n",
      "\n",
      "\n",
      "\n",
      "\n",
      "\n",
      "------------------------------------------------------------------------------\n",
      "\n",
      "#TalkingTuesdays\n",
      "\n",
      "***WARNING (Bird Box Spoilers)\n",
      "\n",
      "We thought we would do a post that might spark some thought and awareness! \n",
      "\n",
      "#BirdBox #suicide #suicideawareness #suicideprevention #mentalhealth #mentalhealthawareness #MentalHealthMatterspic.twitter.com/QnXohoT3HI\n",
      "\n",
      "\n",
      "\n",
      "\n",
      "\n",
      "------------------------------------------------------------------------------\n",
      "\n",
      "Warning for #suicide and #selfharm if anyone is watching #BirdBox https://twitter.com/GabbyTierre/status/1077247721436864512 …\n",
      "\n",
      "\n",
      "\n",
      "\n",
      "\n",
      "------------------------------------------------------------------------------\n",
      "\n",
      "As someone who deals with suicidal thoughts daily, I feel like #birdbox is a completely different movie for me than it is for those who’ve never struggled. #suicide\n",
      "\n",
      "\n",
      "\n",
      "\n",
      "\n",
      "------------------------------------------------------------------------------\n",
      "\n",
      "Content Warning for suicide in #BirdBox. I haven’t seen it but based on the synopsis, #Suicide is a huge theme. Please remain cautious of watching it if you feel it will endanger your wellbeing.\n",
      "\n",
      "\n",
      "\n",
      "\n",
      "\n",
      "------------------------------------------------------------------------------\n",
      "\n",
      "Holiday #psa, #BirdBox on @netflix includes graphic #suicide scenes and does not provide a #triggerwarning. Please watch responsibly. I don't know what else to tag this with. RT+add your own hashtags for visibility!\n",
      "\n",
      "\n",
      "\n",
      "\n",
      "\n",
      "------------------------------------------------------------------------------\n",
      "\n",
      "Secrets of Netflix's \"Bird Box\" Revealed! All about the phenomenon and deleted scenes exposed! Contains Spoilers! http://ow.ly/tBbq30n8qnM  #BirdBoxNetflix #netflix #birdbox #sandrabullock #suicide #mentalhealth #birds #thriller #films #movies\n",
      "\n",
      "\n",
      "\n",
      "\n",
      "\n",
      "------------------------------------------------------------------------------\n",
      "\n",
      "I wonder what @MNightShyamalan thinks of #birdbox #movie on #netflix? It is similar to his #thehappening #film also about people uncontrollably committing #suicide.\n",
      "\n",
      "\n",
      "\n",
      "\n",
      "\n",
      "------------------------------------------------------------------------------\n",
      "\n",
      "As if blaming us, those with mental illness, of every mass shooting, is not enough, now we’re portrayed encouraging people to kill themselves & taking pleasure in it. And people wonder why I’m suicidal. #birdbox #suicide #stigma https://www.facebook.com/753293391/posts/10157162379123392/ … @sspencerthomas @SarahGaer\n",
      "\n",
      "\n",
      "\n",
      "\n",
      "\n",
      "------------------------------------------------------------------------------\n"
     ]
    }
   ],
   "source": [
    "for tweet in tweets:\n",
    "    new_tweet = tweet.find('div', class_='js-tweet-text-container')\n",
    "    if new_tweet == None:\n",
    "        continue\n",
    "    else:\n",
    "        print(new_tweet.text)\n",
    "    print('\\n')\n",
    "    print('\\n')\n",
    "    print('------------------------------------------------------------------------------')"
   ]
  },
  {
   "cell_type": "code",
   "execution_count": null,
   "metadata": {},
   "outputs": [],
   "source": []
  }
 ],
 "metadata": {
  "kernelspec": {
   "display_name": "Python 3",
   "language": "python",
   "name": "python3"
  },
  "language_info": {
   "codemirror_mode": {
    "name": "ipython",
    "version": 3
   },
   "file_extension": ".py",
   "mimetype": "text/x-python",
   "name": "python",
   "nbconvert_exporter": "python",
   "pygments_lexer": "ipython3",
   "version": "3.7.3"
  }
 },
 "nbformat": 4,
 "nbformat_minor": 2
}
