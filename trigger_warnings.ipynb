{
 "cells": [
  {
   "cell_type": "markdown",
   "metadata": {},
   "source": [
    "# Imports"
   ]
  },
  {
   "cell_type": "code",
   "execution_count": 60,
   "metadata": {},
   "outputs": [],
   "source": [
    "from requests import get\n",
    "from bs4 import BeautifulSoup\n",
    "import os\n",
    "from time import sleep\n",
    "import re\n",
    "import pandas as pd\n",
    "import matplotlib.pyplot as plt\n",
    "import seaborn as sns\n",
    "import time\n",
    "from selenium import webdriver\n",
    "from selenium.webdriver.common.keys import Keys\n",
    "import nltk\n",
    "from nltk.tokenize.toktok import ToktokTokenizer\n",
    "from nltk.corpus import stopwords\n",
    "import unicodedata\n",
    "import json\n",
    "from wordcloud import WordCloud\n",
    "import numpy as np\n",
    "import pprint as pprint\n",
    "from sklearn.feature_extraction.text import TfidfVectorizer\n",
    "from sklearn.model_selection import train_test_split\n",
    "from sklearn.linear_model import LogisticRegression\n",
    "from sklearn.metrics import classification_report, accuracy_score\n",
    "from sklearn.tree import DecisionTreeClassifier\n",
    "from sklearn.ensemble import RandomForestClassifier"
   ]
  },
  {
   "cell_type": "markdown",
   "metadata": {},
   "source": [
    "## Data Acquisition"
   ]
  },
  {
   "cell_type": "markdown",
   "metadata": {},
   "source": [
    "### Acquiring a list of movies.\n",
    "100 Most Popular Movies on IMDb."
   ]
  },
  {
   "cell_type": "code",
   "execution_count": 2,
   "metadata": {},
   "outputs": [],
   "source": [
    "url = '''https://www.imdb.com/chart/moviemeter?ref_=nv_mv_mpm'''\n",
    "response = get(url)"
   ]
  },
  {
   "cell_type": "code",
   "execution_count": 3,
   "metadata": {},
   "outputs": [
    {
     "name": "stdout",
     "output_type": "stream",
     "text": [
      "\n",
      "\n",
      "\n",
      "<!DOCTYPE html>\n",
      "<html\n",
      "    xmlns:og=\"http://ogp.me/ns#\"\n",
      "    xmlns:fb=\"http://www.facebook.com/2008/fbml\">\n",
      "    <head>\n",
      "         \n",
      "        <meta charset=\"utf-8\">\n",
      "        <meta http-equiv=\"X-UA-Compatible\" content=\"IE=edge\">\n",
      "\n",
      "    \n",
      "    \n",
      "    \n",
      "\n",
      "    \n",
      "    \n",
      "    \n",
      "\n",
      "    <meta name=\"apple-itunes-app\" content=\"app-id=342792525, app-argument=imdb:///?src=mdot\">\n",
      "            <style>\n",
      "                body#styleguide\n"
     ]
    }
   ],
   "source": [
    "print(response.text[:400])"
   ]
  },
  {
   "cell_type": "code",
   "execution_count": 4,
   "metadata": {},
   "outputs": [],
   "source": [
    "soup = BeautifulSoup(response.content, \n",
    "#                     'lxml')\n",
    "                    'html.parser')"
   ]
  },
  {
   "cell_type": "code",
   "execution_count": 5,
   "metadata": {
    "scrolled": true
   },
   "outputs": [],
   "source": [
    "# see also `soup.find_all`\n",
    "\n",
    "messy_movies = soup.find_all('td', class_='titleColumn')"
   ]
  },
  {
   "cell_type": "code",
   "execution_count": 6,
   "metadata": {},
   "outputs": [
    {
     "data": {
      "text/plain": [
       "100"
      ]
     },
     "execution_count": 6,
     "metadata": {},
     "output_type": "execute_result"
    }
   ],
   "source": [
    "len(messy_movies)"
   ]
  },
  {
   "cell_type": "code",
   "execution_count": 7,
   "metadata": {
    "scrolled": true
   },
   "outputs": [
    {
     "data": {
      "text/plain": [
       "['spiderman%20far%20from%20home',\n",
       " 'midsommar',\n",
       " 'toy%20story%204',\n",
       " 'yesterday',\n",
       " 'once%20upon%20a%20time%20%20in%20hollywood',\n",
       " 'spiderman%20into%20the%20spiderverse',\n",
       " 'avengers%20endgame',\n",
       " 'knives%20out',\n",
       " 'the%20lion%20king',\n",
       " 'annabelle%20comes%20home',\n",
       " 'shaft',\n",
       " 'alita%20battle%20angel',\n",
       " 'charlies%20angels',\n",
       " 'shazam',\n",
       " 'jumanji%20the%20next%20level',\n",
       " 'murder%20mystery',\n",
       " 'after',\n",
       " 'aladdin',\n",
       " 'hellboy',\n",
       " 'rocketman',\n",
       " 'spiderman%20homecoming',\n",
       " 'childs%20play',\n",
       " 'anna',\n",
       " 'men%20in%20black%20international',\n",
       " 'captain%20marvel',\n",
       " 'midway',\n",
       " 'john%20wick%20chapter%203%20%20parabellum',\n",
       " 'us',\n",
       " 'fast%20%20furious%20presents%20hobbs%20%20shaw',\n",
       " 'crawl',\n",
       " 'hereditary',\n",
       " 'i%20am%20mother',\n",
       " 'escape%20plan%20the%20extractors',\n",
       " 'star%20wars%20the%20rise%20of%20skywalker',\n",
       " 'robin%20hood',\n",
       " 'pet%20sematary',\n",
       " 'dark%20phoenix',\n",
       " 'kabir%20singh',\n",
       " 'the%20little%20mermaid',\n",
       " 'dumbo',\n",
       " 'the%20spy%20who%20dumped%20me',\n",
       " 'godzilla%20king%20of%20the%20monsters',\n",
       " 'it%20chapter%20two',\n",
       " 'stuber',\n",
       " 'independence%20day',\n",
       " 'brightburn',\n",
       " 'jumanji%20welcome%20to%20the%20jungle',\n",
       " 'toy%20story',\n",
       " 'article%2015',\n",
       " 'teen%20spirit',\n",
       " 'always%20be%20my%20maybe',\n",
       " 'toy%20story%203',\n",
       " 'joker',\n",
       " 'ophelia',\n",
       " 'a%20star%20is%20born',\n",
       " 'bad%20times%20at%20the%20el%20royale',\n",
       " 'avengers%20infinity%20war',\n",
       " 'shaft',\n",
       " 'the%20current%20war',\n",
       " 'the%20dead%20dont%20die',\n",
       " 'the%20secret%20life%20of%20pets%202',\n",
       " 'gisaengchung',\n",
       " 'hotel%20mumbai',\n",
       " 'john%20wick',\n",
       " 'venom',\n",
       " 'ralph%20breaks%20the%20internet',\n",
       " 'extremely%20wicked%20shockingly%20evil%20and%20vile',\n",
       " 'aquaman',\n",
       " 'booksmart',\n",
       " 'spiderman',\n",
       " 'five%20feet%20apart',\n",
       " 'spies%20in%20disguise',\n",
       " 'bohemian%20rhapsody',\n",
       " 'terminator%20dark%20fate',\n",
       " 'swiped',\n",
       " 'slaughterhouse%20rulez',\n",
       " 'it',\n",
       " 'the%20lion%20king',\n",
       " 'crazy%20rich%20asians',\n",
       " 'the%20shawshank%20redemption',\n",
       " 'le%20chant%20du%20loup',\n",
       " 'fighting%20with%20my%20family',\n",
       " 'toy%20story%202',\n",
       " 'pokmon%20detective%20pikachu',\n",
       " 'green%20book',\n",
       " 'love',\n",
       " 'baby%20driver',\n",
       " 'the%20hummingbird%20project',\n",
       " 'ready%20or%20not',\n",
       " 'little%20women',\n",
       " 'killers%20anonymous',\n",
       " 'the%20dark%20knight',\n",
       " 'the%20aftermath',\n",
       " 'thor%20ragnarok',\n",
       " 'breakthrough',\n",
       " 'glass',\n",
       " 'harry%20potter%20and%20the%20sorcerers%20stone',\n",
       " 'ready%20player%20one',\n",
       " 'black%20panther',\n",
       " 'the%20matrix']"
      ]
     },
     "execution_count": 7,
     "metadata": {},
     "output_type": "execute_result"
    }
   ],
   "source": [
    "movies = []\n",
    "trigger1 = []\n",
    "for movie in messy_movies:\n",
    "    movie_title = movie.find('a').text.lower().replace(' ', '%20')\n",
    "    movies.append(re.sub(r\"[^a-z0-9%\\s]\", '', movie_title))\n",
    "    trigger1.append(False)\n",
    "movies"
   ]
  },
  {
   "cell_type": "markdown",
   "metadata": {},
   "source": [
    "### Acquiring a list of movies with triggers."
   ]
  },
  {
   "cell_type": "code",
   "execution_count": 8,
   "metadata": {},
   "outputs": [],
   "source": [
    "url = '''https://istheresuicideinit.tumblr.com/post/116009541869/films'''\n",
    "response = get(url)"
   ]
  },
  {
   "cell_type": "code",
   "execution_count": 9,
   "metadata": {},
   "outputs": [],
   "source": [
    "soup = BeautifulSoup(response.content, \n",
    "#                     'lxml')\n",
    "                    'html.parser')"
   ]
  },
  {
   "cell_type": "code",
   "execution_count": 10,
   "metadata": {},
   "outputs": [
    {
     "data": {
      "text/plain": [
       "[<li>2:37 (2006)</li>,\n",
       " <li>3 idiots (2009)</li>,\n",
       " <li>28 days later (2002)</li>,\n",
       " <li>47 ronin (2013)</li>,\n",
       " <li>1408 (2007)</li>,\n",
       " <li>a clockwork orange (1971)</li>,\n",
       " <li>airplane! (1980)</li>,\n",
       " <li>almost famous (2000)</li>,\n",
       " <li>a long way down (2014)</li>,\n",
       " <li>always watching: a marble hornets story (2015)</li>,\n",
       " <li>a mother’s nightmare (2012)</li>,\n",
       " <li>an american werewolf in london (1981)</li>,\n",
       " <li>annabelle (2014)</li>,\n",
       " <li>anchorman 2: the legend continues (2013)</li>,\n",
       " <li>archie’s final project (2011)</li>,\n",
       " <li>arizona dream (1992) </li>,\n",
       " <li>as above, so below (2014)</li>,\n",
       " <li>a single man (2009)</li>,\n",
       " <li>a streetcar named desire (1951, 1984, 1987)</li>,\n",
       " <li>battle royale (2000)</li>,\n",
       " <li>before I disappear (2014)</li>,\n",
       " <li>ben x (2007)</li>,\n",
       " <li>better off dead (1985)</li>,\n",
       " <li>birdman: or (the unexpected virtue of ignorance) (2014)</li>,\n",
       " <li>blackbird (2014)</li>,\n",
       " <li>black swan (2010)</li>,\n",
       " <li>boogie nights (1997)</li>,\n",
       " <li>boogeyman 2 (2007)</li>,\n",
       " <li>casino royale (2006)</li>,\n",
       " <li>carrie (2013)</li>,\n",
       " <li>charlie bartlett (2007)</li>,\n",
       " <li>chatroom (2010)</li>,\n",
       " <li>cloud atlas (2012) </li>,\n",
       " <li>constantine (2005)</li>,\n",
       " <li>cozy dens (czech: Pelíšky) (1999)</li>,\n",
       " <li>cyberbully (2011)</li>,\n",
       " <li>cyberbully (2015)</li>,\n",
       " <li>dead poet’s society (1989)</li>,\n",
       " <li>dear lemon lima (2009)</li>,\n",
       " <li>detachment (211)</li>,\n",
       " <li>die welle (german) (2008)</li>,\n",
       " <li>disconnect (2012)</li>,\n",
       " <li>divergent (2014)</li>,\n",
       " <li>donnie darko (2001) </li>,\n",
       " <li>edge of tomorrow (2014)</li>,\n",
       " <li>elephant song (2014)</li>,\n",
       " <li>elizabethtown (2005)</li>,\n",
       " <li>ex machina (2015)</li>,\n",
       " <li>fame (2009)</li>,\n",
       " <li>fight club (1999)</li>,\n",
       " <li>filth (2013)</li>,\n",
       " <li>final destination 2 (2003)</li>,\n",
       " <li>forrest gump (1994)</li>,\n",
       " <li>frank (2014)</li>,\n",
       " <li>full metal jacket (1987)</li>,\n",
       " <li>girl, interrupted (1999)</li>,\n",
       " <li>gone girl (2014)</li>,\n",
       " <li>groundhog day (1993) </li>,\n",
       " <li>hard candy (2005)</li>,\n",
       " <li>hard core logo (1996)</li>,\n",
       " <li>harold and maude (1971)</li>,\n",
       " <li>harrison bergeron (1995)</li>,\n",
       " <li>heathers (1988)</li>,\n",
       " <li>hide and seek (2005)</li>,\n",
       " <li>hitch (2005)</li>,\n",
       " <li>holes (2003)</li>,\n",
       " <li>hook (1991) </li>,\n",
       " <li>horns (2013)</li>,\n",
       " <li>i am legend (2007)</li>,\n",
       " <li>in bruges (2008)</li>,\n",
       " <li>inception (2010)</li>,\n",
       " <li>inner demons (2014)</li>,\n",
       " <li>insidious: chapter 3 (2015)</li>,\n",
       " <li>in time (2011)</li>,\n",
       " <li>it’s kind of a funny story (2010)</li>,\n",
       " <li>jamesy boy (2014)</li>,\n",
       " <li>juno (2007)</li>,\n",
       " <li>kill your darlings (2013)</li>,\n",
       " <li>legend (2015)</li>,\n",
       " <li>les miserables (2012) </li>,\n",
       " <li>little miss sunshine (2006)</li>,\n",
       " <li>lost and delirious (2001)</li>,\n",
       " <li>madoka magica: rebellion (2013)</li>,\n",
       " <li>mary and max (2009)</li>,\n",
       " <li>men, women &amp; children (2014)</li>,\n",
       " <li>mommy (2014)</li>,\n",
       " <li>monster pies (2013)</li>,\n",
       " <li>mr holmes (2015)</li>,\n",
       " <li>nicholas nickleby (2002)</li>,\n",
       " <li>oldboy (2003)</li>,\n",
       " <li>once were warriors (1994) </li>,\n",
       " <li>one flew over the cukoo’s nest (1975)</li>,\n",
       " <li>ordinary people (1980) </li>,\n",
       " <li>oslo, august 21st (2001)</li>,\n",
       " <li>ouija (2014)</li>,\n",
       " <li>palo alto (2013)</li>,\n",
       " <li>paper man (2009)</li>,\n",
       " <li>perfect sisters (2014)</li>,\n",
       " <li>pet sematary (1989)</li>,\n",
       " <li>pippin (1981)</li>,\n",
       " <li>pollock (2000)</li>,\n",
       " <li>prayers for bobby (2009)</li>,\n",
       " <li>prison break (1938)</li>,\n",
       " <li>prometheus (2012) </li>,\n",
       " <li>pulse (2006)</li>,\n",
       " <li>pump up the volume (1990)</li>,\n",
       " <li>rent (2005)</li>,\n",
       " <li>remember me (2010)</li>,\n",
       " <li>rosencrantz and guildenstern are dead (1990)</li>,\n",
       " <li>saw II (2005)</li>,\n",
       " <li>serenity (2005)</li>,\n",
       " <li>seven pounds (2008)</li>,\n",
       " <li>seven psychopaths (2012)</li>,\n",
       " <li>shake hands with the devil (2007)</li>,\n",
       " <li>shame (2011)</li>,\n",
       " <li>short term 12 (2013)</li>,\n",
       " <li>show me love (1998)</li>,\n",
       " <li>side effects (2013) </li>,\n",
       " <li>sinister (2012)</li>,\n",
       " <li>spectre (2015)</li>,\n",
       " <li>starship troopers 2: hero of the federation (2004) </li>,\n",
       " <li>stay (2005) </li>,\n",
       " <li>suicide club/suicide circle (2002) </li>,\n",
       " <li>suicide room (2011) </li>,\n",
       " <li>sunset boulevard (1950)</li>,\n",
       " <li>swing kids (1993)</li>,\n",
       " <li>sympathy for mr vengeance (2002)</li>,\n",
       " <li>the angriest man in brooklyn (2014)</li>,\n",
       " <li>the avengers (2012)</li>,\n",
       " <li>the breakfast club (1985)</li>,\n",
       " <li>the black cauldron (1985)</li>,\n",
       " <li>the chronicles of riddick (2004)</li>,\n",
       " <li>the conjuring (2013)</li>,\n",
       " <li>the craft (1996)</li>,\n",
       " <li>the eye 2 (2004)</li>,\n",
       " <li>the fall (2006)</li>,\n",
       " <li>the final destination (2009)</li>,\n",
       " <li>the goonies (1985)</li>,\n",
       " <li>the happening (2008)</li>,\n",
       " <li>the hills have eyes (2006)</li>,\n",
       " <li>the holiday (2006)</li>,\n",
       " <li>the homesman (2014)</li>,\n",
       " <li>the man who killed the sun (1979)</li>,\n",
       " <li>the maze runner (2014)</li>,\n",
       " <li>the moth diaries (2011)</li>,\n",
       " <li>the number 23 (2007)</li>,\n",
       " <li>the omen (1976)</li>,\n",
       " <li>the orphanage (2007)</li>,\n",
       " <li>the joneses (2009)</li>,\n",
       " <li>the patriot (2000)</li>,\n",
       " <li>the perks of being a wallflower (2012)</li>,\n",
       " <li>the possession of michael king (2014)</li>,\n",
       " <li>the prestige (2006)</li>,\n",
       " <li>the royal tenenbaums (2001) </li>,\n",
       " <li>the shawshank redemption (1994)</li>,\n",
       " <li>the virgin suicides (1999) </li>,\n",
       " <li>the world’s end (2013) </li>,\n",
       " <li>thelma &amp; louise (1991)</li>,\n",
       " <li>wristcutters: a love story (2006)</li>]"
      ]
     },
     "execution_count": 10,
     "metadata": {},
     "output_type": "execute_result"
    }
   ],
   "source": [
    "# see also `soup.find_all`\n",
    "\n",
    "trigger_movies = soup.find('ul')\n",
    "trigger_movies.find_all('li')"
   ]
  },
  {
   "cell_type": "code",
   "execution_count": 11,
   "metadata": {},
   "outputs": [
    {
     "data": {
      "text/plain": [
       "['',\n",
       " '3%20idiots',\n",
       " '28%20days%20later',\n",
       " '47%20ronin',\n",
       " '',\n",
       " 'a%20clockwork%20orange',\n",
       " 'airplane',\n",
       " 'almost%20famous',\n",
       " 'a%20long%20way%20down',\n",
       " 'always%20watching%20a%20marble%20hornets%20story',\n",
       " 'a%20mothers%20nightmare',\n",
       " 'an%20american%20werewolf%20in%20london',\n",
       " 'annabelle',\n",
       " 'anchorman%202%20the%20legend%20continues',\n",
       " 'archies%20final%20project',\n",
       " 'arizona%20dream',\n",
       " 'as%20above%20so%20below',\n",
       " 'a%20single%20man',\n",
       " 'a%20streetcar%20named%20desire',\n",
       " 'battle%20royale',\n",
       " 'before%20I%20disappear',\n",
       " 'ben%20x',\n",
       " 'better%20off%20dead',\n",
       " 'birdman%20or%20the%20unexpected%20virtue%20of%20ignorance',\n",
       " 'blackbird',\n",
       " 'black%20swan',\n",
       " 'boogie%20nights',\n",
       " 'boogeyman',\n",
       " 'casino%20royale',\n",
       " 'carrie',\n",
       " 'charlie%20bartlett',\n",
       " 'chatroom',\n",
       " 'cloud%20atlas',\n",
       " 'constantine',\n",
       " 'cozy%20dens%20czech%20Pelíšky',\n",
       " 'cyberbully',\n",
       " 'cyberbully',\n",
       " 'dead%20poets%20society',\n",
       " 'dear%20lemon%20lima',\n",
       " 'detachment',\n",
       " 'die%20welle%20german',\n",
       " 'disconnect',\n",
       " 'divergent',\n",
       " 'donnie%20darko',\n",
       " 'edge%20of%20tomorrow',\n",
       " 'elephant%20song',\n",
       " 'elizabethtown',\n",
       " 'ex%20machina',\n",
       " 'fame',\n",
       " 'fight%20club',\n",
       " 'filth',\n",
       " 'final%20destination',\n",
       " 'forrest%20gump',\n",
       " 'frank',\n",
       " 'full%20metal%20jacket',\n",
       " 'girl%20interrupted',\n",
       " 'gone%20girl',\n",
       " 'groundhog%20day',\n",
       " 'hard%20candy',\n",
       " 'hard%20core%20logo',\n",
       " 'harold%20and%20maude',\n",
       " 'harrison%20bergeron',\n",
       " 'heathers',\n",
       " 'hide%20and%20seek',\n",
       " 'hitch',\n",
       " 'holes',\n",
       " 'hook',\n",
       " 'horns',\n",
       " 'i%20am%20legend',\n",
       " 'in%20bruges',\n",
       " 'inception',\n",
       " 'inner%20demons',\n",
       " 'insidious%20chapter',\n",
       " 'in%20time',\n",
       " 'its%20kind%20of%20a%20funny%20story',\n",
       " 'jamesy%20boy',\n",
       " 'juno',\n",
       " 'kill%20your%20darlings',\n",
       " 'legend',\n",
       " 'les%20miserables',\n",
       " 'little%20miss%20sunshine',\n",
       " 'lost%20and%20delirious',\n",
       " 'madoka%20magica%20rebellion',\n",
       " 'mary%20and%20max',\n",
       " 'men%20women%20%20children',\n",
       " 'mommy',\n",
       " 'monster%20pies',\n",
       " 'mr%20holmes',\n",
       " 'nicholas%20nickleby',\n",
       " 'oldboy',\n",
       " 'once%20were%20warriors',\n",
       " 'one%20flew%20over%20the%20cukoos%20nest',\n",
       " 'ordinary%20people',\n",
       " 'oslo%20august%2021st',\n",
       " 'ouija',\n",
       " 'palo%20alto',\n",
       " 'paper%20man',\n",
       " 'perfect%20sisters',\n",
       " 'pet%20sematary',\n",
       " 'pippin',\n",
       " 'pollock',\n",
       " 'prayers%20for%20bobby',\n",
       " 'prison%20break',\n",
       " 'prometheus',\n",
       " 'pulse',\n",
       " 'pump%20up%20the%20volume',\n",
       " 'rent',\n",
       " 'remember%20me',\n",
       " 'rosencrantz%20and%20guildenstern%20are%20dead',\n",
       " 'saw%20II',\n",
       " 'serenity',\n",
       " 'seven%20pounds',\n",
       " 'seven%20psychopaths',\n",
       " 'shake%20hands%20with%20the%20devil',\n",
       " 'shame',\n",
       " 'short%20term',\n",
       " 'show%20me%20love',\n",
       " 'side%20effects',\n",
       " 'sinister',\n",
       " 'spectre',\n",
       " 'starship%20troopers%202%20hero%20of%20the%20federation',\n",
       " 'stay',\n",
       " 'suicide%20clubsuicide%20circle',\n",
       " 'suicide%20room',\n",
       " 'sunset%20boulevard',\n",
       " 'swing%20kids',\n",
       " 'sympathy%20for%20mr%20vengeance',\n",
       " 'the%20angriest%20man%20in%20brooklyn',\n",
       " 'the%20avengers',\n",
       " 'the%20breakfast%20club',\n",
       " 'the%20black%20cauldron',\n",
       " 'the%20chronicles%20of%20riddick',\n",
       " 'the%20conjuring',\n",
       " 'the%20craft',\n",
       " 'the%20eye',\n",
       " 'the%20fall',\n",
       " 'the%20final%20destination',\n",
       " 'the%20goonies',\n",
       " 'the%20happening',\n",
       " 'the%20hills%20have%20eyes',\n",
       " 'the%20holiday',\n",
       " 'the%20homesman',\n",
       " 'the%20man%20who%20killed%20the%20sun',\n",
       " 'the%20maze%20runner',\n",
       " 'the%20moth%20diaries',\n",
       " 'the%20number',\n",
       " 'the%20omen',\n",
       " 'the%20orphanage',\n",
       " 'the%20joneses',\n",
       " 'the%20patriot',\n",
       " 'the%20perks%20of%20being%20a%20wallflower',\n",
       " 'the%20possession%20of%20michael%20king',\n",
       " 'the%20prestige',\n",
       " 'the%20royal%20tenenbaums',\n",
       " 'the%20shawshank%20redemption',\n",
       " 'the%20virgin%20suicides',\n",
       " 'the%20worlds%20end',\n",
       " 'thelma%20%20louise',\n",
       " 'wristcutters%20a%20love%20story']"
      ]
     },
     "execution_count": 11,
     "metadata": {},
     "output_type": "execute_result"
    }
   ],
   "source": [
    "trigger_movies_list = []\n",
    "trigger2 = []\n",
    "for trigger_movie in trigger_movies:\n",
    "    movie_title = trigger_movie.text.replace(' ', '%20')\n",
    "    movie_title = re.sub(r\"[^\\w%]\", '', movie_title)\n",
    "    trigger_movies_list.append(re.sub(r\"[\\d%]+$\", '', movie_title))\n",
    "    trigger2.append(True)\n",
    "trigger_movies_list"
   ]
  },
  {
   "cell_type": "code",
   "execution_count": 12,
   "metadata": {},
   "outputs": [
    {
     "data": {
      "text/plain": [
       "159"
      ]
     },
     "execution_count": 12,
     "metadata": {},
     "output_type": "execute_result"
    }
   ],
   "source": [
    "len(trigger_movies_list)"
   ]
  },
  {
   "cell_type": "code",
   "execution_count": 13,
   "metadata": {},
   "outputs": [
    {
     "data": {
      "text/plain": [
       "259"
      ]
     },
     "execution_count": 13,
     "metadata": {},
     "output_type": "execute_result"
    }
   ],
   "source": [
    "trigger1.extend(trigger2)\n",
    "len(trigger1)"
   ]
  },
  {
   "cell_type": "code",
   "execution_count": 14,
   "metadata": {},
   "outputs": [],
   "source": [
    "movies.extend(trigger_movies_list)"
   ]
  },
  {
   "cell_type": "markdown",
   "metadata": {},
   "source": [
    "### Scraping tweets from Twitter."
   ]
  },
  {
   "cell_type": "code",
   "execution_count": 15,
   "metadata": {},
   "outputs": [],
   "source": [
    "browser = webdriver.Chrome()\n",
    "# print('Connecting to Twitter')\n",
    "\n",
    "\n",
    "tweets = []\n",
    "tweets_movie_title = []\n",
    "tweets_trigger = []\n",
    "\n",
    "\n",
    "for movie, trigger in list(zip(movies, trigger1)):\n",
    "    # print(f'Looking up {movie}')\n",
    "    browser.get(f\"https://twitter.com/search?q={movie}%20trigger&src=typd\")\n",
    "    # time.sleep(1)\n",
    "\n",
    "    elem = browser.find_element_by_tag_name(\"body\")\n",
    "\n",
    "    no_of_pagedowns = 18\n",
    "    # print('Scrolling thru page.')\n",
    "\n",
    "    while no_of_pagedowns:\n",
    "        elem.send_keys(Keys.PAGE_DOWN)\n",
    "        # time.sleep(0.2)\n",
    "        no_of_pagedowns-=1\n",
    "\n",
    "    post_elems = browser.find_elements_by_class_name(\"js-tweet-text-container\")\n",
    "    # print('Grabbing Tweets.')\n",
    "\n",
    "    for post in post_elems:\n",
    "        tweets.append(post.text)\n",
    "        tweets_movie_title.append(movie)\n",
    "        tweets_trigger.append(trigger)\n",
    "    # print('Completed.')"
   ]
  },
  {
   "cell_type": "code",
   "execution_count": 16,
   "metadata": {},
   "outputs": [
    {
     "data": {
      "text/html": [
       "<div>\n",
       "<style scoped>\n",
       "    .dataframe tbody tr th:only-of-type {\n",
       "        vertical-align: middle;\n",
       "    }\n",
       "\n",
       "    .dataframe tbody tr th {\n",
       "        vertical-align: top;\n",
       "    }\n",
       "\n",
       "    .dataframe thead th {\n",
       "        text-align: right;\n",
       "    }\n",
       "</style>\n",
       "<table border=\"1\" class=\"dataframe\">\n",
       "  <thead>\n",
       "    <tr style=\"text-align: right;\">\n",
       "      <th></th>\n",
       "      <th>title</th>\n",
       "      <th>tweet</th>\n",
       "      <th>trigger_scene</th>\n",
       "    </tr>\n",
       "  </thead>\n",
       "  <tbody>\n",
       "    <tr>\n",
       "      <th>0</th>\n",
       "      <td>spiderman%20far%20from%20home</td>\n",
       "      <td>#SpiderMan writers were scared to pull the tri...</td>\n",
       "      <td>False</td>\n",
       "    </tr>\n",
       "    <tr>\n",
       "      <th>1</th>\n",
       "      <td>spiderman%20far%20from%20home</td>\n",
       "      <td>Trigger warning for all photographers before s...</td>\n",
       "      <td>False</td>\n",
       "    </tr>\n",
       "    <tr>\n",
       "      <th>2</th>\n",
       "      <td>spiderman%20far%20from%20home</td>\n",
       "      <td>why does this trigger me so much :((\\n\\n#FarFr...</td>\n",
       "      <td>False</td>\n",
       "    </tr>\n",
       "    <tr>\n",
       "      <th>3</th>\n",
       "      <td>spiderman%20far%20from%20home</td>\n",
       "      <td>so i just finished watching spiderman far from...</td>\n",
       "      <td>False</td>\n",
       "    </tr>\n",
       "    <tr>\n",
       "      <th>4</th>\n",
       "      <td>spiderman%20far%20from%20home</td>\n",
       "      <td>⠀⠀ ❝You don't want any part in this...❞\\n⠀⠀ ⠀❧...</td>\n",
       "      <td>False</td>\n",
       "    </tr>\n",
       "  </tbody>\n",
       "</table>\n",
       "</div>"
      ],
      "text/plain": [
       "                           title  \\\n",
       "0  spiderman%20far%20from%20home   \n",
       "1  spiderman%20far%20from%20home   \n",
       "2  spiderman%20far%20from%20home   \n",
       "3  spiderman%20far%20from%20home   \n",
       "4  spiderman%20far%20from%20home   \n",
       "\n",
       "                                               tweet  trigger_scene  \n",
       "0  #SpiderMan writers were scared to pull the tri...          False  \n",
       "1  Trigger warning for all photographers before s...          False  \n",
       "2  why does this trigger me so much :((\\n\\n#FarFr...          False  \n",
       "3  so i just finished watching spiderman far from...          False  \n",
       "4  ⠀⠀ ❝You don't want any part in this...❞\\n⠀⠀ ⠀❧...          False  "
      ]
     },
     "execution_count": 16,
     "metadata": {},
     "output_type": "execute_result"
    }
   ],
   "source": [
    "df = pd.DataFrame({'title':tweets_movie_title, 'tweet':tweets, 'trigger_scene':tweets_trigger})\n",
    "df.head()"
   ]
  },
  {
   "cell_type": "markdown",
   "metadata": {},
   "source": [
    "## Data Preparation"
   ]
  },
  {
   "cell_type": "markdown",
   "metadata": {},
   "source": [
    "##### Fixing title column."
   ]
  },
  {
   "cell_type": "code",
   "execution_count": 17,
   "metadata": {},
   "outputs": [
    {
     "data": {
      "text/html": [
       "<div>\n",
       "<style scoped>\n",
       "    .dataframe tbody tr th:only-of-type {\n",
       "        vertical-align: middle;\n",
       "    }\n",
       "\n",
       "    .dataframe tbody tr th {\n",
       "        vertical-align: top;\n",
       "    }\n",
       "\n",
       "    .dataframe thead th {\n",
       "        text-align: right;\n",
       "    }\n",
       "</style>\n",
       "<table border=\"1\" class=\"dataframe\">\n",
       "  <thead>\n",
       "    <tr style=\"text-align: right;\">\n",
       "      <th></th>\n",
       "      <th>title</th>\n",
       "      <th>tweet</th>\n",
       "      <th>trigger_scene</th>\n",
       "    </tr>\n",
       "  </thead>\n",
       "  <tbody>\n",
       "    <tr>\n",
       "      <th>0</th>\n",
       "      <td>spiderman_far_from_home</td>\n",
       "      <td>#SpiderMan writers were scared to pull the tri...</td>\n",
       "      <td>False</td>\n",
       "    </tr>\n",
       "    <tr>\n",
       "      <th>1</th>\n",
       "      <td>spiderman_far_from_home</td>\n",
       "      <td>Trigger warning for all photographers before s...</td>\n",
       "      <td>False</td>\n",
       "    </tr>\n",
       "    <tr>\n",
       "      <th>2</th>\n",
       "      <td>spiderman_far_from_home</td>\n",
       "      <td>why does this trigger me so much :((\\n\\n#FarFr...</td>\n",
       "      <td>False</td>\n",
       "    </tr>\n",
       "    <tr>\n",
       "      <th>3</th>\n",
       "      <td>spiderman_far_from_home</td>\n",
       "      <td>so i just finished watching spiderman far from...</td>\n",
       "      <td>False</td>\n",
       "    </tr>\n",
       "    <tr>\n",
       "      <th>4</th>\n",
       "      <td>spiderman_far_from_home</td>\n",
       "      <td>⠀⠀ ❝You don't want any part in this...❞\\n⠀⠀ ⠀❧...</td>\n",
       "      <td>False</td>\n",
       "    </tr>\n",
       "  </tbody>\n",
       "</table>\n",
       "</div>"
      ],
      "text/plain": [
       "                     title                                              tweet  \\\n",
       "0  spiderman_far_from_home  #SpiderMan writers were scared to pull the tri...   \n",
       "1  spiderman_far_from_home  Trigger warning for all photographers before s...   \n",
       "2  spiderman_far_from_home  why does this trigger me so much :((\\n\\n#FarFr...   \n",
       "3  spiderman_far_from_home  so i just finished watching spiderman far from...   \n",
       "4  spiderman_far_from_home  ⠀⠀ ❝You don't want any part in this...❞\\n⠀⠀ ⠀❧...   \n",
       "\n",
       "   trigger_scene  \n",
       "0          False  \n",
       "1          False  \n",
       "2          False  \n",
       "3          False  \n",
       "4          False  "
      ]
     },
     "execution_count": 17,
     "metadata": {},
     "output_type": "execute_result"
    }
   ],
   "source": [
    "df.title = df.title.str.replace('%20', '_')\n",
    "df.head()"
   ]
  },
  {
   "cell_type": "markdown",
   "metadata": {},
   "source": [
    "##### Lowercasing the text."
   ]
  },
  {
   "cell_type": "code",
   "execution_count": 18,
   "metadata": {},
   "outputs": [
    {
     "data": {
      "text/html": [
       "<div>\n",
       "<style scoped>\n",
       "    .dataframe tbody tr th:only-of-type {\n",
       "        vertical-align: middle;\n",
       "    }\n",
       "\n",
       "    .dataframe tbody tr th {\n",
       "        vertical-align: top;\n",
       "    }\n",
       "\n",
       "    .dataframe thead th {\n",
       "        text-align: right;\n",
       "    }\n",
       "</style>\n",
       "<table border=\"1\" class=\"dataframe\">\n",
       "  <thead>\n",
       "    <tr style=\"text-align: right;\">\n",
       "      <th></th>\n",
       "      <th>title</th>\n",
       "      <th>tweet</th>\n",
       "      <th>trigger_scene</th>\n",
       "      <th>cleaned_text</th>\n",
       "    </tr>\n",
       "  </thead>\n",
       "  <tbody>\n",
       "    <tr>\n",
       "      <th>0</th>\n",
       "      <td>spiderman_far_from_home</td>\n",
       "      <td>#SpiderMan writers were scared to pull the tri...</td>\n",
       "      <td>False</td>\n",
       "      <td>#spiderman writers were scared to pull the tri...</td>\n",
       "    </tr>\n",
       "    <tr>\n",
       "      <th>1</th>\n",
       "      <td>spiderman_far_from_home</td>\n",
       "      <td>Trigger warning for all photographers before s...</td>\n",
       "      <td>False</td>\n",
       "      <td>trigger warning for all photographers before s...</td>\n",
       "    </tr>\n",
       "    <tr>\n",
       "      <th>2</th>\n",
       "      <td>spiderman_far_from_home</td>\n",
       "      <td>why does this trigger me so much :((\\n\\n#FarFr...</td>\n",
       "      <td>False</td>\n",
       "      <td>why does this trigger me so much :((\\n\\n#farfr...</td>\n",
       "    </tr>\n",
       "    <tr>\n",
       "      <th>3</th>\n",
       "      <td>spiderman_far_from_home</td>\n",
       "      <td>so i just finished watching spiderman far from...</td>\n",
       "      <td>False</td>\n",
       "      <td>so i just finished watching spiderman far from...</td>\n",
       "    </tr>\n",
       "    <tr>\n",
       "      <th>4</th>\n",
       "      <td>spiderman_far_from_home</td>\n",
       "      <td>⠀⠀ ❝You don't want any part in this...❞\\n⠀⠀ ⠀❧...</td>\n",
       "      <td>False</td>\n",
       "      <td>⠀⠀ ❝you don't want any part in this...❞\\n⠀⠀ ⠀❧...</td>\n",
       "    </tr>\n",
       "  </tbody>\n",
       "</table>\n",
       "</div>"
      ],
      "text/plain": [
       "                     title                                              tweet  \\\n",
       "0  spiderman_far_from_home  #SpiderMan writers were scared to pull the tri...   \n",
       "1  spiderman_far_from_home  Trigger warning for all photographers before s...   \n",
       "2  spiderman_far_from_home  why does this trigger me so much :((\\n\\n#FarFr...   \n",
       "3  spiderman_far_from_home  so i just finished watching spiderman far from...   \n",
       "4  spiderman_far_from_home  ⠀⠀ ❝You don't want any part in this...❞\\n⠀⠀ ⠀❧...   \n",
       "\n",
       "   trigger_scene                                       cleaned_text  \n",
       "0          False  #spiderman writers were scared to pull the tri...  \n",
       "1          False  trigger warning for all photographers before s...  \n",
       "2          False  why does this trigger me so much :((\\n\\n#farfr...  \n",
       "3          False  so i just finished watching spiderman far from...  \n",
       "4          False  ⠀⠀ ❝you don't want any part in this...❞\\n⠀⠀ ⠀❧...  "
      ]
     },
     "execution_count": 18,
     "metadata": {},
     "output_type": "execute_result"
    }
   ],
   "source": [
    "df['cleaned_text'] = df.tweet.str.lower()\n",
    "df.head()"
   ]
  },
  {
   "cell_type": "markdown",
   "metadata": {},
   "source": [
    "##### Converting and standardizing accented characters into ASCII characters."
   ]
  },
  {
   "cell_type": "code",
   "execution_count": 19,
   "metadata": {},
   "outputs": [
    {
     "data": {
      "text/html": [
       "<div>\n",
       "<style scoped>\n",
       "    .dataframe tbody tr th:only-of-type {\n",
       "        vertical-align: middle;\n",
       "    }\n",
       "\n",
       "    .dataframe tbody tr th {\n",
       "        vertical-align: top;\n",
       "    }\n",
       "\n",
       "    .dataframe thead th {\n",
       "        text-align: right;\n",
       "    }\n",
       "</style>\n",
       "<table border=\"1\" class=\"dataframe\">\n",
       "  <thead>\n",
       "    <tr style=\"text-align: right;\">\n",
       "      <th></th>\n",
       "      <th>title</th>\n",
       "      <th>tweet</th>\n",
       "      <th>trigger_scene</th>\n",
       "      <th>cleaned_text</th>\n",
       "    </tr>\n",
       "  </thead>\n",
       "  <tbody>\n",
       "    <tr>\n",
       "      <th>0</th>\n",
       "      <td>spiderman_far_from_home</td>\n",
       "      <td>#SpiderMan writers were scared to pull the tri...</td>\n",
       "      <td>False</td>\n",
       "      <td>#spiderman writers were scared to pull the tri...</td>\n",
       "    </tr>\n",
       "    <tr>\n",
       "      <th>1</th>\n",
       "      <td>spiderman_far_from_home</td>\n",
       "      <td>Trigger warning for all photographers before s...</td>\n",
       "      <td>False</td>\n",
       "      <td>trigger warning for all photographers before s...</td>\n",
       "    </tr>\n",
       "    <tr>\n",
       "      <th>2</th>\n",
       "      <td>spiderman_far_from_home</td>\n",
       "      <td>why does this trigger me so much :((\\n\\n#FarFr...</td>\n",
       "      <td>False</td>\n",
       "      <td>why does this trigger me so much :((\\n\\n#farfr...</td>\n",
       "    </tr>\n",
       "    <tr>\n",
       "      <th>3</th>\n",
       "      <td>spiderman_far_from_home</td>\n",
       "      <td>so i just finished watching spiderman far from...</td>\n",
       "      <td>False</td>\n",
       "      <td>so i just finished watching spiderman far from...</td>\n",
       "    </tr>\n",
       "    <tr>\n",
       "      <th>4</th>\n",
       "      <td>spiderman_far_from_home</td>\n",
       "      <td>⠀⠀ ❝You don't want any part in this...❞\\n⠀⠀ ⠀❧...</td>\n",
       "      <td>False</td>\n",
       "      <td>you don't want any part in this...\\n  q b. as...</td>\n",
       "    </tr>\n",
       "  </tbody>\n",
       "</table>\n",
       "</div>"
      ],
      "text/plain": [
       "                     title                                              tweet  \\\n",
       "0  spiderman_far_from_home  #SpiderMan writers were scared to pull the tri...   \n",
       "1  spiderman_far_from_home  Trigger warning for all photographers before s...   \n",
       "2  spiderman_far_from_home  why does this trigger me so much :((\\n\\n#FarFr...   \n",
       "3  spiderman_far_from_home  so i just finished watching spiderman far from...   \n",
       "4  spiderman_far_from_home  ⠀⠀ ❝You don't want any part in this...❞\\n⠀⠀ ⠀❧...   \n",
       "\n",
       "   trigger_scene                                       cleaned_text  \n",
       "0          False  #spiderman writers were scared to pull the tri...  \n",
       "1          False  trigger warning for all photographers before s...  \n",
       "2          False  why does this trigger me so much :((\\n\\n#farfr...  \n",
       "3          False  so i just finished watching spiderman far from...  \n",
       "4          False   you don't want any part in this...\\n  q b. as...  "
      ]
     },
     "execution_count": 19,
     "metadata": {},
     "output_type": "execute_result"
    }
   ],
   "source": [
    "def replace_accented_characters(text):\n",
    "    no_accent_text = unicodedata.normalize('NFKD', text)\\\n",
    "                        .encode('ascii', 'ignore')\\\n",
    "                        .decode('utf-8', 'ignore')\n",
    "    return no_accent_text\n",
    "\n",
    "df.cleaned_text = df.cleaned_text.apply(replace_accented_characters)\n",
    "df.head()"
   ]
  },
  {
   "cell_type": "markdown",
   "metadata": {},
   "source": [
    "##### Removing special characters."
   ]
  },
  {
   "cell_type": "code",
   "execution_count": 20,
   "metadata": {},
   "outputs": [
    {
     "data": {
      "text/html": [
       "<div>\n",
       "<style scoped>\n",
       "    .dataframe tbody tr th:only-of-type {\n",
       "        vertical-align: middle;\n",
       "    }\n",
       "\n",
       "    .dataframe tbody tr th {\n",
       "        vertical-align: top;\n",
       "    }\n",
       "\n",
       "    .dataframe thead th {\n",
       "        text-align: right;\n",
       "    }\n",
       "</style>\n",
       "<table border=\"1\" class=\"dataframe\">\n",
       "  <thead>\n",
       "    <tr style=\"text-align: right;\">\n",
       "      <th></th>\n",
       "      <th>title</th>\n",
       "      <th>tweet</th>\n",
       "      <th>trigger_scene</th>\n",
       "      <th>cleaned_text</th>\n",
       "    </tr>\n",
       "  </thead>\n",
       "  <tbody>\n",
       "    <tr>\n",
       "      <th>0</th>\n",
       "      <td>spiderman_far_from_home</td>\n",
       "      <td>#SpiderMan writers were scared to pull the tri...</td>\n",
       "      <td>False</td>\n",
       "      <td>spiderman writers were scared to pull the trig...</td>\n",
       "    </tr>\n",
       "    <tr>\n",
       "      <th>1</th>\n",
       "      <td>spiderman_far_from_home</td>\n",
       "      <td>Trigger warning for all photographers before s...</td>\n",
       "      <td>False</td>\n",
       "      <td>trigger warning for all photographers before s...</td>\n",
       "    </tr>\n",
       "    <tr>\n",
       "      <th>2</th>\n",
       "      <td>spiderman_far_from_home</td>\n",
       "      <td>why does this trigger me so much :((\\n\\n#FarFr...</td>\n",
       "      <td>False</td>\n",
       "      <td>why does this trigger me so much \\n\\nfarfromho...</td>\n",
       "    </tr>\n",
       "    <tr>\n",
       "      <th>3</th>\n",
       "      <td>spiderman_far_from_home</td>\n",
       "      <td>so i just finished watching spiderman far from...</td>\n",
       "      <td>False</td>\n",
       "      <td>so i just finished watching spiderman far from...</td>\n",
       "    </tr>\n",
       "    <tr>\n",
       "      <th>4</th>\n",
       "      <td>spiderman_far_from_home</td>\n",
       "      <td>⠀⠀ ❝You don't want any part in this...❞\\n⠀⠀ ⠀❧...</td>\n",
       "      <td>False</td>\n",
       "      <td>you dont want any part in this\\n  q b as ms \\...</td>\n",
       "    </tr>\n",
       "  </tbody>\n",
       "</table>\n",
       "</div>"
      ],
      "text/plain": [
       "                     title                                              tweet  \\\n",
       "0  spiderman_far_from_home  #SpiderMan writers were scared to pull the tri...   \n",
       "1  spiderman_far_from_home  Trigger warning for all photographers before s...   \n",
       "2  spiderman_far_from_home  why does this trigger me so much :((\\n\\n#FarFr...   \n",
       "3  spiderman_far_from_home  so i just finished watching spiderman far from...   \n",
       "4  spiderman_far_from_home  ⠀⠀ ❝You don't want any part in this...❞\\n⠀⠀ ⠀❧...   \n",
       "\n",
       "   trigger_scene                                       cleaned_text  \n",
       "0          False  spiderman writers were scared to pull the trig...  \n",
       "1          False  trigger warning for all photographers before s...  \n",
       "2          False  why does this trigger me so much \\n\\nfarfromho...  \n",
       "3          False  so i just finished watching spiderman far from...  \n",
       "4          False   you dont want any part in this\\n  q b as ms \\...  "
      ]
     },
     "execution_count": 20,
     "metadata": {},
     "output_type": "execute_result"
    }
   ],
   "source": [
    "# remove anything that is not a through z, a number, a single quote, or whitespace\n",
    "def remove_special_characters(text):\n",
    "    no_special_text = re.sub(r\"[^a-z0-9\\s]\", '', text)\n",
    "    return no_special_text\n",
    "\n",
    "df.cleaned_text = df.cleaned_text.apply(remove_special_characters)\n",
    "df.head()"
   ]
  },
  {
   "cell_type": "markdown",
   "metadata": {},
   "source": [
    "##### Tokenization"
   ]
  },
  {
   "cell_type": "code",
   "execution_count": 21,
   "metadata": {},
   "outputs": [
    {
     "data": {
      "text/html": [
       "<div>\n",
       "<style scoped>\n",
       "    .dataframe tbody tr th:only-of-type {\n",
       "        vertical-align: middle;\n",
       "    }\n",
       "\n",
       "    .dataframe tbody tr th {\n",
       "        vertical-align: top;\n",
       "    }\n",
       "\n",
       "    .dataframe thead th {\n",
       "        text-align: right;\n",
       "    }\n",
       "</style>\n",
       "<table border=\"1\" class=\"dataframe\">\n",
       "  <thead>\n",
       "    <tr style=\"text-align: right;\">\n",
       "      <th></th>\n",
       "      <th>title</th>\n",
       "      <th>tweet</th>\n",
       "      <th>trigger_scene</th>\n",
       "      <th>cleaned_text</th>\n",
       "    </tr>\n",
       "  </thead>\n",
       "  <tbody>\n",
       "    <tr>\n",
       "      <th>0</th>\n",
       "      <td>spiderman_far_from_home</td>\n",
       "      <td>#SpiderMan writers were scared to pull the tri...</td>\n",
       "      <td>False</td>\n",
       "      <td>spiderman writers were scared to pull the trig...</td>\n",
       "    </tr>\n",
       "    <tr>\n",
       "      <th>1</th>\n",
       "      <td>spiderman_far_from_home</td>\n",
       "      <td>Trigger warning for all photographers before s...</td>\n",
       "      <td>False</td>\n",
       "      <td>trigger warning for all photographers before s...</td>\n",
       "    </tr>\n",
       "    <tr>\n",
       "      <th>2</th>\n",
       "      <td>spiderman_far_from_home</td>\n",
       "      <td>why does this trigger me so much :((\\n\\n#FarFr...</td>\n",
       "      <td>False</td>\n",
       "      <td>why does this trigger me so much \\n\\nfarfromho...</td>\n",
       "    </tr>\n",
       "    <tr>\n",
       "      <th>3</th>\n",
       "      <td>spiderman_far_from_home</td>\n",
       "      <td>so i just finished watching spiderman far from...</td>\n",
       "      <td>False</td>\n",
       "      <td>so i just finished watching spiderman far from...</td>\n",
       "    </tr>\n",
       "    <tr>\n",
       "      <th>4</th>\n",
       "      <td>spiderman_far_from_home</td>\n",
       "      <td>⠀⠀ ❝You don't want any part in this...❞\\n⠀⠀ ⠀❧...</td>\n",
       "      <td>False</td>\n",
       "      <td>you dont want any part in this\\n q b as ms \\n ...</td>\n",
       "    </tr>\n",
       "  </tbody>\n",
       "</table>\n",
       "</div>"
      ],
      "text/plain": [
       "                     title                                              tweet  \\\n",
       "0  spiderman_far_from_home  #SpiderMan writers were scared to pull the tri...   \n",
       "1  spiderman_far_from_home  Trigger warning for all photographers before s...   \n",
       "2  spiderman_far_from_home  why does this trigger me so much :((\\n\\n#FarFr...   \n",
       "3  spiderman_far_from_home  so i just finished watching spiderman far from...   \n",
       "4  spiderman_far_from_home  ⠀⠀ ❝You don't want any part in this...❞\\n⠀⠀ ⠀❧...   \n",
       "\n",
       "   trigger_scene                                       cleaned_text  \n",
       "0          False  spiderman writers were scared to pull the trig...  \n",
       "1          False  trigger warning for all photographers before s...  \n",
       "2          False  why does this trigger me so much \\n\\nfarfromho...  \n",
       "3          False  so i just finished watching spiderman far from...  \n",
       "4          False  you dont want any part in this\\n q b as ms \\n ...  "
      ]
     },
     "execution_count": 21,
     "metadata": {},
     "output_type": "execute_result"
    }
   ],
   "source": [
    "def tokenize_text(text):\n",
    "    tokenizer = nltk.tokenize.ToktokTokenizer()\n",
    "    return tokenizer.tokenize(text, return_str=True)\n",
    "\n",
    "df.cleaned_text = df.cleaned_text.apply(tokenize_text)\n",
    "df.head()"
   ]
  },
  {
   "cell_type": "markdown",
   "metadata": {},
   "source": [
    "##### Stemming"
   ]
  },
  {
   "cell_type": "code",
   "execution_count": 22,
   "metadata": {},
   "outputs": [
    {
     "data": {
      "text/html": [
       "<div>\n",
       "<style scoped>\n",
       "    .dataframe tbody tr th:only-of-type {\n",
       "        vertical-align: middle;\n",
       "    }\n",
       "\n",
       "    .dataframe tbody tr th {\n",
       "        vertical-align: top;\n",
       "    }\n",
       "\n",
       "    .dataframe thead th {\n",
       "        text-align: right;\n",
       "    }\n",
       "</style>\n",
       "<table border=\"1\" class=\"dataframe\">\n",
       "  <thead>\n",
       "    <tr style=\"text-align: right;\">\n",
       "      <th></th>\n",
       "      <th>title</th>\n",
       "      <th>tweet</th>\n",
       "      <th>trigger_scene</th>\n",
       "      <th>cleaned_text</th>\n",
       "      <th>stemmed_text</th>\n",
       "    </tr>\n",
       "  </thead>\n",
       "  <tbody>\n",
       "    <tr>\n",
       "      <th>0</th>\n",
       "      <td>spiderman_far_from_home</td>\n",
       "      <td>#SpiderMan writers were scared to pull the tri...</td>\n",
       "      <td>False</td>\n",
       "      <td>spiderman writers were scared to pull the trig...</td>\n",
       "      <td>spiderman writer were scare to pull the trigge...</td>\n",
       "    </tr>\n",
       "    <tr>\n",
       "      <th>1</th>\n",
       "      <td>spiderman_far_from_home</td>\n",
       "      <td>Trigger warning for all photographers before s...</td>\n",
       "      <td>False</td>\n",
       "      <td>trigger warning for all photographers before s...</td>\n",
       "      <td>trigger warn for all photograph befor see spid...</td>\n",
       "    </tr>\n",
       "    <tr>\n",
       "      <th>2</th>\n",
       "      <td>spiderman_far_from_home</td>\n",
       "      <td>why does this trigger me so much :((\\n\\n#FarFr...</td>\n",
       "      <td>False</td>\n",
       "      <td>why does this trigger me so much \\n\\nfarfromho...</td>\n",
       "      <td>whi doe thi trigger me so much farfromhom spid...</td>\n",
       "    </tr>\n",
       "    <tr>\n",
       "      <th>3</th>\n",
       "      <td>spiderman_far_from_home</td>\n",
       "      <td>so i just finished watching spiderman far from...</td>\n",
       "      <td>False</td>\n",
       "      <td>so i just finished watching spiderman far from...</td>\n",
       "      <td>so i just finish watch spiderman far from home...</td>\n",
       "    </tr>\n",
       "    <tr>\n",
       "      <th>4</th>\n",
       "      <td>spiderman_far_from_home</td>\n",
       "      <td>⠀⠀ ❝You don't want any part in this...❞\\n⠀⠀ ⠀❧...</td>\n",
       "      <td>False</td>\n",
       "      <td>you dont want any part in this\\n q b as ms \\n ...</td>\n",
       "      <td>you dont want ani part in thi q b as ms spider...</td>\n",
       "    </tr>\n",
       "  </tbody>\n",
       "</table>\n",
       "</div>"
      ],
      "text/plain": [
       "                     title                                              tweet  \\\n",
       "0  spiderman_far_from_home  #SpiderMan writers were scared to pull the tri...   \n",
       "1  spiderman_far_from_home  Trigger warning for all photographers before s...   \n",
       "2  spiderman_far_from_home  why does this trigger me so much :((\\n\\n#FarFr...   \n",
       "3  spiderman_far_from_home  so i just finished watching spiderman far from...   \n",
       "4  spiderman_far_from_home  ⠀⠀ ❝You don't want any part in this...❞\\n⠀⠀ ⠀❧...   \n",
       "\n",
       "   trigger_scene                                       cleaned_text  \\\n",
       "0          False  spiderman writers were scared to pull the trig...   \n",
       "1          False  trigger warning for all photographers before s...   \n",
       "2          False  why does this trigger me so much \\n\\nfarfromho...   \n",
       "3          False  so i just finished watching spiderman far from...   \n",
       "4          False  you dont want any part in this\\n q b as ms \\n ...   \n",
       "\n",
       "                                        stemmed_text  \n",
       "0  spiderman writer were scare to pull the trigge...  \n",
       "1  trigger warn for all photograph befor see spid...  \n",
       "2  whi doe thi trigger me so much farfromhom spid...  \n",
       "3  so i just finish watch spiderman far from home...  \n",
       "4  you dont want ani part in thi q b as ms spider...  "
      ]
     },
     "execution_count": 22,
     "metadata": {},
     "output_type": "execute_result"
    }
   ],
   "source": [
    "# Create the nltk stemmer object, then use it\n",
    "def stemmer(text):\n",
    "    ps = nltk.porter.PorterStemmer()\n",
    "    stemmed_list = [ps.stem(word) for word in text.split()]\n",
    "    stemmed_text = ' '.join(stemmed_list)\n",
    "    return stemmed_text\n",
    "\n",
    "df['stemmed_text'] = df.cleaned_text.apply(stemmer)\n",
    "df.head()"
   ]
  },
  {
   "cell_type": "code",
   "execution_count": 23,
   "metadata": {},
   "outputs": [
    {
     "data": {
      "text/plain": [
       "the        3755\n",
       "trigger    3404\n",
       "a          2158\n",
       "to         2031\n",
       "and        1663\n",
       "i          1551\n",
       "of         1445\n",
       "it         1303\n",
       "in         1131\n",
       "is         1027\n",
       "dtype: int64"
      ]
     },
     "execution_count": 23,
     "metadata": {},
     "output_type": "execute_result"
    }
   ],
   "source": [
    "pd.Series(' '.join(df.stemmed_text).split()).value_counts().head(10)"
   ]
  },
  {
   "cell_type": "markdown",
   "metadata": {},
   "source": [
    "##### Lemmatizing"
   ]
  },
  {
   "cell_type": "code",
   "execution_count": 24,
   "metadata": {},
   "outputs": [
    {
     "data": {
      "text/html": [
       "<div>\n",
       "<style scoped>\n",
       "    .dataframe tbody tr th:only-of-type {\n",
       "        vertical-align: middle;\n",
       "    }\n",
       "\n",
       "    .dataframe tbody tr th {\n",
       "        vertical-align: top;\n",
       "    }\n",
       "\n",
       "    .dataframe thead th {\n",
       "        text-align: right;\n",
       "    }\n",
       "</style>\n",
       "<table border=\"1\" class=\"dataframe\">\n",
       "  <thead>\n",
       "    <tr style=\"text-align: right;\">\n",
       "      <th></th>\n",
       "      <th>title</th>\n",
       "      <th>tweet</th>\n",
       "      <th>trigger_scene</th>\n",
       "      <th>cleaned_text</th>\n",
       "      <th>stemmed_text</th>\n",
       "      <th>lemmatized_text</th>\n",
       "    </tr>\n",
       "  </thead>\n",
       "  <tbody>\n",
       "    <tr>\n",
       "      <th>0</th>\n",
       "      <td>spiderman_far_from_home</td>\n",
       "      <td>#SpiderMan writers were scared to pull the tri...</td>\n",
       "      <td>False</td>\n",
       "      <td>spiderman writers were scared to pull the trig...</td>\n",
       "      <td>spiderman writer were scare to pull the trigge...</td>\n",
       "      <td>spiderman writer were scared to pull the trigg...</td>\n",
       "    </tr>\n",
       "    <tr>\n",
       "      <th>1</th>\n",
       "      <td>spiderman_far_from_home</td>\n",
       "      <td>Trigger warning for all photographers before s...</td>\n",
       "      <td>False</td>\n",
       "      <td>trigger warning for all photographers before s...</td>\n",
       "      <td>trigger warn for all photograph befor see spid...</td>\n",
       "      <td>trigger warning for all photographer before se...</td>\n",
       "    </tr>\n",
       "    <tr>\n",
       "      <th>2</th>\n",
       "      <td>spiderman_far_from_home</td>\n",
       "      <td>why does this trigger me so much :((\\n\\n#FarFr...</td>\n",
       "      <td>False</td>\n",
       "      <td>why does this trigger me so much \\n\\nfarfromho...</td>\n",
       "      <td>whi doe thi trigger me so much farfromhom spid...</td>\n",
       "      <td>why doe this trigger me so much farfromhome sp...</td>\n",
       "    </tr>\n",
       "    <tr>\n",
       "      <th>3</th>\n",
       "      <td>spiderman_far_from_home</td>\n",
       "      <td>so i just finished watching spiderman far from...</td>\n",
       "      <td>False</td>\n",
       "      <td>so i just finished watching spiderman far from...</td>\n",
       "      <td>so i just finish watch spiderman far from home...</td>\n",
       "      <td>so i just finished watching spiderman far from...</td>\n",
       "    </tr>\n",
       "    <tr>\n",
       "      <th>4</th>\n",
       "      <td>spiderman_far_from_home</td>\n",
       "      <td>⠀⠀ ❝You don't want any part in this...❞\\n⠀⠀ ⠀❧...</td>\n",
       "      <td>False</td>\n",
       "      <td>you dont want any part in this\\n q b as ms \\n ...</td>\n",
       "      <td>you dont want ani part in thi q b as ms spider...</td>\n",
       "      <td>you dont want any part in this q b a m spiderm...</td>\n",
       "    </tr>\n",
       "  </tbody>\n",
       "</table>\n",
       "</div>"
      ],
      "text/plain": [
       "                     title                                              tweet  \\\n",
       "0  spiderman_far_from_home  #SpiderMan writers were scared to pull the tri...   \n",
       "1  spiderman_far_from_home  Trigger warning for all photographers before s...   \n",
       "2  spiderman_far_from_home  why does this trigger me so much :((\\n\\n#FarFr...   \n",
       "3  spiderman_far_from_home  so i just finished watching spiderman far from...   \n",
       "4  spiderman_far_from_home  ⠀⠀ ❝You don't want any part in this...❞\\n⠀⠀ ⠀❧...   \n",
       "\n",
       "   trigger_scene                                       cleaned_text  \\\n",
       "0          False  spiderman writers were scared to pull the trig...   \n",
       "1          False  trigger warning for all photographers before s...   \n",
       "2          False  why does this trigger me so much \\n\\nfarfromho...   \n",
       "3          False  so i just finished watching spiderman far from...   \n",
       "4          False  you dont want any part in this\\n q b as ms \\n ...   \n",
       "\n",
       "                                        stemmed_text  \\\n",
       "0  spiderman writer were scare to pull the trigge...   \n",
       "1  trigger warn for all photograph befor see spid...   \n",
       "2  whi doe thi trigger me so much farfromhom spid...   \n",
       "3  so i just finish watch spiderman far from home...   \n",
       "4  you dont want ani part in thi q b as ms spider...   \n",
       "\n",
       "                                     lemmatized_text  \n",
       "0  spiderman writer were scared to pull the trigg...  \n",
       "1  trigger warning for all photographer before se...  \n",
       "2  why doe this trigger me so much farfromhome sp...  \n",
       "3  so i just finished watching spiderman far from...  \n",
       "4  you dont want any part in this q b a m spiderm...  "
      ]
     },
     "execution_count": 24,
     "metadata": {},
     "output_type": "execute_result"
    }
   ],
   "source": [
    "def lemmatizer(text):\n",
    "    wnl = nltk.stem.WordNetLemmatizer()\n",
    "    lemmatized_list = [wnl.lemmatize(word) for word in text.split()]\n",
    "    lemmatized_text = ' '.join(lemmatized_list)\n",
    "    return lemmatized_text\n",
    "\n",
    "df['lemmatized_text'] = df.cleaned_text.apply(lemmatizer)\n",
    "df.head()"
   ]
  },
  {
   "cell_type": "code",
   "execution_count": 25,
   "metadata": {},
   "outputs": [
    {
     "data": {
      "text/plain": [
       "the        3755\n",
       "trigger    3362\n",
       "a          2458\n",
       "to         2031\n",
       "and        1663\n",
       "i          1551\n",
       "of         1445\n",
       "it         1303\n",
       "in         1131\n",
       "is         1027\n",
       "dtype: int64"
      ]
     },
     "execution_count": 25,
     "metadata": {},
     "output_type": "execute_result"
    }
   ],
   "source": [
    "pd.Series(' '.join(df.lemmatized_text).split()).value_counts().head(10)"
   ]
  },
  {
   "cell_type": "markdown",
   "metadata": {},
   "source": [
    "##### Removing stopwords"
   ]
  },
  {
   "cell_type": "code",
   "execution_count": 26,
   "metadata": {},
   "outputs": [],
   "source": [
    "stopwords_to_add = ' '.join(movies).replace('%20', ' ').split()\n",
    "stopwords_to_add[:20]\n",
    "stopwords_to_add.extend(['trigger'])"
   ]
  },
  {
   "cell_type": "code",
   "execution_count": 27,
   "metadata": {},
   "outputs": [
    {
     "name": "stdout",
     "output_type": "stream",
     "text": [
      "False\n"
     ]
    },
    {
     "data": {
      "text/plain": [
       "['i', 'me', 'my', 'myself', 'we', 'our', 'ours', 'ourselves', 'you', \"you're\"]"
      ]
     },
     "execution_count": 27,
     "metadata": {},
     "output_type": "execute_result"
    }
   ],
   "source": [
    "stopword_list = stopwords.words('english')\n",
    "\n",
    "stopword_list.remove('no')\n",
    "stopword_list.remove('not')\n",
    "\n",
    "stopword_list.extend(stopwords_to_add)\n",
    "\n",
    "# stopword_list.remove('warning')\n",
    "stopword_list.remove('suicide')\n",
    "stopword_list.remove('suicides')\n",
    "\n",
    "print('warning' in stopword_list)\n",
    "\n",
    "stopword_list[:10]"
   ]
  },
  {
   "cell_type": "code",
   "execution_count": 28,
   "metadata": {},
   "outputs": [
    {
     "data": {
      "text/html": [
       "<div>\n",
       "<style scoped>\n",
       "    .dataframe tbody tr th:only-of-type {\n",
       "        vertical-align: middle;\n",
       "    }\n",
       "\n",
       "    .dataframe tbody tr th {\n",
       "        vertical-align: top;\n",
       "    }\n",
       "\n",
       "    .dataframe thead th {\n",
       "        text-align: right;\n",
       "    }\n",
       "</style>\n",
       "<table border=\"1\" class=\"dataframe\">\n",
       "  <thead>\n",
       "    <tr style=\"text-align: right;\">\n",
       "      <th></th>\n",
       "      <th>title</th>\n",
       "      <th>tweet</th>\n",
       "      <th>trigger_scene</th>\n",
       "      <th>cleaned_text</th>\n",
       "      <th>stemmed_text</th>\n",
       "      <th>lemmatized_text</th>\n",
       "      <th>lemmatized_no_stopwords</th>\n",
       "    </tr>\n",
       "  </thead>\n",
       "  <tbody>\n",
       "    <tr>\n",
       "      <th>0</th>\n",
       "      <td>spiderman_far_from_home</td>\n",
       "      <td>#SpiderMan writers were scared to pull the tri...</td>\n",
       "      <td>False</td>\n",
       "      <td>spiderman writers were scared to pull the trig...</td>\n",
       "      <td>spiderman writer were scare to pull the trigge...</td>\n",
       "      <td>spiderman writer were scared to pull the trigg...</td>\n",
       "      <td>writer scared pull big reveal forever change p...</td>\n",
       "    </tr>\n",
       "    <tr>\n",
       "      <th>1</th>\n",
       "      <td>spiderman_far_from_home</td>\n",
       "      <td>Trigger warning for all photographers before s...</td>\n",
       "      <td>False</td>\n",
       "      <td>trigger warning for all photographers before s...</td>\n",
       "      <td>trigger warn for all photograph befor see spid...</td>\n",
       "      <td>trigger warning for all photographer before se...</td>\n",
       "      <td>warning photographer seeing</td>\n",
       "    </tr>\n",
       "    <tr>\n",
       "      <th>2</th>\n",
       "      <td>spiderman_far_from_home</td>\n",
       "      <td>why does this trigger me so much :((\\n\\n#FarFr...</td>\n",
       "      <td>False</td>\n",
       "      <td>why does this trigger me so much \\n\\nfarfromho...</td>\n",
       "      <td>whi doe thi trigger me so much farfromhom spid...</td>\n",
       "      <td>why doe this trigger me so much farfromhome sp...</td>\n",
       "      <td>doe much farfromhome</td>\n",
       "    </tr>\n",
       "    <tr>\n",
       "      <th>3</th>\n",
       "      <td>spiderman_far_from_home</td>\n",
       "      <td>so i just finished watching spiderman far from...</td>\n",
       "      <td>False</td>\n",
       "      <td>so i just finished watching spiderman far from...</td>\n",
       "      <td>so i just finish watch spiderman far from home...</td>\n",
       "      <td>so i just finished watching spiderman far from...</td>\n",
       "      <td>finished loved im car hearing fever got confus...</td>\n",
       "    </tr>\n",
       "    <tr>\n",
       "      <th>4</th>\n",
       "      <td>spiderman_far_from_home</td>\n",
       "      <td>⠀⠀ ❝You don't want any part in this...❞\\n⠀⠀ ⠀❧...</td>\n",
       "      <td>False</td>\n",
       "      <td>you dont want any part in this\\n q b as ms \\n ...</td>\n",
       "      <td>you dont want ani part in thi q b as ms spider...</td>\n",
       "      <td>you dont want any part in this q b a m spiderm...</td>\n",
       "      <td>want part q b warning selective ship mv theme ...</td>\n",
       "    </tr>\n",
       "  </tbody>\n",
       "</table>\n",
       "</div>"
      ],
      "text/plain": [
       "                     title                                              tweet  \\\n",
       "0  spiderman_far_from_home  #SpiderMan writers were scared to pull the tri...   \n",
       "1  spiderman_far_from_home  Trigger warning for all photographers before s...   \n",
       "2  spiderman_far_from_home  why does this trigger me so much :((\\n\\n#FarFr...   \n",
       "3  spiderman_far_from_home  so i just finished watching spiderman far from...   \n",
       "4  spiderman_far_from_home  ⠀⠀ ❝You don't want any part in this...❞\\n⠀⠀ ⠀❧...   \n",
       "\n",
       "   trigger_scene                                       cleaned_text  \\\n",
       "0          False  spiderman writers were scared to pull the trig...   \n",
       "1          False  trigger warning for all photographers before s...   \n",
       "2          False  why does this trigger me so much \\n\\nfarfromho...   \n",
       "3          False  so i just finished watching spiderman far from...   \n",
       "4          False  you dont want any part in this\\n q b as ms \\n ...   \n",
       "\n",
       "                                        stemmed_text  \\\n",
       "0  spiderman writer were scare to pull the trigge...   \n",
       "1  trigger warn for all photograph befor see spid...   \n",
       "2  whi doe thi trigger me so much farfromhom spid...   \n",
       "3  so i just finish watch spiderman far from home...   \n",
       "4  you dont want ani part in thi q b as ms spider...   \n",
       "\n",
       "                                     lemmatized_text  \\\n",
       "0  spiderman writer were scared to pull the trigg...   \n",
       "1  trigger warning for all photographer before se...   \n",
       "2  why doe this trigger me so much farfromhome sp...   \n",
       "3  so i just finished watching spiderman far from...   \n",
       "4  you dont want any part in this q b a m spiderm...   \n",
       "\n",
       "                             lemmatized_no_stopwords  \n",
       "0  writer scared pull big reveal forever change p...  \n",
       "1                        warning photographer seeing  \n",
       "2                               doe much farfromhome  \n",
       "3  finished loved im car hearing fever got confus...  \n",
       "4  want part q b warning selective ship mv theme ...  "
      ]
     },
     "execution_count": 28,
     "metadata": {},
     "output_type": "execute_result"
    }
   ],
   "source": [
    "def remove_stopwords(text):\n",
    "    words = text.split()\n",
    "    filtered_words = [w for w in words if w not in stopword_list]\n",
    "    text_without_stopwords = ' '.join(filtered_words)\n",
    "    return text_without_stopwords\n",
    "\n",
    "df['lemmatized_no_stopwords'] = df.lemmatized_text.apply(remove_stopwords)\n",
    "df.head()"
   ]
  },
  {
   "cell_type": "code",
   "execution_count": 29,
   "metadata": {},
   "outputs": [
    {
     "data": {
      "text/plain": [
       "warning    429\n",
       "wa         409\n",
       "like       370\n",
       "im         310\n",
       "movie      304\n",
       "dtype: int64"
      ]
     },
     "execution_count": 29,
     "metadata": {},
     "output_type": "execute_result"
    }
   ],
   "source": [
    "pd.Series(' '.join(df.lemmatized_no_stopwords).split()).value_counts().head()"
   ]
  },
  {
   "cell_type": "code",
   "execution_count": 30,
   "metadata": {},
   "outputs": [
    {
     "data": {
      "text/html": [
       "<div>\n",
       "<style scoped>\n",
       "    .dataframe tbody tr th:only-of-type {\n",
       "        vertical-align: middle;\n",
       "    }\n",
       "\n",
       "    .dataframe tbody tr th {\n",
       "        vertical-align: top;\n",
       "    }\n",
       "\n",
       "    .dataframe thead th {\n",
       "        text-align: right;\n",
       "    }\n",
       "</style>\n",
       "<table border=\"1\" class=\"dataframe\">\n",
       "  <thead>\n",
       "    <tr style=\"text-align: right;\">\n",
       "      <th></th>\n",
       "      <th>title</th>\n",
       "      <th>tweet</th>\n",
       "      <th>trigger_scene</th>\n",
       "      <th>cleaned_text</th>\n",
       "      <th>stemmed_text</th>\n",
       "      <th>lemmatized_text</th>\n",
       "      <th>lemmatized_no_stopwords</th>\n",
       "      <th>stemmed_no_stopwords</th>\n",
       "    </tr>\n",
       "  </thead>\n",
       "  <tbody>\n",
       "    <tr>\n",
       "      <th>0</th>\n",
       "      <td>spiderman_far_from_home</td>\n",
       "      <td>#SpiderMan writers were scared to pull the tri...</td>\n",
       "      <td>False</td>\n",
       "      <td>spiderman writers were scared to pull the trig...</td>\n",
       "      <td>spiderman writer were scare to pull the trigge...</td>\n",
       "      <td>spiderman writer were scared to pull the trigg...</td>\n",
       "      <td>writer scared pull big reveal forever change p...</td>\n",
       "      <td>writer scare pull big reveal forev chang peter...</td>\n",
       "    </tr>\n",
       "    <tr>\n",
       "      <th>1</th>\n",
       "      <td>spiderman_far_from_home</td>\n",
       "      <td>Trigger warning for all photographers before s...</td>\n",
       "      <td>False</td>\n",
       "      <td>trigger warning for all photographers before s...</td>\n",
       "      <td>trigger warn for all photograph befor see spid...</td>\n",
       "      <td>trigger warning for all photographer before se...</td>\n",
       "      <td>warning photographer seeing</td>\n",
       "      <td>warn photograph befor see</td>\n",
       "    </tr>\n",
       "    <tr>\n",
       "      <th>2</th>\n",
       "      <td>spiderman_far_from_home</td>\n",
       "      <td>why does this trigger me so much :((\\n\\n#FarFr...</td>\n",
       "      <td>False</td>\n",
       "      <td>why does this trigger me so much \\n\\nfarfromho...</td>\n",
       "      <td>whi doe thi trigger me so much farfromhom spid...</td>\n",
       "      <td>why doe this trigger me so much farfromhome sp...</td>\n",
       "      <td>doe much farfromhome</td>\n",
       "      <td>whi doe thi much farfromhom</td>\n",
       "    </tr>\n",
       "    <tr>\n",
       "      <th>3</th>\n",
       "      <td>spiderman_far_from_home</td>\n",
       "      <td>so i just finished watching spiderman far from...</td>\n",
       "      <td>False</td>\n",
       "      <td>so i just finished watching spiderman far from...</td>\n",
       "      <td>so i just finish watch spiderman far from home...</td>\n",
       "      <td>so i just finished watching spiderman far from...</td>\n",
       "      <td>finished loved im car hearing fever got confus...</td>\n",
       "      <td>finish watch im car hear fever got confus bc t...</td>\n",
       "    </tr>\n",
       "    <tr>\n",
       "      <th>4</th>\n",
       "      <td>spiderman_far_from_home</td>\n",
       "      <td>⠀⠀ ❝You don't want any part in this...❞\\n⠀⠀ ⠀❧...</td>\n",
       "      <td>False</td>\n",
       "      <td>you dont want any part in this\\n q b as ms \\n ...</td>\n",
       "      <td>you dont want ani part in thi q b as ms spider...</td>\n",
       "      <td>you dont want any part in this q b a m spiderm...</td>\n",
       "      <td>want part q b warning selective ship mv theme ...</td>\n",
       "      <td>want ani part thi q b ms warn select ship ms m...</td>\n",
       "    </tr>\n",
       "  </tbody>\n",
       "</table>\n",
       "</div>"
      ],
      "text/plain": [
       "                     title                                              tweet  \\\n",
       "0  spiderman_far_from_home  #SpiderMan writers were scared to pull the tri...   \n",
       "1  spiderman_far_from_home  Trigger warning for all photographers before s...   \n",
       "2  spiderman_far_from_home  why does this trigger me so much :((\\n\\n#FarFr...   \n",
       "3  spiderman_far_from_home  so i just finished watching spiderman far from...   \n",
       "4  spiderman_far_from_home  ⠀⠀ ❝You don't want any part in this...❞\\n⠀⠀ ⠀❧...   \n",
       "\n",
       "   trigger_scene                                       cleaned_text  \\\n",
       "0          False  spiderman writers were scared to pull the trig...   \n",
       "1          False  trigger warning for all photographers before s...   \n",
       "2          False  why does this trigger me so much \\n\\nfarfromho...   \n",
       "3          False  so i just finished watching spiderman far from...   \n",
       "4          False  you dont want any part in this\\n q b as ms \\n ...   \n",
       "\n",
       "                                        stemmed_text  \\\n",
       "0  spiderman writer were scare to pull the trigge...   \n",
       "1  trigger warn for all photograph befor see spid...   \n",
       "2  whi doe thi trigger me so much farfromhom spid...   \n",
       "3  so i just finish watch spiderman far from home...   \n",
       "4  you dont want ani part in thi q b as ms spider...   \n",
       "\n",
       "                                     lemmatized_text  \\\n",
       "0  spiderman writer were scared to pull the trigg...   \n",
       "1  trigger warning for all photographer before se...   \n",
       "2  why doe this trigger me so much farfromhome sp...   \n",
       "3  so i just finished watching spiderman far from...   \n",
       "4  you dont want any part in this q b a m spiderm...   \n",
       "\n",
       "                             lemmatized_no_stopwords  \\\n",
       "0  writer scared pull big reveal forever change p...   \n",
       "1                        warning photographer seeing   \n",
       "2                               doe much farfromhome   \n",
       "3  finished loved im car hearing fever got confus...   \n",
       "4  want part q b warning selective ship mv theme ...   \n",
       "\n",
       "                                stemmed_no_stopwords  \n",
       "0  writer scare pull big reveal forev chang peter...  \n",
       "1                          warn photograph befor see  \n",
       "2                        whi doe thi much farfromhom  \n",
       "3  finish watch im car hear fever got confus bc t...  \n",
       "4  want ani part thi q b ms warn select ship ms m...  "
      ]
     },
     "execution_count": 30,
     "metadata": {},
     "output_type": "execute_result"
    }
   ],
   "source": [
    "df['stemmed_no_stopwords'] = df.stemmed_text.apply(remove_stopwords)\n",
    "df.head()"
   ]
  },
  {
   "cell_type": "code",
   "execution_count": 31,
   "metadata": {},
   "outputs": [
    {
     "data": {
      "text/plain": [
       "thi     538\n",
       "warn    452\n",
       "pull    410\n",
       "wa      409\n",
       "like    396\n",
       "dtype: int64"
      ]
     },
     "execution_count": 31,
     "metadata": {},
     "output_type": "execute_result"
    }
   ],
   "source": [
    "pd.Series(' '.join(df.stemmed_no_stopwords).split()).value_counts().head()"
   ]
  },
  {
   "cell_type": "markdown",
   "metadata": {},
   "source": [
    "### Data Exploration"
   ]
  },
  {
   "cell_type": "markdown",
   "metadata": {},
   "source": [
    "##### How are the classes split up?"
   ]
  },
  {
   "cell_type": "code",
   "execution_count": 32,
   "metadata": {},
   "outputs": [
    {
     "data": {
      "text/html": [
       "<div>\n",
       "<style scoped>\n",
       "    .dataframe tbody tr th:only-of-type {\n",
       "        vertical-align: middle;\n",
       "    }\n",
       "\n",
       "    .dataframe tbody tr th {\n",
       "        vertical-align: top;\n",
       "    }\n",
       "\n",
       "    .dataframe thead th {\n",
       "        text-align: right;\n",
       "    }\n",
       "</style>\n",
       "<table border=\"1\" class=\"dataframe\">\n",
       "  <thead>\n",
       "    <tr style=\"text-align: right;\">\n",
       "      <th></th>\n",
       "      <th>n</th>\n",
       "      <th>proportion</th>\n",
       "    </tr>\n",
       "  </thead>\n",
       "  <tbody>\n",
       "    <tr>\n",
       "      <th>True</th>\n",
       "      <td>2106</td>\n",
       "      <td>0.607091</td>\n",
       "    </tr>\n",
       "    <tr>\n",
       "      <th>False</th>\n",
       "      <td>1363</td>\n",
       "      <td>0.392909</td>\n",
       "    </tr>\n",
       "  </tbody>\n",
       "</table>\n",
       "</div>"
      ],
      "text/plain": [
       "          n  proportion\n",
       "True   2106    0.607091\n",
       "False  1363    0.392909"
      ]
     },
     "execution_count": 32,
     "metadata": {},
     "output_type": "execute_result"
    }
   ],
   "source": [
    "labels = pd.concat([df.trigger_scene.value_counts(), df.trigger_scene.value_counts(normalize=True)], axis=1)\n",
    "labels.columns = ['n', 'proportion']\n",
    "labels"
   ]
  },
  {
   "cell_type": "markdown",
   "metadata": {},
   "source": [
    "##### Exploring frequency of words based on classification."
   ]
  },
  {
   "cell_type": "code",
   "execution_count": 33,
   "metadata": {},
   "outputs": [],
   "source": [
    "trigger_scene_words = ' '.join(df[df.trigger_scene == True].lemmatized_no_stopwords)\n",
    "no_trigger_scene_words = ' '.join(df[df.trigger_scene == False].lemmatized_no_stopwords)\n",
    "all_words = ' '.join(df.lemmatized_no_stopwords)"
   ]
  },
  {
   "cell_type": "code",
   "execution_count": 34,
   "metadata": {},
   "outputs": [],
   "source": [
    "trigger_scene_freq = pd.Series(trigger_scene_words.split()).value_counts()\n",
    "no_trigger_scene_freq = pd.Series(no_trigger_scene_words.split()).value_counts()\n",
    "all_freq = pd.Series(all_words.split()).value_counts()"
   ]
  },
  {
   "cell_type": "code",
   "execution_count": 35,
   "metadata": {},
   "outputs": [
    {
     "data": {
      "text/plain": [
       "warning    251\n",
       "wa         198\n",
       "like       196\n",
       "im         180\n",
       "pull       173\n",
       "dtype: int64"
      ]
     },
     "execution_count": 35,
     "metadata": {},
     "output_type": "execute_result"
    }
   ],
   "source": [
    "trigger_scene_freq.head()"
   ]
  },
  {
   "cell_type": "markdown",
   "metadata": {},
   "source": [
    "##### Combining frequency Series into one DataFrame."
   ]
  },
  {
   "cell_type": "code",
   "execution_count": 36,
   "metadata": {},
   "outputs": [
    {
     "data": {
      "text/html": [
       "<div>\n",
       "<style scoped>\n",
       "    .dataframe tbody tr th:only-of-type {\n",
       "        vertical-align: middle;\n",
       "    }\n",
       "\n",
       "    .dataframe tbody tr th {\n",
       "        vertical-align: top;\n",
       "    }\n",
       "\n",
       "    .dataframe thead th {\n",
       "        text-align: right;\n",
       "    }\n",
       "</style>\n",
       "<table border=\"1\" class=\"dataframe\">\n",
       "  <thead>\n",
       "    <tr style=\"text-align: right;\">\n",
       "      <th></th>\n",
       "      <th>all</th>\n",
       "      <th>trigger</th>\n",
       "      <th>no_trigger</th>\n",
       "    </tr>\n",
       "  </thead>\n",
       "  <tbody>\n",
       "    <tr>\n",
       "      <th>0</th>\n",
       "      <td>4</td>\n",
       "      <td>4</td>\n",
       "      <td>0</td>\n",
       "    </tr>\n",
       "    <tr>\n",
       "      <th>002</th>\n",
       "      <td>1</td>\n",
       "      <td>1</td>\n",
       "      <td>0</td>\n",
       "    </tr>\n",
       "    <tr>\n",
       "      <th>007</th>\n",
       "      <td>4</td>\n",
       "      <td>4</td>\n",
       "      <td>0</td>\n",
       "    </tr>\n",
       "    <tr>\n",
       "      <th>015</th>\n",
       "      <td>1</td>\n",
       "      <td>0</td>\n",
       "      <td>1</td>\n",
       "    </tr>\n",
       "    <tr>\n",
       "      <th>02</th>\n",
       "      <td>3</td>\n",
       "      <td>1</td>\n",
       "      <td>2</td>\n",
       "    </tr>\n",
       "  </tbody>\n",
       "</table>\n",
       "</div>"
      ],
      "text/plain": [
       "     all  trigger  no_trigger\n",
       "0      4        4           0\n",
       "002    1        1           0\n",
       "007    4        4           0\n",
       "015    1        0           1\n",
       "02     3        1           2"
      ]
     },
     "execution_count": 36,
     "metadata": {},
     "output_type": "execute_result"
    }
   ],
   "source": [
    "word_counts = (pd.concat([all_freq, trigger_scene_freq, no_trigger_scene_freq], axis=1, sort=True)\n",
    " .set_axis(['all', 'trigger', 'no_trigger'], axis=1, inplace=False)\n",
    " .fillna(0)\n",
    " .astype('int'))\n",
    "\n",
    "word_counts.head()"
   ]
  },
  {
   "cell_type": "markdown",
   "metadata": {},
   "source": [
    "##### Exploring the frequencies dataframe."
   ]
  },
  {
   "cell_type": "code",
   "execution_count": 37,
   "metadata": {},
   "outputs": [
    {
     "data": {
      "text/html": [
       "<div>\n",
       "<style scoped>\n",
       "    .dataframe tbody tr th:only-of-type {\n",
       "        vertical-align: middle;\n",
       "    }\n",
       "\n",
       "    .dataframe tbody tr th {\n",
       "        vertical-align: top;\n",
       "    }\n",
       "\n",
       "    .dataframe thead th {\n",
       "        text-align: right;\n",
       "    }\n",
       "</style>\n",
       "<table border=\"1\" class=\"dataframe\">\n",
       "  <thead>\n",
       "    <tr style=\"text-align: right;\">\n",
       "      <th></th>\n",
       "      <th>all</th>\n",
       "      <th>trigger</th>\n",
       "      <th>no_trigger</th>\n",
       "    </tr>\n",
       "  </thead>\n",
       "  <tbody>\n",
       "    <tr>\n",
       "      <th>warning</th>\n",
       "      <td>429</td>\n",
       "      <td>251</td>\n",
       "      <td>178</td>\n",
       "    </tr>\n",
       "    <tr>\n",
       "      <th>wa</th>\n",
       "      <td>409</td>\n",
       "      <td>198</td>\n",
       "      <td>211</td>\n",
       "    </tr>\n",
       "    <tr>\n",
       "      <th>like</th>\n",
       "      <td>370</td>\n",
       "      <td>196</td>\n",
       "      <td>174</td>\n",
       "    </tr>\n",
       "    <tr>\n",
       "      <th>im</th>\n",
       "      <td>310</td>\n",
       "      <td>180</td>\n",
       "      <td>130</td>\n",
       "    </tr>\n",
       "    <tr>\n",
       "      <th>movie</th>\n",
       "      <td>304</td>\n",
       "      <td>167</td>\n",
       "      <td>137</td>\n",
       "    </tr>\n",
       "    <tr>\n",
       "      <th>pull</th>\n",
       "      <td>258</td>\n",
       "      <td>173</td>\n",
       "      <td>85</td>\n",
       "    </tr>\n",
       "    <tr>\n",
       "      <th>get</th>\n",
       "      <td>175</td>\n",
       "      <td>103</td>\n",
       "      <td>72</td>\n",
       "    </tr>\n",
       "    <tr>\n",
       "      <th>no</th>\n",
       "      <td>170</td>\n",
       "      <td>109</td>\n",
       "      <td>61</td>\n",
       "    </tr>\n",
       "    <tr>\n",
       "      <th>know</th>\n",
       "      <td>169</td>\n",
       "      <td>95</td>\n",
       "      <td>74</td>\n",
       "    </tr>\n",
       "    <tr>\n",
       "      <th>ha</th>\n",
       "      <td>163</td>\n",
       "      <td>104</td>\n",
       "      <td>59</td>\n",
       "    </tr>\n",
       "  </tbody>\n",
       "</table>\n",
       "</div>"
      ],
      "text/plain": [
       "         all  trigger  no_trigger\n",
       "warning  429      251         178\n",
       "wa       409      198         211\n",
       "like     370      196         174\n",
       "im       310      180         130\n",
       "movie    304      167         137\n",
       "pull     258      173          85\n",
       "get      175      103          72\n",
       "no       170      109          61\n",
       "know     169       95          74\n",
       "ha       163      104          59"
      ]
     },
     "execution_count": 37,
     "metadata": {},
     "output_type": "execute_result"
    }
   ],
   "source": [
    "word_counts.sort_values(by='all', ascending=False).head(10)"
   ]
  },
  {
   "cell_type": "markdown",
   "metadata": {},
   "source": [
    "'Trigger' is most popular word since it is included in the search that is done when scraping the tweets. 'Warning' is second most popular, with the pupularity rank being slightly different for trigger vs. no trigger. 'Movie' can probably be removed.\n",
    "\n",
    "##### Checking to see if there are any words that are unique to movies with trigger scenes or not."
   ]
  },
  {
   "cell_type": "code",
   "execution_count": 38,
   "metadata": {},
   "outputs": [
    {
     "data": {
      "text/html": [
       "<div>\n",
       "<style scoped>\n",
       "    .dataframe tbody tr th:only-of-type {\n",
       "        vertical-align: middle;\n",
       "    }\n",
       "\n",
       "    .dataframe tbody tr th {\n",
       "        vertical-align: top;\n",
       "    }\n",
       "\n",
       "    .dataframe thead th {\n",
       "        text-align: right;\n",
       "    }\n",
       "</style>\n",
       "<table border=\"1\" class=\"dataframe\">\n",
       "  <thead>\n",
       "    <tr style=\"text-align: right;\">\n",
       "      <th></th>\n",
       "      <th>all</th>\n",
       "      <th>trigger</th>\n",
       "      <th>no_trigger</th>\n",
       "    </tr>\n",
       "  </thead>\n",
       "  <tbody>\n",
       "    <tr>\n",
       "      <th>horn</th>\n",
       "      <td>21</td>\n",
       "      <td>21</td>\n",
       "      <td>0</td>\n",
       "    </tr>\n",
       "    <tr>\n",
       "      <th>goony</th>\n",
       "      <td>21</td>\n",
       "      <td>21</td>\n",
       "      <td>0</td>\n",
       "    </tr>\n",
       "    <tr>\n",
       "      <th>poet</th>\n",
       "      <td>15</td>\n",
       "      <td>15</td>\n",
       "      <td>0</td>\n",
       "    </tr>\n",
       "    <tr>\n",
       "      <th>darling</th>\n",
       "      <td>11</td>\n",
       "      <td>11</td>\n",
       "      <td>0</td>\n",
       "    </tr>\n",
       "    <tr>\n",
       "      <th>pound</th>\n",
       "      <td>11</td>\n",
       "      <td>11</td>\n",
       "      <td>0</td>\n",
       "    </tr>\n",
       "    <tr>\n",
       "      <th>thomas</th>\n",
       "      <td>10</td>\n",
       "      <td>10</td>\n",
       "      <td>0</td>\n",
       "    </tr>\n",
       "    <tr>\n",
       "      <th>data</th>\n",
       "      <td>9</td>\n",
       "      <td>9</td>\n",
       "      <td>0</td>\n",
       "    </tr>\n",
       "    <tr>\n",
       "      <th>report</th>\n",
       "      <td>9</td>\n",
       "      <td>9</td>\n",
       "      <td>0</td>\n",
       "    </tr>\n",
       "    <tr>\n",
       "      <th>machine</th>\n",
       "      <td>8</td>\n",
       "      <td>8</td>\n",
       "      <td>0</td>\n",
       "    </tr>\n",
       "    <tr>\n",
       "      <th>object</th>\n",
       "      <td>8</td>\n",
       "      <td>8</td>\n",
       "      <td>0</td>\n",
       "    </tr>\n",
       "  </tbody>\n",
       "</table>\n",
       "</div>"
      ],
      "text/plain": [
       "         all  trigger  no_trigger\n",
       "horn      21       21           0\n",
       "goony     21       21           0\n",
       "poet      15       15           0\n",
       "darling   11       11           0\n",
       "pound     11       11           0\n",
       "thomas    10       10           0\n",
       "data       9        9           0\n",
       "report     9        9           0\n",
       "machine    8        8           0\n",
       "object     8        8           0"
      ]
     },
     "execution_count": 38,
     "metadata": {},
     "output_type": "execute_result"
    }
   ],
   "source": [
    "word_counts[word_counts.no_trigger == 0].sort_values(by='trigger', ascending=False).head(10)"
   ]
  },
  {
   "cell_type": "code",
   "execution_count": 39,
   "metadata": {},
   "outputs": [
    {
     "data": {
      "text/html": [
       "<div>\n",
       "<style scoped>\n",
       "    .dataframe tbody tr th:only-of-type {\n",
       "        vertical-align: middle;\n",
       "    }\n",
       "\n",
       "    .dataframe tbody tr th {\n",
       "        vertical-align: top;\n",
       "    }\n",
       "\n",
       "    .dataframe thead th {\n",
       "        text-align: right;\n",
       "    }\n",
       "</style>\n",
       "<table border=\"1\" class=\"dataframe\">\n",
       "  <thead>\n",
       "    <tr style=\"text-align: right;\">\n",
       "      <th></th>\n",
       "      <th>all</th>\n",
       "      <th>trigger</th>\n",
       "      <th>no_trigger</th>\n",
       "    </tr>\n",
       "  </thead>\n",
       "  <tbody>\n",
       "    <tr>\n",
       "      <th>asian</th>\n",
       "      <td>23</td>\n",
       "      <td>0</td>\n",
       "      <td>23</td>\n",
       "    </tr>\n",
       "    <tr>\n",
       "      <th>l1r1</th>\n",
       "      <td>13</td>\n",
       "      <td>0</td>\n",
       "      <td>13</td>\n",
       "    </tr>\n",
       "    <tr>\n",
       "      <th>gamepad</th>\n",
       "      <td>10</td>\n",
       "      <td>0</td>\n",
       "      <td>10</td>\n",
       "    </tr>\n",
       "    <tr>\n",
       "      <th>joystick</th>\n",
       "      <td>10</td>\n",
       "      <td>0</td>\n",
       "      <td>10</td>\n",
       "    </tr>\n",
       "    <tr>\n",
       "      <th>kabirsingh</th>\n",
       "      <td>9</td>\n",
       "      <td>0</td>\n",
       "      <td>9</td>\n",
       "    </tr>\n",
       "    <tr>\n",
       "      <th>outrules</th>\n",
       "      <td>9</td>\n",
       "      <td>0</td>\n",
       "      <td>9</td>\n",
       "    </tr>\n",
       "    <tr>\n",
       "      <th>mufasa</th>\n",
       "      <td>8</td>\n",
       "      <td>0</td>\n",
       "      <td>8</td>\n",
       "    </tr>\n",
       "    <tr>\n",
       "      <th>pixar</th>\n",
       "      <td>8</td>\n",
       "      <td>0</td>\n",
       "      <td>8</td>\n",
       "    </tr>\n",
       "    <tr>\n",
       "      <th>casting</th>\n",
       "      <td>7</td>\n",
       "      <td>0</td>\n",
       "      <td>7</td>\n",
       "    </tr>\n",
       "    <tr>\n",
       "      <th>wheres</th>\n",
       "      <td>7</td>\n",
       "      <td>0</td>\n",
       "      <td>7</td>\n",
       "    </tr>\n",
       "  </tbody>\n",
       "</table>\n",
       "</div>"
      ],
      "text/plain": [
       "            all  trigger  no_trigger\n",
       "asian        23        0          23\n",
       "l1r1         13        0          13\n",
       "gamepad      10        0          10\n",
       "joystick     10        0          10\n",
       "kabirsingh    9        0           9\n",
       "outrules      9        0           9\n",
       "mufasa        8        0           8\n",
       "pixar         8        0           8\n",
       "casting       7        0           7\n",
       "wheres        7        0           7"
      ]
     },
     "execution_count": 39,
     "metadata": {},
     "output_type": "execute_result"
    }
   ],
   "source": [
    "word_counts[word_counts.trigger == 0].sort_values(by='no_trigger', ascending=False).head(10)"
   ]
  },
  {
   "cell_type": "markdown",
   "metadata": {},
   "source": [
    "##### Visualizing the proportion of classes in the 20 most popular words."
   ]
  },
  {
   "cell_type": "code",
   "execution_count": 40,
   "metadata": {},
   "outputs": [
    {
     "data": {
      "text/plain": [
       "Text(0.5, 1.0, 'Proportion of Trigger vs No Trigger for the 20 most common words')"
      ]
     },
     "execution_count": 40,
     "metadata": {},
     "output_type": "execute_result"
    },
    {
     "data": {
      "image/png": "[encoded data removed]",
      "text/plain": [
       "<Figure size 432x288 with 1 Axes>"
      ]
     },
     "metadata": {
      "needs_background": "light"
     },
     "output_type": "display_data"
    }
   ],
   "source": [
    "# figure out the percentage of spam vs ham\n",
    "(word_counts\n",
    " .assign(p_trigger=word_counts.trigger / word_counts['all'],\n",
    "         p_no_trigger=word_counts.no_trigger / word_counts['all'])\n",
    " .sort_values(by='all')\n",
    " [['p_trigger', 'p_no_trigger']]\n",
    " .tail(20)\n",
    " .sort_values('p_no_trigger')\n",
    " .plot.barh(stacked=True))\n",
    "\n",
    "plt.vlines(x=0.5, ymin=-1, ymax=20)\n",
    "plt.title('Proportion of Trigger vs No Trigger for the 20 most common words')"
   ]
  },
  {
   "cell_type": "markdown",
   "metadata": {},
   "source": [
    "##### Ratio of frequencies for trigger to no trigger."
   ]
  },
  {
   "cell_type": "code",
   "execution_count": 41,
   "metadata": {},
   "outputs": [
    {
     "data": {
      "text/html": [
       "<div>\n",
       "<style scoped>\n",
       "    .dataframe tbody tr th:only-of-type {\n",
       "        vertical-align: middle;\n",
       "    }\n",
       "\n",
       "    .dataframe tbody tr th {\n",
       "        vertical-align: top;\n",
       "    }\n",
       "\n",
       "    .dataframe thead th {\n",
       "        text-align: right;\n",
       "    }\n",
       "</style>\n",
       "<table border=\"1\" class=\"dataframe\">\n",
       "  <thead>\n",
       "    <tr style=\"text-align: right;\">\n",
       "      <th></th>\n",
       "      <th>all</th>\n",
       "      <th>trigger</th>\n",
       "      <th>no_trigger</th>\n",
       "      <th>ratio</th>\n",
       "    </tr>\n",
       "  </thead>\n",
       "  <tbody>\n",
       "    <tr>\n",
       "      <th>trailer</th>\n",
       "      <td>39</td>\n",
       "      <td>12</td>\n",
       "      <td>27</td>\n",
       "      <td>0.444444</td>\n",
       "    </tr>\n",
       "    <tr>\n",
       "      <th>avenger</th>\n",
       "      <td>56</td>\n",
       "      <td>19</td>\n",
       "      <td>37</td>\n",
       "      <td>0.513514</td>\n",
       "    </tr>\n",
       "    <tr>\n",
       "      <th>review</th>\n",
       "      <td>32</td>\n",
       "      <td>11</td>\n",
       "      <td>21</td>\n",
       "      <td>0.523810</td>\n",
       "    </tr>\n",
       "    <tr>\n",
       "      <th>fire</th>\n",
       "      <td>30</td>\n",
       "      <td>11</td>\n",
       "      <td>19</td>\n",
       "      <td>0.578947</td>\n",
       "    </tr>\n",
       "    <tr>\n",
       "      <th>seeing</th>\n",
       "      <td>40</td>\n",
       "      <td>15</td>\n",
       "      <td>25</td>\n",
       "      <td>0.600000</td>\n",
       "    </tr>\n",
       "    <tr>\n",
       "      <th>whole</th>\n",
       "      <td>38</td>\n",
       "      <td>15</td>\n",
       "      <td>23</td>\n",
       "      <td>0.652174</td>\n",
       "    </tr>\n",
       "    <tr>\n",
       "      <th>amazing</th>\n",
       "      <td>31</td>\n",
       "      <td>13</td>\n",
       "      <td>18</td>\n",
       "      <td>0.722222</td>\n",
       "    </tr>\n",
       "    <tr>\n",
       "      <th>anime</th>\n",
       "      <td>26</td>\n",
       "      <td>11</td>\n",
       "      <td>15</td>\n",
       "      <td>0.733333</td>\n",
       "    </tr>\n",
       "    <tr>\n",
       "      <th>film</th>\n",
       "      <td>122</td>\n",
       "      <td>52</td>\n",
       "      <td>70</td>\n",
       "      <td>0.742857</td>\n",
       "    </tr>\n",
       "    <tr>\n",
       "      <th>literally</th>\n",
       "      <td>28</td>\n",
       "      <td>12</td>\n",
       "      <td>16</td>\n",
       "      <td>0.750000</td>\n",
       "    </tr>\n",
       "  </tbody>\n",
       "</table>\n",
       "</div>"
      ],
      "text/plain": [
       "           all  trigger  no_trigger     ratio\n",
       "trailer     39       12          27  0.444444\n",
       "avenger     56       19          37  0.513514\n",
       "review      32       11          21  0.523810\n",
       "fire        30       11          19  0.578947\n",
       "seeing      40       15          25  0.600000\n",
       "whole       38       15          23  0.652174\n",
       "amazing     31       13          18  0.722222\n",
       "anime       26       11          15  0.733333\n",
       "film       122       52          70  0.742857\n",
       "literally   28       12          16  0.750000"
      ]
     },
     "execution_count": 41,
     "metadata": {},
     "output_type": "execute_result"
    }
   ],
   "source": [
    "(word_counts[(word_counts.trigger > 10) & (word_counts.no_trigger > 10)]\n",
    " .assign(ratio= lambda df: df.trigger / df.no_trigger)).sort_values(by='ratio').head(10)"
   ]
  },
  {
   "cell_type": "markdown",
   "metadata": {},
   "source": [
    "##### Word Cloud visualizations."
   ]
  },
  {
   "cell_type": "code",
   "execution_count": 42,
   "metadata": {},
   "outputs": [
    {
     "data": {
      "image/png": "[encoded data removed]",
      "text/plain": [
       "<Figure size 720x576 with 3 Axes>"
      ]
     },
     "metadata": {
      "needs_background": "light"
     },
     "output_type": "display_data"
    }
   ],
   "source": [
    "all_cloud = WordCloud(background_color='white', height=1000, width=400).generate(all_words)\n",
    "trigger_cloud = WordCloud(background_color='white', height=600, width=800).generate(trigger_scene_words)\n",
    "no_trigger_cloud = WordCloud(background_color='white', height=600, width=800).generate(no_trigger_scene_words)\n",
    "\n",
    "plt.figure(figsize=(10, 8))\n",
    "axs = [plt.axes([0, 0, .5, 1]), plt.axes([.5, .5, .5, .5]), plt.axes([.5, 0, .5, .5])]\n",
    "\n",
    "axs[0].imshow(all_cloud)\n",
    "axs[1].imshow(trigger_cloud)\n",
    "axs[2].imshow(no_trigger_cloud)\n",
    "\n",
    "axs[0].set_title('All Words')\n",
    "axs[1].set_title('Trigger')\n",
    "axs[2].set_title('No Trigger')\n",
    "\n",
    "for ax in axs: ax.axis('off')"
   ]
  },
  {
   "cell_type": "markdown",
   "metadata": {},
   "source": [
    "#### Exploring bigrams.\n",
    "\n",
    "Bigrams for Movies with Trigger Scenes."
   ]
  },
  {
   "cell_type": "code",
   "execution_count": 43,
   "metadata": {},
   "outputs": [
    {
     "data": {
      "text/plain": [
       "<generator object ngrams at 0x000001EB65AEA2A0>"
      ]
     },
     "execution_count": 43,
     "metadata": {},
     "output_type": "execute_result"
    }
   ],
   "source": [
    "trigger_bigrams = nltk.ngrams(trigger_scene_words.split(), 2)\n",
    "trigger_bigrams"
   ]
  },
  {
   "cell_type": "code",
   "execution_count": 44,
   "metadata": {},
   "outputs": [
    {
     "data": {
      "text/plain": [
       "(woman, child)     16\n",
       "(feel, like)       15\n",
       "(need, warning)    13\n",
       "(im, gonna)        13\n",
       "(self, harm)       12\n",
       "dtype: int64"
      ]
     },
     "execution_count": 44,
     "metadata": {},
     "output_type": "execute_result"
    }
   ],
   "source": [
    "top_20_trigger_scene_bigrams = pd.Series(list(trigger_bigrams)).value_counts().head(20)\n",
    "top_20_trigger_scene_bigrams.head()"
   ]
  },
  {
   "cell_type": "markdown",
   "metadata": {},
   "source": [
    "Visualizing Frequencies with a bar plot and a word cloud."
   ]
  },
  {
   "cell_type": "code",
   "execution_count": 45,
   "metadata": {},
   "outputs": [
    {
     "data": {
      "image/png": "[encoded data removed]",
      "text/plain": [
       "<Figure size 864x576 with 1 Axes>"
      ]
     },
     "metadata": {
      "needs_background": "light"
     },
     "output_type": "display_data"
    }
   ],
   "source": [
    "plt.figure(figsize=(12, 8))\n",
    "top_20_trigger_scene_bigrams.sort_values().plot.barh(stacked=True)\n",
    "\n",
    "plt.title('Top 20 Bigrams: Movies with Trigger Scenes')\n",
    "plt.xlabel('# of Occurences')\n",
    "plt.ylabel('Bigram')\n",
    "plt.show()"
   ]
  },
  {
   "cell_type": "code",
   "execution_count": 46,
   "metadata": {
    "scrolled": true
   },
   "outputs": [
    {
     "data": {
      "image/png": "[encoded data removed]",
      "text/plain": [
       "<Figure size 576x288 with 1 Axes>"
      ]
     },
     "metadata": {
      "needs_background": "light"
     },
     "output_type": "display_data"
    }
   ],
   "source": [
    "# We can supply our own values to be used to determine how big the words (or\n",
    "# phrases) should be through the `generate_from_frequencies` method. The\n",
    "# supplied values must be in the form of a dictionary where the keys are the\n",
    "# words (phrases), and the values are numbers that correspond to the sizes.\n",
    "#\n",
    "# We'll convert our series to a dictionary, and convert the tuples that make up\n",
    "# the index into a single string that holds each phrase.\n",
    "\n",
    "\n",
    "data = {k[0] + ' ' + k[1]: v for k, v in top_20_trigger_scene_bigrams.to_dict().items()}\n",
    "img = WordCloud(background_color='white', width=800, height=400).generate_from_frequencies(data)\n",
    "plt.figure(figsize=(8, 4))\n",
    "plt.title('Word Cloud of Bigrams: Movies With Trigger Scenes')\n",
    "plt.imshow(img)\n",
    "plt.axis('off')\n",
    "plt.show()"
   ]
  },
  {
   "cell_type": "markdown",
   "metadata": {},
   "source": [
    "Bigrams for Movies Without Trigger Scenes"
   ]
  },
  {
   "cell_type": "code",
   "execution_count": 47,
   "metadata": {},
   "outputs": [
    {
     "data": {
      "text/plain": [
       "<generator object ngrams at 0x000001EB65AEAED0>"
      ]
     },
     "execution_count": 47,
     "metadata": {},
     "output_type": "execute_result"
    }
   ],
   "source": [
    "no_trigger_bigrams = nltk.ngrams(no_trigger_scene_words.split(), 2)\n",
    "no_trigger_bigrams"
   ]
  },
  {
   "cell_type": "code",
   "execution_count": 48,
   "metadata": {},
   "outputs": [
    {
     "data": {
      "text/plain": [
       "(gun, head)       17\n",
       "(mobile, game)    16\n",
       "(put, gun)        15\n",
       "(smell, like)     15\n",
       "(im, gonna)       11\n",
       "dtype: int64"
      ]
     },
     "execution_count": 48,
     "metadata": {},
     "output_type": "execute_result"
    }
   ],
   "source": [
    "top_20_no_trigger_scene_bigrams = pd.Series(list(no_trigger_bigrams)).value_counts().head(20)\n",
    "top_20_no_trigger_scene_bigrams.head()"
   ]
  },
  {
   "cell_type": "markdown",
   "metadata": {},
   "source": [
    "Visualizing Frequencies with a bar plot and a word cloud."
   ]
  },
  {
   "cell_type": "code",
   "execution_count": 49,
   "metadata": {},
   "outputs": [
    {
     "data": {
      "image/png": "[encoded data removed]",
      "text/plain": [
       "<Figure size 864x576 with 1 Axes>"
      ]
     },
     "metadata": {
      "needs_background": "light"
     },
     "output_type": "display_data"
    }
   ],
   "source": [
    "plt.figure(figsize=(12, 8))\n",
    "top_20_no_trigger_scene_bigrams.sort_values().plot.barh(stacked=True)\n",
    "\n",
    "plt.title('Top 20 Bigrams: Movies without Trigger Scenes')\n",
    "plt.xlabel('# of Occurences')\n",
    "plt.ylabel('Bigram')\n",
    "plt.show()"
   ]
  },
  {
   "cell_type": "code",
   "execution_count": 50,
   "metadata": {},
   "outputs": [
    {
     "data": {
      "image/png": "[encoded data removed]",
      "text/plain": [
       "<Figure size 576x288 with 1 Axes>"
      ]
     },
     "metadata": {
      "needs_background": "light"
     },
     "output_type": "display_data"
    }
   ],
   "source": [
    "data = {k[0] + ' ' + k[1]: v for k, v in top_20_no_trigger_scene_bigrams.to_dict().items()}\n",
    "img = WordCloud(background_color='white', width=800, height=400).generate_from_frequencies(data)\n",
    "plt.figure(figsize=(8, 4))\n",
    "plt.imshow(img)\n",
    "plt.title('Word Cloud of Bigrams: Movies Without Trigger Scenes')\n",
    "plt.axis('off')\n",
    "plt.show()"
   ]
  },
  {
   "cell_type": "markdown",
   "metadata": {},
   "source": [
    "### Modeling\n",
    "First, we need to do some feature engineering."
   ]
  },
  {
   "cell_type": "markdown",
   "metadata": {},
   "source": [
    "##### Looking at raw counts, frequencies, and augmented frequencies. Term Frequency."
   ]
  },
  {
   "cell_type": "code",
   "execution_count": 51,
   "metadata": {},
   "outputs": [
    {
     "data": {
      "text/html": [
       "<div>\n",
       "<style scoped>\n",
       "    .dataframe tbody tr th:only-of-type {\n",
       "        vertical-align: middle;\n",
       "    }\n",
       "\n",
       "    .dataframe tbody tr th {\n",
       "        vertical-align: top;\n",
       "    }\n",
       "\n",
       "    .dataframe thead th {\n",
       "        text-align: right;\n",
       "    }\n",
       "</style>\n",
       "<table border=\"1\" class=\"dataframe\">\n",
       "  <thead>\n",
       "    <tr style=\"text-align: right;\">\n",
       "      <th></th>\n",
       "      <th>raw_count</th>\n",
       "      <th>frequency</th>\n",
       "      <th>augmented_frequency</th>\n",
       "    </tr>\n",
       "  </thead>\n",
       "  <tbody>\n",
       "    <tr>\n",
       "      <th>warning</th>\n",
       "      <td>251</td>\n",
       "      <td>0.009945</td>\n",
       "      <td>1.000000</td>\n",
       "    </tr>\n",
       "    <tr>\n",
       "      <th>wa</th>\n",
       "      <td>198</td>\n",
       "      <td>0.007845</td>\n",
       "      <td>0.788845</td>\n",
       "    </tr>\n",
       "    <tr>\n",
       "      <th>like</th>\n",
       "      <td>196</td>\n",
       "      <td>0.007765</td>\n",
       "      <td>0.780876</td>\n",
       "    </tr>\n",
       "    <tr>\n",
       "      <th>im</th>\n",
       "      <td>180</td>\n",
       "      <td>0.007132</td>\n",
       "      <td>0.717131</td>\n",
       "    </tr>\n",
       "    <tr>\n",
       "      <th>pull</th>\n",
       "      <td>173</td>\n",
       "      <td>0.006854</td>\n",
       "      <td>0.689243</td>\n",
       "    </tr>\n",
       "    <tr>\n",
       "      <th>movie</th>\n",
       "      <td>167</td>\n",
       "      <td>0.006616</td>\n",
       "      <td>0.665339</td>\n",
       "    </tr>\n",
       "    <tr>\n",
       "      <th>no</th>\n",
       "      <td>109</td>\n",
       "      <td>0.004319</td>\n",
       "      <td>0.434263</td>\n",
       "    </tr>\n",
       "    <tr>\n",
       "      <th>ha</th>\n",
       "      <td>104</td>\n",
       "      <td>0.004120</td>\n",
       "      <td>0.414343</td>\n",
       "    </tr>\n",
       "    <tr>\n",
       "      <th>get</th>\n",
       "      <td>103</td>\n",
       "      <td>0.004081</td>\n",
       "      <td>0.410359</td>\n",
       "    </tr>\n",
       "    <tr>\n",
       "      <th>would</th>\n",
       "      <td>96</td>\n",
       "      <td>0.003803</td>\n",
       "      <td>0.382470</td>\n",
       "    </tr>\n",
       "  </tbody>\n",
       "</table>\n",
       "</div>"
      ],
      "text/plain": [
       "         raw_count  frequency  augmented_frequency\n",
       "warning        251   0.009945             1.000000\n",
       "wa             198   0.007845             0.788845\n",
       "like           196   0.007765             0.780876\n",
       "im             180   0.007132             0.717131\n",
       "pull           173   0.006854             0.689243\n",
       "movie          167   0.006616             0.665339\n",
       "no             109   0.004319             0.434263\n",
       "ha             104   0.004120             0.414343\n",
       "get            103   0.004081             0.410359\n",
       "would           96   0.003803             0.382470"
      ]
     },
     "execution_count": 51,
     "metadata": {},
     "output_type": "execute_result"
    }
   ],
   "source": [
    "(pd.DataFrame({'raw_count':trigger_scene_freq})\n",
    " .assign(frequency= lambda df: df.raw_count / df.raw_count.sum())\n",
    " .assign(augmented_frequency= lambda df: df.frequency / df.frequency.max()).head(10))"
   ]
  },
  {
   "cell_type": "code",
   "execution_count": 52,
   "metadata": {},
   "outputs": [
    {
     "data": {
      "text/html": [
       "<div>\n",
       "<style scoped>\n",
       "    .dataframe tbody tr th:only-of-type {\n",
       "        vertical-align: middle;\n",
       "    }\n",
       "\n",
       "    .dataframe tbody tr th {\n",
       "        vertical-align: top;\n",
       "    }\n",
       "\n",
       "    .dataframe thead th {\n",
       "        text-align: right;\n",
       "    }\n",
       "</style>\n",
       "<table border=\"1\" class=\"dataframe\">\n",
       "  <thead>\n",
       "    <tr style=\"text-align: right;\">\n",
       "      <th></th>\n",
       "      <th>raw_count</th>\n",
       "      <th>frequency</th>\n",
       "      <th>augmented_frequency</th>\n",
       "    </tr>\n",
       "  </thead>\n",
       "  <tbody>\n",
       "    <tr>\n",
       "      <th>wa</th>\n",
       "      <td>211</td>\n",
       "      <td>0.011776</td>\n",
       "      <td>1.000000</td>\n",
       "    </tr>\n",
       "    <tr>\n",
       "      <th>warning</th>\n",
       "      <td>178</td>\n",
       "      <td>0.009934</td>\n",
       "      <td>0.843602</td>\n",
       "    </tr>\n",
       "    <tr>\n",
       "      <th>like</th>\n",
       "      <td>174</td>\n",
       "      <td>0.009711</td>\n",
       "      <td>0.824645</td>\n",
       "    </tr>\n",
       "    <tr>\n",
       "      <th>movie</th>\n",
       "      <td>137</td>\n",
       "      <td>0.007646</td>\n",
       "      <td>0.649289</td>\n",
       "    </tr>\n",
       "    <tr>\n",
       "      <th>im</th>\n",
       "      <td>130</td>\n",
       "      <td>0.007255</td>\n",
       "      <td>0.616114</td>\n",
       "    </tr>\n",
       "    <tr>\n",
       "      <th>pull</th>\n",
       "      <td>85</td>\n",
       "      <td>0.004744</td>\n",
       "      <td>0.402844</td>\n",
       "    </tr>\n",
       "    <tr>\n",
       "      <th>know</th>\n",
       "      <td>74</td>\n",
       "      <td>0.004130</td>\n",
       "      <td>0.350711</td>\n",
       "    </tr>\n",
       "    <tr>\n",
       "      <th>get</th>\n",
       "      <td>72</td>\n",
       "      <td>0.004018</td>\n",
       "      <td>0.341232</td>\n",
       "    </tr>\n",
       "    <tr>\n",
       "      <th>new</th>\n",
       "      <td>71</td>\n",
       "      <td>0.003962</td>\n",
       "      <td>0.336493</td>\n",
       "    </tr>\n",
       "    <tr>\n",
       "      <th>film</th>\n",
       "      <td>70</td>\n",
       "      <td>0.003907</td>\n",
       "      <td>0.331754</td>\n",
       "    </tr>\n",
       "  </tbody>\n",
       "</table>\n",
       "</div>"
      ],
      "text/plain": [
       "         raw_count  frequency  augmented_frequency\n",
       "wa             211   0.011776             1.000000\n",
       "warning        178   0.009934             0.843602\n",
       "like           174   0.009711             0.824645\n",
       "movie          137   0.007646             0.649289\n",
       "im             130   0.007255             0.616114\n",
       "pull            85   0.004744             0.402844\n",
       "know            74   0.004130             0.350711\n",
       "get             72   0.004018             0.341232\n",
       "new             71   0.003962             0.336493\n",
       "film            70   0.003907             0.331754"
      ]
     },
     "execution_count": 52,
     "metadata": {},
     "output_type": "execute_result"
    }
   ],
   "source": [
    "(pd.DataFrame({'raw_count':no_trigger_scene_freq})\n",
    " .assign(frequency= lambda df: df.raw_count / df.raw_count.sum())\n",
    " .assign(augmented_frequency= lambda df: df.frequency / df.frequency.max()).head(10)).head(10)"
   ]
  },
  {
   "cell_type": "markdown",
   "metadata": {},
   "source": [
    "##### Inverse Document Frequency"
   ]
  },
  {
   "cell_type": "code",
   "execution_count": 53,
   "metadata": {},
   "outputs": [
    {
     "data": {
      "text/html": [
       "<div>\n",
       "<style scoped>\n",
       "    .dataframe tbody tr th:only-of-type {\n",
       "        vertical-align: middle;\n",
       "    }\n",
       "\n",
       "    .dataframe tbody tr th {\n",
       "        vertical-align: top;\n",
       "    }\n",
       "\n",
       "    .dataframe thead th {\n",
       "        text-align: right;\n",
       "    }\n",
       "</style>\n",
       "<table border=\"1\" class=\"dataframe\">\n",
       "  <thead>\n",
       "    <tr style=\"text-align: right;\">\n",
       "      <th></th>\n",
       "      <th>idf</th>\n",
       "    </tr>\n",
       "    <tr>\n",
       "      <th>word</th>\n",
       "      <th></th>\n",
       "    </tr>\n",
       "  </thead>\n",
       "  <tbody>\n",
       "    <tr>\n",
       "      <th>weightgain</th>\n",
       "      <td>3469.0</td>\n",
       "    </tr>\n",
       "    <tr>\n",
       "      <th>isolation</th>\n",
       "      <td>3469.0</td>\n",
       "    </tr>\n",
       "    <tr>\n",
       "      <th>assuming</th>\n",
       "      <td>3469.0</td>\n",
       "    </tr>\n",
       "    <tr>\n",
       "      <th>womxn</th>\n",
       "      <td>3469.0</td>\n",
       "    </tr>\n",
       "    <tr>\n",
       "      <th>femmes</th>\n",
       "      <td>3469.0</td>\n",
       "    </tr>\n",
       "  </tbody>\n",
       "</table>\n",
       "</div>"
      ],
      "text/plain": [
       "               idf\n",
       "word              \n",
       "weightgain  3469.0\n",
       "isolation   3469.0\n",
       "assuming    3469.0\n",
       "womxn       3469.0\n",
       "femmes      3469.0"
      ]
     },
     "execution_count": 53,
     "metadata": {},
     "output_type": "execute_result"
    }
   ],
   "source": [
    "# A simple way to calculate idf for demonstration. Note that this\n",
    "# function relies on the globally defined documents variable.\n",
    "def idf(word):\n",
    "    n_occurences = sum([1 for tweet in df.lemmatized_no_stopwords if word in tweet])\n",
    "    return df.shape[0] / n_occurences\n",
    "\n",
    "# Get a list of the unique words\n",
    "unique_words = pd.Series(' '.join(df.lemmatized_no_stopwords).split()).unique()\n",
    "\n",
    "# put the unique words into a data frame\n",
    "(pd.DataFrame(dict(word=unique_words))\n",
    " # calculate the idf for each word\n",
    " .assign(idf=lambda df: df.word.apply(idf))\n",
    " # sort the data for presentation purposes\n",
    " .set_index('word')\n",
    " .sort_values(by='idf', ascending=False)\n",
    " .head(5))"
   ]
  },
  {
   "cell_type": "markdown",
   "metadata": {},
   "source": [
    "##### Using scikit learn to calculate TF-IDF.\n",
    "Lemmatized without stopwords."
   ]
  },
  {
   "cell_type": "code",
   "execution_count": 54,
   "metadata": {},
   "outputs": [
    {
     "data": {
      "text/plain": [
       "<3469x12198 sparse matrix of type '<class 'numpy.float64'>'\n",
       "\twith 40948 stored elements in Compressed Sparse Row format>"
      ]
     },
     "execution_count": 54,
     "metadata": {},
     "output_type": "execute_result"
    }
   ],
   "source": [
    "tfidf = TfidfVectorizer()\n",
    "tfidfs = tfidf.fit_transform(df.lemmatized_no_stopwords)\n",
    "tfidfs"
   ]
  },
  {
   "cell_type": "code",
   "execution_count": 55,
   "metadata": {
    "scrolled": true
   },
   "outputs": [
    {
     "data": {
      "text/html": [
       "<div>\n",
       "<style scoped>\n",
       "    .dataframe tbody tr th:only-of-type {\n",
       "        vertical-align: middle;\n",
       "    }\n",
       "\n",
       "    .dataframe tbody tr th {\n",
       "        vertical-align: top;\n",
       "    }\n",
       "\n",
       "    .dataframe thead th {\n",
       "        text-align: right;\n",
       "    }\n",
       "</style>\n",
       "<table border=\"1\" class=\"dataframe\">\n",
       "  <thead>\n",
       "    <tr style=\"text-align: right;\">\n",
       "      <th></th>\n",
       "      <th>002</th>\n",
       "      <th>007</th>\n",
       "      <th>015</th>\n",
       "      <th>02</th>\n",
       "      <th>03</th>\n",
       "      <th>0539</th>\n",
       "      <th>06</th>\n",
       "      <th>08</th>\n",
       "      <th>0806</th>\n",
       "      <th>08230</th>\n",
       "      <th>...</th>\n",
       "      <th>zo</th>\n",
       "      <th>zod</th>\n",
       "      <th>zombie</th>\n",
       "      <th>zone</th>\n",
       "      <th>zoning</th>\n",
       "      <th>zonnebril</th>\n",
       "      <th>zootopia</th>\n",
       "      <th>zorx</th>\n",
       "      <th>zu</th>\n",
       "      <th>zune</th>\n",
       "    </tr>\n",
       "  </thead>\n",
       "  <tbody>\n",
       "    <tr>\n",
       "      <th>0</th>\n",
       "      <td>0.0</td>\n",
       "      <td>0.0</td>\n",
       "      <td>0.0</td>\n",
       "      <td>0.0</td>\n",
       "      <td>0.0</td>\n",
       "      <td>0.0</td>\n",
       "      <td>0.0</td>\n",
       "      <td>0.0</td>\n",
       "      <td>0.0</td>\n",
       "      <td>0.0</td>\n",
       "      <td>...</td>\n",
       "      <td>0.0</td>\n",
       "      <td>0.0</td>\n",
       "      <td>0.0</td>\n",
       "      <td>0.0</td>\n",
       "      <td>0.0</td>\n",
       "      <td>0.0</td>\n",
       "      <td>0.0</td>\n",
       "      <td>0.0</td>\n",
       "      <td>0.0</td>\n",
       "      <td>0.0</td>\n",
       "    </tr>\n",
       "    <tr>\n",
       "      <th>1</th>\n",
       "      <td>0.0</td>\n",
       "      <td>0.0</td>\n",
       "      <td>0.0</td>\n",
       "      <td>0.0</td>\n",
       "      <td>0.0</td>\n",
       "      <td>0.0</td>\n",
       "      <td>0.0</td>\n",
       "      <td>0.0</td>\n",
       "      <td>0.0</td>\n",
       "      <td>0.0</td>\n",
       "      <td>...</td>\n",
       "      <td>0.0</td>\n",
       "      <td>0.0</td>\n",
       "      <td>0.0</td>\n",
       "      <td>0.0</td>\n",
       "      <td>0.0</td>\n",
       "      <td>0.0</td>\n",
       "      <td>0.0</td>\n",
       "      <td>0.0</td>\n",
       "      <td>0.0</td>\n",
       "      <td>0.0</td>\n",
       "    </tr>\n",
       "    <tr>\n",
       "      <th>2</th>\n",
       "      <td>0.0</td>\n",
       "      <td>0.0</td>\n",
       "      <td>0.0</td>\n",
       "      <td>0.0</td>\n",
       "      <td>0.0</td>\n",
       "      <td>0.0</td>\n",
       "      <td>0.0</td>\n",
       "      <td>0.0</td>\n",
       "      <td>0.0</td>\n",
       "      <td>0.0</td>\n",
       "      <td>...</td>\n",
       "      <td>0.0</td>\n",
       "      <td>0.0</td>\n",
       "      <td>0.0</td>\n",
       "      <td>0.0</td>\n",
       "      <td>0.0</td>\n",
       "      <td>0.0</td>\n",
       "      <td>0.0</td>\n",
       "      <td>0.0</td>\n",
       "      <td>0.0</td>\n",
       "      <td>0.0</td>\n",
       "    </tr>\n",
       "    <tr>\n",
       "      <th>3</th>\n",
       "      <td>0.0</td>\n",
       "      <td>0.0</td>\n",
       "      <td>0.0</td>\n",
       "      <td>0.0</td>\n",
       "      <td>0.0</td>\n",
       "      <td>0.0</td>\n",
       "      <td>0.0</td>\n",
       "      <td>0.0</td>\n",
       "      <td>0.0</td>\n",
       "      <td>0.0</td>\n",
       "      <td>...</td>\n",
       "      <td>0.0</td>\n",
       "      <td>0.0</td>\n",
       "      <td>0.0</td>\n",
       "      <td>0.0</td>\n",
       "      <td>0.0</td>\n",
       "      <td>0.0</td>\n",
       "      <td>0.0</td>\n",
       "      <td>0.0</td>\n",
       "      <td>0.0</td>\n",
       "      <td>0.0</td>\n",
       "    </tr>\n",
       "    <tr>\n",
       "      <th>4</th>\n",
       "      <td>0.0</td>\n",
       "      <td>0.0</td>\n",
       "      <td>0.0</td>\n",
       "      <td>0.0</td>\n",
       "      <td>0.0</td>\n",
       "      <td>0.0</td>\n",
       "      <td>0.0</td>\n",
       "      <td>0.0</td>\n",
       "      <td>0.0</td>\n",
       "      <td>0.0</td>\n",
       "      <td>...</td>\n",
       "      <td>0.0</td>\n",
       "      <td>0.0</td>\n",
       "      <td>0.0</td>\n",
       "      <td>0.0</td>\n",
       "      <td>0.0</td>\n",
       "      <td>0.0</td>\n",
       "      <td>0.0</td>\n",
       "      <td>0.0</td>\n",
       "      <td>0.0</td>\n",
       "      <td>0.0</td>\n",
       "    </tr>\n",
       "    <tr>\n",
       "      <th>5</th>\n",
       "      <td>0.0</td>\n",
       "      <td>0.0</td>\n",
       "      <td>0.0</td>\n",
       "      <td>0.0</td>\n",
       "      <td>0.0</td>\n",
       "      <td>0.0</td>\n",
       "      <td>0.0</td>\n",
       "      <td>0.0</td>\n",
       "      <td>0.0</td>\n",
       "      <td>0.0</td>\n",
       "      <td>...</td>\n",
       "      <td>0.0</td>\n",
       "      <td>0.0</td>\n",
       "      <td>0.0</td>\n",
       "      <td>0.0</td>\n",
       "      <td>0.0</td>\n",
       "      <td>0.0</td>\n",
       "      <td>0.0</td>\n",
       "      <td>0.0</td>\n",
       "      <td>0.0</td>\n",
       "      <td>0.0</td>\n",
       "    </tr>\n",
       "    <tr>\n",
       "      <th>6</th>\n",
       "      <td>0.0</td>\n",
       "      <td>0.0</td>\n",
       "      <td>0.0</td>\n",
       "      <td>0.0</td>\n",
       "      <td>0.0</td>\n",
       "      <td>0.0</td>\n",
       "      <td>0.0</td>\n",
       "      <td>0.0</td>\n",
       "      <td>0.0</td>\n",
       "      <td>0.0</td>\n",
       "      <td>...</td>\n",
       "      <td>0.0</td>\n",
       "      <td>0.0</td>\n",
       "      <td>0.0</td>\n",
       "      <td>0.0</td>\n",
       "      <td>0.0</td>\n",
       "      <td>0.0</td>\n",
       "      <td>0.0</td>\n",
       "      <td>0.0</td>\n",
       "      <td>0.0</td>\n",
       "      <td>0.0</td>\n",
       "    </tr>\n",
       "    <tr>\n",
       "      <th>7</th>\n",
       "      <td>0.0</td>\n",
       "      <td>0.0</td>\n",
       "      <td>0.0</td>\n",
       "      <td>0.0</td>\n",
       "      <td>0.0</td>\n",
       "      <td>0.0</td>\n",
       "      <td>0.0</td>\n",
       "      <td>0.0</td>\n",
       "      <td>0.0</td>\n",
       "      <td>0.0</td>\n",
       "      <td>...</td>\n",
       "      <td>0.0</td>\n",
       "      <td>0.0</td>\n",
       "      <td>0.0</td>\n",
       "      <td>0.0</td>\n",
       "      <td>0.0</td>\n",
       "      <td>0.0</td>\n",
       "      <td>0.0</td>\n",
       "      <td>0.0</td>\n",
       "      <td>0.0</td>\n",
       "      <td>0.0</td>\n",
       "    </tr>\n",
       "    <tr>\n",
       "      <th>8</th>\n",
       "      <td>0.0</td>\n",
       "      <td>0.0</td>\n",
       "      <td>0.0</td>\n",
       "      <td>0.0</td>\n",
       "      <td>0.0</td>\n",
       "      <td>0.0</td>\n",
       "      <td>0.0</td>\n",
       "      <td>0.0</td>\n",
       "      <td>0.0</td>\n",
       "      <td>0.0</td>\n",
       "      <td>...</td>\n",
       "      <td>0.0</td>\n",
       "      <td>0.0</td>\n",
       "      <td>0.0</td>\n",
       "      <td>0.0</td>\n",
       "      <td>0.0</td>\n",
       "      <td>0.0</td>\n",
       "      <td>0.0</td>\n",
       "      <td>0.0</td>\n",
       "      <td>0.0</td>\n",
       "      <td>0.0</td>\n",
       "    </tr>\n",
       "    <tr>\n",
       "      <th>9</th>\n",
       "      <td>0.0</td>\n",
       "      <td>0.0</td>\n",
       "      <td>0.0</td>\n",
       "      <td>0.0</td>\n",
       "      <td>0.0</td>\n",
       "      <td>0.0</td>\n",
       "      <td>0.0</td>\n",
       "      <td>0.0</td>\n",
       "      <td>0.0</td>\n",
       "      <td>0.0</td>\n",
       "      <td>...</td>\n",
       "      <td>0.0</td>\n",
       "      <td>0.0</td>\n",
       "      <td>0.0</td>\n",
       "      <td>0.0</td>\n",
       "      <td>0.0</td>\n",
       "      <td>0.0</td>\n",
       "      <td>0.0</td>\n",
       "      <td>0.0</td>\n",
       "      <td>0.0</td>\n",
       "      <td>0.0</td>\n",
       "    </tr>\n",
       "  </tbody>\n",
       "</table>\n",
       "<p>10 rows × 12198 columns</p>\n",
       "</div>"
      ],
      "text/plain": [
       "   002  007  015   02   03  0539   06   08  0806  08230  ...   zo  zod  \\\n",
       "0  0.0  0.0  0.0  0.0  0.0   0.0  0.0  0.0   0.0    0.0  ...  0.0  0.0   \n",
       "1  0.0  0.0  0.0  0.0  0.0   0.0  0.0  0.0   0.0    0.0  ...  0.0  0.0   \n",
       "2  0.0  0.0  0.0  0.0  0.0   0.0  0.0  0.0   0.0    0.0  ...  0.0  0.0   \n",
       "3  0.0  0.0  0.0  0.0  0.0   0.0  0.0  0.0   0.0    0.0  ...  0.0  0.0   \n",
       "4  0.0  0.0  0.0  0.0  0.0   0.0  0.0  0.0   0.0    0.0  ...  0.0  0.0   \n",
       "5  0.0  0.0  0.0  0.0  0.0   0.0  0.0  0.0   0.0    0.0  ...  0.0  0.0   \n",
       "6  0.0  0.0  0.0  0.0  0.0   0.0  0.0  0.0   0.0    0.0  ...  0.0  0.0   \n",
       "7  0.0  0.0  0.0  0.0  0.0   0.0  0.0  0.0   0.0    0.0  ...  0.0  0.0   \n",
       "8  0.0  0.0  0.0  0.0  0.0   0.0  0.0  0.0   0.0    0.0  ...  0.0  0.0   \n",
       "9  0.0  0.0  0.0  0.0  0.0   0.0  0.0  0.0   0.0    0.0  ...  0.0  0.0   \n",
       "\n",
       "   zombie  zone  zoning  zonnebril  zootopia  zorx   zu  zune  \n",
       "0     0.0   0.0     0.0        0.0       0.0   0.0  0.0   0.0  \n",
       "1     0.0   0.0     0.0        0.0       0.0   0.0  0.0   0.0  \n",
       "2     0.0   0.0     0.0        0.0       0.0   0.0  0.0   0.0  \n",
       "3     0.0   0.0     0.0        0.0       0.0   0.0  0.0   0.0  \n",
       "4     0.0   0.0     0.0        0.0       0.0   0.0  0.0   0.0  \n",
       "5     0.0   0.0     0.0        0.0       0.0   0.0  0.0   0.0  \n",
       "6     0.0   0.0     0.0        0.0       0.0   0.0  0.0   0.0  \n",
       "7     0.0   0.0     0.0        0.0       0.0   0.0  0.0   0.0  \n",
       "8     0.0   0.0     0.0        0.0       0.0   0.0  0.0   0.0  \n",
       "9     0.0   0.0     0.0        0.0       0.0   0.0  0.0   0.0  \n",
       "\n",
       "[10 rows x 12198 columns]"
      ]
     },
     "execution_count": 55,
     "metadata": {},
     "output_type": "execute_result"
    }
   ],
   "source": [
    "pd.DataFrame(tfidfs.todense(), columns=tfidf.get_feature_names()).head(10)"
   ]
  },
  {
   "cell_type": "markdown",
   "metadata": {},
   "source": [
    "##### Now we can start modeling\n",
    "We will be using classification models such as Logistic Regression and Decision Tree."
   ]
  },
  {
   "cell_type": "code",
   "execution_count": 56,
   "metadata": {},
   "outputs": [],
   "source": [
    "tfidf = TfidfVectorizer()\n",
    "X = tfidf.fit_transform(df.lemmatized_no_stopwords)\n",
    "y = df.trigger_scene\n",
    "\n",
    "X_train, X_test, y_train, y_test = train_test_split(X, y, stratify=y, test_size=.3, random_state=123)\n",
    "\n",
    "train = pd.DataFrame(dict(actual=y_train))\n",
    "test = pd.DataFrame(dict(actual=y_test))"
   ]
  },
  {
   "cell_type": "markdown",
   "metadata": {},
   "source": [
    "### Logistic Regression"
   ]
  },
  {
   "cell_type": "code",
   "execution_count": 57,
   "metadata": {},
   "outputs": [
    {
     "name": "stderr",
     "output_type": "stream",
     "text": [
      "C:\\Users\\mz211\\AppData\\Local\\Continuum\\anaconda3\\lib\\site-packages\\sklearn\\linear_model\\logistic.py:433: FutureWarning: Default solver will be changed to 'lbfgs' in 0.22. Specify a solver to silence this warning.\n",
      "  FutureWarning)\n"
     ]
    }
   ],
   "source": [
    "lr = LogisticRegression().fit(X_train, y_train)\n",
    "\n",
    "train['predicted'] = lr.predict(X_train)\n",
    "test['predicted'] = lr.predict(X_test)"
   ]
  },
  {
   "cell_type": "markdown",
   "metadata": {},
   "source": [
    "##### Train"
   ]
  },
  {
   "cell_type": "code",
   "execution_count": 58,
   "metadata": {
    "scrolled": true
   },
   "outputs": [
    {
     "name": "stdout",
     "output_type": "stream",
     "text": [
      "Accuracy: 82.29%\n",
      "---\n",
      "Confusion Matrix\n",
      "actual     False  True \n",
      "predicted              \n",
      "False        536     12\n",
      "True         418   1462\n",
      "---\n",
      "              precision    recall  f1-score   support\n",
      "\n",
      "       False       0.98      0.56      0.71       954\n",
      "        True       0.78      0.99      0.87      1474\n",
      "\n",
      "   micro avg       0.82      0.82      0.82      2428\n",
      "   macro avg       0.88      0.78      0.79      2428\n",
      "weighted avg       0.86      0.82      0.81      2428\n",
      "\n"
     ]
    }
   ],
   "source": [
    "print('Accuracy: {:.2%}'.format(accuracy_score(train.actual, train.predicted)))\n",
    "print('---')\n",
    "print('Confusion Matrix')\n",
    "print(pd.crosstab(train.predicted, train.actual))\n",
    "print('---')\n",
    "print(classification_report(train.actual, train.predicted))"
   ]
  },
  {
   "cell_type": "markdown",
   "metadata": {},
   "source": [
    "##### Test"
   ]
  },
  {
   "cell_type": "code",
   "execution_count": 59,
   "metadata": {},
   "outputs": [
    {
     "name": "stdout",
     "output_type": "stream",
     "text": [
      "Accuracy: 65.13%\n",
      "---\n",
      "Confusion Matrix\n",
      "actual     False  True \n",
      "predicted              \n",
      "False         76     30\n",
      "True         333    602\n",
      "---\n",
      "              precision    recall  f1-score   support\n",
      "\n",
      "       False       0.72      0.19      0.30       409\n",
      "        True       0.64      0.95      0.77       632\n",
      "\n",
      "   micro avg       0.65      0.65      0.65      1041\n",
      "   macro avg       0.68      0.57      0.53      1041\n",
      "weighted avg       0.67      0.65      0.58      1041\n",
      "\n"
     ]
    }
   ],
   "source": [
    "print('Accuracy: {:.2%}'.format(accuracy_score(test.actual, test.predicted)))\n",
    "print('---')\n",
    "print('Confusion Matrix')\n",
    "print(pd.crosstab(test.predicted, test.actual))\n",
    "print('---')\n",
    "print(classification_report(test.actual, test.predicted))"
   ]
  },
  {
   "cell_type": "markdown",
   "metadata": {},
   "source": [
    "### Decision Tree"
   ]
  },
  {
   "cell_type": "code",
   "execution_count": 61,
   "metadata": {},
   "outputs": [],
   "source": [
    "dt = DecisionTreeClassifier(max_depth=5, random_state=123).fit(X_train, y_train)\n",
    "\n",
    "train['predicted_decision_tree'] = dt.predict(X_train)\n",
    "test['predicted_decision_tree'] = dt.predict(X_test)"
   ]
  },
  {
   "cell_type": "code",
   "execution_count": 63,
   "metadata": {},
   "outputs": [
    {
     "name": "stdout",
     "output_type": "stream",
     "text": [
      "Accuracy: 63.96%\n",
      "---\n",
      "Confusion Matrix\n",
      "actual                   False  True \n",
      "predicted_decision_tree              \n",
      "False                       91     12\n",
      "True                       863   1462\n",
      "---\n",
      "              precision    recall  f1-score   support\n",
      "\n",
      "       False       0.88      0.10      0.17       954\n",
      "        True       0.63      0.99      0.77      1474\n",
      "\n",
      "   micro avg       0.64      0.64      0.64      2428\n",
      "   macro avg       0.76      0.54      0.47      2428\n",
      "weighted avg       0.73      0.64      0.53      2428\n",
      "\n"
     ]
    }
   ],
   "source": [
    "print('Accuracy: {:.2%}'.format(accuracy_score(train.actual, train.predicted_decision_tree)))\n",
    "print('---')\n",
    "print('Confusion Matrix')\n",
    "print(pd.crosstab(train.predicted_decision_tree, train.actual))\n",
    "print('---')\n",
    "print(classification_report(train.actual, train.predicted_decision_tree))"
   ]
  },
  {
   "cell_type": "code",
   "execution_count": 64,
   "metadata": {},
   "outputs": [
    {
     "name": "stdout",
     "output_type": "stream",
     "text": [
      "Accuracy: 62.15%\n",
      "---\n",
      "Confusion Matrix\n",
      "actual                   False  True \n",
      "predicted_decision_tree              \n",
      "False                       21      6\n",
      "True                       388    626\n",
      "---\n",
      "              precision    recall  f1-score   support\n",
      "\n",
      "       False       0.78      0.05      0.10       409\n",
      "        True       0.62      0.99      0.76       632\n",
      "\n",
      "   micro avg       0.62      0.62      0.62      1041\n",
      "   macro avg       0.70      0.52      0.43      1041\n",
      "weighted avg       0.68      0.62      0.50      1041\n",
      "\n"
     ]
    }
   ],
   "source": [
    "print('Accuracy: {:.2%}'.format(accuracy_score(test.actual, test.predicted_decision_tree)))\n",
    "print('---')\n",
    "print('Confusion Matrix')\n",
    "print(pd.crosstab(test.predicted_decision_tree, test.actual))\n",
    "print('---')\n",
    "print(classification_report(test.actual, test.predicted_decision_tree))"
   ]
  },
  {
   "cell_type": "code",
   "execution_count": null,
   "metadata": {},
   "outputs": [],
   "source": []
  }
 ],
 "metadata": {
  "kernelspec": {
   "display_name": "Python 3",
   "language": "python",
   "name": "python3"
  },
  "language_info": {
   "codemirror_mode": {
    "name": "ipython",
    "version": 3
   },
   "file_extension": ".py",
   "mimetype": "text/x-python",
   "name": "python",
   "nbconvert_exporter": "python",
   "pygments_lexer": "ipython3",
   "version": "3.7.3"
  }
 },
 "nbformat": 4,
 "nbformat_minor": 2
}
